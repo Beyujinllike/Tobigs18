{
  "cells": [
    {
      "cell_type": "markdown",
      "source": [
        "#DAGMM model(Deep autoencoding gaussian mixture model)\n",
        "![Untitled.png](data:image/png;base64,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)\n",
        "차원 축소와 밀도 함수 추정을 동시에 최적화하기 위해 각 개체에 대해 **compression network**(데이터 차원축소 시에 오토인코더 사용)를 적용하여 저차원 입력을 계산한 뒤, 혼합 밀도 함수를 추정(density estimation에서 데이터가 생성되었을 가능도가 높은 분포 예측)하는 **estimation network**를 사용하여 GMM의 모수를 직접 추정할 수 있습니다\n",
        "\n",
        "-모델의 장점,특징(해당 모델을 선정한 이유)\n",
        "1.샘플과 특성이 많은 대용량 데이터셋을 다룰 수 있음.\n",
        "2.compression network와 estimation network로 이루어져 있음.\n",
        "3.비정상 sample이 정상 sample에 비해 loss(mse)가 커지게 되므로 복원 loss가 일정 threshold를 넘으면 비정상,아니면 정상으로 판단\n",
        "4.인코더와 디코더를 통해 압축했다가 압축해제하여 입력과 출력층의 뉴런이 동일한 Bottleneck형\n",
        "5.-입력 데이터의 가장 중요한 특징만을 학습하므로,NOISE가 아닌 주요 특징에 대해서만 학습\n",
        "-모델의 한계\n",
        "1.모델설정에 있어 에러가 잘 난다.\n",
        "\n",
        "-의문점\n",
        "1.원래는 bottleneck모형을 기반으로 하는데\n",
        "점점 z-dim을 늘릴 때 더 성능이 좋았음.\n",
        "\n",
        "-성능 개선점\n",
        "1.learning rate을 0.1대로 설정할 때 성능 잘나옴.\n",
        "\n",
        "참고URL:\n",
        "https://blog.naver.com/wjsduwls703/222112563912\n",
        "\n",
        "DAGMM\n",
        "https://www.notion.so/260defd76ab042c29f816e28b719d15b#734130a03e5647f58861bd4c23093821\n",
        "https://tam5917.hatenablog.com/entry/2021/08/20/200017\n",
        "https://dacon.io/codeshare/4551?dtype=recent\n",
        "https://www.slideshare.net/ChoDae/ss-90334482\n",
        "https://dacon.io/competitions/official/235930/codeshare/5508?page=1&dtype=recent\n",
        "https://www.kaggle.com/code/shivamb/semi-supervised-classification-using-autoencoders/notebook\n",
        "https://www.kaggle.com/robinteuwens/anomaly-detection-with-auto-encoders\n",
        "\n",
        "이상치 탐지 모델\n",
        "https://velog.io/@jaylnne/ML-%EC%8B%A0%EC%9A%A9%EC%B9%B4%EB%93%9C-%EC%82%AC%EA%B8%B0-%EA%B1%B0%EB%9E%98-%ED%83%90%EC%A7%80-%EB%AA%A8%EB%8D%B8-%EB%A7%8C%EB%93%A4%EC%96%B4%EB%B3%B4%EA%B8%B0-3\n",
        "https://velog.io/@bgly/%EB%8D%B0%EC%9D%B4%EC%BD%98%EA%B2%BD%EC%97%B0%EB%8C%80%ED%9A%8C%EC%8B%A0%EC%9A%A9%EC%B9%B4%EB%93%9C-%EC%82%AC%EA%B8%B0-%ED%83%90%EC%A7%80-%ED%83%90%EC%83%89"
      ],
      "metadata": {
        "id": "Vr5kllriIwow"
      }
    },
    {
      "cell_type": "markdown",
      "metadata": {
        "id": "Y2YwJitLbdcy"
      },
      "source": [
        "##필요한 라이브러리 불러오기"
      ]
    },
    {
      "cell_type": "code",
      "execution_count": null,
      "metadata": {
        "id": "i_yfDjDe2mri",
        "colab": {
          "base_uri": "https://localhost:8080/"
        },
        "outputId": "91018e9c-9ccb-4535-87eb-9c6498a5fe78"
      },
      "outputs": [
        {
          "output_type": "stream",
          "name": "stdout",
          "text": [
            "Mounted at /content/drive\n"
          ]
        }
      ],
      "source": [
        "from google.colab import drive \n",
        "drive.mount('/content/drive')"
      ]
    },
    {
      "cell_type": "code",
      "execution_count": null,
      "metadata": {
        "id": "51A3ycgNcyx4",
        "colab": {
          "base_uri": "https://localhost:8080/"
        },
        "outputId": "7e57ffa4-8a7c-4ba7-a666-07336bc56b00"
      },
      "outputs": [
        {
          "output_type": "stream",
          "name": "stdout",
          "text": [
            "/content/drive/MyDrive/Dacon\n"
          ]
        }
      ],
      "source": [
        "%cd /content/drive/MyDrive/Dacon"
      ]
    },
    {
      "cell_type": "code",
      "execution_count": null,
      "metadata": {
        "id": "PQFOcpd6ZEUU"
      },
      "outputs": [],
      "source": [
        "##!git clone https://github.com/tnakae/DAGMM.git #github에서 해당 모델을 다운로드한다."
      ]
    },
    {
      "cell_type": "code",
      "execution_count": null,
      "metadata": {
        "id": "cY3xOWKHqI5B",
        "colab": {
          "base_uri": "https://localhost:8080/"
        },
        "outputId": "e828addb-c9cf-4926-e8b8-83141ae5e5dd"
      },
      "outputs": [
        {
          "output_type": "stream",
          "name": "stdout",
          "text": [
            "/content/drive/MyDrive/Dacon/DAGMM\n"
          ]
        }
      ],
      "source": [
        "%cd /content/drive/MyDrive/Dacon/DAGMM"
      ]
    },
    {
      "cell_type": "code",
      "execution_count": null,
      "metadata": {
        "id": "eW6KbBG1bAO-",
        "colab": {
          "base_uri": "https://localhost:8080/"
        },
        "outputId": "2154e1cd-c366-4883-9021-c780115fba63"
      },
      "outputs": [
        {
          "output_type": "stream",
          "name": "stdout",
          "text": [
            "running install\n",
            "running build\n",
            "running build_py\n",
            "running install_lib\n",
            "creating /usr/local/lib/python3.7/dist-packages/dagmm\n",
            "copying build/lib/dagmm/gmm.py -> /usr/local/lib/python3.7/dist-packages/dagmm\n",
            "copying build/lib/dagmm/estimation_net.py -> /usr/local/lib/python3.7/dist-packages/dagmm\n",
            "copying build/lib/dagmm/compression_net.py -> /usr/local/lib/python3.7/dist-packages/dagmm\n",
            "copying build/lib/dagmm/__init__.py -> /usr/local/lib/python3.7/dist-packages/dagmm\n",
            "copying build/lib/dagmm/dagmm.py -> /usr/local/lib/python3.7/dist-packages/dagmm\n",
            "byte-compiling /usr/local/lib/python3.7/dist-packages/dagmm/gmm.py to gmm.cpython-37.pyc\n",
            "byte-compiling /usr/local/lib/python3.7/dist-packages/dagmm/estimation_net.py to estimation_net.cpython-37.pyc\n",
            "byte-compiling /usr/local/lib/python3.7/dist-packages/dagmm/compression_net.py to compression_net.cpython-37.pyc\n",
            "byte-compiling /usr/local/lib/python3.7/dist-packages/dagmm/__init__.py to __init__.cpython-37.pyc\n",
            "byte-compiling /usr/local/lib/python3.7/dist-packages/dagmm/dagmm.py to dagmm.cpython-37.pyc\n",
            "running install_egg_info\n",
            "Writing /usr/local/lib/python3.7/dist-packages/DAGMM-0.0.0.egg-info\n"
          ]
        }
      ],
      "source": [
        "!python setup.py install"
      ]
    },
    {
      "cell_type": "code",
      "source": [
        "pip install tensorflow==1.15.2"
      ],
      "metadata": {
        "id": "2gHnmqXXzejn",
        "colab": {
          "base_uri": "https://localhost:8080/"
        },
        "outputId": "db73c73a-91dd-40b4-ec4d-0822bc89ad0f"
      },
      "execution_count": null,
      "outputs": [
        {
          "output_type": "stream",
          "name": "stdout",
          "text": [
            "Looking in indexes: https://pypi.org/simple, https://us-python.pkg.dev/colab-wheels/public/simple/\n",
            "Collecting tensorflow==1.15.2\n",
            "  Downloading tensorflow-1.15.2-cp37-cp37m-manylinux2010_x86_64.whl (110.5 MB)\n",
            "\u001b[K     |████████████████████████████████| 110.5 MB 36 kB/s \n",
            "\u001b[?25hRequirement already satisfied: six>=1.10.0 in /usr/local/lib/python3.7/dist-packages (from tensorflow==1.15.2) (1.15.0)\n",
            "Collecting keras-applications>=1.0.8\n",
            "  Downloading Keras_Applications-1.0.8-py3-none-any.whl (50 kB)\n",
            "\u001b[K     |████████████████████████████████| 50 kB 5.6 MB/s \n",
            "\u001b[?25hRequirement already satisfied: astor>=0.6.0 in /usr/local/lib/python3.7/dist-packages (from tensorflow==1.15.2) (0.8.1)\n",
            "Collecting tensorflow-estimator==1.15.1\n",
            "  Downloading tensorflow_estimator-1.15.1-py2.py3-none-any.whl (503 kB)\n",
            "\u001b[K     |████████████████████████████████| 503 kB 57.0 MB/s \n",
            "\u001b[?25hRequirement already satisfied: protobuf>=3.6.1 in /usr/local/lib/python3.7/dist-packages (from tensorflow==1.15.2) (3.17.3)\n",
            "Collecting gast==0.2.2\n",
            "  Downloading gast-0.2.2.tar.gz (10 kB)\n",
            "Requirement already satisfied: grpcio>=1.8.6 in /usr/local/lib/python3.7/dist-packages (from tensorflow==1.15.2) (1.47.0)\n",
            "Requirement already satisfied: google-pasta>=0.1.6 in /usr/local/lib/python3.7/dist-packages (from tensorflow==1.15.2) (0.2.0)\n",
            "Requirement already satisfied: absl-py>=0.7.0 in /usr/local/lib/python3.7/dist-packages (from tensorflow==1.15.2) (1.2.0)\n",
            "Requirement already satisfied: opt-einsum>=2.3.2 in /usr/local/lib/python3.7/dist-packages (from tensorflow==1.15.2) (3.3.0)\n",
            "Requirement already satisfied: wheel>=0.26 in /usr/local/lib/python3.7/dist-packages (from tensorflow==1.15.2) (0.37.1)\n",
            "Requirement already satisfied: numpy<2.0,>=1.16.0 in /usr/local/lib/python3.7/dist-packages (from tensorflow==1.15.2) (1.21.6)\n",
            "Collecting tensorboard<1.16.0,>=1.15.0\n",
            "  Downloading tensorboard-1.15.0-py3-none-any.whl (3.8 MB)\n",
            "\u001b[K     |████████████████████████████████| 3.8 MB 33.9 MB/s \n",
            "\u001b[?25hRequirement already satisfied: wrapt>=1.11.1 in /usr/local/lib/python3.7/dist-packages (from tensorflow==1.15.2) (1.14.1)\n",
            "Requirement already satisfied: termcolor>=1.1.0 in /usr/local/lib/python3.7/dist-packages (from tensorflow==1.15.2) (1.1.0)\n",
            "Requirement already satisfied: keras-preprocessing>=1.0.5 in /usr/local/lib/python3.7/dist-packages (from tensorflow==1.15.2) (1.1.2)\n",
            "Requirement already satisfied: h5py in /usr/local/lib/python3.7/dist-packages (from keras-applications>=1.0.8->tensorflow==1.15.2) (3.1.0)\n",
            "Requirement already satisfied: markdown>=2.6.8 in /usr/local/lib/python3.7/dist-packages (from tensorboard<1.16.0,>=1.15.0->tensorflow==1.15.2) (3.4.1)\n",
            "Requirement already satisfied: werkzeug>=0.11.15 in /usr/local/lib/python3.7/dist-packages (from tensorboard<1.16.0,>=1.15.0->tensorflow==1.15.2) (1.0.1)\n",
            "Requirement already satisfied: setuptools>=41.0.0 in /usr/local/lib/python3.7/dist-packages (from tensorboard<1.16.0,>=1.15.0->tensorflow==1.15.2) (57.4.0)\n",
            "Requirement already satisfied: importlib-metadata>=4.4 in /usr/local/lib/python3.7/dist-packages (from markdown>=2.6.8->tensorboard<1.16.0,>=1.15.0->tensorflow==1.15.2) (4.12.0)\n",
            "Requirement already satisfied: typing-extensions>=3.6.4 in /usr/local/lib/python3.7/dist-packages (from importlib-metadata>=4.4->markdown>=2.6.8->tensorboard<1.16.0,>=1.15.0->tensorflow==1.15.2) (4.1.1)\n",
            "Requirement already satisfied: zipp>=0.5 in /usr/local/lib/python3.7/dist-packages (from importlib-metadata>=4.4->markdown>=2.6.8->tensorboard<1.16.0,>=1.15.0->tensorflow==1.15.2) (3.8.1)\n",
            "Requirement already satisfied: cached-property in /usr/local/lib/python3.7/dist-packages (from h5py->keras-applications>=1.0.8->tensorflow==1.15.2) (1.5.2)\n",
            "Building wheels for collected packages: gast\n",
            "  Building wheel for gast (setup.py) ... \u001b[?25l\u001b[?25hdone\n",
            "  Created wheel for gast: filename=gast-0.2.2-py3-none-any.whl size=7554 sha256=7908e08cfcfec58b7d6e4d24a71cfe4dd7eb1b7811c1fdf7f42b0bb660515c9b\n",
            "  Stored in directory: /root/.cache/pip/wheels/21/7f/02/420f32a803f7d0967b48dd823da3f558c5166991bfd204eef3\n",
            "Successfully built gast\n",
            "Installing collected packages: tensorflow-estimator, tensorboard, keras-applications, gast, tensorflow\n",
            "  Attempting uninstall: tensorflow-estimator\n",
            "    Found existing installation: tensorflow-estimator 2.8.0\n",
            "    Uninstalling tensorflow-estimator-2.8.0:\n",
            "      Successfully uninstalled tensorflow-estimator-2.8.0\n",
            "  Attempting uninstall: tensorboard\n",
            "    Found existing installation: tensorboard 2.8.0\n",
            "    Uninstalling tensorboard-2.8.0:\n",
            "      Successfully uninstalled tensorboard-2.8.0\n",
            "  Attempting uninstall: gast\n",
            "    Found existing installation: gast 0.5.3\n",
            "    Uninstalling gast-0.5.3:\n",
            "      Successfully uninstalled gast-0.5.3\n",
            "  Attempting uninstall: tensorflow\n",
            "    Found existing installation: tensorflow 2.8.2+zzzcolab20220719082949\n",
            "    Uninstalling tensorflow-2.8.2+zzzcolab20220719082949:\n",
            "      Successfully uninstalled tensorflow-2.8.2+zzzcolab20220719082949\n",
            "\u001b[31mERROR: pip's dependency resolver does not currently take into account all the packages that are installed. This behaviour is the source of the following dependency conflicts.\n",
            "tensorflow-probability 0.16.0 requires gast>=0.3.2, but you have gast 0.2.2 which is incompatible.\n",
            "kapre 0.3.7 requires tensorflow>=2.0.0, but you have tensorflow 1.15.2 which is incompatible.\u001b[0m\n",
            "Successfully installed gast-0.2.2 keras-applications-1.0.8 tensorboard-1.15.0 tensorflow-1.15.2 tensorflow-estimator-1.15.1\n"
          ]
        }
      ]
    },
    {
      "cell_type": "code",
      "execution_count": null,
      "metadata": {
        "id": "TwK3iBSG1lcg"
      },
      "outputs": [],
      "source": [
        "import matplotlib.pyplot as plt\n",
        "import numpy as np\n",
        "import pandas as pd\n",
        "from sklearn.datasets import make_blobs\n",
        "import tensorflow as tf\n",
        "##import DAGMM.dgmm\n",
        "from dagmm import DAGMM #불러온 모델 import\n",
        "from sklearn.preprocessing import StandardScaler\n",
        "\n",
        "from sklearn.metrics import f1_score\n",
        "from sklearn.model_selection import train_test_split\n",
        "from sklearn.metrics import precision_recall_fscore_support\n",
        "import matplotlib.pyplot as plt\n",
        "import warnings\n",
        "warnings.filterwarnings(action='ignore')\n",
        "\n",
        "\n"
      ]
    },
    {
      "cell_type": "code",
      "execution_count": null,
      "metadata": {
        "id": "FUa0svDm6ajS"
      },
      "outputs": [],
      "source": [
        "##device = torch.device('cuda') if torch.cuda.is_available() else torch.device('cpu')"
      ]
    },
    {
      "cell_type": "markdown",
      "metadata": {
        "id": "rOkJsf3VbjbY"
      },
      "source": [
        "##파일 불러오기"
      ]
    },
    {
      "cell_type": "code",
      "execution_count": null,
      "metadata": {
        "id": "7AzsirIfQWte",
        "colab": {
          "base_uri": "https://localhost:8080/"
        },
        "outputId": "141e3a64-7212-46ff-af96-d82a213d8e32"
      },
      "outputs": [
        {
          "output_type": "stream",
          "name": "stdout",
          "text": [
            "Archive:  /content/drive/MyDrive/Dacon/open.zip\n",
            "replace sample_submission.csv? [y]es, [n]o, [A]ll, [N]one, [r]ename: ㅛ\n",
            "error:  invalid response [ㅛ]\n",
            "replace sample_submission.csv? [y]es, [n]o, [A]ll, [N]one, [r]ename: ㅛ\n",
            "error:  invalid response [ㅛ]\n",
            "replace sample_submission.csv? [y]es, [n]o, [A]ll, [N]one, [r]ename: ㅛ\n",
            "error:  invalid response [ㅛ]\n",
            "replace sample_submission.csv? [y]es, [n]o, [A]ll, [N]one, [r]ename: ㅛ\n",
            "error:  invalid response [ㅛ]\n",
            "replace sample_submission.csv? [y]es, [n]o, [A]ll, [N]one, [r]ename: y\n",
            "  inflating: sample_submission.csv   \n",
            "replace test.csv? [y]es, [n]o, [A]ll, [N]one, [r]ename: y\n",
            "  inflating: test.csv                y\n",
            "y\n",
            "y\n",
            "y\n",
            "y\n",
            "\n",
            "replace train.csv? [y]es, [n]o, [A]ll, [N]one, [r]ename:   inflating: train.csv               \n",
            "replace val.csv? [y]es, [n]o, [A]ll, [N]one, [r]ename:   inflating: val.csv                 \n"
          ]
        }
      ],
      "source": [
        "!unzip '/content/drive/MyDrive/Dacon/open.zip'"
      ]
    },
    {
      "cell_type": "code",
      "execution_count": null,
      "metadata": {
        "id": "DTXy8kChTD-8"
      },
      "outputs": [],
      "source": [
        "train_df = pd.read_csv('./train.csv')\n",
        "val_df = pd.read_csv('./val.csv') "
      ]
    },
    {
      "cell_type": "markdown",
      "metadata": {
        "id": "3D8hTHBvbrcb"
      },
      "source": [
        "이상치 비율 확인"
      ]
    },
    {
      "cell_type": "code",
      "execution_count": null,
      "metadata": {
        "id": "znbFZjc6TPrQ",
        "colab": {
          "base_uri": "https://localhost:8080/"
        },
        "outputId": "16c5fefa-d2ed-4dfc-810c-a494525a45b6"
      },
      "outputs": [
        {
          "output_type": "stream",
          "name": "stdout",
          "text": [
            "Validation contamination : [0.0010551491277433877]\n"
          ]
        }
      ],
      "source": [
        "val_normal, val_fraud = val_df['Class'].value_counts()\n",
        "val_contamination = val_fraud / val_normal\n",
        "print(f'Validation contamination : [{val_contamination}]')"
      ]
    },
    {
      "cell_type": "code",
      "execution_count": null,
      "metadata": {
        "id": "idOAObeqTTKe"
      },
      "outputs": [],
      "source": [
        "train_df2 = train_df.drop(columns=['ID'])\n",
        "val_df2 = val_df.drop(columns=['ID'])"
      ]
    },
    {
      "cell_type": "code",
      "source": [
        "X=pd.get_dummies(train_df.iloc[:,:-1]).values"
      ],
      "metadata": {
        "id": "rJ96Dnw5165W"
      },
      "execution_count": null,
      "outputs": []
    },
    {
      "cell_type": "code",
      "execution_count": null,
      "metadata": {
        "id": "iOVVxz52abYa"
      },
      "outputs": [],
      "source": [
        "##하이퍼파라미터 준비?"
      ]
    },
    {
      "cell_type": "markdown",
      "source": [
        "파라미터 후보1)\n",
        "\n",
        "comp_activation=\"tanh\",\n",
        "                    estim_activation=\"tanh\",\n",
        "                    lambda_energy=0.01,\n",
        "                    lambda_cov=0.005,\n",
        "                    batch_size=128,\n",
        "                    dropout_rate=0.25,\n",
        "                    contamination=contamination,\n",
        "                    verbose=0"
      ],
      "metadata": {
        "id": "lHFFBU7azPuP"
      }
    },
    {
      "cell_type": "markdown",
      "source": [
        "파라미터 후보2)\n",
        "  comp_hiddens=[32,16,2], comp_activation=tf.nn.tanh,\n",
        "  est_hiddens=[16.8], est_activation=tf.nn.tanh,\n",
        "  est_dropout_ratio=0.25\n",
        "**2**\n",
        "  epochs=1000,\n",
        "                    comp_neurons=[16, 8, 1],\n",
        "                    estim_neurons=[8, 4],\n",
        "                    comp_activation=\"tanh\",\n",
        "                    estim_activation=\"tanh\",\n",
        "                    lambda_energy=0.01,\n",
        "                    lambda_cov=0.005,\n",
        "                    batch_size=128,\n",
        "                    dropout_rate=0.25,\n",
        "                    contamination=contamination,\n",
        "                    verbose=0"
      ],
      "metadata": {
        "id": "nttGkGzZvTzk"
      }
    },
    {
      "cell_type": "markdown",
      "source": [
        "##다른 거 굳이 하지말고 파라미터 제대로 공부해서 바꿔보기\n"
      ],
      "metadata": {
        "id": "Lo4C8ouUDiho"
      }
    },
    {
      "cell_type": "code",
      "source": [
        "model = DAGMM(\n",
        "    comp_hiddens=[256, 128, 16, 2], comp_activation=tf.nn.tanh,\n",
        "    ##compression-Autoencoder\n",
        "    est_hiddens=[16, 8], est_dropout_ratio=0.5, est_activation=tf.nn.tanh,\n",
        "    #estimation-GNN comp_hiddens[2]가 est_hiddens[0]\n",
        "    learning_rate=0.01, epoch_size=1000, minibatch_size=16384,random_seed=1111\n",
        ")\n",
        "##batch원래 1024\n",
        "#0.001에서lr 0.01로 바꿨더니 나음.\n",
        "#0.02 구림\n",
        "#필터바꿔서 [256,128,32,2],[32,4]에 0.01\n",
        "#동일하게 lr 0.001?\n",
        "# [256,128,16,4][16,8] 0.01 에폭 1000에 6.529\n",
        "#마지막에 256...2하면 더 구림\n",
        "#안되면 [150,90,30]\n"
      ],
      "metadata": {
        "id": "Xx1NjOGkyYtv"
      },
      "execution_count": null,
      "outputs": []
    },
    {
      "cell_type": "code",
      "source": [
        "model.fit(train_df)"
      ],
      "metadata": {
        "id": "_f-0vmS86JBc",
        "colab": {
          "base_uri": "https://localhost:8080/"
        },
        "outputId": "9d691175-a8dc-4908-e775-f529e2b6823c"
      },
      "execution_count": null,
      "outputs": [
        {
          "output_type": "stream",
          "name": "stdout",
          "text": [
            " epoch 100/1000 : loss = 20.945\n",
            " epoch 200/1000 : loss = 15.287\n",
            " epoch 300/1000 : loss = 13.887\n",
            " epoch 400/1000 : loss = 12.961\n",
            " epoch 500/1000 : loss = 12.474\n",
            " epoch 600/1000 : loss = 11.964\n",
            " epoch 700/1000 : loss = 11.688\n",
            " epoch 800/1000 : loss = 12.747\n",
            " epoch 900/1000 : loss = 12.013\n",
            " epoch 1000/1000 : loss = 12.140\n"
          ]
        }
      ]
    },
    {
      "cell_type": "markdown",
      "metadata": {
        "id": "usbIVg30SD7l"
      },
      "source": [
        "##모델 구현\n",
        "\n",
        "\n"
      ]
    },
    {
      "cell_type": "markdown",
      "metadata": {
        "id": "skJJZXVpSQlQ"
      },
      "source": [
        "Training DAGMM Model"
      ]
    },
    {
      "cell_type": "code",
      "source": [
        "val_x = val_df.drop(columns=['ID', 'Class']) # Input Data\n",
        "val_y = val_df['Class'] # Label\n",
        "\n",
        "test_df = pd.read_csv('./test.csv')\n",
        "test_x = test_df.drop(columns=['ID'])\n",
        "y_pred = model.predict(val_x)"
      ],
      "metadata": {
        "colab": {
          "base_uri": "https://localhost:8080/",
          "height": 368
        },
        "id": "xL_gF-YEHgH3",
        "outputId": "722f5b1f-df1a-4ab8-9a2a-b188130338f2"
      },
      "execution_count": null,
      "outputs": [
        {
          "output_type": "error",
          "ename": "ValueError",
          "evalue": "ignored",
          "traceback": [
            "\u001b[0;31m---------------------------------------------------------------------------\u001b[0m",
            "\u001b[0;31mValueError\u001b[0m                                Traceback (most recent call last)",
            "\u001b[0;32m<ipython-input-54-d0111d9ff540>\u001b[0m in \u001b[0;36m<module>\u001b[0;34m()\u001b[0m\n\u001b[1;32m      4\u001b[0m \u001b[0mtest_df\u001b[0m \u001b[0;34m=\u001b[0m \u001b[0mpd\u001b[0m\u001b[0;34m.\u001b[0m\u001b[0mread_csv\u001b[0m\u001b[0;34m(\u001b[0m\u001b[0;34m'./test.csv'\u001b[0m\u001b[0;34m)\u001b[0m\u001b[0;34m\u001b[0m\u001b[0;34m\u001b[0m\u001b[0m\n\u001b[1;32m      5\u001b[0m \u001b[0mtest_x\u001b[0m \u001b[0;34m=\u001b[0m \u001b[0mtest_df\u001b[0m\u001b[0;34m.\u001b[0m\u001b[0mdrop\u001b[0m\u001b[0;34m(\u001b[0m\u001b[0mcolumns\u001b[0m\u001b[0;34m=\u001b[0m\u001b[0;34m[\u001b[0m\u001b[0;34m'ID'\u001b[0m\u001b[0;34m]\u001b[0m\u001b[0;34m)\u001b[0m\u001b[0;34m\u001b[0m\u001b[0;34m\u001b[0m\u001b[0m\n\u001b[0;32m----> 6\u001b[0;31m \u001b[0my_pred\u001b[0m \u001b[0;34m=\u001b[0m \u001b[0mmodel\u001b[0m\u001b[0;34m.\u001b[0m\u001b[0mpredict\u001b[0m\u001b[0;34m(\u001b[0m\u001b[0mval_x\u001b[0m\u001b[0;34m)\u001b[0m\u001b[0;34m\u001b[0m\u001b[0;34m\u001b[0m\u001b[0m\n\u001b[0m",
            "\u001b[0;32m/content/drive/MyDrive/Dacon/DAGMM/dagmm/dagmm.py\u001b[0m in \u001b[0;36mpredict\u001b[0;34m(self, x)\u001b[0m\n\u001b[1;32m    181\u001b[0m \u001b[0;34m\u001b[0m\u001b[0m\n\u001b[1;32m    182\u001b[0m         \u001b[0;32mif\u001b[0m \u001b[0mself\u001b[0m\u001b[0;34m.\u001b[0m\u001b[0mnormalize\u001b[0m\u001b[0;34m:\u001b[0m\u001b[0;34m\u001b[0m\u001b[0;34m\u001b[0m\u001b[0m\n\u001b[0;32m--> 183\u001b[0;31m             \u001b[0mx\u001b[0m \u001b[0;34m=\u001b[0m \u001b[0mself\u001b[0m\u001b[0;34m.\u001b[0m\u001b[0mscaler\u001b[0m\u001b[0;34m.\u001b[0m\u001b[0mtransform\u001b[0m\u001b[0;34m(\u001b[0m\u001b[0mx\u001b[0m\u001b[0;34m)\u001b[0m\u001b[0;34m\u001b[0m\u001b[0;34m\u001b[0m\u001b[0m\n\u001b[0m\u001b[1;32m    184\u001b[0m \u001b[0;34m\u001b[0m\u001b[0m\n\u001b[1;32m    185\u001b[0m         \u001b[0menergies\u001b[0m \u001b[0;34m=\u001b[0m \u001b[0mself\u001b[0m\u001b[0;34m.\u001b[0m\u001b[0msess\u001b[0m\u001b[0;34m.\u001b[0m\u001b[0mrun\u001b[0m\u001b[0;34m(\u001b[0m\u001b[0mself\u001b[0m\u001b[0;34m.\u001b[0m\u001b[0menergy\u001b[0m\u001b[0;34m,\u001b[0m \u001b[0mfeed_dict\u001b[0m\u001b[0;34m=\u001b[0m\u001b[0;34m{\u001b[0m\u001b[0mself\u001b[0m\u001b[0;34m.\u001b[0m\u001b[0minput\u001b[0m\u001b[0;34m:\u001b[0m\u001b[0mx\u001b[0m\u001b[0;34m}\u001b[0m\u001b[0;34m)\u001b[0m\u001b[0;34m\u001b[0m\u001b[0;34m\u001b[0m\u001b[0m\n",
            "\u001b[0;32m/usr/local/lib/python3.7/dist-packages/sklearn/preprocessing/_data.py\u001b[0m in \u001b[0;36mtransform\u001b[0;34m(self, X, copy)\u001b[0m\n\u001b[1;32m    978\u001b[0m             \u001b[0mestimator\u001b[0m\u001b[0;34m=\u001b[0m\u001b[0mself\u001b[0m\u001b[0;34m,\u001b[0m\u001b[0;34m\u001b[0m\u001b[0;34m\u001b[0m\u001b[0m\n\u001b[1;32m    979\u001b[0m             \u001b[0mdtype\u001b[0m\u001b[0;34m=\u001b[0m\u001b[0mFLOAT_DTYPES\u001b[0m\u001b[0;34m,\u001b[0m\u001b[0;34m\u001b[0m\u001b[0;34m\u001b[0m\u001b[0m\n\u001b[0;32m--> 980\u001b[0;31m             \u001b[0mforce_all_finite\u001b[0m\u001b[0;34m=\u001b[0m\u001b[0;34m\"allow-nan\"\u001b[0m\u001b[0;34m,\u001b[0m\u001b[0;34m\u001b[0m\u001b[0;34m\u001b[0m\u001b[0m\n\u001b[0m\u001b[1;32m    981\u001b[0m         )\n\u001b[1;32m    982\u001b[0m \u001b[0;34m\u001b[0m\u001b[0m\n",
            "\u001b[0;32m/usr/local/lib/python3.7/dist-packages/sklearn/base.py\u001b[0m in \u001b[0;36m_validate_data\u001b[0;34m(self, X, y, reset, validate_separately, **check_params)\u001b[0m\n\u001b[1;32m    583\u001b[0m \u001b[0;34m\u001b[0m\u001b[0m\n\u001b[1;32m    584\u001b[0m         \u001b[0;32mif\u001b[0m \u001b[0;32mnot\u001b[0m \u001b[0mno_val_X\u001b[0m \u001b[0;32mand\u001b[0m \u001b[0mcheck_params\u001b[0m\u001b[0;34m.\u001b[0m\u001b[0mget\u001b[0m\u001b[0;34m(\u001b[0m\u001b[0;34m\"ensure_2d\"\u001b[0m\u001b[0;34m,\u001b[0m \u001b[0;32mTrue\u001b[0m\u001b[0;34m)\u001b[0m\u001b[0;34m:\u001b[0m\u001b[0;34m\u001b[0m\u001b[0;34m\u001b[0m\u001b[0m\n\u001b[0;32m--> 585\u001b[0;31m             \u001b[0mself\u001b[0m\u001b[0;34m.\u001b[0m\u001b[0m_check_n_features\u001b[0m\u001b[0;34m(\u001b[0m\u001b[0mX\u001b[0m\u001b[0;34m,\u001b[0m \u001b[0mreset\u001b[0m\u001b[0;34m=\u001b[0m\u001b[0mreset\u001b[0m\u001b[0;34m)\u001b[0m\u001b[0;34m\u001b[0m\u001b[0;34m\u001b[0m\u001b[0m\n\u001b[0m\u001b[1;32m    586\u001b[0m \u001b[0;34m\u001b[0m\u001b[0m\n\u001b[1;32m    587\u001b[0m         \u001b[0;32mreturn\u001b[0m \u001b[0mout\u001b[0m\u001b[0;34m\u001b[0m\u001b[0;34m\u001b[0m\u001b[0m\n",
            "\u001b[0;32m/usr/local/lib/python3.7/dist-packages/sklearn/base.py\u001b[0m in \u001b[0;36m_check_n_features\u001b[0;34m(self, X, reset)\u001b[0m\n\u001b[1;32m    399\u001b[0m         \u001b[0;32mif\u001b[0m \u001b[0mn_features\u001b[0m \u001b[0;34m!=\u001b[0m \u001b[0mself\u001b[0m\u001b[0;34m.\u001b[0m\u001b[0mn_features_in_\u001b[0m\u001b[0;34m:\u001b[0m\u001b[0;34m\u001b[0m\u001b[0;34m\u001b[0m\u001b[0m\n\u001b[1;32m    400\u001b[0m             raise ValueError(\n\u001b[0;32m--> 401\u001b[0;31m                 \u001b[0;34mf\"X has {n_features} features, but {self.__class__.__name__} \"\u001b[0m\u001b[0;34m\u001b[0m\u001b[0;34m\u001b[0m\u001b[0m\n\u001b[0m\u001b[1;32m    402\u001b[0m                 \u001b[0;34mf\"is expecting {self.n_features_in_} features as input.\"\u001b[0m\u001b[0;34m\u001b[0m\u001b[0;34m\u001b[0m\u001b[0m\n\u001b[1;32m    403\u001b[0m             )\n",
            "\u001b[0;31mValueError\u001b[0m: X has 30 features, but StandardScaler is expecting 31 features as input."
          ]
        }
      ]
    },
    {
      "cell_type": "code",
      "source": [
        "anomaly_energy_threshold = np.percentile(y_pred, 80)\n",
        "print(f\"Energy thleshold to detect anomaly : {anomaly_energy_threshold:.3f}\")"
      ],
      "metadata": {
        "colab": {
          "base_uri": "https://localhost:8080/",
          "height": 194
        },
        "id": "Kubso1wzIOXx",
        "outputId": "d81ab87a-c1a1-4a7b-d497-b4b417d325b6"
      },
      "execution_count": null,
      "outputs": [
        {
          "output_type": "error",
          "ename": "NameError",
          "evalue": "ignored",
          "traceback": [
            "\u001b[0;31m---------------------------------------------------------------------------\u001b[0m",
            "\u001b[0;31mNameError\u001b[0m                                 Traceback (most recent call last)",
            "\u001b[0;32m<ipython-input-41-166bbce8614b>\u001b[0m in \u001b[0;36m<module>\u001b[0;34m()\u001b[0m\n\u001b[0;32m----> 1\u001b[0;31m \u001b[0manomaly_energy_threshold\u001b[0m \u001b[0;34m=\u001b[0m \u001b[0mnp\u001b[0m\u001b[0;34m.\u001b[0m\u001b[0mpercentile\u001b[0m\u001b[0;34m(\u001b[0m\u001b[0my_pred\u001b[0m\u001b[0;34m,\u001b[0m \u001b[0;36m80\u001b[0m\u001b[0;34m)\u001b[0m\u001b[0;34m\u001b[0m\u001b[0;34m\u001b[0m\u001b[0m\n\u001b[0m\u001b[1;32m      2\u001b[0m \u001b[0mprint\u001b[0m\u001b[0;34m(\u001b[0m\u001b[0;34mf\"Energy thleshold to detect anomaly : {anomaly_energy_threshold:.3f}\"\u001b[0m\u001b[0;34m)\u001b[0m\u001b[0;34m\u001b[0m\u001b[0;34m\u001b[0m\u001b[0m\n",
            "\u001b[0;31mNameError\u001b[0m: name 'y_pred' is not defined"
          ]
        }
      ]
    },
    {
      "cell_type": "code",
      "source": [
        "# Detect anomalies from test data\n",
        "y_pred_flag = np.where(y_pred >= anomaly_energy_threshold, 1, 0)"
      ],
      "metadata": {
        "id": "jhD8EqhHIRoK",
        "colab": {
          "base_uri": "https://localhost:8080/",
          "height": 194
        },
        "outputId": "fda86d4b-4fbf-415c-92f7-d42e73e72387"
      },
      "execution_count": null,
      "outputs": [
        {
          "output_type": "error",
          "ename": "NameError",
          "evalue": "ignored",
          "traceback": [
            "\u001b[0;31m---------------------------------------------------------------------------\u001b[0m",
            "\u001b[0;31mNameError\u001b[0m                                 Traceback (most recent call last)",
            "\u001b[0;32m<ipython-input-42-c68808dbac58>\u001b[0m in \u001b[0;36m<module>\u001b[0;34m()\u001b[0m\n\u001b[1;32m      1\u001b[0m \u001b[0;31m# Detect anomalies from test data\u001b[0m\u001b[0;34m\u001b[0m\u001b[0;34m\u001b[0m\u001b[0;34m\u001b[0m\u001b[0m\n\u001b[0;32m----> 2\u001b[0;31m \u001b[0my_pred_flag\u001b[0m \u001b[0;34m=\u001b[0m \u001b[0mnp\u001b[0m\u001b[0;34m.\u001b[0m\u001b[0mwhere\u001b[0m\u001b[0;34m(\u001b[0m\u001b[0my_pred\u001b[0m \u001b[0;34m>=\u001b[0m \u001b[0manomaly_energy_threshold\u001b[0m\u001b[0;34m,\u001b[0m \u001b[0;36m1\u001b[0m\u001b[0;34m,\u001b[0m \u001b[0;36m0\u001b[0m\u001b[0;34m)\u001b[0m\u001b[0;34m\u001b[0m\u001b[0;34m\u001b[0m\u001b[0m\n\u001b[0m",
            "\u001b[0;31mNameError\u001b[0m: name 'y_pred' is not defined"
          ]
        }
      ]
    },
    {
      "cell_type": "code",
      "source": [
        "prec, recall, fscore, _ = precision_recall_fscore_support(val_y, y_pred_flag, average=\"binary\")\n",
        "print(f\" Precision = {prec:.3f}\")\n",
        "print(f\" Recall    = {recall:.3f}\")\n",
        "print(f\" F1-Score  = {fscore:.3f}\")"
      ],
      "metadata": {
        "id": "hXTLVY6ZIS_x"
      },
      "execution_count": null,
      "outputs": []
    },
    {
      "cell_type": "code",
      "source": [],
      "metadata": {
        "id": "-j3oW4TwztQP"
      },
      "execution_count": null,
      "outputs": []
    }
  ],
  "metadata": {
    "colab": {
      "collapsed_sections": [],
      "provenance": []
    },
    "kernelspec": {
      "display_name": "Python 3",
      "name": "python3"
    },
    "language_info": {
      "name": "python"
    }
  },
  "nbformat": 4,
  "nbformat_minor": 0
}