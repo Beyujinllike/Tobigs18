{
  "cells": [
    {
      "cell_type": "markdown",
      "metadata": {
        "id": "Fm0PWt1BqPct"
      },
      "source": [
        "# DT Assignment"
      ]
    },
    {
      "cell_type": "markdown",
      "metadata": {
        "id": "XzRAUrBQqPcy"
      },
      "source": [
        "# Data Loading"
      ]
    },
    {
      "cell_type": "code",
      "execution_count": 1,
      "metadata": {
        "id": "ZaCPPKGyqPc2"
      },
      "outputs": [],
      "source": [
        "import pandas as pd \n",
        "import numpy as np"
      ]
    },
    {
      "cell_type": "code",
      "execution_count": 2,
      "metadata": {
        "colab": {
          "base_uri": "https://localhost:8080/",
          "height": 488
        },
        "id": "0rj8Ba4RqPc6",
        "outputId": "3ddfa56b-6942-4177-a353-2a815a4a1d9e"
      },
      "outputs": [
        {
          "output_type": "execute_result",
          "data": {
            "text/plain": [
              "            age  income student credit_rating class_buys_computer\n",
              "0         youth    high      no          fair                  no\n",
              "1         youth    high      no     excellent                  no\n",
              "2   middle_aged    high      no          fair                 yes\n",
              "3        senior  medium      no          fair                 yes\n",
              "4        senior     low     yes          fair                 yes\n",
              "5        senior     low     yes     excellent                  no\n",
              "6   middle_aged     low     yes     excellent                 yes\n",
              "7         youth  medium      no          fair                  no\n",
              "8         youth     low     yes          fair                 yes\n",
              "9        senior  medium     yes          fair                 yes\n",
              "10        youth  medium     yes     excellent                 yes\n",
              "11  middle_aged  medium      no     excellent                 yes\n",
              "12  middle_aged    high     yes          fair                 yes\n",
              "13       senior  medium      no     excellent                  no"
            ],
            "text/html": [
              "\n",
              "  <div id=\"df-f1f10205-cb6e-47ac-a2a9-988d7778f970\">\n",
              "    <div class=\"colab-df-container\">\n",
              "      <div>\n",
              "<style scoped>\n",
              "    .dataframe tbody tr th:only-of-type {\n",
              "        vertical-align: middle;\n",
              "    }\n",
              "\n",
              "    .dataframe tbody tr th {\n",
              "        vertical-align: top;\n",
              "    }\n",
              "\n",
              "    .dataframe thead th {\n",
              "        text-align: right;\n",
              "    }\n",
              "</style>\n",
              "<table border=\"1\" class=\"dataframe\">\n",
              "  <thead>\n",
              "    <tr style=\"text-align: right;\">\n",
              "      <th></th>\n",
              "      <th>age</th>\n",
              "      <th>income</th>\n",
              "      <th>student</th>\n",
              "      <th>credit_rating</th>\n",
              "      <th>class_buys_computer</th>\n",
              "    </tr>\n",
              "  </thead>\n",
              "  <tbody>\n",
              "    <tr>\n",
              "      <th>0</th>\n",
              "      <td>youth</td>\n",
              "      <td>high</td>\n",
              "      <td>no</td>\n",
              "      <td>fair</td>\n",
              "      <td>no</td>\n",
              "    </tr>\n",
              "    <tr>\n",
              "      <th>1</th>\n",
              "      <td>youth</td>\n",
              "      <td>high</td>\n",
              "      <td>no</td>\n",
              "      <td>excellent</td>\n",
              "      <td>no</td>\n",
              "    </tr>\n",
              "    <tr>\n",
              "      <th>2</th>\n",
              "      <td>middle_aged</td>\n",
              "      <td>high</td>\n",
              "      <td>no</td>\n",
              "      <td>fair</td>\n",
              "      <td>yes</td>\n",
              "    </tr>\n",
              "    <tr>\n",
              "      <th>3</th>\n",
              "      <td>senior</td>\n",
              "      <td>medium</td>\n",
              "      <td>no</td>\n",
              "      <td>fair</td>\n",
              "      <td>yes</td>\n",
              "    </tr>\n",
              "    <tr>\n",
              "      <th>4</th>\n",
              "      <td>senior</td>\n",
              "      <td>low</td>\n",
              "      <td>yes</td>\n",
              "      <td>fair</td>\n",
              "      <td>yes</td>\n",
              "    </tr>\n",
              "    <tr>\n",
              "      <th>5</th>\n",
              "      <td>senior</td>\n",
              "      <td>low</td>\n",
              "      <td>yes</td>\n",
              "      <td>excellent</td>\n",
              "      <td>no</td>\n",
              "    </tr>\n",
              "    <tr>\n",
              "      <th>6</th>\n",
              "      <td>middle_aged</td>\n",
              "      <td>low</td>\n",
              "      <td>yes</td>\n",
              "      <td>excellent</td>\n",
              "      <td>yes</td>\n",
              "    </tr>\n",
              "    <tr>\n",
              "      <th>7</th>\n",
              "      <td>youth</td>\n",
              "      <td>medium</td>\n",
              "      <td>no</td>\n",
              "      <td>fair</td>\n",
              "      <td>no</td>\n",
              "    </tr>\n",
              "    <tr>\n",
              "      <th>8</th>\n",
              "      <td>youth</td>\n",
              "      <td>low</td>\n",
              "      <td>yes</td>\n",
              "      <td>fair</td>\n",
              "      <td>yes</td>\n",
              "    </tr>\n",
              "    <tr>\n",
              "      <th>9</th>\n",
              "      <td>senior</td>\n",
              "      <td>medium</td>\n",
              "      <td>yes</td>\n",
              "      <td>fair</td>\n",
              "      <td>yes</td>\n",
              "    </tr>\n",
              "    <tr>\n",
              "      <th>10</th>\n",
              "      <td>youth</td>\n",
              "      <td>medium</td>\n",
              "      <td>yes</td>\n",
              "      <td>excellent</td>\n",
              "      <td>yes</td>\n",
              "    </tr>\n",
              "    <tr>\n",
              "      <th>11</th>\n",
              "      <td>middle_aged</td>\n",
              "      <td>medium</td>\n",
              "      <td>no</td>\n",
              "      <td>excellent</td>\n",
              "      <td>yes</td>\n",
              "    </tr>\n",
              "    <tr>\n",
              "      <th>12</th>\n",
              "      <td>middle_aged</td>\n",
              "      <td>high</td>\n",
              "      <td>yes</td>\n",
              "      <td>fair</td>\n",
              "      <td>yes</td>\n",
              "    </tr>\n",
              "    <tr>\n",
              "      <th>13</th>\n",
              "      <td>senior</td>\n",
              "      <td>medium</td>\n",
              "      <td>no</td>\n",
              "      <td>excellent</td>\n",
              "      <td>no</td>\n",
              "    </tr>\n",
              "  </tbody>\n",
              "</table>\n",
              "</div>\n",
              "      <button class=\"colab-df-convert\" onclick=\"convertToInteractive('df-f1f10205-cb6e-47ac-a2a9-988d7778f970')\"\n",
              "              title=\"Convert this dataframe to an interactive table.\"\n",
              "              style=\"display:none;\">\n",
              "        \n",
              "  <svg xmlns=\"http://www.w3.org/2000/svg\" height=\"24px\"viewBox=\"0 0 24 24\"\n",
              "       width=\"24px\">\n",
              "    <path d=\"M0 0h24v24H0V0z\" fill=\"none\"/>\n",
              "    <path d=\"M18.56 5.44l.94 2.06.94-2.06 2.06-.94-2.06-.94-.94-2.06-.94 2.06-2.06.94zm-11 1L8.5 8.5l.94-2.06 2.06-.94-2.06-.94L8.5 2.5l-.94 2.06-2.06.94zm10 10l.94 2.06.94-2.06 2.06-.94-2.06-.94-.94-2.06-.94 2.06-2.06.94z\"/><path d=\"M17.41 7.96l-1.37-1.37c-.4-.4-.92-.59-1.43-.59-.52 0-1.04.2-1.43.59L10.3 9.45l-7.72 7.72c-.78.78-.78 2.05 0 2.83L4 21.41c.39.39.9.59 1.41.59.51 0 1.02-.2 1.41-.59l7.78-7.78 2.81-2.81c.8-.78.8-2.07 0-2.86zM5.41 20L4 18.59l7.72-7.72 1.47 1.35L5.41 20z\"/>\n",
              "  </svg>\n",
              "      </button>\n",
              "      \n",
              "  <style>\n",
              "    .colab-df-container {\n",
              "      display:flex;\n",
              "      flex-wrap:wrap;\n",
              "      gap: 12px;\n",
              "    }\n",
              "\n",
              "    .colab-df-convert {\n",
              "      background-color: #E8F0FE;\n",
              "      border: none;\n",
              "      border-radius: 50%;\n",
              "      cursor: pointer;\n",
              "      display: none;\n",
              "      fill: #1967D2;\n",
              "      height: 32px;\n",
              "      padding: 0 0 0 0;\n",
              "      width: 32px;\n",
              "    }\n",
              "\n",
              "    .colab-df-convert:hover {\n",
              "      background-color: #E2EBFA;\n",
              "      box-shadow: 0px 1px 2px rgba(60, 64, 67, 0.3), 0px 1px 3px 1px rgba(60, 64, 67, 0.15);\n",
              "      fill: #174EA6;\n",
              "    }\n",
              "\n",
              "    [theme=dark] .colab-df-convert {\n",
              "      background-color: #3B4455;\n",
              "      fill: #D2E3FC;\n",
              "    }\n",
              "\n",
              "    [theme=dark] .colab-df-convert:hover {\n",
              "      background-color: #434B5C;\n",
              "      box-shadow: 0px 1px 3px 1px rgba(0, 0, 0, 0.15);\n",
              "      filter: drop-shadow(0px 1px 2px rgba(0, 0, 0, 0.3));\n",
              "      fill: #FFFFFF;\n",
              "    }\n",
              "  </style>\n",
              "\n",
              "      <script>\n",
              "        const buttonEl =\n",
              "          document.querySelector('#df-f1f10205-cb6e-47ac-a2a9-988d7778f970 button.colab-df-convert');\n",
              "        buttonEl.style.display =\n",
              "          google.colab.kernel.accessAllowed ? 'block' : 'none';\n",
              "\n",
              "        async function convertToInteractive(key) {\n",
              "          const element = document.querySelector('#df-f1f10205-cb6e-47ac-a2a9-988d7778f970');\n",
              "          const dataTable =\n",
              "            await google.colab.kernel.invokeFunction('convertToInteractive',\n",
              "                                                     [key], {});\n",
              "          if (!dataTable) return;\n",
              "\n",
              "          const docLinkHtml = 'Like what you see? Visit the ' +\n",
              "            '<a target=\"_blank\" href=https://colab.research.google.com/notebooks/data_table.ipynb>data table notebook</a>'\n",
              "            + ' to learn more about interactive tables.';\n",
              "          element.innerHTML = '';\n",
              "          dataTable['output_type'] = 'display_data';\n",
              "          await google.colab.output.renderOutput(dataTable, element);\n",
              "          const docLink = document.createElement('div');\n",
              "          docLink.innerHTML = docLinkHtml;\n",
              "          element.appendChild(docLink);\n",
              "        }\n",
              "      </script>\n",
              "    </div>\n",
              "  </div>\n",
              "  "
            ]
          },
          "metadata": {},
          "execution_count": 2
        }
      ],
      "source": [
        "pd_data = pd.read_csv('https://raw.githubusercontent.com/AugustLONG/ML01/master/01decisiontree/AllElectronics.csv')\n",
        "pd_data.drop(\"RID\",axis=1, inplace = True) #RID는 그냥 순서라서 삭제\n",
        "pd_data"
      ]
    },
    {
      "cell_type": "code",
      "source": [
        "pd_data['age'].nunique()"
      ],
      "metadata": {
        "colab": {
          "base_uri": "https://localhost:8080/"
        },
        "id": "ehwTn6KLGDDA",
        "outputId": "5ff86e9b-4d65-4246-cf5f-b29752cb2a20"
      },
      "execution_count": 3,
      "outputs": [
        {
          "output_type": "execute_result",
          "data": {
            "text/plain": [
              "3"
            ]
          },
          "metadata": {},
          "execution_count": 3
        }
      ]
    },
    {
      "cell_type": "code",
      "source": [
        "pd_data['income'].nunique()"
      ],
      "metadata": {
        "colab": {
          "base_uri": "https://localhost:8080/"
        },
        "id": "WRmt6N3NGfU2",
        "outputId": "1091b33d-6b88-47e0-d9c4-66b9bfb1a88a"
      },
      "execution_count": 4,
      "outputs": [
        {
          "output_type": "execute_result",
          "data": {
            "text/plain": [
              "3"
            ]
          },
          "metadata": {},
          "execution_count": 4
        }
      ]
    },
    {
      "cell_type": "markdown",
      "metadata": {
        "id": "Wz3SWxjvqPc9"
      },
      "source": [
        "## Gini 계수를 구하는 함수 만들기"
      ]
    },
    {
      "cell_type": "markdown",
      "metadata": {
        "id": "ue4CmQe5qPc-"
      },
      "source": [
        "<img src=\"gini.png\" width=\"200\">\n",
        "\n",
        "- Input: df(데이터), label(타겟변수명)\n",
        "- 해당 결과는 아래와 같이 나와야 합니다.\n",
        "\n",
        "- 지니계수는 데이터의 통계적 분산 정도를 정량화 해서 표현한 값이다.\n",
        "- 어떤 집합의 gini index가 높을수록 그 집단의 데이터가 분산되어 있음을 확인할 수 있다.\n",
        "->한쪽으로 몰려 노드를 최소화하는 것이 좋은 모델이기에 gini index를 감소시키는 것이 목적이다."
      ]
    },
    {
      "cell_type": "code",
      "execution_count": 5,
      "metadata": {
        "id": "6TP45GgmqPdA"
      },
      "outputs": [],
      "source": [
        "def get_gini(df, label):\n",
        "    gini = 1\n",
        "    percentage = df[label].value_counts() / len(df) #\n",
        "    #전체 데이터 값에서 클래스의 데이터 수\n",
        "    for p in percentage:\n",
        "        gini -= p**2\n",
        "        \n",
        "    return gini"
      ]
    },
    {
      "cell_type": "code",
      "execution_count": 6,
      "metadata": {
        "colab": {
          "base_uri": "https://localhost:8080/"
        },
        "id": "C8hcXtOsqPdD",
        "outputId": "e3cae551-5272-4ba2-d76b-56bb41055d18"
      },
      "outputs": [
        {
          "output_type": "execute_result",
          "data": {
            "text/plain": [
              "0.4591836734693877"
            ]
          },
          "metadata": {},
          "execution_count": 6
        }
      ],
      "source": [
        "get_gini(pd_data,'class_buys_computer')"
      ]
    },
    {
      "cell_type": "code",
      "source": [
        "get_gini(pd_data,'income')"
      ],
      "metadata": {
        "colab": {
          "base_uri": "https://localhost:8080/"
        },
        "id": "58fKIE5jJHBA",
        "outputId": "ea3ce91d-8abf-405d-a429-8bdc069c5dfe"
      },
      "execution_count": 7,
      "outputs": [
        {
          "output_type": "execute_result",
          "data": {
            "text/plain": [
              "0.653061224489796"
            ]
          },
          "metadata": {},
          "execution_count": 7
        }
      ]
    },
    {
      "cell_type": "code",
      "source": [
        "get_gini(pd_data,'age')"
      ],
      "metadata": {
        "colab": {
          "base_uri": "https://localhost:8080/"
        },
        "id": "vN9H-zqz6EXl",
        "outputId": "30c15594-0bf1-4c27-ce43-a16048c469a3"
      },
      "execution_count": 8,
      "outputs": [
        {
          "output_type": "execute_result",
          "data": {
            "text/plain": [
              "0.663265306122449"
            ]
          },
          "metadata": {},
          "execution_count": 8
        }
      ]
    },
    {
      "cell_type": "markdown",
      "metadata": {
        "id": "65kL0POYqPdG"
      },
      "source": [
        "## Feature의 Class를 이진 분류로 만들기\n",
        "- ex) {A,B,C} -> ({A}, {B,C}), ({B}, {A,C}), ({C}, {A,B})"
      ]
    },
    {
      "cell_type": "markdown",
      "metadata": {
        "id": "-DbJjhP1qPdI"
      },
      "source": [
        "- Input: df(데이터), attribute(Gini index를 구하고자 하는 변수명)\n",
        "- Income 변수를 결과로 출력해주세요."
      ]
    },
    {
      "cell_type": "code",
      "execution_count": 9,
      "metadata": {
        "id": "qiDAgftuqPdK"
      },
      "outputs": [],
      "source": [
        "from itertools import combinations\n",
        "\n",
        "def get_binary_split(df, attribute):\n",
        "    \n",
        "    uniques = list(df[attribute].unique()) # 속성 데이터 고유값들을 담은 리스트 \n",
        "    result=[] #빈 리스트 생성\n",
        "    len_uniques = len(uniques) #nunique와 같은 결과 생성\n",
        "    for i in range(len_uniques - 1):\n",
        "        for j in list(combinations(uniques, i+1)): #{A,B,C} -> ({A}, {B,C}), ({B}, {A,C}), ({C}, {A,B}) 생성\n",
        "            result.append(list(j)) #하나의 ({A}, {B,C})만들 때마다 비어있는 result list에 추가\n",
        "    \n",
        "    return result"
      ]
    },
    {
      "cell_type": "code",
      "execution_count": 10,
      "metadata": {
        "colab": {
          "base_uri": "https://localhost:8080/"
        },
        "id": "vIB9jsfdqPdM",
        "outputId": "d161ba17-7693-458f-ed9e-e46a9ad6b814"
      },
      "outputs": [
        {
          "output_type": "execute_result",
          "data": {
            "text/plain": [
              "[['high'],\n",
              " ['medium'],\n",
              " ['low'],\n",
              " ['high', 'medium'],\n",
              " ['high', 'low'],\n",
              " ['medium', 'low']]"
            ]
          },
          "metadata": {},
          "execution_count": 10
        }
      ],
      "source": [
        "#변수의 class 3개 income\n",
        "get_binary_split(pd_data, \"income\") #6개의 경우의 수 완성"
      ]
    },
    {
      "cell_type": "code",
      "source": [
        "#변수의 class 3개 age\n",
        "get_binary_split(pd_data, \"age\")"
      ],
      "metadata": {
        "colab": {
          "base_uri": "https://localhost:8080/"
        },
        "id": "8N9-1xVD5Q8L",
        "outputId": "288d73e1-e4ec-478d-d041-95598bb70d66"
      },
      "execution_count": 11,
      "outputs": [
        {
          "output_type": "execute_result",
          "data": {
            "text/plain": [
              "[['youth'],\n",
              " ['middle_aged'],\n",
              " ['senior'],\n",
              " ['youth', 'middle_aged'],\n",
              " ['youth', 'senior'],\n",
              " ['middle_aged', 'senior']]"
            ]
          },
          "metadata": {},
          "execution_count": 11
        }
      ]
    },
    {
      "cell_type": "markdown",
      "metadata": {
        "id": "8U3ndtsMqPdN"
      },
      "source": [
        "## 모든 이진분류의 경우의 Gini index를 구하는 함수 만들기\n",
        "- 위에서 완성한 두 함수를 사용하여 만들어주세요!\n",
        "- 해당 결과는 아래와 같이 나와야 합니다."
      ]
    },
    {
      "cell_type": "code",
      "execution_count": 12,
      "metadata": {
        "id": "whmIZe9iqPdO"
      },
      "outputs": [],
      "source": [
        "def get_attribute_gini_index(df, attribute, label): \n",
        "    \n",
        "    result = {} #빈 리스트 생성\n",
        "    binary_split = get_binary_split(df, attribute) #함수 get_binary_split의 결과를 binary split에 담음.\n",
        "    n = len(df) #데이터의 개수\n",
        "    for i in binary_split: #모든 경우의 수를 돌아가면서\n",
        "        key = '_'.join(i) \n",
        "        #\"(구분자)\".join(list)-매게변수로 들어온 리스트에 있는 요소들을 합쳐 하나의 문자열로 바꾸어 변환하는 함수\n",
        "        #ex)매개변수 ['a','b','c']->abc\n",
        "        #이 경우 binary split의 경우의 수들이 -를 중심으로 이어져 문자열로 나옴.\n",
        "        df_1 = df[df[attribute].isin(i)] # binary split 중 i를 포함한 경우\n",
        "        df_2 = df[~df[attribute].isin(i)] # binary split 중 i를 포함하지 않은 경우 (i 외의경우)\n",
        "        gini_index = len(df_1) / n * get_gini(df_1, label) + len(df_2) / n * get_gini(df_2, label)\n",
        "        result[key] = gini_index\n",
        "    \n",
        "    return result"
      ]
    },
    {
      "cell_type": "code",
      "execution_count": 13,
      "metadata": {
        "colab": {
          "base_uri": "https://localhost:8080/"
        },
        "id": "0rVkrD68qPdQ",
        "outputId": "c12b0b18-3a5a-47bb-d6d6-ad41a688157c"
      },
      "outputs": [
        {
          "output_type": "execute_result",
          "data": {
            "text/plain": [
              "{'high': 0.4428571428571429,\n",
              " 'high_low': 0.4583333333333333,\n",
              " 'high_medium': 0.45,\n",
              " 'low': 0.45,\n",
              " 'medium': 0.4583333333333333,\n",
              " 'medium_low': 0.4428571428571429}"
            ]
          },
          "metadata": {},
          "execution_count": 13
        }
      ],
      "source": [
        "get_attribute_gini_index(pd_data, 'income', 'class_buys_computer')"
      ]
    },
    {
      "cell_type": "markdown",
      "metadata": {
        "id": "mI14yZ15qPdS"
      },
      "source": [
        "- 여기서 가장 작은 Gini index값을 가지는 class를 확인합니다."
      ]
    },
    {
      "cell_type": "code",
      "execution_count": 14,
      "metadata": {
        "colab": {
          "base_uri": "https://localhost:8080/"
        },
        "id": "EBSmKFK7qPdU",
        "outputId": "3d21d3af-7308-42ce-9f22-10f01eaed823"
      },
      "outputs": [
        {
          "output_type": "execute_result",
          "data": {
            "text/plain": [
              "('high', 0.4428571428571429)"
            ]
          },
          "metadata": {},
          "execution_count": 14
        }
      ],
      "source": [
        "min(get_attribute_gini_index(pd_data, 'income', 'class_buys_computer').items())#제일 작은 지니계수를 도출하는 class 명과 해당 gini index"
      ]
    },
    {
      "cell_type": "code",
      "execution_count": 15,
      "metadata": {
        "colab": {
          "base_uri": "https://localhost:8080/",
          "height": 36
        },
        "id": "LW1wf6_-qPdX",
        "outputId": "8331c878-a43f-4872-b9a0-9ba4f4be7015"
      },
      "outputs": [
        {
          "output_type": "execute_result",
          "data": {
            "text/plain": [
              "'high'"
            ],
            "application/vnd.google.colaboratory.intrinsic+json": {
              "type": "string"
            }
          },
          "metadata": {},
          "execution_count": 15
        }
      ],
      "source": [
        "min(get_attribute_gini_index(pd_data, 'income', 'class_buys_computer').items())[0] #제일 작은 지니계수를 도출하는 class 명만"
      ]
    },
    {
      "cell_type": "markdown",
      "source": [
        "age의 middel_aged가 가장 낮은 gini index를 보인다."
      ],
      "metadata": {
        "id": "kwc08sLa8fSA"
      }
    },
    {
      "cell_type": "markdown",
      "metadata": {
        "id": "EjuQ7odjqPdZ"
      },
      "source": [
        "## 분류를 하는 데 가장 중요한 변수를 선정하고, 해당 변수의 Gini index를 제시해주세요.\n",
        "- 모든 변수에 대한 Gini index(최소)를 출력해주세요.\n",
        "- 해당 결과는 아래와 같이 나와야 합니다."
      ]
    },
    {
      "cell_type": "code",
      "execution_count": 16,
      "metadata": {
        "colab": {
          "base_uri": "https://localhost:8080/"
        },
        "id": "o1rXVGilqPda",
        "outputId": "b3c6a565-998b-479e-f69c-6754abb7e40a"
      },
      "outputs": [
        {
          "output_type": "stream",
          "name": "stdout",
          "text": [
            "Minimum Gini index of age : 0.3571\n",
            "Minimum Gini index of income : 0.4429\n",
            "Minimum Gini index of student : 0.3673\n",
            "Minimum Gini index of credit_rating : 0.4286\n"
          ]
        }
      ],
      "source": [
        "# 변수명 중 마지막에 위치한 label 컬럼 얻기\n",
        "label = pd_data.columns[-1]\n",
        "# label 변수를 제외한 변수명 얻기\n",
        "features = list(pd_data.columns[:-1])\n",
        "\n",
        "# 각 변수를 대상으로 반복문 수행(해당 변수 중 가장 낮은 gini 계수와 변수 출력)\n",
        "for feature in features:\n",
        "\n",
        "    min_val = min(get_attribute_gini_index(pd_data, feature, 'class_buys_computer').items())\n",
        "    print(\"Minimum Gini index of \" + feature +\" : \" + str(round(min_val[1], 4)))"
      ]
    },
    {
      "cell_type": "markdown",
      "metadata": {
        "id": "_r5QlSmRqPdc"
      },
      "source": [
        "gini index가 가장 작게 나온 'age'를 가장 중요한 변수로 선정합니다.\n",
        "\n",
        "이어서 해당 변수의 이진 분류된 각 class에 대해 Gini index도 계산합니다."
      ]
    },
    {
      "cell_type": "code",
      "execution_count": 17,
      "metadata": {
        "colab": {
          "base_uri": "https://localhost:8080/"
        },
        "id": "DD4b3-H-qPdc",
        "outputId": "6a3a3f61-0c18-4ebb-b8f7-47a8e4b1047a"
      },
      "outputs": [
        {
          "output_type": "execute_result",
          "data": {
            "text/plain": [
              "{'middle_aged': 0.35714285714285715,\n",
              " 'middle_aged_senior': 0.3936507936507937,\n",
              " 'senior': 0.4571428571428572,\n",
              " 'youth': 0.3936507936507937,\n",
              " 'youth_middle_aged': 0.4571428571428572,\n",
              " 'youth_senior': 0.35714285714285715}"
            ]
          },
          "metadata": {},
          "execution_count": 17
        }
      ],
      "source": [
        "get_attribute_gini_index(pd_data, 'age', 'class_buys_computer')"
      ]
    },
    {
      "cell_type": "markdown",
      "metadata": {
        "id": "J-eVuWMVqPdd"
      },
      "source": [
        "'age' 변수에서 gini index가 가장 작게 나온 'middle_aged' class를 선정합니다."
      ]
    },
    {
      "cell_type": "markdown",
      "metadata": {
        "id": "OMT8Z3bwqPde"
      },
      "source": [
        "## 위에서 선정한 feature로 DataFrame을 split한 후 나눠진 2개의 DataFrame에서 각각 다음으로 중요한 변수를 선정하고 해당 변수의 Gini index를 제시해주세요."
      ]
    },
    {
      "cell_type": "code",
      "execution_count": 18,
      "metadata": {
        "id": "xoUncUPXqPdr"
      },
      "outputs": [],
      "source": [
        "#선정한 feature로 데이터프레임 split을 해주세요.\n",
        "\n",
        "df_1 = pd_data[pd_data['age'] == 'middle_aged']#middle_aged의 데이터 프레임\n",
        "df_2 = pd_data[pd_data['age'] != 'middle_aged'] #middle_aged 외의 데이터 프레임"
      ]
    },
    {
      "cell_type": "code",
      "execution_count": 19,
      "metadata": {
        "colab": {
          "base_uri": "https://localhost:8080/",
          "height": 175
        },
        "id": "RnKrWRkmqPdt",
        "outputId": "1d4abbcf-3b3f-4385-cb09-cfa562b02962"
      },
      "outputs": [
        {
          "output_type": "execute_result",
          "data": {
            "text/plain": [
              "            age  income student credit_rating class_buys_computer\n",
              "2   middle_aged    high      no          fair                 yes\n",
              "6   middle_aged     low     yes     excellent                 yes\n",
              "11  middle_aged  medium      no     excellent                 yes\n",
              "12  middle_aged    high     yes          fair                 yes"
            ],
            "text/html": [
              "\n",
              "  <div id=\"df-87dd76ec-28a6-4be9-b487-5797ff7ef331\">\n",
              "    <div class=\"colab-df-container\">\n",
              "      <div>\n",
              "<style scoped>\n",
              "    .dataframe tbody tr th:only-of-type {\n",
              "        vertical-align: middle;\n",
              "    }\n",
              "\n",
              "    .dataframe tbody tr th {\n",
              "        vertical-align: top;\n",
              "    }\n",
              "\n",
              "    .dataframe thead th {\n",
              "        text-align: right;\n",
              "    }\n",
              "</style>\n",
              "<table border=\"1\" class=\"dataframe\">\n",
              "  <thead>\n",
              "    <tr style=\"text-align: right;\">\n",
              "      <th></th>\n",
              "      <th>age</th>\n",
              "      <th>income</th>\n",
              "      <th>student</th>\n",
              "      <th>credit_rating</th>\n",
              "      <th>class_buys_computer</th>\n",
              "    </tr>\n",
              "  </thead>\n",
              "  <tbody>\n",
              "    <tr>\n",
              "      <th>2</th>\n",
              "      <td>middle_aged</td>\n",
              "      <td>high</td>\n",
              "      <td>no</td>\n",
              "      <td>fair</td>\n",
              "      <td>yes</td>\n",
              "    </tr>\n",
              "    <tr>\n",
              "      <th>6</th>\n",
              "      <td>middle_aged</td>\n",
              "      <td>low</td>\n",
              "      <td>yes</td>\n",
              "      <td>excellent</td>\n",
              "      <td>yes</td>\n",
              "    </tr>\n",
              "    <tr>\n",
              "      <th>11</th>\n",
              "      <td>middle_aged</td>\n",
              "      <td>medium</td>\n",
              "      <td>no</td>\n",
              "      <td>excellent</td>\n",
              "      <td>yes</td>\n",
              "    </tr>\n",
              "    <tr>\n",
              "      <th>12</th>\n",
              "      <td>middle_aged</td>\n",
              "      <td>high</td>\n",
              "      <td>yes</td>\n",
              "      <td>fair</td>\n",
              "      <td>yes</td>\n",
              "    </tr>\n",
              "  </tbody>\n",
              "</table>\n",
              "</div>\n",
              "      <button class=\"colab-df-convert\" onclick=\"convertToInteractive('df-87dd76ec-28a6-4be9-b487-5797ff7ef331')\"\n",
              "              title=\"Convert this dataframe to an interactive table.\"\n",
              "              style=\"display:none;\">\n",
              "        \n",
              "  <svg xmlns=\"http://www.w3.org/2000/svg\" height=\"24px\"viewBox=\"0 0 24 24\"\n",
              "       width=\"24px\">\n",
              "    <path d=\"M0 0h24v24H0V0z\" fill=\"none\"/>\n",
              "    <path d=\"M18.56 5.44l.94 2.06.94-2.06 2.06-.94-2.06-.94-.94-2.06-.94 2.06-2.06.94zm-11 1L8.5 8.5l.94-2.06 2.06-.94-2.06-.94L8.5 2.5l-.94 2.06-2.06.94zm10 10l.94 2.06.94-2.06 2.06-.94-2.06-.94-.94-2.06-.94 2.06-2.06.94z\"/><path d=\"M17.41 7.96l-1.37-1.37c-.4-.4-.92-.59-1.43-.59-.52 0-1.04.2-1.43.59L10.3 9.45l-7.72 7.72c-.78.78-.78 2.05 0 2.83L4 21.41c.39.39.9.59 1.41.59.51 0 1.02-.2 1.41-.59l7.78-7.78 2.81-2.81c.8-.78.8-2.07 0-2.86zM5.41 20L4 18.59l7.72-7.72 1.47 1.35L5.41 20z\"/>\n",
              "  </svg>\n",
              "      </button>\n",
              "      \n",
              "  <style>\n",
              "    .colab-df-container {\n",
              "      display:flex;\n",
              "      flex-wrap:wrap;\n",
              "      gap: 12px;\n",
              "    }\n",
              "\n",
              "    .colab-df-convert {\n",
              "      background-color: #E8F0FE;\n",
              "      border: none;\n",
              "      border-radius: 50%;\n",
              "      cursor: pointer;\n",
              "      display: none;\n",
              "      fill: #1967D2;\n",
              "      height: 32px;\n",
              "      padding: 0 0 0 0;\n",
              "      width: 32px;\n",
              "    }\n",
              "\n",
              "    .colab-df-convert:hover {\n",
              "      background-color: #E2EBFA;\n",
              "      box-shadow: 0px 1px 2px rgba(60, 64, 67, 0.3), 0px 1px 3px 1px rgba(60, 64, 67, 0.15);\n",
              "      fill: #174EA6;\n",
              "    }\n",
              "\n",
              "    [theme=dark] .colab-df-convert {\n",
              "      background-color: #3B4455;\n",
              "      fill: #D2E3FC;\n",
              "    }\n",
              "\n",
              "    [theme=dark] .colab-df-convert:hover {\n",
              "      background-color: #434B5C;\n",
              "      box-shadow: 0px 1px 3px 1px rgba(0, 0, 0, 0.15);\n",
              "      filter: drop-shadow(0px 1px 2px rgba(0, 0, 0, 0.3));\n",
              "      fill: #FFFFFF;\n",
              "    }\n",
              "  </style>\n",
              "\n",
              "      <script>\n",
              "        const buttonEl =\n",
              "          document.querySelector('#df-87dd76ec-28a6-4be9-b487-5797ff7ef331 button.colab-df-convert');\n",
              "        buttonEl.style.display =\n",
              "          google.colab.kernel.accessAllowed ? 'block' : 'none';\n",
              "\n",
              "        async function convertToInteractive(key) {\n",
              "          const element = document.querySelector('#df-87dd76ec-28a6-4be9-b487-5797ff7ef331');\n",
              "          const dataTable =\n",
              "            await google.colab.kernel.invokeFunction('convertToInteractive',\n",
              "                                                     [key], {});\n",
              "          if (!dataTable) return;\n",
              "\n",
              "          const docLinkHtml = 'Like what you see? Visit the ' +\n",
              "            '<a target=\"_blank\" href=https://colab.research.google.com/notebooks/data_table.ipynb>data table notebook</a>'\n",
              "            + ' to learn more about interactive tables.';\n",
              "          element.innerHTML = '';\n",
              "          dataTable['output_type'] = 'display_data';\n",
              "          await google.colab.output.renderOutput(dataTable, element);\n",
              "          const docLink = document.createElement('div');\n",
              "          docLink.innerHTML = docLinkHtml;\n",
              "          element.appendChild(docLink);\n",
              "        }\n",
              "      </script>\n",
              "    </div>\n",
              "  </div>\n",
              "  "
            ]
          },
          "metadata": {},
          "execution_count": 19
        }
      ],
      "source": [
        "df_1.head() #split 결과 확인 "
      ]
    },
    {
      "cell_type": "code",
      "execution_count": 20,
      "metadata": {
        "colab": {
          "base_uri": "https://localhost:8080/",
          "height": 206
        },
        "id": "6K9YQyH_qPdv",
        "outputId": "feab302a-1996-40e2-dbe5-7a80401f4cca"
      },
      "outputs": [
        {
          "output_type": "execute_result",
          "data": {
            "text/plain": [
              "      age  income student credit_rating class_buys_computer\n",
              "0   youth    high      no          fair                  no\n",
              "1   youth    high      no     excellent                  no\n",
              "3  senior  medium      no          fair                 yes\n",
              "4  senior     low     yes          fair                 yes\n",
              "5  senior     low     yes     excellent                  no"
            ],
            "text/html": [
              "\n",
              "  <div id=\"df-3103361f-31e0-487e-8234-226ae87819d1\">\n",
              "    <div class=\"colab-df-container\">\n",
              "      <div>\n",
              "<style scoped>\n",
              "    .dataframe tbody tr th:only-of-type {\n",
              "        vertical-align: middle;\n",
              "    }\n",
              "\n",
              "    .dataframe tbody tr th {\n",
              "        vertical-align: top;\n",
              "    }\n",
              "\n",
              "    .dataframe thead th {\n",
              "        text-align: right;\n",
              "    }\n",
              "</style>\n",
              "<table border=\"1\" class=\"dataframe\">\n",
              "  <thead>\n",
              "    <tr style=\"text-align: right;\">\n",
              "      <th></th>\n",
              "      <th>age</th>\n",
              "      <th>income</th>\n",
              "      <th>student</th>\n",
              "      <th>credit_rating</th>\n",
              "      <th>class_buys_computer</th>\n",
              "    </tr>\n",
              "  </thead>\n",
              "  <tbody>\n",
              "    <tr>\n",
              "      <th>0</th>\n",
              "      <td>youth</td>\n",
              "      <td>high</td>\n",
              "      <td>no</td>\n",
              "      <td>fair</td>\n",
              "      <td>no</td>\n",
              "    </tr>\n",
              "    <tr>\n",
              "      <th>1</th>\n",
              "      <td>youth</td>\n",
              "      <td>high</td>\n",
              "      <td>no</td>\n",
              "      <td>excellent</td>\n",
              "      <td>no</td>\n",
              "    </tr>\n",
              "    <tr>\n",
              "      <th>3</th>\n",
              "      <td>senior</td>\n",
              "      <td>medium</td>\n",
              "      <td>no</td>\n",
              "      <td>fair</td>\n",
              "      <td>yes</td>\n",
              "    </tr>\n",
              "    <tr>\n",
              "      <th>4</th>\n",
              "      <td>senior</td>\n",
              "      <td>low</td>\n",
              "      <td>yes</td>\n",
              "      <td>fair</td>\n",
              "      <td>yes</td>\n",
              "    </tr>\n",
              "    <tr>\n",
              "      <th>5</th>\n",
              "      <td>senior</td>\n",
              "      <td>low</td>\n",
              "      <td>yes</td>\n",
              "      <td>excellent</td>\n",
              "      <td>no</td>\n",
              "    </tr>\n",
              "  </tbody>\n",
              "</table>\n",
              "</div>\n",
              "      <button class=\"colab-df-convert\" onclick=\"convertToInteractive('df-3103361f-31e0-487e-8234-226ae87819d1')\"\n",
              "              title=\"Convert this dataframe to an interactive table.\"\n",
              "              style=\"display:none;\">\n",
              "        \n",
              "  <svg xmlns=\"http://www.w3.org/2000/svg\" height=\"24px\"viewBox=\"0 0 24 24\"\n",
              "       width=\"24px\">\n",
              "    <path d=\"M0 0h24v24H0V0z\" fill=\"none\"/>\n",
              "    <path d=\"M18.56 5.44l.94 2.06.94-2.06 2.06-.94-2.06-.94-.94-2.06-.94 2.06-2.06.94zm-11 1L8.5 8.5l.94-2.06 2.06-.94-2.06-.94L8.5 2.5l-.94 2.06-2.06.94zm10 10l.94 2.06.94-2.06 2.06-.94-2.06-.94-.94-2.06-.94 2.06-2.06.94z\"/><path d=\"M17.41 7.96l-1.37-1.37c-.4-.4-.92-.59-1.43-.59-.52 0-1.04.2-1.43.59L10.3 9.45l-7.72 7.72c-.78.78-.78 2.05 0 2.83L4 21.41c.39.39.9.59 1.41.59.51 0 1.02-.2 1.41-.59l7.78-7.78 2.81-2.81c.8-.78.8-2.07 0-2.86zM5.41 20L4 18.59l7.72-7.72 1.47 1.35L5.41 20z\"/>\n",
              "  </svg>\n",
              "      </button>\n",
              "      \n",
              "  <style>\n",
              "    .colab-df-container {\n",
              "      display:flex;\n",
              "      flex-wrap:wrap;\n",
              "      gap: 12px;\n",
              "    }\n",
              "\n",
              "    .colab-df-convert {\n",
              "      background-color: #E8F0FE;\n",
              "      border: none;\n",
              "      border-radius: 50%;\n",
              "      cursor: pointer;\n",
              "      display: none;\n",
              "      fill: #1967D2;\n",
              "      height: 32px;\n",
              "      padding: 0 0 0 0;\n",
              "      width: 32px;\n",
              "    }\n",
              "\n",
              "    .colab-df-convert:hover {\n",
              "      background-color: #E2EBFA;\n",
              "      box-shadow: 0px 1px 2px rgba(60, 64, 67, 0.3), 0px 1px 3px 1px rgba(60, 64, 67, 0.15);\n",
              "      fill: #174EA6;\n",
              "    }\n",
              "\n",
              "    [theme=dark] .colab-df-convert {\n",
              "      background-color: #3B4455;\n",
              "      fill: #D2E3FC;\n",
              "    }\n",
              "\n",
              "    [theme=dark] .colab-df-convert:hover {\n",
              "      background-color: #434B5C;\n",
              "      box-shadow: 0px 1px 3px 1px rgba(0, 0, 0, 0.15);\n",
              "      filter: drop-shadow(0px 1px 2px rgba(0, 0, 0, 0.3));\n",
              "      fill: #FFFFFF;\n",
              "    }\n",
              "  </style>\n",
              "\n",
              "      <script>\n",
              "        const buttonEl =\n",
              "          document.querySelector('#df-3103361f-31e0-487e-8234-226ae87819d1 button.colab-df-convert');\n",
              "        buttonEl.style.display =\n",
              "          google.colab.kernel.accessAllowed ? 'block' : 'none';\n",
              "\n",
              "        async function convertToInteractive(key) {\n",
              "          const element = document.querySelector('#df-3103361f-31e0-487e-8234-226ae87819d1');\n",
              "          const dataTable =\n",
              "            await google.colab.kernel.invokeFunction('convertToInteractive',\n",
              "                                                     [key], {});\n",
              "          if (!dataTable) return;\n",
              "\n",
              "          const docLinkHtml = 'Like what you see? Visit the ' +\n",
              "            '<a target=\"_blank\" href=https://colab.research.google.com/notebooks/data_table.ipynb>data table notebook</a>'\n",
              "            + ' to learn more about interactive tables.';\n",
              "          element.innerHTML = '';\n",
              "          dataTable['output_type'] = 'display_data';\n",
              "          await google.colab.output.renderOutput(dataTable, element);\n",
              "          const docLink = document.createElement('div');\n",
              "          docLink.innerHTML = docLinkHtml;\n",
              "          element.appendChild(docLink);\n",
              "        }\n",
              "      </script>\n",
              "    </div>\n",
              "  </div>\n",
              "  "
            ]
          },
          "metadata": {},
          "execution_count": 20
        }
      ],
      "source": [
        "df_2.head() #split 결과 확인 "
      ]
    },
    {
      "cell_type": "code",
      "execution_count": 21,
      "metadata": {
        "colab": {
          "base_uri": "https://localhost:8080/"
        },
        "id": "9PyJI-HsqPdx",
        "outputId": "da2f067e-97d2-46f7-9507-b7125f87e2ce"
      },
      "outputs": [
        {
          "output_type": "stream",
          "name": "stdout",
          "text": [
            "['age', 'income', 'student', 'credit_rating', 'class_buys_computer']\n"
          ]
        }
      ],
      "source": [
        "features = [x for x in list(pd_data.columns)  if x != 'age']  # 탐색할 피쳐들 (income 제외)\n",
        "# res = pd.DataFrame(columns=['feature', 'attribute', 'gini'])\n",
        "# res.loc['middle_aged'] = propose_feature(pos, left_features)\n",
        "# res.loc['not middle_aged'] = propose_feature(neg, left_features)\n",
        "# res\n",
        "print(list(pd_data.columns))"
      ]
    },
    {
      "cell_type": "code",
      "execution_count": 22,
      "metadata": {
        "colab": {
          "base_uri": "https://localhost:8080/"
        },
        "id": "IuTxzlzSqPdz",
        "outputId": "a927b76b-c3fe-4fa0-90cf-e2d229747364"
      },
      "outputs": [
        {
          "output_type": "stream",
          "name": "stdout",
          "text": [
            "Age : Middle_aged, Minimum Gini index of ['income', 'student', 'credit_rating'] : 0.0\n",
            "Age : Middle_aged, Minimum Gini index of ['income', 'student', 'credit_rating'] : 0.0\n",
            "Age : Middle_aged, Minimum Gini index of ['income', 'student', 'credit_rating'] : 0.0\n",
            "################################################################\n",
            "Age : youth_senior , Minimum Gini index of income : 0.375\n",
            "Age : youth_senior , Minimum Gini index of student : 0.32\n",
            "Age : youth_senior , Minimum Gini index of credit_rating : 0.4167\n"
          ]
        }
      ],
      "source": [
        "# 각 변수를 대상으로 반복문 수행\n",
        "# 결과는 소수점 이하 4자리까지 출력\n",
        "\n",
        "#출력문 확인하니 min_class에 들어갈 class는 income,student,credit_rating 3가지임\n",
        "ft = [\"income\",\"student\",\"credit_rating\"]\n",
        "\n",
        "for feature in ft:\n",
        "  print(\"Age : Middle_aged,\", \"Minimum Gini index of\", ft, \":\", round(min(get_attribute_gini_index(df_1, feature, label).values()), 4))\n",
        "#middle_aged에서 가장작은 gini index를 구해준 후,round함수를 이용해 소수점 넷째자리까지 잘라줌,\n",
        "\n",
        "print(\"################################################################\")\n",
        "\n",
        "for feature in ft:\n",
        "      print(\"Age : youth_senior ,\", \"Minimum Gini index of\", feature, \":\", round(min(get_attribute_gini_index(df_2, feature, label).values()), 4))\n",
        " \n"
      ]
    },
    {
      "cell_type": "markdown",
      "metadata": {
        "id": "KLPGo0uOqPd2"
      },
      "source": [
        "## Entropy 를 구하는 함수 만들기\n",
        "\n",
        "<img src = https://miro.medium.com/max/1122/0*DkWdyGidNSfdT1Nu.png width = \"350\">\n",
        "\n",
        "Entropy란?\n",
        "불확실성의 척도"
      ]
    },
    {
      "cell_type": "code",
      "execution_count": 23,
      "metadata": {
        "id": "rY83W4XoqPd3"
      },
      "outputs": [],
      "source": [
        "from math import log2\n",
        "\n",
        "def getEntropy(df, feature) :\n",
        "    \n",
        "    entropy = 0 #entropy 초기화\n",
        "    unique = list(df[feature].unique())  #해당 feature에서 고유한(겹치지 않는 값의 리스트 생성)\n",
        "  \n",
        "    for i in unique: \n",
        "        p=sum(df[feature]==i)/len(df[feature]) #각 고유한 feature을 가지는 데이터의 개수/전체 데이터의 개수\n",
        "        entropy += - p*log2(p) #각 고유한 feature의 함수값을 더해주면 entropy가 나온다.\n",
        "    return entropy\n"
      ]
    },
    {
      "cell_type": "code",
      "execution_count": 24,
      "metadata": {
        "colab": {
          "base_uri": "https://localhost:8080/"
        },
        "id": "yt3UEQ08qPd6",
        "outputId": "64388e76-7a82-4502-fbb0-8f9140eb1a33"
      },
      "outputs": [
        {
          "output_type": "execute_result",
          "data": {
            "text/plain": [
              "0.9402859586706309"
            ]
          },
          "metadata": {},
          "execution_count": 24
        }
      ],
      "source": [
        "getEntropy(pd_data, \"class_buys_computer\")"
      ]
    },
    {
      "cell_type": "code",
      "execution_count": 25,
      "metadata": {
        "id": "lXZymTeiqPd_"
      },
      "outputs": [],
      "source": [
        "def getGainA(df, feature) :\n",
        "        \n",
        "    result = {} #빈 리스트 생성\n",
        "\n",
        "    info_D = getEntropy(df, feature) # 목표변수에 대한 Entropy 를 구하기\n",
        "    columns = list(df.loc[:, df.columns != feature]) # 목표변수(feature)를 제외한 나머지 변수들의 변수명을 리스트 형태로 저장\n",
        "   \n",
        "    for i in columns: #각 칼럼별 엔트로피를 구해줘야 하니 돌림.\n",
        "      info_cl=0\n",
        "      unique = list(df[i].unique()) #column에 존재하는 고유한 값들\n",
        "      for j in unique:\n",
        "         f_l = len(df[feature])     # f_l : 전체 데이터 개수\n",
        "         cf_l = sum(df[i] == j)     # cf_l : 전체 데이터 중 i 컬럼의 값이 j인 데이터의 개수 (= 가중치)\n",
        "         info_cl += (f_l / cf_l) * getEntropy(df[df[i] == j], feature) \n",
        "      result[i] = info_D-info_cl\n",
        "\n",
        "    return result"
      ]
    },
    {
      "cell_type": "code",
      "execution_count": 26,
      "metadata": {
        "scrolled": true,
        "colab": {
          "base_uri": "https://localhost:8080/"
        },
        "id": "YpFFUsJPqPeB",
        "outputId": "97422e70-578d-42ed-93c3-4673164c050c"
      },
      "outputs": [
        {
          "output_type": "execute_result",
          "data": {
            "text/plain": [
              "{'age': -4.497037370275512,\n",
              " 'credit_rating': -2.8127840924661847,\n",
              " 'income': -7.5418777563968105,\n",
              " 'student': -2.213515870562527}"
            ]
          },
          "metadata": {},
          "execution_count": 26
        }
      ],
      "source": [
        "getGainA(pd_data, \"class_buys_computer\")"
      ]
    }
  ],
  "metadata": {
    "kernelspec": {
      "display_name": "Python 3",
      "language": "python",
      "name": "python3"
    },
    "language_info": {
      "codemirror_mode": {
        "name": "ipython",
        "version": 3
      },
      "file_extension": ".py",
      "mimetype": "text/x-python",
      "name": "python",
      "nbconvert_exporter": "python",
      "pygments_lexer": "ipython3",
      "version": "3.7.10"
    },
    "toc": {
      "base_numbering": 1,
      "nav_menu": {},
      "number_sections": true,
      "sideBar": true,
      "skip_h1_title": false,
      "title_cell": "Table of Contents",
      "title_sidebar": "Contents",
      "toc_cell": false,
      "toc_position": {},
      "toc_section_display": true,
      "toc_window_display": false
    },
    "colab": {
      "name": "Tobigs_Week3_Decision_Tree.ipynb",
      "provenance": [],
      "collapsed_sections": []
    }
  },
  "nbformat": 4,
  "nbformat_minor": 0
}