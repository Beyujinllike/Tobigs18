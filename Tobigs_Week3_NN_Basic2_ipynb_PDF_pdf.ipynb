{
  "cells": [
    {
      "cell_type": "markdown",
      "id": "00493e77",
      "metadata": {
        "id": "00493e77"
      },
      "source": [
        "> # Neural Network Basic - Week3 과제\n"
      ]
    },
    {
      "cell_type": "markdown",
      "id": "747656a3",
      "metadata": {
        "id": "747656a3"
      },
      "source": [
        "## Import Library"
      ]
    },
    {
      "cell_type": "code",
      "execution_count": 111,
      "id": "2d4be987",
      "metadata": {
        "id": "2d4be987"
      },
      "outputs": [],
      "source": [
        "import numpy as np\n",
        "from matplotlib import pyplot as plt\n",
        "from mnist import load_mnist"
      ]
    },
    {
      "cell_type": "markdown",
      "id": "bbd9ddbb",
      "metadata": {
        "id": "bbd9ddbb"
      },
      "source": [
        "## Load Dataset\n",
        "- MNIST "
      ]
    },
    {
      "cell_type": "code",
      "execution_count": 112,
      "id": "2813d656",
      "metadata": {
        "id": "2813d656"
      },
      "outputs": [],
      "source": [
        "(X_train, Y_train), (X_test, Y_test) = \\\n",
        "    load_mnist(normalize=True, one_hot_label=False)"
      ]
    },
    {
      "cell_type": "code",
      "execution_count": 113,
      "id": "2bd1d69a",
      "metadata": {
        "colab": {
          "base_uri": "https://localhost:8080/"
        },
        "id": "2bd1d69a",
        "outputId": "80d77b89-aa75-46df-9489-c19639fe465f"
      },
      "outputs": [
        {
          "output_type": "stream",
          "name": "stdout",
          "text": [
            "X_train shape: (60000, 784)\n",
            "X_test shape: (10000, 784)\n",
            "Y_train shape: (60000,)\n",
            "Y_train shape: (10000,)\n"
          ]
        }
      ],
      "source": [
        "print(f'X_train shape: {X_train.shape}')\n",
        "print(f'X_test shape: {X_test.shape}')\n",
        "print(f'Y_train shape: {Y_train.shape}')\n",
        "print(f'Y_train shape: {Y_test.shape}')"
      ]
    },
    {
      "cell_type": "markdown",
      "id": "4581cc2e",
      "metadata": {
        "id": "4581cc2e"
      },
      "source": [
        "## Activation Function \n",
        "\n",
        "뉴런 활성화\n",
        "- sigmoid & relu : hidden layer activation function \n",
        "- softmax : output layer activation function "
      ]
    },
    {
      "cell_type": "code",
      "execution_count": 114,
      "id": "a147a2b7",
      "metadata": {
        "id": "a147a2b7"
      },
      "outputs": [],
      "source": [
        "class sigmoid:\n",
        "    # sigmoid 함수를 작성하세요 \n",
        "    def forward(x):\n",
        "        return 1/(1+np.exp(-x))\n",
        "    \n",
        "    # sigmoid 함수의 미분을 작성하세요\n",
        "    def backward(x):\n",
        "        return x*(1-x)"
      ]
    },
    {
      "cell_type": "code",
      "execution_count": 115,
      "id": "f37afa8d",
      "metadata": {
        "id": "f37afa8d"
      },
      "outputs": [],
      "source": [
        "class relu:\n",
        "    # relu 함수를 작성하세요\n",
        "    def forward(x):\n",
        "      return np.maximum(0,x) #0과 x중 더 큰 함수를 return,즉 0보다 작다면 0,0보다 크거나 같다면 x그대로 return된다.\n",
        "    \n",
        "    # relu 함수의 미분을 작성하세요\n",
        "    def backward(x):\n",
        "        return np.where(x > 0, 1, 0) # 0 보다 큰 값은 1의 gradient 값을 갖게끔 세팅"
      ]
    },
    {
      "cell_type": "code",
      "execution_count": 116,
      "id": "cb44b346",
      "metadata": {
        "id": "cb44b346"
      },
      "outputs": [],
      "source": [
        "class softmax:\n",
        "    def forward(z):\n",
        "        y = []\n",
        "        for zi in z:\n",
        "            c = np.max(zi)\n",
        "            exp_zi = np.exp(zi-c)\n",
        "            sum_exp_zi = np.sum(exp_zi)\n",
        "            yi = exp_zi / sum_exp_zi\n",
        "            y.append(yi)\n",
        "\n",
        "        return np.array(y)\n",
        "    \n",
        "    def backward(p, y) :\n",
        "        dp = p.copy()\n",
        "        for dpi, yi in zip(dp, y):\n",
        "            for k in range(dp.shape[1]):\n",
        "                if k == yi :\n",
        "                    dpi[k] -= 1\n",
        "        return dp"
      ]
    },
    {
      "cell_type": "markdown",
      "id": "36955740",
      "metadata": {
        "id": "36955740"
      },
      "source": [
        "## Loss Function\n",
        "\n",
        ":알고리즘이 얼마나 데이터셋을 잘 나타내는가(예측과 실제값 사이의 차이)를 평가해주는 지표\n",
        "loss function이 높을수록 예측이 좋지 않음."
      ]
    },
    {
      "cell_type": "code",
      "execution_count": 117,
      "id": "44e0ad37",
      "metadata": {
        "id": "44e0ad37"
      },
      "outputs": [],
      "source": [
        "def cross_entropy(p, y):\n",
        "    loss = []\n",
        "    for pi, yi in zip(p, y):\n",
        "        for k in range(p.shape[1]):\n",
        "            if k == yi:\n",
        "                loss.append((-1) * (np.log(pi[k] + 1e-8))) \n",
        "    return loss"
      ]
    },
    {
      "cell_type": "markdown",
      "id": "0f9a7228",
      "metadata": {
        "id": "0f9a7228"
      },
      "source": [
        "## Layer"
      ]
    },
    {
      "cell_type": "code",
      "execution_count": 118,
      "id": "668bda1a",
      "metadata": {
        "id": "668bda1a"
      },
      "outputs": [],
      "source": [
        "class Layer:\n",
        "    def __init__(self, input_size, output_size, std=1e-4) :\n",
        "        self.input_size = input_size\n",
        "        self.output_size = output_size\n",
        "        self.bias = np.random.randn(output_size)\n",
        "        self.weight = np.random.randn(input_size, output_size)*std"
      ]
    },
    {
      "cell_type": "markdown",
      "id": "a72dfcee",
      "metadata": {
        "id": "a72dfcee"
      },
      "source": [
        "## Neural Network\n",
        "- 각 메소드와 변수들의 역할을 주석으로 달아주세요! "
      ]
    },
    {
      "cell_type": "code",
      "execution_count": 119,
      "id": "33125095",
      "metadata": {
        "id": "33125095"
      },
      "outputs": [],
      "source": [
        "class CustomNet:\n",
        "    # CustomNet을 선언할 때 생성되는 값들입니다.\n",
        "    def __init__(self, lr=0.0001, epoch=500, batch_size=200):\n",
        "      #한번에 어느정도씩 움직여 최종적인 global minimum을 찾을 것인지 정함.\n",
        "        self.lr = lr\n",
        "        #모델이 학습을 몇번이나 반복할 것인지 정함.\n",
        "        self.epoch = epoch  \n",
        "        #모델이 몇개의 데이터로 총 데이터를 나누어 학습할 것인지 기준을 정함\n",
        "        self.batch_size = batch_size\n",
        "        #모델이 잘 만들어졌는지 평가하는 지표(높을수록 성능이 떨어지는 모델)\n",
        "        self.loss_function = cross_entropy \n",
        "        #layer를 담고있는 배열\n",
        "        self.layers = []\n",
        "        #output을 내보낼 때의 활성화 함수 softmax를 담고 있는 배열\n",
        "        self.activations = [softmax]\n",
        "        #레이어의 노드 수(모델이 복잡하면 복잡해질수록 은닉층의 수와 노드의 수는 늘어난다.)\n",
        "        self.nodes = []\n",
        "    \n",
        "    # Layer를 추가할 때 호출합니다\n",
        "    def addLayer(self, Layer): \n",
        "        self.layers.append(Layer) #층을 추가하기 위해 append사용\n",
        "        if not self.nodes: \n",
        "            self.nodes.append(np.zeros(Layer.input_size))#맨 처음,노드가 비어있을 시,input_size에 대한 정보 추가 \n",
        "        self.nodes.append(np.zeros(Layer.output_size))#output 노드들의 수를 추가해가며 Layer의 노드 수를 담는다\n",
        "        #np.zeros(0으로만 채워진 array 생성)\n",
        "    # Activation Function을 추가할 때 호출합니다\n",
        "    #activation을 쓰지 않으면 결국 하나의 layer를 쌓은 것과 다르지 않기 때문에 중요한 역할(gradient vanishing을 극복하도록 발전하고 있다.)\n",
        "    #\n",
        "    def addActivation(self, Activation):\n",
        "        tmp = self.activations.pop() #pop함수는 리스트의 맨마지막 요소를 돌려주고 해당 리스트에선 삭제시키는 함수로 가장 뒷단의 활성 함수를 추출한다.\n",
        "        self.activations.append(Activation) #활성함수 추가\n",
        "        self.activations.append(tmp) #추출한 함수를 마지막단에 붙여줌.\n",
        "        \n",
        "    # 순전파 함수\n",
        "    def _forward(self, X):\n",
        "        self.nodes[0] = X.copy() #X의 배열 복사하여 첫번째 노드 초기화\n",
        "        output = X.copy() \n",
        "        for i in range(len(self.layers)): #레이어의 층 수만큼 반복문 돌림.\n",
        "            Layer = self.layers[i] \n",
        "            Activation = self.activations[i] #층 별 활성화 함수 실행\n",
        "            output = np.dot(self.nodes[i], Layer.weight) #numpy의 dot함수:각 원소를 곱한 값들을 더한 내적 연산 수행,이 경우엔 노드에 가중치 곱해 더하기\n",
        "            output = output+ Layer.bias #최종output 낼 때,위의 값에 bias더해주기\n",
        "            output = Activation.forward(output) \n",
        "            self.nodes[i+1] = output #다음 노드값으로 초기화\n",
        "        return output   \n",
        "    \n",
        "    # 역전파 함수\n",
        "    def _backward(self, X, output, y) :\n",
        "        for i in reversed(range(len(self.layers))): #레이어의 수의 반대순서로 반복문 실행\n",
        "            a = self.nodes[i+1] #다음 레이어의 값 저장\n",
        "            Layer = self.layers[i] #레이어는 현재 레이어 값 저장\n",
        "            Activation = self.activations[i] #현재 레이어 활성화 함수 저장\n",
        "            \n",
        "            if i+1 == len(self.layers):\n",
        "                error = Activation.backward(output, y)\n",
        "            else:\n",
        "                error *= Activation.backward(a)\n",
        "            Layer.weight -= np.dot(error.T, self.nodes[i]).T*self.lr/X.shape[0] #error.T와 learning rate를 이용해 가중치 업데이트\n",
        "            Layer.bias -= error.sum(axis=0)*self.lr/X.shape[0]#상수값 업데이트\n",
        "            error = np.dot(error, Layer.weight.T)#에러값 계산\n",
        "            \n",
        "    # Accrucy를 반환합니다\n",
        "    def _accuracy(self, output, y):\n",
        "        pre_p = np.argmax(output, axis=1)#np.argmax 가장 큰 원소의 인덱스 반환:softmax함수를 통해 나온 여러 확률값 중 가장 높은 확률 가지는 인덱스 값 반환\n",
        "        return np.sum(pre_p==y)/y.shape[0]  #분류가 잘 된 개수의 비율\n",
        "    \n",
        "    # 데이터셋에 모델을 fit할때 호출합니다\n",
        "    def fit(self, X, y, val_X, val_y):\n",
        "        history = {'val_acc': [],'val_loss': []} \n",
        "        N = X.shape[0]\n",
        "        for i in range(self.epoch):#epoch수만큼 학습 진행\n",
        "            for j in range(N//self.batch_size): ##mini batch의 크기만큼 진행\n",
        "                batch_mask = np.random.choice(N, self.batch_size) #batch size 만크믜 N개의 mask선택\n",
        "                X_batch = X[batch_mask] #batch추출\n",
        "                y_batch = y[batch_mask] #Y_batch추출\n",
        "                output = self._forward(X_batch) #output에는 위의 forward에 X_batch넣는 값 저장(순전파)\n",
        "                self._backward(X_batch, output, y_batch)#위의 backward함수(역전파) 사용하여 인수로 X_batch,output,y_batch 넣어줌.\n",
        "            \n",
        "            #accuracy와 loss를 기록해둡시다\n",
        "            output = self._forward(val_X) #val_x에 순전파 적용\n",
        "            history[\"val_acc\"].append(self._accuracy(output, val_y)) #val data의 정확도\n",
        "            history[\"val_loss\"].append(sum(self.loss_function(output, val_y))) #val data의 loss\n",
        "            \n",
        "            #중간중간 기록을 찍어볼 때 사용. 적절히 조절해 쓰세요\n",
        "            if i % 10 == 0:\n",
        "                print(i, \"test accuracy :\", history[\"val_acc\"][-1]) #진행되고 있는 상황에서 가장 최근 accracy추출\n",
        "                print(i, \"test loss     :\", history[\"val_loss\"][-1]) #진행되고 있는 상황에서 가장 최근 loss추출\n",
        "        return history"
      ]
    },
    {
      "cell_type": "code",
      "execution_count": 119,
      "id": "9606ca4c",
      "metadata": {
        "id": "9606ca4c"
      },
      "outputs": [],
      "source": [
        ""
      ]
    },
    {
      "cell_type": "code",
      "execution_count": 119,
      "id": "6ace5a9e",
      "metadata": {
        "id": "6ace5a9e"
      },
      "outputs": [],
      "source": [
        ""
      ]
    },
    {
      "cell_type": "markdown",
      "id": "e7787d0e",
      "metadata": {
        "id": "e7787d0e"
      },
      "source": [
        "## Customizing\n",
        "- Network parameter, Layer architecture, Activation function .. 등등 다양한 하이퍼파라미터를 커스터마이징하여 높은 성능에 도달해 봅시다! "
      ]
    },
    {
      "cell_type": "code",
      "execution_count": 120,
      "id": "10d3d20c",
      "metadata": {
        "id": "10d3d20c"
      },
      "outputs": [],
      "source": [
        "# 하이퍼파라미터를 적절히 조절해 뉴럴넷을 선언하세요\n",
        "nn = CustomNet(lr=0.01, epoch=130, batch_size=400)\n",
        "\n",
        "# 원하는 만큼 층과 활성화 함수를 쌓아 주세요. 기본적으로 2Layer를 예시로 적어드립니다\n",
        "nn.addLayer(Layer(784,100))\n",
        "nn.addActivation(sigmoid)\n",
        "nn.addLayer(Layer(100,10))"
      ]
    },
    {
      "cell_type": "code",
      "source": [
        ""
      ],
      "metadata": {
        "id": "CUYXg0hntbeK"
      },
      "id": "CUYXg0hntbeK",
      "execution_count": 120,
      "outputs": []
    },
    {
      "cell_type": "code",
      "execution_count": 121,
      "id": "771766e2",
      "metadata": {
        "id": "771766e2",
        "outputId": "8c271a19-a34c-42ca-e76a-ace0305f88c0",
        "colab": {
          "base_uri": "https://localhost:8080/"
        }
      },
      "outputs": [
        {
          "output_type": "stream",
          "name": "stdout",
          "text": [
            "(784, 100) (100,)\n",
            "(100, 10) (10,)\n"
          ]
        }
      ],
      "source": [
        "# 선언한 뉴럴넷의 구조입니다\n",
        "for layer in nn.layers:\n",
        "    print(layer.weight.shape, layer.bias.shape)"
      ]
    },
    {
      "cell_type": "code",
      "execution_count": 122,
      "id": "b2c1018a",
      "metadata": {
        "id": "b2c1018a",
        "colab": {
          "base_uri": "https://localhost:8080/"
        },
        "outputId": "f008f9bf-309c-4a53-b6e0-fb7bbeddad81"
      },
      "outputs": [
        {
          "output_type": "stream",
          "name": "stdout",
          "text": [
            "0 test accuracy : 0.1135\n",
            "0 test loss     : 23016.21054745549\n",
            "10 test accuracy : 0.1242\n",
            "10 test loss     : 22895.66302173228\n",
            "20 test accuracy : 0.2562\n",
            "20 test loss     : 22168.079231162155\n",
            "30 test accuracy : 0.3616\n",
            "30 test loss     : 19037.330269728252\n",
            "40 test accuracy : 0.5031\n",
            "40 test loss     : 15193.643989106882\n",
            "50 test accuracy : 0.6351\n",
            "50 test loss     : 11830.740898497294\n",
            "60 test accuracy : 0.7287\n",
            "60 test loss     : 9359.163714567496\n",
            "70 test accuracy : 0.7865\n",
            "70 test loss     : 7656.246997302477\n",
            "80 test accuracy : 0.8285\n",
            "80 test loss     : 6428.8037219108355\n",
            "90 test accuracy : 0.8516\n",
            "90 test loss     : 5575.471887691507\n",
            "100 test accuracy : 0.8649\n",
            "100 test loss     : 4985.682347389658\n",
            "110 test accuracy : 0.8766\n",
            "110 test loss     : 4563.4025692895575\n",
            "120 test accuracy : 0.8853\n",
            "120 test loss     : 4252.278664491544\n"
          ]
        }
      ],
      "source": [
        "history = nn.fit(X_train, Y_train, X_test, Y_test)\n",
        "##accracy가 꽤나 잘나옴."
      ]
    },
    {
      "cell_type": "markdown",
      "id": "b76a6163",
      "metadata": {
        "id": "b76a6163"
      },
      "source": [
        "## Accuracy, Loss Visualization\n",
        "- 자유롭게 Accuracy나 Loss를 시각화하여 확인하고 결과를 확인해 보세요! "
      ]
    },
    {
      "cell_type": "code",
      "source": [
        "#loss와 accuracy를 함께 시각화해주는 코드\n",
        "fig = plt.figure()\n",
        "ax_acc = fig.add_subplot(111)\n",
        "#range(x)_x는 epoch숫자\n",
        "ax_acc.plot(range(130), history['val_acc'], label='정확도(%)', color='darkred')\n",
        "plt.xlabel('epochs')\n",
        "plt.ylabel('Validation Accuracy(%)')\n",
        "ax_acc.grid(linestyle='--', color='lavender')\n",
        "ax_loss = ax_acc.twinx()\n",
        "ax_loss.plot(range(130), history['val_loss'], label='오차', color='darkblue')\n",
        "plt.ylabel('Validation Loss')\n",
        "ax_loss.yaxis.tick_right()\n",
        "ax_loss.grid(linestyle='--', color='lavender')\n",
        "\n",
        "# 그래프 표시\n",
        "plt.show()\n",
        "\n",
        "# 최고 validation accuracy는?\n",
        "print(\"Best Validation Accuracy : \",max(history['val_acc']))"
      ],
      "metadata": {
        "colab": {
          "base_uri": "https://localhost:8080/",
          "height": 298
        },
        "id": "IFGy1vcH1hRO",
        "outputId": "176786fe-de1b-4954-f27a-7fd6028165c9"
      },
      "id": "IFGy1vcH1hRO",
      "execution_count": 126,
      "outputs": [
        {
          "output_type": "display_data",
          "data": {
            "text/plain": [
              "<Figure size 432x288 with 2 Axes>"
            ],
            "image/png": "[encoded data removed]"
          },
          "metadata": {
            "needs_background": "light"
          }
        },
        {
          "output_type": "stream",
          "name": "stdout",
          "text": [
            "Best Validation Accuracy :  0.8902\n"
          ]
        }
      ]
    },
    {
      "cell_type": "code",
      "execution_count": 128,
      "id": "eb733190",
      "metadata": {
        "id": "eb733190",
        "colab": {
          "base_uri": "https://localhost:8080/"
        },
        "outputId": "7c39176e-ef4d-48f4-9547-09b58c98c082"
      },
      "outputs": [
        {
          "output_type": "stream",
          "name": "stdout",
          "text": [
            "0 test accuracy : 0.2611\n",
            "0 test loss     : 21625.198793181233\n",
            "10 test accuracy : 0.8887\n",
            "10 test loss     : 4132.971116569673\n",
            "20 test accuracy : 0.9119\n",
            "20 test loss     : 3098.031546027357\n",
            "30 test accuracy : 0.9231\n",
            "30 test loss     : 2676.0298241149935\n",
            "40 test accuracy : 0.9288\n",
            "40 test loss     : 2415.9512118882453\n",
            "50 test accuracy : 0.9361\n",
            "50 test loss     : 2191.718923422032\n",
            "60 test accuracy : 0.9419\n",
            "60 test loss     : 2007.9699501961668\n",
            "70 test accuracy : 0.9463\n",
            "70 test loss     : 1855.5836172435568\n",
            "80 test accuracy : 0.9498\n",
            "80 test loss     : 1726.1108434676423\n",
            "90 test accuracy : 0.9528\n",
            "90 test loss     : 1616.1526422187703\n"
          ]
        }
      ],
      "source": [
        "#학습률이 0.01로 해봤을 때 결과가 잘 나왔기에 같은 조건으로 0.1~0.5사이로 학습률을 바꿔봄.\n",
        "#0.8902->0.9548성능 향상\n",
        "nn = CustomNet(lr=0.03, epoch=100, batch_size=400)\n",
        "\n",
        "nn.addLayer(Layer(784,100))\n",
        "nn.addActivation(relu)\n",
        "nn.addLayer(Layer(100,10))\n",
        "\n",
        "history = nn.fit(X_train, Y_train, X_test, Y_test)\n"
      ]
    },
    {
      "cell_type": "code",
      "source": [
        "fig = plt.figure()\n",
        "ax_acc = fig.add_subplot(111)\n",
        "\n",
        "ax_acc.plot(range(100), history['val_acc'], label='정확도(%)', color='darkred')\n",
        "plt.xlabel('epochs')\n",
        "plt.ylabel('Validation Accuracy(%)')\n",
        "ax_acc.grid(linestyle='--', color='lavender')\n",
        "ax_loss = ax_acc.twinx()\n",
        "ax_loss.plot(range(100), history['val_loss'], label='오차', color='darkblue')\n",
        "plt.ylabel('Validation Loss')\n",
        "ax_loss.yaxis.tick_right()\n",
        "ax_loss.grid(linestyle='--', color='lavender')\n",
        "\n",
        "# 그래프 표시\n",
        "plt.show()\n",
        "\n",
        "# 최고 validation accuracy는?\n",
        "print(\"Best Validation Accuracy : \",max(history['val_acc']))"
      ],
      "metadata": {
        "colab": {
          "base_uri": "https://localhost:8080/",
          "height": 301
        },
        "id": "zyzs_jel5RvM",
        "outputId": "7692a66c-2171-461a-a11b-66bbab92898d"
      },
      "id": "zyzs_jel5RvM",
      "execution_count": 129,
      "outputs": [
        {
          "output_type": "display_data",
          "data": {
            "text/plain": [
              "<Figure size 432x288 with 2 Axes>"
            ],
            "image/png": "[encoded data removed]"
          },
          "metadata": {
            "needs_background": "light"
          }
        },
        {
          "output_type": "stream",
          "name": "stdout",
          "text": [
            "Best Validation Accuracy :  0.9548\n"
          ]
        }
      ]
    },
    {
      "cell_type": "code",
      "execution_count": 130,
      "id": "8702d4f6",
      "metadata": {
        "id": "8702d4f6",
        "colab": {
          "base_uri": "https://localhost:8080/"
        },
        "outputId": "e098b16a-8eef-4578-b9dc-a5255fda0b55"
      },
      "outputs": [
        {
          "output_type": "stream",
          "name": "stdout",
          "text": [
            "0 test accuracy : 0.175\n",
            "0 test loss     : 22789.36392629042\n",
            "10 test accuracy : 0.5853\n",
            "10 test loss     : 13111.39926681791\n",
            "20 test accuracy : 0.8495\n",
            "20 test loss     : 5570.024422483963\n",
            "30 test accuracy : 0.8891\n",
            "30 test loss     : 4018.7967487271585\n",
            "40 test accuracy : 0.9019\n",
            "40 test loss     : 3536.2537582707487\n",
            "50 test accuracy : 0.9074\n",
            "50 test loss     : 3264.307032223722\n",
            "60 test accuracy : 0.912\n",
            "60 test loss     : 3079.7744640300334\n",
            "70 test accuracy : 0.9161\n",
            "70 test loss     : 2953.8996386965778\n",
            "80 test accuracy : 0.9196\n",
            "80 test loss     : 2839.9851365606773\n",
            "90 test accuracy : 0.9229\n",
            "90 test loss     : 2749.7479025377725\n"
          ]
        }
      ],
      "source": [
        "#활성화 함수 relu사용.\n",
        "nn = CustomNet(lr=0.01, epoch=100, batch_size=400)\n",
        "\n",
        "nn.addLayer(Layer(784,100))\n",
        "nn.addActivation(relu)\n",
        "nn.addLayer(Layer(100,10))\n",
        "\n",
        "history = nn.fit(X_train, Y_train, X_test, Y_test)\n"
      ]
    },
    {
      "cell_type": "code",
      "source": [
        "#성능이 좋은 편이나, 학습률 0.03에 동일하게 했을 때보단 낮은 성능\n",
        "fig = plt.figure()\n",
        "ax_acc = fig.add_subplot(111)\n",
        "\n",
        "ax_acc.plot(range(100), history['val_acc'], label='정확도(%)', color='darkred')\n",
        "plt.xlabel('epochs')\n",
        "plt.ylabel('Validation Accuracy(%)')\n",
        "ax_acc.grid(linestyle='--', color='lavender')\n",
        "ax_loss = ax_acc.twinx()\n",
        "ax_loss.plot(range(100), history['val_loss'], label='오차', color='darkblue')\n",
        "plt.ylabel('Validation Loss')\n",
        "ax_loss.yaxis.tick_right()\n",
        "ax_loss.grid(linestyle='--', color='lavender')\n",
        "\n",
        "# 그래프 표시\n",
        "plt.show()\n",
        "\n",
        "# 최고 validation accuracy는?\n",
        "print(\"Best Validation Accuracy : \",max(history['val_acc']))"
      ],
      "metadata": {
        "colab": {
          "base_uri": "https://localhost:8080/",
          "height": 298
        },
        "id": "tan58SKT5YFe",
        "outputId": "d438c9e8-c215-4acf-c84c-09f3309558c4"
      },
      "id": "tan58SKT5YFe",
      "execution_count": 132,
      "outputs": [
        {
          "output_type": "display_data",
          "data": {
            "text/plain": [
              "<Figure size 432x288 with 2 Axes>"
            ],
            "image/png": "[encoded data removed]"
          },
          "metadata": {
            "needs_background": "light"
          }
        },
        {
          "output_type": "stream",
          "name": "stdout",
          "text": [
            "Best Validation Accuracy :  0.9245\n"
          ]
        }
      ]
    },
    {
      "cell_type": "markdown",
      "source": [
        "결론:learning rate를 0.1,0.01,0.001...등 실험해보았을 때 0.01이 제일 잘나와 이를 구체화 시켜\n",
        "0.03을 시도했더니 0.9548로 가장 좋은 성능이 나왔다.\n",
        "이때, epoch은 100,나머지 요소들은 동일하게 진행했다."
      ],
      "metadata": {
        "id": "1FwYQLwhf6yG"
      },
      "id": "1FwYQLwhf6yG"
    }
  ],
  "metadata": {
    "kernelspec": {
      "display_name": "Python 3 (ipykernel)",
      "language": "python",
      "name": "python3"
    },
    "language_info": {
      "codemirror_mode": {
        "name": "ipython",
        "version": 3
      },
      "file_extension": ".py",
      "mimetype": "text/x-python",
      "name": "python",
      "nbconvert_exporter": "python",
      "pygments_lexer": "ipython3",
      "version": "3.9.7"
    },
    "colab": {
      "name": "Tobigs_Week3_NN Basic2.ipynb.PDF.pdf",
      "provenance": [],
      "collapsed_sections": []
    }
  },
  "nbformat": 4,
  "nbformat_minor": 5
}