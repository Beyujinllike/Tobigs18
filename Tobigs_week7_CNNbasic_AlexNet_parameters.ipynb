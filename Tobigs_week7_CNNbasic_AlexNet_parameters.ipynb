{
  "cells": [
    {
      "cell_type": "markdown",
      "metadata": {
        "id": "yclCebBQFn2I"
      },
      "source": [
        "# CNNbasic Assignment#1\n",
        "\n",
        "\n",
        "마크다운과 코드 속 `???` 를 채워주시면 됩니다!-!\n",
        "\n",
        "\n",
        "# AlexNet\n",
        "\n",
        "모델 구조 사진과 논문 사이트입니다.\n",
        "\n",
        "- paper: http://www.cs.toronto.edu/~fritz/absps/imagenet.pdf\n",
        "\n",
        "- dataset: http://image-net.org/challenges/LSVRC/2012/index#task\n",
        "\n",
        "**-참고:https://bskyvision.com/421**\n",
        "**2_https://www.cs.toronto.edu/~rgrosse/courses/csc321_2018/tutorials/tut6_slides.pdf**\n",
        "\n",
        "- Model architecture\n",
        "\n",
        "\n",
        "The second convolutional layer takes as input the (response-normalized\n",
        "and pooled) output of the first convolutional layer and filters it with 256 kernels of size 5 × 5 × 48.\n",
        "The third, fourth, and fifth convolutional layers are connected to one another without any intervening\n",
        "pooling or normalization layers. The third convolutional layer has 384 kernels of size 3 × 3 ×\n",
        "256 connected to the (normalized, pooled) outputs of the second convolutional layer. The fourth\n",
        "convolutional layer has 384 kernels of size 3 × 3 × 192 , and the fifth convolutional layer has 256\n",
        "kernels of size 3 × 3 × 192. The fully-connected layers have 4096 neurons each.\n",
        "\n",
        "\n",
        "### Naive Version\n",
        "CONV_1 - POOL_1 - CONV_2 - POOL_2 - CONV_3 - CONV_4 - CONV_5 - POOL_3 - FC1 - FC2 - FC3 (->SOFTMAX)\n",
        "\n",
        "### detailed\n",
        "CONV_1(ReLU) - POOL_1 - CONV_2(ReLU) - POOL_2 - CONV_3(ReLU) - CONV_4(ReLU) - CONV_5(ReLU) - POOL_3 -(Flatten) FC1(ReLU) - FC2(ReLU) - FC3(->SOFTMAX)"
      ]
    },
    {
      "cell_type": "markdown",
      "metadata": {
        "id": "exDZxL9QFn2L"
      },
      "source": [
        "## Layer 1 is a Convolution Layer_1\n",
        "\n",
        "- **Input Image size**     `227*227*3`\n",
        "\n",
        "- **Number of filters**     `96`\n",
        "\n",
        "- **Filter size**     `11*11*3`\n",
        "\n",
        "- **Stride**     `4`\n",
        "\n",
        "- **Layer 1 Output**     `55*55*96`"
      ]
    },
    {
      "cell_type": "code",
      "execution_count": null,
      "metadata": {
        "id": "dZqyBZSgJN4d"
      },
      "outputs": [],
      "source": [
        "## TODO ##\n",
        "\n",
        "Thus: W = H = 55, C = 3, M = 96, K = 11.\n",
        "• N1 = 55^2 × 96 = 290,400\n",
        "• P1 = 96 × 11^2 × 3 = 34,848\n",
        "• U1 = 552 × 11^2 × 3 × 96 = 105,415,200\n",
        "Conv_1 = ???\n",
        "Conv_1\n",
        "# '''Don't forget to include Bias'''"
      ]
    },
    {
      "cell_type": "markdown",
      "metadata": {
        "id": "XvlIbO-uFn2V"
      },
      "source": [
        "## Layer 2 is a Max Pooling_1 Followed by Convolution_1\n",
        "\n",
        "- **Input**     `55*55*96`\n",
        "\n",
        "- **Max pooling**     `3*3`  \n",
        "\n",
        "- **Pooling size** (overlapping)      `3*3 maxpooling에 stride2로 중첩`\n",
        "\n",
        "    * overlapping 중첩되어서 지나감\n",
        "\n",
        "- **Stride**     `2`\n",
        "\n",
        "- **Layer 2 Output**     `27*27*96`\n",
        "    \n",
        "    * 차원은 변함 없음"
      ]
    },
    {
      "cell_type": "code",
      "execution_count": null,
      "metadata": {
        "id": "iPY0bCo7JN4f"
      },
      "outputs": [],
      "source": [
        "## TODO \n",
        "\n",
        "######################################################\n",
        "#  Calculate the number of parameters in this layer  #\n",
        "######################################################\n",
        "\n",
        "Max_pool_1 = 0\n",
        "Max_pool_1"
      ]
    },
    {
      "cell_type": "markdown",
      "metadata": {
        "id": "r70OGeViFn2Z"
      },
      "source": [
        "## Layer 3 is a Convolution Layer_2\n",
        "\n",
        "- **Input**     `27*27*96`\n",
        "\n",
        "- **Number of filters**     `256`\n",
        "\n",
        "- **Filter size**     `5*5*96`\n",
        "\n",
        "- **Stride**     `1`\n",
        "\n",
        "- **padding**     `2`\n",
        "\n",
        "- **Layer 3 Output**     `27*27*256`"
      ]
    },
    {
      "cell_type": "code",
      "execution_count": null,
      "metadata": {
        "id": "8Y6ClqYQJN4g"
      },
      "outputs": [],
      "source": [
        "## TODO \n",
        "\n",
        "N2 = 27^2 × 256 = 186,624; \n",
        "P2 =2(5^2 × 48 × 128) = 307,200; \n",
        "U2 = 223,948,800/2 =111,974,400.\n",
        "Conv_2 = ???\n",
        "Conv_2"
      ]
    },
    {
      "cell_type": "markdown",
      "metadata": {
        "id": "DQZhwY4eFn2e"
      },
      "source": [
        "## Layer 4 is a Max Pooling_2 Followed by Convolution_2\n",
        "\n",
        "- **Input**     `27*27*256`\n",
        "\n",
        "- **Max pooling**     `3*3`  \n",
        "\n",
        "- **Pooling size**(overlapping)     `3*3,stride=2`\n",
        "\n",
        "- **Stride**     `2`\n",
        "\n",
        "- **Layer 4 Output**     `13*13*256`"
      ]
    },
    {
      "cell_type": "code",
      "execution_count": null,
      "metadata": {
        "id": "H3S6r5ERJN4i"
      },
      "outputs": [],
      "source": [
        "## TODO \n",
        "\n",
        "######################################################\n",
        "#  Calculate the number of parameters in this layer  #\n",
        "######################################################\n",
        "\n",
        "Max_pool_2 = 0\n",
        "Max_pool_2"
      ]
    },
    {
      "cell_type": "markdown",
      "metadata": {
        "id": "xPm4PRFAFn2i"
      },
      "source": [
        "## Layer 5 is a Convolution Layer_3\n",
        "\n",
        "- **Input**     `13*13*256`\n",
        "\n",
        "- **Number of filters**     `384`\n",
        "\n",
        "- **Filter size**     `3*3*256`\n",
        "\n",
        "- **Stride**     `1`\n",
        "\n",
        "- **padding**     `same`1\n",
        "\n",
        "- **Layer 5 Output**     `13*13*384`\n"
      ]
    },
    {
      "cell_type": "code",
      "execution_count": null,
      "metadata": {
        "id": "S7SIPpymJN4k"
      },
      "outputs": [],
      "source": [
        "## TODO \n",
        "\n",
        "N3 = 13^2 × 384 = 64,896; \n",
        "P3 =3^2 × 256 × 384 = 884,736; \n",
        "U3 = 13^2 × 3^2 × 256 × 384 =\n",
        "149,520,384.\n",
        "Conv_3 = ???\n",
        "Conv_3"
      ]
    },
    {
      "cell_type": "markdown",
      "metadata": {
        "id": "Yv57b2vxFn2o"
      },
      "source": [
        "## Layer 6 is  a Convolution Layer_4\n",
        "\n",
        "- **Input**     `13*13*384`\n",
        "\n",
        "- **Number of filters**     `384`\n",
        "\n",
        "- **Filter size**     `3*3*384`\n",
        "\n",
        "- **Stride**     `1`\n",
        "\n",
        "- **padding**     `same`1\n",
        "\n",
        "- **Layer 6 Output**     `13*13*384`"
      ]
    },
    {
      "cell_type": "code",
      "execution_count": null,
      "metadata": {
        "id": "Q9QQkeHLJN4m"
      },
      "outputs": [],
      "source": [
        "## TODO \n",
        "\n",
        "N4 = 13^2 × 384 = 64,869; \n",
        "P4 = 2(3^2 × 192^2) = 663,552;\n",
        "U4 = 13^2 × 3^2 × 384^2/2 = 112,140,288.\n",
        "Conv_4 = ???\n",
        "Conv_4"
      ]
    },
    {
      "cell_type": "markdown",
      "metadata": {
        "id": "NiQL84J_Fn2s"
      },
      "source": [
        "## Layer 7 is a Convolution Layer_5\n",
        "\n",
        "- **Input**     `13*13*384`\n",
        "\n",
        "- **Number of filters**     `256`\n",
        "\n",
        "- **Filter size**     `3*3*384`\n",
        "\n",
        "- **Stride**     `1`\n",
        "\n",
        "- **padding**     `same`\n",
        "\n",
        "- **Layer 7 Output**     `13*13*256`"
      ]
    },
    {
      "cell_type": "code",
      "execution_count": null,
      "metadata": {
        "id": "_0j817_HJN4o"
      },
      "outputs": [],
      "source": [
        "## TODO \n",
        "\n",
        "N5 = 13^2 × 256 = 43,264;\n",
        "P5 = 2(3^2 × 192 × 128) = 442,368;\n",
        "U5 = 13^2 × 3^2 × 384 × 256/2 = 74,760,192.\n",
        "\n",
        "Conv_5 = ???\n",
        "Conv_5"
      ]
    },
    {
      "cell_type": "markdown",
      "metadata": {
        "id": "WSTe-0IxFn2w"
      },
      "source": [
        "## Layer 8 is a Max Pooling_3 Followed by Convolution_5\n",
        "\n",
        "- **Input**     `13*13*256`\n",
        "\n",
        "- **Max pooling**     `3*3`  \n",
        "\n",
        "- **Pooling size**(overlapping)     `3*3,stride=2`\n",
        "\n",
        "- **Stride**     `2`\n",
        "\n",
        "- **Layer 8 Output**     `6*6*256`"
      ]
    },
    {
      "cell_type": "code",
      "execution_count": null,
      "metadata": {
        "id": "BzHB-BaEJN4p"
      },
      "outputs": [],
      "source": [
        "## TODO \n",
        "\n",
        "######################################################\n",
        "#  Calculate the number of parameters in this layer  #\n",
        "######################################################\n",
        "\n",
        "Max_pool_3 = 0\n",
        "Max_pool_3"
      ]
    },
    {
      "cell_type": "markdown",
      "metadata": {
        "id": "798N3vBYFn21"
      },
      "source": [
        "## Layer 9 is a Fully_Connected layer_1\n",
        "\n",
        "- **input**     `6*6*256`\n",
        "\n",
        "- **flatten**     `6*6*256=9216차원의 벡터`\n",
        "9216차원의 벡터를 여섯번째 레이어의 4096개의 뉴런과 fully connected\n",
        "- **output size**     `4096`\n",
        "\n",
        "- **N** Number of input data      `???`"
      ]
    },
    {
      "cell_type": "code",
      "execution_count": null,
      "metadata": {
        "id": "x1FZVGOpJN4p"
      },
      "outputs": [],
      "source": [
        "## TODO \n",
        "\n",
        "N6 = 4096;\n",
        " P6 = U6 = 6 × 6 × 256 × 4096 = 37,748,736\n",
        "\n",
        "FC1 = ???\n",
        "FC1"
      ]
    },
    {
      "cell_type": "markdown",
      "metadata": {
        "id": "kIfvpHPTFn25"
      },
      "source": [
        "## Layer 10 is a Fully_Connected layer_2\n",
        "\n",
        "- **input**     `4096`\n",
        "\n",
        "- **output size**     `1000`\n",
        "\n",
        "- **N** Number of input data =      `???`"
      ]
    },
    {
      "cell_type": "code",
      "execution_count": null,
      "metadata": {
        "id": "cQAxkS6zJN4q"
      },
      "outputs": [],
      "source": [
        "## TODO \n",
        "\n",
        "N7 = 4096 units. P7 = U7 = 4096 × 4096 =16,777,216\n",
        "\n",
        "FC2 = ???\n",
        "FC2"
      ]
    },
    {
      "cell_type": "markdown",
      "metadata": {
        "id": "N8TaZQTBFn29"
      },
      "source": [
        "## Layer 11 is a Fully_Connected layer_3\n",
        "\n",
        "- **input**     `1000`\n",
        "\n",
        "- **output size**     `???`\n",
        "\n",
        "- **N** Number of input data =      `???`\n",
        "\n",
        "- **Num_classes** Number of labels =      `1000`"
      ]
    },
    {
      "cell_type": "code",
      "execution_count": null,
      "metadata": {
        "id": "nDFG75liJN4r"
      },
      "outputs": [],
      "source": [
        "## TODO \n",
        "\n",
        "N8 =1000 units. \n",
        "P8 = U8 = 4096 × 1000 =4,096,000\n",
        "\n",
        "FC3 = ???\n",
        "FC3"
      ]
    }
  ],
  "metadata": {
    "colab": {
      "collapsed_sections": [],
      "provenance": []
    },
    "kernelspec": {
      "display_name": "Python 3",
      "language": "python",
      "name": "python3"
    },
    "language_info": {
      "codemirror_mode": {
        "name": "ipython",
        "version": 3
      },
      "file_extension": ".py",
      "mimetype": "text/x-python",
      "name": "python",
      "nbconvert_exporter": "python",
      "pygments_lexer": "ipython3",
      "version": "3.8.3"
    }
  },
  "nbformat": 4,
  "nbformat_minor": 0
}