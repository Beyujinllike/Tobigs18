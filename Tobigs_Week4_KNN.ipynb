{
  "cells": [
    {
      "cell_type": "markdown",
      "metadata": {
        "id": "_PTZ7GaPe4PF"
      },
      "source": [
        "# 17기 KNN 정규세션 과제"
      ]
    },
    {
      "cell_type": "markdown",
      "metadata": {
        "id": "3OFNeO0Ie4PH"
      },
      "source": [
        "## KNN 구현해보기\n",
        "### 1. Preprocssing / EDA\n",
        "지금까지 배운 내용을 토대로 해당 데이터에 대해 자유롭게 전처리와 EDA를 진행해주세요.\n",
        "### 2. KNN 구현 & 파라미터 튜닝\n",
        "수업 내용 및 실습 자료를 참고하여 KNN을 구현하고 파라미터 튜닝을 하며 결과를 비교해주세요.\n",
        "### 3. Evaluation\n",
        "결과에 대한 평가를 진행하고, 나름의 해석을 달아주세요."
      ]
    },
    {
      "cell_type": "markdown",
      "metadata": {
        "id": "k_IkS8Ybe4PI"
      },
      "source": [
        "**데이터:** [blackfriday | Kaggle](https://www.kaggle.com/llopesolivei/blackfriday)"
      ]
    },
    {
      "cell_type": "markdown",
      "metadata": {
        "id": "ZvUdeo2he4PI"
      },
      "source": [
        "---"
      ]
    },
    {
      "cell_type": "markdown",
      "metadata": {
        "id": "lTlQgiSie4PI"
      },
      "source": [
        "## 0. 데이터 불러오기"
      ]
    },
    {
      "cell_type": "code",
      "execution_count": 2,
      "metadata": {
        "id": "eNTRK8Ete4PJ",
        "outputId": "c07f5600-272c-49c3-90f2-f78feed77276",
        "colab": {
          "base_uri": "https://localhost:8080/",
          "height": 357
        }
      },
      "outputs": [
        {
          "output_type": "execute_result",
          "data": {
            "text/plain": [
              "   User_ID Product_ID Gender   Age  Occupation City_Category  \\\n",
              "0  1001088  P00046042      F  0-17          10             A   \n",
              "1  1004493  P00347742      F  0-17          10             A   \n",
              "2  1005302  P00048942      F  0-17          10             A   \n",
              "3  1001348  P00145242      F  0-17          10             A   \n",
              "4  1001348  P00106742      F  0-17          10             A   \n",
              "\n",
              "  Stay_In_Current_City_Years  Marital_Status  Product_Category_1  \\\n",
              "0                          3               0                   5   \n",
              "1                          1               0                   7   \n",
              "2                          1               0                   1   \n",
              "3                          3               0                   2   \n",
              "4                          3               0                   3   \n",
              "\n",
              "   Product_Category_2  Product_Category_3  Purchase  \n",
              "0                17.0                 NaN      2010  \n",
              "1                 NaN                 NaN      4483  \n",
              "2                 4.0                 NaN      7696  \n",
              "3                 4.0                 NaN     16429  \n",
              "4                 5.0                 NaN      5780  "
            ],
            "text/html": [
              "\n",
              "  <div id=\"df-cbd76eb9-4ad8-4235-87fb-8b894a745b3d\">\n",
              "    <div class=\"colab-df-container\">\n",
              "      <div>\n",
              "<style scoped>\n",
              "    .dataframe tbody tr th:only-of-type {\n",
              "        vertical-align: middle;\n",
              "    }\n",
              "\n",
              "    .dataframe tbody tr th {\n",
              "        vertical-align: top;\n",
              "    }\n",
              "\n",
              "    .dataframe thead th {\n",
              "        text-align: right;\n",
              "    }\n",
              "</style>\n",
              "<table border=\"1\" class=\"dataframe\">\n",
              "  <thead>\n",
              "    <tr style=\"text-align: right;\">\n",
              "      <th></th>\n",
              "      <th>User_ID</th>\n",
              "      <th>Product_ID</th>\n",
              "      <th>Gender</th>\n",
              "      <th>Age</th>\n",
              "      <th>Occupation</th>\n",
              "      <th>City_Category</th>\n",
              "      <th>Stay_In_Current_City_Years</th>\n",
              "      <th>Marital_Status</th>\n",
              "      <th>Product_Category_1</th>\n",
              "      <th>Product_Category_2</th>\n",
              "      <th>Product_Category_3</th>\n",
              "      <th>Purchase</th>\n",
              "    </tr>\n",
              "  </thead>\n",
              "  <tbody>\n",
              "    <tr>\n",
              "      <th>0</th>\n",
              "      <td>1001088</td>\n",
              "      <td>P00046042</td>\n",
              "      <td>F</td>\n",
              "      <td>0-17</td>\n",
              "      <td>10</td>\n",
              "      <td>A</td>\n",
              "      <td>3</td>\n",
              "      <td>0</td>\n",
              "      <td>5</td>\n",
              "      <td>17.0</td>\n",
              "      <td>NaN</td>\n",
              "      <td>2010</td>\n",
              "    </tr>\n",
              "    <tr>\n",
              "      <th>1</th>\n",
              "      <td>1004493</td>\n",
              "      <td>P00347742</td>\n",
              "      <td>F</td>\n",
              "      <td>0-17</td>\n",
              "      <td>10</td>\n",
              "      <td>A</td>\n",
              "      <td>1</td>\n",
              "      <td>0</td>\n",
              "      <td>7</td>\n",
              "      <td>NaN</td>\n",
              "      <td>NaN</td>\n",
              "      <td>4483</td>\n",
              "    </tr>\n",
              "    <tr>\n",
              "      <th>2</th>\n",
              "      <td>1005302</td>\n",
              "      <td>P00048942</td>\n",
              "      <td>F</td>\n",
              "      <td>0-17</td>\n",
              "      <td>10</td>\n",
              "      <td>A</td>\n",
              "      <td>1</td>\n",
              "      <td>0</td>\n",
              "      <td>1</td>\n",
              "      <td>4.0</td>\n",
              "      <td>NaN</td>\n",
              "      <td>7696</td>\n",
              "    </tr>\n",
              "    <tr>\n",
              "      <th>3</th>\n",
              "      <td>1001348</td>\n",
              "      <td>P00145242</td>\n",
              "      <td>F</td>\n",
              "      <td>0-17</td>\n",
              "      <td>10</td>\n",
              "      <td>A</td>\n",
              "      <td>3</td>\n",
              "      <td>0</td>\n",
              "      <td>2</td>\n",
              "      <td>4.0</td>\n",
              "      <td>NaN</td>\n",
              "      <td>16429</td>\n",
              "    </tr>\n",
              "    <tr>\n",
              "      <th>4</th>\n",
              "      <td>1001348</td>\n",
              "      <td>P00106742</td>\n",
              "      <td>F</td>\n",
              "      <td>0-17</td>\n",
              "      <td>10</td>\n",
              "      <td>A</td>\n",
              "      <td>3</td>\n",
              "      <td>0</td>\n",
              "      <td>3</td>\n",
              "      <td>5.0</td>\n",
              "      <td>NaN</td>\n",
              "      <td>5780</td>\n",
              "    </tr>\n",
              "  </tbody>\n",
              "</table>\n",
              "</div>\n",
              "      <button class=\"colab-df-convert\" onclick=\"convertToInteractive('df-cbd76eb9-4ad8-4235-87fb-8b894a745b3d')\"\n",
              "              title=\"Convert this dataframe to an interactive table.\"\n",
              "              style=\"display:none;\">\n",
              "        \n",
              "  <svg xmlns=\"http://www.w3.org/2000/svg\" height=\"24px\"viewBox=\"0 0 24 24\"\n",
              "       width=\"24px\">\n",
              "    <path d=\"M0 0h24v24H0V0z\" fill=\"none\"/>\n",
              "    <path d=\"M18.56 5.44l.94 2.06.94-2.06 2.06-.94-2.06-.94-.94-2.06-.94 2.06-2.06.94zm-11 1L8.5 8.5l.94-2.06 2.06-.94-2.06-.94L8.5 2.5l-.94 2.06-2.06.94zm10 10l.94 2.06.94-2.06 2.06-.94-2.06-.94-.94-2.06-.94 2.06-2.06.94z\"/><path d=\"M17.41 7.96l-1.37-1.37c-.4-.4-.92-.59-1.43-.59-.52 0-1.04.2-1.43.59L10.3 9.45l-7.72 7.72c-.78.78-.78 2.05 0 2.83L4 21.41c.39.39.9.59 1.41.59.51 0 1.02-.2 1.41-.59l7.78-7.78 2.81-2.81c.8-.78.8-2.07 0-2.86zM5.41 20L4 18.59l7.72-7.72 1.47 1.35L5.41 20z\"/>\n",
              "  </svg>\n",
              "      </button>\n",
              "      \n",
              "  <style>\n",
              "    .colab-df-container {\n",
              "      display:flex;\n",
              "      flex-wrap:wrap;\n",
              "      gap: 12px;\n",
              "    }\n",
              "\n",
              "    .colab-df-convert {\n",
              "      background-color: #E8F0FE;\n",
              "      border: none;\n",
              "      border-radius: 50%;\n",
              "      cursor: pointer;\n",
              "      display: none;\n",
              "      fill: #1967D2;\n",
              "      height: 32px;\n",
              "      padding: 0 0 0 0;\n",
              "      width: 32px;\n",
              "    }\n",
              "\n",
              "    .colab-df-convert:hover {\n",
              "      background-color: #E2EBFA;\n",
              "      box-shadow: 0px 1px 2px rgba(60, 64, 67, 0.3), 0px 1px 3px 1px rgba(60, 64, 67, 0.15);\n",
              "      fill: #174EA6;\n",
              "    }\n",
              "\n",
              "    [theme=dark] .colab-df-convert {\n",
              "      background-color: #3B4455;\n",
              "      fill: #D2E3FC;\n",
              "    }\n",
              "\n",
              "    [theme=dark] .colab-df-convert:hover {\n",
              "      background-color: #434B5C;\n",
              "      box-shadow: 0px 1px 3px 1px rgba(0, 0, 0, 0.15);\n",
              "      filter: drop-shadow(0px 1px 2px rgba(0, 0, 0, 0.3));\n",
              "      fill: #FFFFFF;\n",
              "    }\n",
              "  </style>\n",
              "\n",
              "      <script>\n",
              "        const buttonEl =\n",
              "          document.querySelector('#df-cbd76eb9-4ad8-4235-87fb-8b894a745b3d button.colab-df-convert');\n",
              "        buttonEl.style.display =\n",
              "          google.colab.kernel.accessAllowed ? 'block' : 'none';\n",
              "\n",
              "        async function convertToInteractive(key) {\n",
              "          const element = document.querySelector('#df-cbd76eb9-4ad8-4235-87fb-8b894a745b3d');\n",
              "          const dataTable =\n",
              "            await google.colab.kernel.invokeFunction('convertToInteractive',\n",
              "                                                     [key], {});\n",
              "          if (!dataTable) return;\n",
              "\n",
              "          const docLinkHtml = 'Like what you see? Visit the ' +\n",
              "            '<a target=\"_blank\" href=https://colab.research.google.com/notebooks/data_table.ipynb>data table notebook</a>'\n",
              "            + ' to learn more about interactive tables.';\n",
              "          element.innerHTML = '';\n",
              "          dataTable['output_type'] = 'display_data';\n",
              "          await google.colab.output.renderOutput(dataTable, element);\n",
              "          const docLink = document.createElement('div');\n",
              "          docLink.innerHTML = docLinkHtml;\n",
              "          element.appendChild(docLink);\n",
              "        }\n",
              "      </script>\n",
              "    </div>\n",
              "  </div>\n",
              "  "
            ]
          },
          "metadata": {},
          "execution_count": 2
        }
      ],
      "source": [
        "import pandas as pd\n",
        "import numpy as np\n",
        "\n",
        "from sklearn.impute import SimpleImputer\n",
        "from sklearn.preprocessing import OneHotEncoder\n",
        "from sklearn.preprocessing import StandardScaler\n",
        "from sklearn.model_selection import train_test_split, cross_val_score\n",
        "from sklearn.neighbors import KNeighborsRegressor, DistanceMetric, NearestNeighbors\n",
        "\n",
        "from collections import Counter\n",
        "\n",
        "from tqdm import tqdm_notebook\n",
        "\n",
        "import matplotlib.pyplot as plt\n",
        "import seaborn as sns\n",
        "\n",
        "import warnings\n",
        "warnings.filterwarnings('ignore')\n",
        "df = pd.read_csv(\"blackfriday.csv\", index_col = 0)\n",
        "df.head()"
      ]
    },
    {
      "cell_type": "markdown",
      "source": [
        "##1.데이터 확인 및 전처리"
      ],
      "metadata": {
        "id": "pGKYDLxqFdWs"
      }
    },
    {
      "cell_type": "code",
      "source": [
        "\n",
        "df.info()"
      ],
      "metadata": {
        "colab": {
          "base_uri": "https://localhost:8080/"
        },
        "id": "ePN_0jQCDxzy",
        "outputId": "19487c10-90a8-4a65-c4c7-5dfb762be129"
      },
      "execution_count": 3,
      "outputs": [
        {
          "output_type": "stream",
          "name": "stdout",
          "text": [
            "<class 'pandas.core.frame.DataFrame'>\n",
            "Int64Index: 4998 entries, 0 to 4997\n",
            "Data columns (total 12 columns):\n",
            " #   Column                      Non-Null Count  Dtype  \n",
            "---  ------                      --------------  -----  \n",
            " 0   User_ID                     4998 non-null   int64  \n",
            " 1   Product_ID                  4998 non-null   object \n",
            " 2   Gender                      4998 non-null   object \n",
            " 3   Age                         4998 non-null   object \n",
            " 4   Occupation                  4998 non-null   int64  \n",
            " 5   City_Category               4998 non-null   object \n",
            " 6   Stay_In_Current_City_Years  4998 non-null   object \n",
            " 7   Marital_Status              4998 non-null   int64  \n",
            " 8   Product_Category_1          4998 non-null   int64  \n",
            " 9   Product_Category_2          3465 non-null   float64\n",
            " 10  Product_Category_3          1544 non-null   float64\n",
            " 11  Purchase                    4998 non-null   int64  \n",
            "dtypes: float64(2), int64(5), object(5)\n",
            "memory usage: 507.6+ KB\n"
          ]
        }
      ]
    },
    {
      "cell_type": "code",
      "source": [
        "df.describe()\n",
        "#12개 컬럼의 총 4998개의 데이터 중 product_category 2와 3의 결측치가 심함.\n",
        "#정규화도 진행해야 할 듯\n",
        "#purchase를 target변수로 지정"
      ],
      "metadata": {
        "colab": {
          "base_uri": "https://localhost:8080/",
          "height": 364
        },
        "id": "YsxP3xxKD_Gb",
        "outputId": "c6c7e88c-e9c3-4437-a212-49d3534ed2fe"
      },
      "execution_count": 4,
      "outputs": [
        {
          "output_type": "execute_result",
          "data": {
            "text/plain": [
              "            User_ID   Occupation  Marital_Status  Product_Category_1  \\\n",
              "count  4.998000e+03  4998.000000     4998.000000         4998.000000   \n",
              "mean   1.003015e+06     8.036815        0.421369            5.320128   \n",
              "std    1.709910e+03     6.442697        0.493828            3.912281   \n",
              "min    1.000003e+06     0.000000        0.000000            1.000000   \n",
              "25%    1.001560e+06     2.000000        0.000000            1.000000   \n",
              "50%    1.003040e+06     7.000000        0.000000            5.000000   \n",
              "75%    1.004417e+06    14.000000        1.000000            8.000000   \n",
              "max    1.006037e+06    20.000000        1.000000           20.000000   \n",
              "\n",
              "       Product_Category_2  Product_Category_3      Purchase  \n",
              "count         3465.000000         1544.000000   4998.000000  \n",
              "mean             9.773737           12.766839   9234.655462  \n",
              "std              5.101867            4.023591   4999.225081  \n",
              "min              2.000000            3.000000     13.000000  \n",
              "25%              5.000000            9.000000   5497.750000  \n",
              "50%              9.000000           14.000000   8049.000000  \n",
              "75%             15.000000           16.000000  12039.000000  \n",
              "max             18.000000           18.000000  23913.000000  "
            ],
            "text/html": [
              "\n",
              "  <div id=\"df-d66a9006-639c-46f7-b4f3-4e12e1bd8733\">\n",
              "    <div class=\"colab-df-container\">\n",
              "      <div>\n",
              "<style scoped>\n",
              "    .dataframe tbody tr th:only-of-type {\n",
              "        vertical-align: middle;\n",
              "    }\n",
              "\n",
              "    .dataframe tbody tr th {\n",
              "        vertical-align: top;\n",
              "    }\n",
              "\n",
              "    .dataframe thead th {\n",
              "        text-align: right;\n",
              "    }\n",
              "</style>\n",
              "<table border=\"1\" class=\"dataframe\">\n",
              "  <thead>\n",
              "    <tr style=\"text-align: right;\">\n",
              "      <th></th>\n",
              "      <th>User_ID</th>\n",
              "      <th>Occupation</th>\n",
              "      <th>Marital_Status</th>\n",
              "      <th>Product_Category_1</th>\n",
              "      <th>Product_Category_2</th>\n",
              "      <th>Product_Category_3</th>\n",
              "      <th>Purchase</th>\n",
              "    </tr>\n",
              "  </thead>\n",
              "  <tbody>\n",
              "    <tr>\n",
              "      <th>count</th>\n",
              "      <td>4.998000e+03</td>\n",
              "      <td>4998.000000</td>\n",
              "      <td>4998.000000</td>\n",
              "      <td>4998.000000</td>\n",
              "      <td>3465.000000</td>\n",
              "      <td>1544.000000</td>\n",
              "      <td>4998.000000</td>\n",
              "    </tr>\n",
              "    <tr>\n",
              "      <th>mean</th>\n",
              "      <td>1.003015e+06</td>\n",
              "      <td>8.036815</td>\n",
              "      <td>0.421369</td>\n",
              "      <td>5.320128</td>\n",
              "      <td>9.773737</td>\n",
              "      <td>12.766839</td>\n",
              "      <td>9234.655462</td>\n",
              "    </tr>\n",
              "    <tr>\n",
              "      <th>std</th>\n",
              "      <td>1.709910e+03</td>\n",
              "      <td>6.442697</td>\n",
              "      <td>0.493828</td>\n",
              "      <td>3.912281</td>\n",
              "      <td>5.101867</td>\n",
              "      <td>4.023591</td>\n",
              "      <td>4999.225081</td>\n",
              "    </tr>\n",
              "    <tr>\n",
              "      <th>min</th>\n",
              "      <td>1.000003e+06</td>\n",
              "      <td>0.000000</td>\n",
              "      <td>0.000000</td>\n",
              "      <td>1.000000</td>\n",
              "      <td>2.000000</td>\n",
              "      <td>3.000000</td>\n",
              "      <td>13.000000</td>\n",
              "    </tr>\n",
              "    <tr>\n",
              "      <th>25%</th>\n",
              "      <td>1.001560e+06</td>\n",
              "      <td>2.000000</td>\n",
              "      <td>0.000000</td>\n",
              "      <td>1.000000</td>\n",
              "      <td>5.000000</td>\n",
              "      <td>9.000000</td>\n",
              "      <td>5497.750000</td>\n",
              "    </tr>\n",
              "    <tr>\n",
              "      <th>50%</th>\n",
              "      <td>1.003040e+06</td>\n",
              "      <td>7.000000</td>\n",
              "      <td>0.000000</td>\n",
              "      <td>5.000000</td>\n",
              "      <td>9.000000</td>\n",
              "      <td>14.000000</td>\n",
              "      <td>8049.000000</td>\n",
              "    </tr>\n",
              "    <tr>\n",
              "      <th>75%</th>\n",
              "      <td>1.004417e+06</td>\n",
              "      <td>14.000000</td>\n",
              "      <td>1.000000</td>\n",
              "      <td>8.000000</td>\n",
              "      <td>15.000000</td>\n",
              "      <td>16.000000</td>\n",
              "      <td>12039.000000</td>\n",
              "    </tr>\n",
              "    <tr>\n",
              "      <th>max</th>\n",
              "      <td>1.006037e+06</td>\n",
              "      <td>20.000000</td>\n",
              "      <td>1.000000</td>\n",
              "      <td>20.000000</td>\n",
              "      <td>18.000000</td>\n",
              "      <td>18.000000</td>\n",
              "      <td>23913.000000</td>\n",
              "    </tr>\n",
              "  </tbody>\n",
              "</table>\n",
              "</div>\n",
              "      <button class=\"colab-df-convert\" onclick=\"convertToInteractive('df-d66a9006-639c-46f7-b4f3-4e12e1bd8733')\"\n",
              "              title=\"Convert this dataframe to an interactive table.\"\n",
              "              style=\"display:none;\">\n",
              "        \n",
              "  <svg xmlns=\"http://www.w3.org/2000/svg\" height=\"24px\"viewBox=\"0 0 24 24\"\n",
              "       width=\"24px\">\n",
              "    <path d=\"M0 0h24v24H0V0z\" fill=\"none\"/>\n",
              "    <path d=\"M18.56 5.44l.94 2.06.94-2.06 2.06-.94-2.06-.94-.94-2.06-.94 2.06-2.06.94zm-11 1L8.5 8.5l.94-2.06 2.06-.94-2.06-.94L8.5 2.5l-.94 2.06-2.06.94zm10 10l.94 2.06.94-2.06 2.06-.94-2.06-.94-.94-2.06-.94 2.06-2.06.94z\"/><path d=\"M17.41 7.96l-1.37-1.37c-.4-.4-.92-.59-1.43-.59-.52 0-1.04.2-1.43.59L10.3 9.45l-7.72 7.72c-.78.78-.78 2.05 0 2.83L4 21.41c.39.39.9.59 1.41.59.51 0 1.02-.2 1.41-.59l7.78-7.78 2.81-2.81c.8-.78.8-2.07 0-2.86zM5.41 20L4 18.59l7.72-7.72 1.47 1.35L5.41 20z\"/>\n",
              "  </svg>\n",
              "      </button>\n",
              "      \n",
              "  <style>\n",
              "    .colab-df-container {\n",
              "      display:flex;\n",
              "      flex-wrap:wrap;\n",
              "      gap: 12px;\n",
              "    }\n",
              "\n",
              "    .colab-df-convert {\n",
              "      background-color: #E8F0FE;\n",
              "      border: none;\n",
              "      border-radius: 50%;\n",
              "      cursor: pointer;\n",
              "      display: none;\n",
              "      fill: #1967D2;\n",
              "      height: 32px;\n",
              "      padding: 0 0 0 0;\n",
              "      width: 32px;\n",
              "    }\n",
              "\n",
              "    .colab-df-convert:hover {\n",
              "      background-color: #E2EBFA;\n",
              "      box-shadow: 0px 1px 2px rgba(60, 64, 67, 0.3), 0px 1px 3px 1px rgba(60, 64, 67, 0.15);\n",
              "      fill: #174EA6;\n",
              "    }\n",
              "\n",
              "    [theme=dark] .colab-df-convert {\n",
              "      background-color: #3B4455;\n",
              "      fill: #D2E3FC;\n",
              "    }\n",
              "\n",
              "    [theme=dark] .colab-df-convert:hover {\n",
              "      background-color: #434B5C;\n",
              "      box-shadow: 0px 1px 3px 1px rgba(0, 0, 0, 0.15);\n",
              "      filter: drop-shadow(0px 1px 2px rgba(0, 0, 0, 0.3));\n",
              "      fill: #FFFFFF;\n",
              "    }\n",
              "  </style>\n",
              "\n",
              "      <script>\n",
              "        const buttonEl =\n",
              "          document.querySelector('#df-d66a9006-639c-46f7-b4f3-4e12e1bd8733 button.colab-df-convert');\n",
              "        buttonEl.style.display =\n",
              "          google.colab.kernel.accessAllowed ? 'block' : 'none';\n",
              "\n",
              "        async function convertToInteractive(key) {\n",
              "          const element = document.querySelector('#df-d66a9006-639c-46f7-b4f3-4e12e1bd8733');\n",
              "          const dataTable =\n",
              "            await google.colab.kernel.invokeFunction('convertToInteractive',\n",
              "                                                     [key], {});\n",
              "          if (!dataTable) return;\n",
              "\n",
              "          const docLinkHtml = 'Like what you see? Visit the ' +\n",
              "            '<a target=\"_blank\" href=https://colab.research.google.com/notebooks/data_table.ipynb>data table notebook</a>'\n",
              "            + ' to learn more about interactive tables.';\n",
              "          element.innerHTML = '';\n",
              "          dataTable['output_type'] = 'display_data';\n",
              "          await google.colab.output.renderOutput(dataTable, element);\n",
              "          const docLink = document.createElement('div');\n",
              "          docLink.innerHTML = docLinkHtml;\n",
              "          element.appendChild(docLink);\n",
              "        }\n",
              "      </script>\n",
              "    </div>\n",
              "  </div>\n",
              "  "
            ]
          },
          "metadata": {},
          "execution_count": 4
        }
      ]
    },
    {
      "cell_type": "code",
      "source": [
        "df.isnull().sum()"
      ],
      "metadata": {
        "colab": {
          "base_uri": "https://localhost:8080/"
        },
        "id": "n4-tgGh8FhLr",
        "outputId": "ac4962b6-4ad6-437f-f9e0-b20b8c48ccb6"
      },
      "execution_count": 5,
      "outputs": [
        {
          "output_type": "execute_result",
          "data": {
            "text/plain": [
              "User_ID                          0\n",
              "Product_ID                       0\n",
              "Gender                           0\n",
              "Age                              0\n",
              "Occupation                       0\n",
              "City_Category                    0\n",
              "Stay_In_Current_City_Years       0\n",
              "Marital_Status                   0\n",
              "Product_Category_1               0\n",
              "Product_Category_2            1533\n",
              "Product_Category_3            3454\n",
              "Purchase                         0\n",
              "dtype: int64"
            ]
          },
          "metadata": {},
          "execution_count": 5
        }
      ]
    },
    {
      "cell_type": "markdown",
      "source": [
        "product_category3의 경우 결측치가 너무 많아,왜곡이 일어날 수 있으므로 drop한다.\n",
        "product_category2의 경우는..."
      ],
      "metadata": {
        "id": "9tw7j15FHuOJ"
      }
    },
    {
      "cell_type": "markdown",
      "source": [
        "방법1_결측치 최빈값으로 대체하기"
      ],
      "metadata": {
        "id": "IDC7MTs3GYp9"
      }
    },
    {
      "cell_type": "code",
      "source": [
        "from sklearn.impute import SimpleImputer"
      ],
      "metadata": {
        "id": "VHUKxoCsGTex"
      },
      "execution_count": 6,
      "outputs": []
    },
    {
      "cell_type": "code",
      "source": [
        "imputer = SimpleImputer(strategy='most_frequent')"
      ],
      "metadata": {
        "id": "VYOj-LzHGT05"
      },
      "execution_count": 7,
      "outputs": []
    },
    {
      "cell_type": "code",
      "source": [
        "df[['Product_Category_2']] = imputer.fit_transform(df[['Product_Category_2']])"
      ],
      "metadata": {
        "id": "cKa2kPRVGVFw"
      },
      "execution_count": 8,
      "outputs": []
    },
    {
      "cell_type": "code",
      "source": [
        "imputer.statistics_"
      ],
      "metadata": {
        "colab": {
          "base_uri": "https://localhost:8080/"
        },
        "id": "dokyka7FGWIS",
        "outputId": "18d3ebae-4462-428b-80ee-80b177db08ff"
      },
      "execution_count": 9,
      "outputs": [
        {
          "output_type": "execute_result",
          "data": {
            "text/plain": [
              "array([8.])"
            ]
          },
          "metadata": {},
          "execution_count": 9
        }
      ]
    },
    {
      "cell_type": "code",
      "source": [
        "df_1 = df.drop(['Product_Category_3', 'User_ID'], axis = 1) "
      ],
      "metadata": {
        "id": "CBqbDGm-ETlx"
      },
      "execution_count": 10,
      "outputs": []
    },
    {
      "cell_type": "code",
      "source": [
        "df['Product_ID'].nunique()\n",
        "#중복되는 값이 있음."
      ],
      "metadata": {
        "colab": {
          "base_uri": "https://localhost:8080/"
        },
        "id": "9BHqIIXLr5cb",
        "outputId": "e41648d0-2b4d-4d59-d0de-bcae9a561065"
      },
      "execution_count": 11,
      "outputs": [
        {
          "output_type": "execute_result",
          "data": {
            "text/plain": [
              "1797"
            ]
          },
          "metadata": {},
          "execution_count": 11
        }
      ]
    },
    {
      "cell_type": "markdown",
      "source": [
        "방법2)Product ID를 기준으로 그룹화하여 각 그룹에 해당하는 product_category2 최빈값을 **결측치에** 매칭해 줄 수도 있음."
      ],
      "metadata": {
        "id": "1O2zFa7JDxWs"
      }
    },
    {
      "cell_type": "code",
      "source": [
        "#Categorical feature one-hot encoding\n",
        "\n",
        "categorical_1 = ['Gender', 'Age', 'Occupation', 'City_Category', \n",
        "                 'Stay_In_Current_City_Years', 'Product_Category_1', 'Product_Category_2']\n",
        "\n",
        "encoder_1 = OneHotEncoder().fit(df_1[categorical_1])     # One-Hot-Encoding\n",
        "encoder_1.get_feature_names(categorical_1)     # 각 Feature 이름 확인\n"
      ],
      "metadata": {
        "colab": {
          "base_uri": "https://localhost:8080/"
        },
        "id": "Q0h9NmO3nwOb",
        "outputId": "5743b348-5a6f-46f3-c069-7b5b318dc16d"
      },
      "execution_count": 26,
      "outputs": [
        {
          "output_type": "execute_result",
          "data": {
            "text/plain": [
              "array(['Gender_F', 'Gender_M', 'Age_0-17', 'Age_18-25', 'Age_26-35',\n",
              "       'Age_36-45', 'Age_46-50', 'Age_51-55', 'Age_55+', 'Occupation_0',\n",
              "       'Occupation_1', 'Occupation_2', 'Occupation_3', 'Occupation_4',\n",
              "       'Occupation_5', 'Occupation_6', 'Occupation_7', 'Occupation_8',\n",
              "       'Occupation_9', 'Occupation_10', 'Occupation_11', 'Occupation_12',\n",
              "       'Occupation_13', 'Occupation_14', 'Occupation_15', 'Occupation_16',\n",
              "       'Occupation_17', 'Occupation_18', 'Occupation_19', 'Occupation_20',\n",
              "       'City_Category_A', 'City_Category_B', 'City_Category_C',\n",
              "       'Stay_In_Current_City_Years_0', 'Stay_In_Current_City_Years_1',\n",
              "       'Stay_In_Current_City_Years_2', 'Stay_In_Current_City_Years_3',\n",
              "       'Stay_In_Current_City_Years_4+', 'Product_Category_1_1',\n",
              "       'Product_Category_1_2', 'Product_Category_1_3',\n",
              "       'Product_Category_1_4', 'Product_Category_1_5',\n",
              "       'Product_Category_1_6', 'Product_Category_1_7',\n",
              "       'Product_Category_1_8', 'Product_Category_1_9',\n",
              "       'Product_Category_1_10', 'Product_Category_1_11',\n",
              "       'Product_Category_1_12', 'Product_Category_1_13',\n",
              "       'Product_Category_1_14', 'Product_Category_1_15',\n",
              "       'Product_Category_1_16', 'Product_Category_1_17',\n",
              "       'Product_Category_1_18', 'Product_Category_1_19',\n",
              "       'Product_Category_1_20', 'Product_Category_2_2.0',\n",
              "       'Product_Category_2_3.0', 'Product_Category_2_4.0',\n",
              "       'Product_Category_2_5.0', 'Product_Category_2_6.0',\n",
              "       'Product_Category_2_7.0', 'Product_Category_2_8.0',\n",
              "       'Product_Category_2_9.0', 'Product_Category_2_10.0',\n",
              "       'Product_Category_2_11.0', 'Product_Category_2_12.0',\n",
              "       'Product_Category_2_13.0', 'Product_Category_2_14.0',\n",
              "       'Product_Category_2_15.0', 'Product_Category_2_16.0',\n",
              "       'Product_Category_2_17.0', 'Product_Category_2_18.0'], dtype=object)"
            ]
          },
          "metadata": {},
          "execution_count": 26
        }
      ]
    },
    {
      "cell_type": "code",
      "source": [
        "# One-Hot-Encoding (2) - Product_ID Column\n",
        "\n",
        "for i in P003_index:     # 먼저 제품 ID 값을 각 제품 ID의 4번째 숫자로 대체 - 그룹화\n",
        "    df_1.iloc[i, 0] = 3\n",
        "for i in P000_index:\n",
        "    df_1.iloc[i, 0] = 0\n",
        "for i in P002_index:\n",
        "    df_1.iloc[i, 0] = 2\n",
        "for i in P009_index:\n",
        "    df_1.iloc[i, 0] = 9\n",
        "for i in P001_index:\n",
        "    df_1.iloc[i, 0] = 1\n",
        "\n",
        "encoder_2 = OneHotEncoder().fit(df_1[['Product_ID']])     # One-Hot-Encoding\n",
        "encoder_2.get_feature_names(['Product_ID'])   "
      ],
      "metadata": {
        "colab": {
          "base_uri": "https://localhost:8080/"
        },
        "id": "oPkZYLxNc-C2",
        "outputId": "6203bfb0-d382-4483-e7ac-ee6eccbfce08"
      },
      "execution_count": 27,
      "outputs": [
        {
          "output_type": "execute_result",
          "data": {
            "text/plain": [
              "array(['Product_ID_0', 'Product_ID_1', 'Product_ID_2', 'Product_ID_3',\n",
              "       'Product_ID_9'], dtype=object)"
            ]
          },
          "metadata": {},
          "execution_count": 27
        }
      ]
    },
    {
      "cell_type": "code",
      "source": [
        "# 최종 DataFrame 도출\n",
        "# 최종 DataFrame 도출\n",
        "\n",
        "endcoded_data_1 = pd.DataFrame(encoder_1.transform(df_1[categorical_1]).toarray(),\n",
        "                               index = df_1.index,\n",
        "                               columns = encoder_1.get_feature_names(categorical_1))     # One-Hot-Encoding (1)의 결과를 DataFrame으로!\n",
        "endcoded_data_2 = pd.DataFrame(encoder_2.transform(df_1[['Product_ID']]).toarray(),\n",
        "                               index = df_1.index,\n",
        "                               columns = encoder_2.get_feature_names(['Product_ID']))     # One-Hot-Encoding (2)의 결과를 DataFrame으로!\n",
        "\n",
        "# 위에서 만들어진 DataFrame과 기존 DataFrame concat한 후, One-Hot-Encoding 이전 Categorical Column들은 drop!\n",
        "\n",
        "df_2 = pd.concat([df_1, endcoded_data_1], sort = False, axis = 1)\n",
        "df_3 = pd.concat([df_2, endcoded_data_2], sort = False, axis = 1)\n",
        "df_3 = df_3.drop(['Product_ID', 'Gender', 'Age', 'Occupation', 'City_Category',\n",
        "                  'Stay_In_Current_City_Years', 'Product_Category_1', 'Product_Category_2'], axis = 1)\n",
        "\n",
        "df_3"
      ],
      "metadata": {
        "colab": {
          "base_uri": "https://localhost:8080/",
          "height": 505
        },
        "id": "_bCSSY5TGV_y",
        "outputId": "a80bdcf8-5e6b-4cf5-a85a-19025340de31"
      },
      "execution_count": 28,
      "outputs": [
        {
          "output_type": "execute_result",
          "data": {
            "text/plain": [
              "      Marital_Status  Purchase  Gender_F  Gender_M  Age_0-17  Age_18-25  \\\n",
              "0                  0      2010       1.0       0.0       1.0        0.0   \n",
              "1                  0      4483       1.0       0.0       1.0        0.0   \n",
              "2                  0      7696       1.0       0.0       1.0        0.0   \n",
              "3                  0     16429       1.0       0.0       1.0        0.0   \n",
              "4                  0      5780       1.0       0.0       1.0        0.0   \n",
              "...              ...       ...       ...       ...       ...        ...   \n",
              "4993               1     11701       0.0       1.0       0.0        0.0   \n",
              "4994               1      2045       0.0       1.0       0.0        0.0   \n",
              "4995               1      4505       0.0       1.0       0.0        0.0   \n",
              "4996               1      1413       0.0       1.0       0.0        0.0   \n",
              "4997               1      7182       0.0       1.0       0.0        0.0   \n",
              "\n",
              "      Age_26-35  Age_36-45  Age_46-50  Age_51-55  ...  \\\n",
              "0           0.0        0.0        0.0        0.0  ...   \n",
              "1           0.0        0.0        0.0        0.0  ...   \n",
              "2           0.0        0.0        0.0        0.0  ...   \n",
              "3           0.0        0.0        0.0        0.0  ...   \n",
              "4           0.0        0.0        0.0        0.0  ...   \n",
              "...         ...        ...        ...        ...  ...   \n",
              "4993        0.0        0.0        0.0        0.0  ...   \n",
              "4994        0.0        0.0        0.0        0.0  ...   \n",
              "4995        0.0        0.0        0.0        0.0  ...   \n",
              "4996        0.0        0.0        0.0        0.0  ...   \n",
              "4997        0.0        0.0        0.0        0.0  ...   \n",
              "\n",
              "      Product_Category_2_14.0  Product_Category_2_15.0  \\\n",
              "0                         0.0                      0.0   \n",
              "1                         0.0                      0.0   \n",
              "2                         0.0                      0.0   \n",
              "3                         0.0                      0.0   \n",
              "4                         0.0                      0.0   \n",
              "...                       ...                      ...   \n",
              "4993                      0.0                      0.0   \n",
              "4994                      0.0                      0.0   \n",
              "4995                      0.0                      0.0   \n",
              "4996                      0.0                      0.0   \n",
              "4997                      1.0                      0.0   \n",
              "\n",
              "      Product_Category_2_16.0  Product_Category_2_17.0  \\\n",
              "0                         0.0                      1.0   \n",
              "1                         0.0                      0.0   \n",
              "2                         0.0                      0.0   \n",
              "3                         0.0                      0.0   \n",
              "4                         0.0                      0.0   \n",
              "...                       ...                      ...   \n",
              "4993                      1.0                      0.0   \n",
              "4994                      0.0                      0.0   \n",
              "4995                      0.0                      0.0   \n",
              "4996                      0.0                      0.0   \n",
              "4997                      0.0                      0.0   \n",
              "\n",
              "      Product_Category_2_18.0  Product_ID_0  Product_ID_1  Product_ID_2  \\\n",
              "0                         0.0           1.0           0.0           0.0   \n",
              "1                         0.0           0.0           0.0           0.0   \n",
              "2                         0.0           1.0           0.0           0.0   \n",
              "3                         0.0           0.0           1.0           0.0   \n",
              "4                         0.0           0.0           1.0           0.0   \n",
              "...                       ...           ...           ...           ...   \n",
              "4993                      0.0           0.0           1.0           0.0   \n",
              "4994                      0.0           0.0           0.0           0.0   \n",
              "4995                      0.0           0.0           1.0           0.0   \n",
              "4996                      0.0           0.0           0.0           0.0   \n",
              "4997                      0.0           0.0           1.0           0.0   \n",
              "\n",
              "      Product_ID_3  Product_ID_9  \n",
              "0              0.0           0.0  \n",
              "1              1.0           0.0  \n",
              "2              0.0           0.0  \n",
              "3              0.0           0.0  \n",
              "4              0.0           0.0  \n",
              "...            ...           ...  \n",
              "4993           0.0           0.0  \n",
              "4994           1.0           0.0  \n",
              "4995           0.0           0.0  \n",
              "4996           1.0           0.0  \n",
              "4997           0.0           0.0  \n",
              "\n",
              "[4998 rows x 82 columns]"
            ],
            "text/html": [
              "\n",
              "  <div id=\"df-d3b73daf-93ae-4165-b80f-08ec7f8c7a02\">\n",
              "    <div class=\"colab-df-container\">\n",
              "      <div>\n",
              "<style scoped>\n",
              "    .dataframe tbody tr th:only-of-type {\n",
              "        vertical-align: middle;\n",
              "    }\n",
              "\n",
              "    .dataframe tbody tr th {\n",
              "        vertical-align: top;\n",
              "    }\n",
              "\n",
              "    .dataframe thead th {\n",
              "        text-align: right;\n",
              "    }\n",
              "</style>\n",
              "<table border=\"1\" class=\"dataframe\">\n",
              "  <thead>\n",
              "    <tr style=\"text-align: right;\">\n",
              "      <th></th>\n",
              "      <th>Marital_Status</th>\n",
              "      <th>Purchase</th>\n",
              "      <th>Gender_F</th>\n",
              "      <th>Gender_M</th>\n",
              "      <th>Age_0-17</th>\n",
              "      <th>Age_18-25</th>\n",
              "      <th>Age_26-35</th>\n",
              "      <th>Age_36-45</th>\n",
              "      <th>Age_46-50</th>\n",
              "      <th>Age_51-55</th>\n",
              "      <th>...</th>\n",
              "      <th>Product_Category_2_14.0</th>\n",
              "      <th>Product_Category_2_15.0</th>\n",
              "      <th>Product_Category_2_16.0</th>\n",
              "      <th>Product_Category_2_17.0</th>\n",
              "      <th>Product_Category_2_18.0</th>\n",
              "      <th>Product_ID_0</th>\n",
              "      <th>Product_ID_1</th>\n",
              "      <th>Product_ID_2</th>\n",
              "      <th>Product_ID_3</th>\n",
              "      <th>Product_ID_9</th>\n",
              "    </tr>\n",
              "  </thead>\n",
              "  <tbody>\n",
              "    <tr>\n",
              "      <th>0</th>\n",
              "      <td>0</td>\n",
              "      <td>2010</td>\n",
              "      <td>1.0</td>\n",
              "      <td>0.0</td>\n",
              "      <td>1.0</td>\n",
              "      <td>0.0</td>\n",
              "      <td>0.0</td>\n",
              "      <td>0.0</td>\n",
              "      <td>0.0</td>\n",
              "      <td>0.0</td>\n",
              "      <td>...</td>\n",
              "      <td>0.0</td>\n",
              "      <td>0.0</td>\n",
              "      <td>0.0</td>\n",
              "      <td>1.0</td>\n",
              "      <td>0.0</td>\n",
              "      <td>1.0</td>\n",
              "      <td>0.0</td>\n",
              "      <td>0.0</td>\n",
              "      <td>0.0</td>\n",
              "      <td>0.0</td>\n",
              "    </tr>\n",
              "    <tr>\n",
              "      <th>1</th>\n",
              "      <td>0</td>\n",
              "      <td>4483</td>\n",
              "      <td>1.0</td>\n",
              "      <td>0.0</td>\n",
              "      <td>1.0</td>\n",
              "      <td>0.0</td>\n",
              "      <td>0.0</td>\n",
              "      <td>0.0</td>\n",
              "      <td>0.0</td>\n",
              "      <td>0.0</td>\n",
              "      <td>...</td>\n",
              "      <td>0.0</td>\n",
              "      <td>0.0</td>\n",
              "      <td>0.0</td>\n",
              "      <td>0.0</td>\n",
              "      <td>0.0</td>\n",
              "      <td>0.0</td>\n",
              "      <td>0.0</td>\n",
              "      <td>0.0</td>\n",
              "      <td>1.0</td>\n",
              "      <td>0.0</td>\n",
              "    </tr>\n",
              "    <tr>\n",
              "      <th>2</th>\n",
              "      <td>0</td>\n",
              "      <td>7696</td>\n",
              "      <td>1.0</td>\n",
              "      <td>0.0</td>\n",
              "      <td>1.0</td>\n",
              "      <td>0.0</td>\n",
              "      <td>0.0</td>\n",
              "      <td>0.0</td>\n",
              "      <td>0.0</td>\n",
              "      <td>0.0</td>\n",
              "      <td>...</td>\n",
              "      <td>0.0</td>\n",
              "      <td>0.0</td>\n",
              "      <td>0.0</td>\n",
              "      <td>0.0</td>\n",
              "      <td>0.0</td>\n",
              "      <td>1.0</td>\n",
              "      <td>0.0</td>\n",
              "      <td>0.0</td>\n",
              "      <td>0.0</td>\n",
              "      <td>0.0</td>\n",
              "    </tr>\n",
              "    <tr>\n",
              "      <th>3</th>\n",
              "      <td>0</td>\n",
              "      <td>16429</td>\n",
              "      <td>1.0</td>\n",
              "      <td>0.0</td>\n",
              "      <td>1.0</td>\n",
              "      <td>0.0</td>\n",
              "      <td>0.0</td>\n",
              "      <td>0.0</td>\n",
              "      <td>0.0</td>\n",
              "      <td>0.0</td>\n",
              "      <td>...</td>\n",
              "      <td>0.0</td>\n",
              "      <td>0.0</td>\n",
              "      <td>0.0</td>\n",
              "      <td>0.0</td>\n",
              "      <td>0.0</td>\n",
              "      <td>0.0</td>\n",
              "      <td>1.0</td>\n",
              "      <td>0.0</td>\n",
              "      <td>0.0</td>\n",
              "      <td>0.0</td>\n",
              "    </tr>\n",
              "    <tr>\n",
              "      <th>4</th>\n",
              "      <td>0</td>\n",
              "      <td>5780</td>\n",
              "      <td>1.0</td>\n",
              "      <td>0.0</td>\n",
              "      <td>1.0</td>\n",
              "      <td>0.0</td>\n",
              "      <td>0.0</td>\n",
              "      <td>0.0</td>\n",
              "      <td>0.0</td>\n",
              "      <td>0.0</td>\n",
              "      <td>...</td>\n",
              "      <td>0.0</td>\n",
              "      <td>0.0</td>\n",
              "      <td>0.0</td>\n",
              "      <td>0.0</td>\n",
              "      <td>0.0</td>\n",
              "      <td>0.0</td>\n",
              "      <td>1.0</td>\n",
              "      <td>0.0</td>\n",
              "      <td>0.0</td>\n",
              "      <td>0.0</td>\n",
              "    </tr>\n",
              "    <tr>\n",
              "      <th>...</th>\n",
              "      <td>...</td>\n",
              "      <td>...</td>\n",
              "      <td>...</td>\n",
              "      <td>...</td>\n",
              "      <td>...</td>\n",
              "      <td>...</td>\n",
              "      <td>...</td>\n",
              "      <td>...</td>\n",
              "      <td>...</td>\n",
              "      <td>...</td>\n",
              "      <td>...</td>\n",
              "      <td>...</td>\n",
              "      <td>...</td>\n",
              "      <td>...</td>\n",
              "      <td>...</td>\n",
              "      <td>...</td>\n",
              "      <td>...</td>\n",
              "      <td>...</td>\n",
              "      <td>...</td>\n",
              "      <td>...</td>\n",
              "      <td>...</td>\n",
              "    </tr>\n",
              "    <tr>\n",
              "      <th>4993</th>\n",
              "      <td>1</td>\n",
              "      <td>11701</td>\n",
              "      <td>0.0</td>\n",
              "      <td>1.0</td>\n",
              "      <td>0.0</td>\n",
              "      <td>0.0</td>\n",
              "      <td>0.0</td>\n",
              "      <td>0.0</td>\n",
              "      <td>0.0</td>\n",
              "      <td>0.0</td>\n",
              "      <td>...</td>\n",
              "      <td>0.0</td>\n",
              "      <td>0.0</td>\n",
              "      <td>1.0</td>\n",
              "      <td>0.0</td>\n",
              "      <td>0.0</td>\n",
              "      <td>0.0</td>\n",
              "      <td>1.0</td>\n",
              "      <td>0.0</td>\n",
              "      <td>0.0</td>\n",
              "      <td>0.0</td>\n",
              "    </tr>\n",
              "    <tr>\n",
              "      <th>4994</th>\n",
              "      <td>1</td>\n",
              "      <td>2045</td>\n",
              "      <td>0.0</td>\n",
              "      <td>1.0</td>\n",
              "      <td>0.0</td>\n",
              "      <td>0.0</td>\n",
              "      <td>0.0</td>\n",
              "      <td>0.0</td>\n",
              "      <td>0.0</td>\n",
              "      <td>0.0</td>\n",
              "      <td>...</td>\n",
              "      <td>0.0</td>\n",
              "      <td>0.0</td>\n",
              "      <td>0.0</td>\n",
              "      <td>0.0</td>\n",
              "      <td>0.0</td>\n",
              "      <td>0.0</td>\n",
              "      <td>0.0</td>\n",
              "      <td>0.0</td>\n",
              "      <td>1.0</td>\n",
              "      <td>0.0</td>\n",
              "    </tr>\n",
              "    <tr>\n",
              "      <th>4995</th>\n",
              "      <td>1</td>\n",
              "      <td>4505</td>\n",
              "      <td>0.0</td>\n",
              "      <td>1.0</td>\n",
              "      <td>0.0</td>\n",
              "      <td>0.0</td>\n",
              "      <td>0.0</td>\n",
              "      <td>0.0</td>\n",
              "      <td>0.0</td>\n",
              "      <td>0.0</td>\n",
              "      <td>...</td>\n",
              "      <td>0.0</td>\n",
              "      <td>0.0</td>\n",
              "      <td>0.0</td>\n",
              "      <td>0.0</td>\n",
              "      <td>0.0</td>\n",
              "      <td>0.0</td>\n",
              "      <td>1.0</td>\n",
              "      <td>0.0</td>\n",
              "      <td>0.0</td>\n",
              "      <td>0.0</td>\n",
              "    </tr>\n",
              "    <tr>\n",
              "      <th>4996</th>\n",
              "      <td>1</td>\n",
              "      <td>1413</td>\n",
              "      <td>0.0</td>\n",
              "      <td>1.0</td>\n",
              "      <td>0.0</td>\n",
              "      <td>0.0</td>\n",
              "      <td>0.0</td>\n",
              "      <td>0.0</td>\n",
              "      <td>0.0</td>\n",
              "      <td>0.0</td>\n",
              "      <td>...</td>\n",
              "      <td>0.0</td>\n",
              "      <td>0.0</td>\n",
              "      <td>0.0</td>\n",
              "      <td>0.0</td>\n",
              "      <td>0.0</td>\n",
              "      <td>0.0</td>\n",
              "      <td>0.0</td>\n",
              "      <td>0.0</td>\n",
              "      <td>1.0</td>\n",
              "      <td>0.0</td>\n",
              "    </tr>\n",
              "    <tr>\n",
              "      <th>4997</th>\n",
              "      <td>1</td>\n",
              "      <td>7182</td>\n",
              "      <td>0.0</td>\n",
              "      <td>1.0</td>\n",
              "      <td>0.0</td>\n",
              "      <td>0.0</td>\n",
              "      <td>0.0</td>\n",
              "      <td>0.0</td>\n",
              "      <td>0.0</td>\n",
              "      <td>0.0</td>\n",
              "      <td>...</td>\n",
              "      <td>1.0</td>\n",
              "      <td>0.0</td>\n",
              "      <td>0.0</td>\n",
              "      <td>0.0</td>\n",
              "      <td>0.0</td>\n",
              "      <td>0.0</td>\n",
              "      <td>1.0</td>\n",
              "      <td>0.0</td>\n",
              "      <td>0.0</td>\n",
              "      <td>0.0</td>\n",
              "    </tr>\n",
              "  </tbody>\n",
              "</table>\n",
              "<p>4998 rows × 82 columns</p>\n",
              "</div>\n",
              "      <button class=\"colab-df-convert\" onclick=\"convertToInteractive('df-d3b73daf-93ae-4165-b80f-08ec7f8c7a02')\"\n",
              "              title=\"Convert this dataframe to an interactive table.\"\n",
              "              style=\"display:none;\">\n",
              "        \n",
              "  <svg xmlns=\"http://www.w3.org/2000/svg\" height=\"24px\"viewBox=\"0 0 24 24\"\n",
              "       width=\"24px\">\n",
              "    <path d=\"M0 0h24v24H0V0z\" fill=\"none\"/>\n",
              "    <path d=\"M18.56 5.44l.94 2.06.94-2.06 2.06-.94-2.06-.94-.94-2.06-.94 2.06-2.06.94zm-11 1L8.5 8.5l.94-2.06 2.06-.94-2.06-.94L8.5 2.5l-.94 2.06-2.06.94zm10 10l.94 2.06.94-2.06 2.06-.94-2.06-.94-.94-2.06-.94 2.06-2.06.94z\"/><path d=\"M17.41 7.96l-1.37-1.37c-.4-.4-.92-.59-1.43-.59-.52 0-1.04.2-1.43.59L10.3 9.45l-7.72 7.72c-.78.78-.78 2.05 0 2.83L4 21.41c.39.39.9.59 1.41.59.51 0 1.02-.2 1.41-.59l7.78-7.78 2.81-2.81c.8-.78.8-2.07 0-2.86zM5.41 20L4 18.59l7.72-7.72 1.47 1.35L5.41 20z\"/>\n",
              "  </svg>\n",
              "      </button>\n",
              "      \n",
              "  <style>\n",
              "    .colab-df-container {\n",
              "      display:flex;\n",
              "      flex-wrap:wrap;\n",
              "      gap: 12px;\n",
              "    }\n",
              "\n",
              "    .colab-df-convert {\n",
              "      background-color: #E8F0FE;\n",
              "      border: none;\n",
              "      border-radius: 50%;\n",
              "      cursor: pointer;\n",
              "      display: none;\n",
              "      fill: #1967D2;\n",
              "      height: 32px;\n",
              "      padding: 0 0 0 0;\n",
              "      width: 32px;\n",
              "    }\n",
              "\n",
              "    .colab-df-convert:hover {\n",
              "      background-color: #E2EBFA;\n",
              "      box-shadow: 0px 1px 2px rgba(60, 64, 67, 0.3), 0px 1px 3px 1px rgba(60, 64, 67, 0.15);\n",
              "      fill: #174EA6;\n",
              "    }\n",
              "\n",
              "    [theme=dark] .colab-df-convert {\n",
              "      background-color: #3B4455;\n",
              "      fill: #D2E3FC;\n",
              "    }\n",
              "\n",
              "    [theme=dark] .colab-df-convert:hover {\n",
              "      background-color: #434B5C;\n",
              "      box-shadow: 0px 1px 3px 1px rgba(0, 0, 0, 0.15);\n",
              "      filter: drop-shadow(0px 1px 2px rgba(0, 0, 0, 0.3));\n",
              "      fill: #FFFFFF;\n",
              "    }\n",
              "  </style>\n",
              "\n",
              "      <script>\n",
              "        const buttonEl =\n",
              "          document.querySelector('#df-d3b73daf-93ae-4165-b80f-08ec7f8c7a02 button.colab-df-convert');\n",
              "        buttonEl.style.display =\n",
              "          google.colab.kernel.accessAllowed ? 'block' : 'none';\n",
              "\n",
              "        async function convertToInteractive(key) {\n",
              "          const element = document.querySelector('#df-d3b73daf-93ae-4165-b80f-08ec7f8c7a02');\n",
              "          const dataTable =\n",
              "            await google.colab.kernel.invokeFunction('convertToInteractive',\n",
              "                                                     [key], {});\n",
              "          if (!dataTable) return;\n",
              "\n",
              "          const docLinkHtml = 'Like what you see? Visit the ' +\n",
              "            '<a target=\"_blank\" href=https://colab.research.google.com/notebooks/data_table.ipynb>data table notebook</a>'\n",
              "            + ' to learn more about interactive tables.';\n",
              "          element.innerHTML = '';\n",
              "          dataTable['output_type'] = 'display_data';\n",
              "          await google.colab.output.renderOutput(dataTable, element);\n",
              "          const docLink = document.createElement('div');\n",
              "          docLink.innerHTML = docLinkHtml;\n",
              "          element.appendChild(docLink);\n",
              "        }\n",
              "      </script>\n",
              "    </div>\n",
              "  </div>\n",
              "  "
            ]
          },
          "metadata": {},
          "execution_count": 28
        }
      ]
    },
    {
      "cell_type": "code",
      "source": [
        "df_3.info()"
      ],
      "metadata": {
        "colab": {
          "base_uri": "https://localhost:8080/"
        },
        "id": "GNLkieckKgbD",
        "outputId": "df8af6e6-5228-40ba-ec35-b645ab3c6b14"
      },
      "execution_count": 29,
      "outputs": [
        {
          "output_type": "stream",
          "name": "stdout",
          "text": [
            "<class 'pandas.core.frame.DataFrame'>\n",
            "Int64Index: 4998 entries, 0 to 4997\n",
            "Data columns (total 82 columns):\n",
            " #   Column                         Non-Null Count  Dtype  \n",
            "---  ------                         --------------  -----  \n",
            " 0   Marital_Status                 4998 non-null   int64  \n",
            " 1   Purchase                       4998 non-null   int64  \n",
            " 2   Gender_F                       4998 non-null   float64\n",
            " 3   Gender_M                       4998 non-null   float64\n",
            " 4   Age_0-17                       4998 non-null   float64\n",
            " 5   Age_18-25                      4998 non-null   float64\n",
            " 6   Age_26-35                      4998 non-null   float64\n",
            " 7   Age_36-45                      4998 non-null   float64\n",
            " 8   Age_46-50                      4998 non-null   float64\n",
            " 9   Age_51-55                      4998 non-null   float64\n",
            " 10  Age_55+                        4998 non-null   float64\n",
            " 11  Occupation_0                   4998 non-null   float64\n",
            " 12  Occupation_1                   4998 non-null   float64\n",
            " 13  Occupation_2                   4998 non-null   float64\n",
            " 14  Occupation_3                   4998 non-null   float64\n",
            " 15  Occupation_4                   4998 non-null   float64\n",
            " 16  Occupation_5                   4998 non-null   float64\n",
            " 17  Occupation_6                   4998 non-null   float64\n",
            " 18  Occupation_7                   4998 non-null   float64\n",
            " 19  Occupation_8                   4998 non-null   float64\n",
            " 20  Occupation_9                   4998 non-null   float64\n",
            " 21  Occupation_10                  4998 non-null   float64\n",
            " 22  Occupation_11                  4998 non-null   float64\n",
            " 23  Occupation_12                  4998 non-null   float64\n",
            " 24  Occupation_13                  4998 non-null   float64\n",
            " 25  Occupation_14                  4998 non-null   float64\n",
            " 26  Occupation_15                  4998 non-null   float64\n",
            " 27  Occupation_16                  4998 non-null   float64\n",
            " 28  Occupation_17                  4998 non-null   float64\n",
            " 29  Occupation_18                  4998 non-null   float64\n",
            " 30  Occupation_19                  4998 non-null   float64\n",
            " 31  Occupation_20                  4998 non-null   float64\n",
            " 32  City_Category_A                4998 non-null   float64\n",
            " 33  City_Category_B                4998 non-null   float64\n",
            " 34  City_Category_C                4998 non-null   float64\n",
            " 35  Stay_In_Current_City_Years_0   4998 non-null   float64\n",
            " 36  Stay_In_Current_City_Years_1   4998 non-null   float64\n",
            " 37  Stay_In_Current_City_Years_2   4998 non-null   float64\n",
            " 38  Stay_In_Current_City_Years_3   4998 non-null   float64\n",
            " 39  Stay_In_Current_City_Years_4+  4998 non-null   float64\n",
            " 40  Product_Category_1_1           4998 non-null   float64\n",
            " 41  Product_Category_1_2           4998 non-null   float64\n",
            " 42  Product_Category_1_3           4998 non-null   float64\n",
            " 43  Product_Category_1_4           4998 non-null   float64\n",
            " 44  Product_Category_1_5           4998 non-null   float64\n",
            " 45  Product_Category_1_6           4998 non-null   float64\n",
            " 46  Product_Category_1_7           4998 non-null   float64\n",
            " 47  Product_Category_1_8           4998 non-null   float64\n",
            " 48  Product_Category_1_9           4998 non-null   float64\n",
            " 49  Product_Category_1_10          4998 non-null   float64\n",
            " 50  Product_Category_1_11          4998 non-null   float64\n",
            " 51  Product_Category_1_12          4998 non-null   float64\n",
            " 52  Product_Category_1_13          4998 non-null   float64\n",
            " 53  Product_Category_1_14          4998 non-null   float64\n",
            " 54  Product_Category_1_15          4998 non-null   float64\n",
            " 55  Product_Category_1_16          4998 non-null   float64\n",
            " 56  Product_Category_1_17          4998 non-null   float64\n",
            " 57  Product_Category_1_18          4998 non-null   float64\n",
            " 58  Product_Category_1_19          4998 non-null   float64\n",
            " 59  Product_Category_1_20          4998 non-null   float64\n",
            " 60  Product_Category_2_2.0         4998 non-null   float64\n",
            " 61  Product_Category_2_3.0         4998 non-null   float64\n",
            " 62  Product_Category_2_4.0         4998 non-null   float64\n",
            " 63  Product_Category_2_5.0         4998 non-null   float64\n",
            " 64  Product_Category_2_6.0         4998 non-null   float64\n",
            " 65  Product_Category_2_7.0         4998 non-null   float64\n",
            " 66  Product_Category_2_8.0         4998 non-null   float64\n",
            " 67  Product_Category_2_9.0         4998 non-null   float64\n",
            " 68  Product_Category_2_10.0        4998 non-null   float64\n",
            " 69  Product_Category_2_11.0        4998 non-null   float64\n",
            " 70  Product_Category_2_12.0        4998 non-null   float64\n",
            " 71  Product_Category_2_13.0        4998 non-null   float64\n",
            " 72  Product_Category_2_14.0        4998 non-null   float64\n",
            " 73  Product_Category_2_15.0        4998 non-null   float64\n",
            " 74  Product_Category_2_16.0        4998 non-null   float64\n",
            " 75  Product_Category_2_17.0        4998 non-null   float64\n",
            " 76  Product_Category_2_18.0        4998 non-null   float64\n",
            " 77  Product_ID_0                   4998 non-null   float64\n",
            " 78  Product_ID_1                   4998 non-null   float64\n",
            " 79  Product_ID_2                   4998 non-null   float64\n",
            " 80  Product_ID_3                   4998 non-null   float64\n",
            " 81  Product_ID_9                   4998 non-null   float64\n",
            "dtypes: float64(80), int64(2)\n",
            "memory usage: 3.3 MB\n"
          ]
        }
      ]
    },
    {
      "cell_type": "code",
      "source": [
        "X = df_3.drop(['Purchase'], axis = 1)     # 설명변수\n",
        "y = df_3.Purchase     # Target"
      ],
      "metadata": {
        "id": "iGlurzYVHId_"
      },
      "execution_count": 30,
      "outputs": []
    },
    {
      "cell_type": "code",
      "source": [
        "#splitting training and test set\n",
        "from sklearn.model_selection import train_test_split\n",
        "\n",
        "X_train, X_test, y_train, y_test = train_test_split(X, y, test_size = 0.2, random_state = 0)"
      ],
      "metadata": {
        "id": "PPz3i_mAnym_"
      },
      "execution_count": 31,
      "outputs": []
    },
    {
      "cell_type": "code",
      "source": [
        "sns.barplot(x=df_1['Age'],y=df_1['Purchase'],hue=df_1['Gender'])\n",
        "##전반적으로 male의 소비가 높음.\n",
        "#주소비층은 18-45세의 male"
      ],
      "metadata": {
        "id": "-cutEasoqxMb",
        "colab": {
          "base_uri": "https://localhost:8080/",
          "height": 298
        },
        "outputId": "e960decf-2c87-42ce-bbc3-bb029a7fbaea"
      },
      "execution_count": 55,
      "outputs": [
        {
          "output_type": "execute_result",
          "data": {
            "text/plain": [
              "<matplotlib.axes._subplots.AxesSubplot at 0x7fc12d7c7110>"
            ]
          },
          "metadata": {},
          "execution_count": 55
        },
        {
          "output_type": "display_data",
          "data": {
            "text/plain": [
              "<Figure size 432x288 with 1 Axes>"
            ],
            "image/png": "[encoded data removed]"
          },
          "metadata": {
            "needs_background": "light"
          }
        }
      ]
    },
    {
      "cell_type": "code",
      "source": [
        "sns.countplot(df_1['Stay_In_Current_City_Years'])"
      ],
      "metadata": {
        "id": "TmknBcNwqAMj",
        "colab": {
          "base_uri": "https://localhost:8080/",
          "height": 299
        },
        "outputId": "46411c08-3adb-45a0-b6c9-4541dc5fef81"
      },
      "execution_count": 53,
      "outputs": [
        {
          "output_type": "execute_result",
          "data": {
            "text/plain": [
              "<matplotlib.axes._subplots.AxesSubplot at 0x7fc12da05790>"
            ]
          },
          "metadata": {},
          "execution_count": 53
        },
        {
          "output_type": "display_data",
          "data": {
            "text/plain": [
              "<Figure size 432x288 with 1 Axes>"
            ],
            "image/png": "[encoded data removed]"
          },
          "metadata": {
            "needs_background": "light"
          }
        }
      ]
    },
    {
      "cell_type": "code",
      "source": [
        "plt.figure(figsize=(20,10))\n",
        "sns.heatmap(df_1.corr(),annot=True)"
      ],
      "metadata": {
        "id": "5PnOYMaDrANU",
        "colab": {
          "base_uri": "https://localhost:8080/",
          "height": 386
        },
        "outputId": "21b04f3c-b98e-4958-e44f-1810ade2ac33"
      },
      "execution_count": 56,
      "outputs": [
        {
          "output_type": "execute_result",
          "data": {
            "text/plain": [
              "<matplotlib.axes._subplots.AxesSubplot at 0x7fc12d77e450>"
            ]
          },
          "metadata": {},
          "execution_count": 56
        },
        {
          "output_type": "display_data",
          "data": {
            "text/plain": [
              "<Figure size 1440x720 with 2 Axes>"
            ],
            "image/png": "[encoded data removed]"
          },
          "metadata": {
            "needs_background": "light"
          }
        }
      ]
    },
    {
      "cell_type": "markdown",
      "source": [
        "##2.data analysis\n",
        "KNN_k구하기\n",
        "1)Grid Search\n",
        "2)K-fold cross-validation\n",
        "\n",
        "1. 일반적인 규칙은 없음 (분석가의 주관에 의존)\n",
        "2. 노이즈가 없고 잘 구조화된 데이터의 경우 K값이 작을수록 Good 👍🏻\n",
        "3. 보통 1~20 사이의 값으로 설정\n",
        "4. 동점이 나오는 경우를 막기 위하여 보통 홀수를 사용"
      ],
      "metadata": {
        "id": "ExslBpsmoaML"
      }
    },
    {
      "cell_type": "code",
      "source": [
        "k_range = range(1, 21) #보통의 경우\n",
        "train_accuracy = []\n",
        "test_accuracy = []\n",
        "\n",
        "for k in tqdm_notebook(k_range):\n",
        "    reg = KNeighborsRegressor(n_neighbors = k)     # default : weights = 'uniform(가중치 없음)', p = 2 (standard Euclidean metric)\n",
        "    reg.fit(X_train, y_train)\n",
        "    train_accuracy.append(reg.score(X_train, y_train))     # Train Data에 대한 결정계수\n",
        "    test_accuracy.append(reg.score(X_test, y_test))     # Test Data에 대한 결정계수"
      ],
      "metadata": {
        "colab": {
          "base_uri": "https://localhost:8080/",
          "height": 49,
          "referenced_widgets": [
            "325ac4bac32b49f7995291fd36252843",
            "63e252776bb543f3b1bb4358e73e8c92",
            "06753e607d0943df94cf5bc2900e8dd9",
            "d48480f970a6437fb046d5db72228c1a",
            "76e0a10d914347d49ee3e68fa2480002",
            "63b5dd6bc2d948cea15a956ff81ab3b5",
            "2aee171e27914de697a669201cd9b0a3",
            "e1814f31f7a0447eae015a61d34da2a3",
            "d9698f98f0a44cc2b6ba9b489e6701d6",
            "325c1ae50ecb4bbe91e0ef1b4a8f1911",
            "649209521c78402684721b042546bfa0"
          ]
        },
        "id": "l9CA48QhIbTX",
        "outputId": "b98fad03-84bc-4700-d78a-7b94e067bcfe"
      },
      "execution_count": 32,
      "outputs": [
        {
          "output_type": "display_data",
          "data": {
            "text/plain": [
              "  0%|          | 0/20 [00:00<?, ?it/s]"
            ],
            "application/vnd.jupyter.widget-view+json": {
              "version_major": 2,
              "version_minor": 0,
              "model_id": "325ac4bac32b49f7995291fd36252843"
            }
          },
          "metadata": {}
        }
      ]
    },
    {
      "cell_type": "code",
      "source": [
        "# K 변화에 따른 Accuracy 변화 시각화\n",
        "\n",
        "plt.plot(k_range, train_accuracy, label = \"Train Accuracy\")\n",
        "plt.plot(k_range, test_accuracy, label = \"Test Accuracy\")\n",
        "plt.xlabel(\"K\")\n",
        "plt.ylabel(\"Regression Score\")\n",
        "plt.grid()\n",
        "plt.legend()\n",
        "plt.show()"
      ],
      "metadata": {
        "colab": {
          "base_uri": "https://localhost:8080/",
          "height": 279
        },
        "id": "rRlLSr1VuCXs",
        "outputId": "83fe0ad2-e3db-4e63-ab1c-66b9637ef1d3"
      },
      "execution_count": 33,
      "outputs": [
        {
          "output_type": "display_data",
          "data": {
            "text/plain": [
              "<Figure size 432x288 with 1 Axes>"
            ],
            "image/png": "[encoded data removed]"
          },
          "metadata": {
            "needs_background": "light"
          }
        }
      ]
    },
    {
      "cell_type": "markdown",
      "source": [
        "교차 검증"
      ],
      "metadata": {
        "id": "BE-8GICtuuFV"
      }
    },
    {
      "cell_type": "code",
      "source": [
        "cv_scores = []\n",
        "\n",
        "for k in tqdm_notebook(k_range):\n",
        "    cv_reg = KNeighborsRegressor(n_neighbors = k)\n",
        "    scores = cross_val_score(cv_reg, X_train, y_train)\n",
        "    cv_scores.append(scores.mean())"
      ],
      "metadata": {
        "colab": {
          "base_uri": "https://localhost:8080/",
          "height": 49,
          "referenced_widgets": [
            "96f59e849cb749898b8aa8e693ed1803",
            "f9a7e34d6bbe49739ca1569c1477154d",
            "17307951f0324a75abc1b6b83fc6908b",
            "fc05c01a5cf54a26a0236ec42de90b98",
            "5e285a9d927642c2853a5c3e728c9589",
            "dcf143be36af42c29eb368f44f48304d",
            "7fd84dabb3854510af08c48b118c5722",
            "d97900a64485410abca858f7d5d61aff",
            "88a9863b0a394973bf0e3de517b85fa7",
            "abe4824ef2254de0920d6e1c4f9dc8c3",
            "ab2d547719a0493d857f92a58af304c6"
          ]
        },
        "id": "wPU4bFwEPvEH",
        "outputId": "4c9c9760-25ff-407d-d0dd-a9730aec3a99"
      },
      "execution_count": 37,
      "outputs": [
        {
          "output_type": "display_data",
          "data": {
            "text/plain": [
              "  0%|          | 0/20 [00:00<?, ?it/s]"
            ],
            "application/vnd.jupyter.widget-view+json": {
              "version_major": 2,
              "version_minor": 0,
              "model_id": "96f59e849cb749898b8aa8e693ed1803"
            }
          },
          "metadata": {}
        }
      ]
    },
    {
      "cell_type": "code",
      "source": [
        "max_acc = np.max(cv_scores)     # Accuracy의 최댓값\n",
        "\n",
        "best_k = [k_range[i] for i in range(len(cv_scores))     # best_k : Accuracy를 최대로 하는 K를 저장하는 리스트\n",
        "         if cv_scores[i] == max_acc]\n",
        "\n",
        "print(max_acc)\n",
        "print(\"Besk K Value :\", best_k)"
      ],
      "metadata": {
        "colab": {
          "base_uri": "https://localhost:8080/"
        },
        "id": "3NNwpyxuPwXp",
        "outputId": "9b2505ed-5013-45c7-b4e6-2a3ca39a0bdb"
      },
      "execution_count": 38,
      "outputs": [
        {
          "output_type": "stream",
          "name": "stdout",
          "text": [
            "0.3626063786650466\n",
            "Besk K Value : [15]\n"
          ]
        }
      ]
    },
    {
      "cell_type": "code",
      "source": [
        "pd.Series(cv_scores).sort_values(ascending = False).index[:9]"
      ],
      "metadata": {
        "colab": {
          "base_uri": "https://localhost:8080/"
        },
        "id": "luIDhQZ9QIob",
        "outputId": "b3f6ade9-a6ed-4d19-b27f-95ccdcfd2292"
      },
      "execution_count": 39,
      "outputs": [
        {
          "output_type": "execute_result",
          "data": {
            "text/plain": [
              "Int64Index([14, 13, 15, 17, 16, 12, 10, 18, 11], dtype='int64')"
            ]
          },
          "metadata": {},
          "execution_count": 39
        }
      ]
    },
    {
      "cell_type": "code",
      "source": [
        "plt.plot(k_range, cv_scores, 'go-')\n",
        "plt.title(\"Cross Validation Score\", fontsize = 15)\n",
        "plt.xlabel(\"K\")\n",
        "plt.ylabel(\"cv_reg Accuracy\")\n",
        "plt.axvline(best_k[0], color = \"r\", linestyle = \"--\")\n",
        "plt.show()"
      ],
      "metadata": {
        "colab": {
          "base_uri": "https://localhost:8080/",
          "height": 297
        },
        "id": "HzOtJ1EeQL-O",
        "outputId": "8638a458-b52f-40d3-eeb6-fd3e49303576"
      },
      "execution_count": 40,
      "outputs": [
        {
          "output_type": "display_data",
          "data": {
            "text/plain": [
              "<Figure size 432x288 with 1 Axes>"
            ],
            "image/png": "[encoded data removed]"
          },
          "metadata": {
            "needs_background": "light"
          }
        }
      ]
    },
    {
      "cell_type": "markdown",
      "source": [
        "##KNN"
      ],
      "metadata": {
        "id": "86o4mo3SQbJl"
      }
    },
    {
      "cell_type": "code",
      "source": [
        "from sklearn.neighbors import KNeighborsClassifier\n",
        "\n",
        "knn = KNeighborsClassifier()\n",
        "knn.fit(X_train, y_train)\n",
        "print(\"Test Score : {:.3f}\".format(knn.score(X_test, y_test)))"
      ],
      "metadata": {
        "colab": {
          "base_uri": "https://localhost:8080/"
        },
        "id": "-Zy9F7DITEPi",
        "outputId": "dfd5fbc0-66bc-4e26-e2c5-b2ba42eafa6a"
      },
      "execution_count": 41,
      "outputs": [
        {
          "output_type": "stream",
          "name": "stdout",
          "text": [
            "Test Score : 0.001\n"
          ]
        }
      ]
    },
    {
      "cell_type": "code",
      "source": [
        "results = knn.predict(X_test)\n",
        "results"
      ],
      "metadata": {
        "colab": {
          "base_uri": "https://localhost:8080/"
        },
        "id": "65SYe9KvuhIJ",
        "outputId": "735a62e5-87df-41d1-cbd5-031c8c242933"
      },
      "execution_count": 42,
      "outputs": [
        {
          "output_type": "execute_result",
          "data": {
            "text/plain": [
              "array([ 5280,  3489,    62,  2089,  7871,  3674,  3586,  5156,  5835,\n",
              "        5355,  5436,  8292,  7637,  1690,  1919,  3495,  6921,  8584,\n",
              "        3900,  7769,  3476, 11484,  3585,  5206,  6983,  6986,  3893,\n",
              "        6073,  5327, 11497,  2283,  8111,  7920,  5313,  7706,  5465,\n",
              "        2803,  4443,  5143,  5423,  4070,  5292,  5994,  5823,  4234,\n",
              "        3443,  3513,  3938,  3526,  7708,  2122,  3977,  3513,  5194,\n",
              "        9948,  3428,  3562,  3675,  3976,  2864, 11497,  5865,  8056,\n",
              "        1804,  3682,  3677,  4198,  6997,  2849,  5225,  4081,  4543,\n",
              "       11905, 11610,  3644,  7718,  7788,  2050,  3585,  3454,  3753,\n",
              "        3536,  3930,  5146,  5842,  7066,  5187,  4009,  4001,  4424,\n",
              "        3036,  3930,  7001,  3580,  4080,  7795,  3038,  5940,  5209,\n",
              "       10701,  2012,  3482,  5235,  5487,  1433,  4054,  3695,  3675,\n",
              "        5236,  4513,  5287,  3531,  4008,  5892,  1941,  3552,  1504,\n",
              "        1877,  4300,  3514,  4658,  3442,  1905,   941, 11635,  5236,\n",
              "        1802,  3577,  6078,  7779,  6099,  6137,  4111,  5161, 11399,\n",
              "       10082,  3474,  5931,  3721,  3957,  5931,  5845,  1841,  3676,\n",
              "        7921,  3985,  7637,  1821,  6068,  1565,  1751,  1802,  8017,\n",
              "        5372,  7800,  3495,  3910,  5964,  2152, 11865,  3445,  5971,\n",
              "         573,  5139,  4026,  7992,  2993,  7707,  8829,  8108,  7183,\n",
              "        2320,  3580,  4189,  1831,  5823,  6876,  8439,  6882,  7667,\n",
              "        5214,  7966,  3591,  5163,  4648,  4472,  5351,  4184,  3536,\n",
              "        5202,  1629,  5154,  5835,  8222,  1804,  5845, 11680, 11613,\n",
              "         747,    25,  4081,  4645,  8735,  2189,  5206,  2212,  7066,\n",
              "        3959,  3526,  1634,  5438,  3974,  2849,  7617,  4054,  5144,\n",
              "        6050,  5236,  3999,  5209,  4505,  1809,  5993,  1565,  5167,\n",
              "        8009,  5846,  4494,  1821,   127,  5318,  5416,  7992,  2098,\n",
              "        2098,  6890,  4219,  6004,  2199,  5476,  4021,  5232,  2067,\n",
              "        3526,  1733,  7921,  7945,   810,  5981,  5415,  1514,  4062,\n",
              "        8272,  8009,  1730,  3112,  1832,  5400,  3543,  3426,  7056,\n",
              "        3513,  7162,  3591,  7901,   703,  6035,  7841,  5259,   781,\n",
              "          36,  3755,  2008,  1965,  3975,  7134,  5214,  4184,  7063,\n",
              "        1773,  9882,  8570,  7921,  5966,   373,  1949,  3577,  1514,\n",
              "       11710,  1960,  2300,  1673,  7788,  4074,  4662,  5378,  3576,\n",
              "         254,  8161,  2639,  4410,  7637,  3525,  7816,  7070,  2061,\n",
              "        6925,  7582,  3580, 11561,  6064,  6101,  6996,  3426, 10649,\n",
              "        6682,  3526,  2185,  4444,   717,  3433,  2067,  1514,  6054,\n",
              "        6050, 11464,  2909,  7845,  5862,  4130,  3907, 11737,  4599,\n",
              "        5300,  3669,  5924,  1846,  7890, 11475,  4148,    37,  1831,\n",
              "        7707,  5835,  3737,  5478,  3982, 11426, 15195,  4140,  4140,\n",
              "        3702,  5892,  5906,  6101,  3577,  5388,  1816,  3893,  4419,\n",
              "        7829, 15375, 11496,  7933,  2212,  8174,  3976,  5926,  7985,\n",
              "        7996,  7539,  1435,  3489,  5374,  6181,  1895,  3753,  5309,\n",
              "        8137,  5395,  7887, 11680,  1897, 15216,  1850,  3578,  4243,\n",
              "        1773,  8209,  1966,  3974,  2016,  3761,  1802,  8174, 11403,\n",
              "        4243,  5856,  2183,  4130,  7163,  7590, 16109,  7480,  6023,\n",
              "        4110, 15456,  5957,  3974,  5259,  7913,  2008,  7706,  2639,\n",
              "        8197,  5235,  3721, 11710,  5210,  5280,   373,  3481,  7707,\n",
              "        5235,  2739,  5261,  3467,  7969,   610,  3921,  6692,  2039,\n",
              "        7771,  4054,  1802,  2025,  8144, 11430,  6143,  2994,  2098,\n",
              "        1382,  2061,  5981,  3562,  4493,  2961, 11380,  3808,  1803,\n",
              "        1694,  3452,  3691,  3501,  7773,  3452,  1797,  3666,    37,\n",
              "         580,  2309,  3534,  5480,  5443,  7945,  5202, 11459,  3508,\n",
              "        4437,  1849,  5315,  5418,  4710,  4410,  4054,   744,  7811,\n",
              "        1433,  7005,   591,  3496,  2116,  3496,  5224,  1797,  7634,\n",
              "        3523,  6883,  4581,  3489,  5993,  4505,  5342,   950,  5233,\n",
              "        8245,  3522,  3143,  4472,  6923,  1895,  1919,  4008,  1730,\n",
              "        8261,  1690,  3927,  1629,  2080,  2300, 11517,  8066,   703,\n",
              "        1985,  7620,  8702,  3993,  1916,  1433,  6056,  5236,  3112,\n",
              "        3501,  5287,   127,  5707,  6916,  5940,  1386,  5312,  4234,\n",
              "        4008,  6137,   580,  6084,  3721,  3621,  2006,  2092,  8144,\n",
              "         752,  7590,  1899,  5862,  5342,  3993,  5167,  7696,  1433,\n",
              "        8115,  5241,  5704, 11426,  3125,  7598, 11561,  4036,  2085,\n",
              "         810,  4009,  1941,  9600,  2371,  2152,  3893,  5226,  5211,\n",
              "       12019,  4173, 11901,   591,  5347,  5164,  4410,  7598,  3521,\n",
              "         767,  5473,  8745,  5464,  7032,  3930,  5409,  3525,  2016,\n",
              "        3442,  1985,  6967,  6359,  5331,  6046, 11584,  5174,  6873,\n",
              "        3507,  3489,  6884,  5252,  3112,  5353,  4013,  2015,  5891,\n",
              "         717,  7900,  5158,  4494,  3993,  3511, 12019,  3897,  8292,\n",
              "        5351,  1808,  1821,  8436,  7902, 10605,  4081,  3474,  2089,\n",
              "        1810,  1986,  3675,    62,  2803,  6004,  5351,  9961,  6021,\n",
              "        3489,  8009,  4661, 11831,  6137,  1784,  2025,  6137,  1958,\n",
              "        4205,  7117,  8144,   127,  5288,  6869,  1594,  5198,  7946,\n",
              "        8111,  7654,  7879,  2080,  5194,  1877,  6035,  7820,  1832,\n",
              "        1802, 11584,  5209,  3526,  7606,   610,  6899,  5209,  1720,\n",
              "        3886,  2949,    62,  3753,  2067,  3954,  2994,  6982,  1454,\n",
              "        1494,    14,  6572,  3903,  2841,  6004,  5201,  3523,  3524,\n",
              "        3562,  5315,  4062,  4091,  7816,  6964,  1717,  5835,  4419,\n",
              "        5146,  2140,  5157,  2961,  5355,  7637,  3834,    37,  3695,\n",
              "        1725,  8272,  1916,  2010,  6016,  4070,  3702,  5195,  7076,\n",
              "        6804,  1825,  5202,  5147,    49,  5468,   768,  5849,  3955,\n",
              "         585,  1841,  7778,  2039,  1694,  1382,  1858,  4437,  6913,\n",
              "        5224,  5441,  4008,  6059,  7881,  5384,  2080,  1504,  1797,\n",
              "        1910,  2300,  4081,   130,  3528,  1916,  5884,  6861,  4080,\n",
              "        7796,  1447,  7063,  2223, 11944,  7996,  3528,  7654,  1809,\n",
              "         606, 10986,  2107,  5146,  6866,  2211,  8167,  1812,  1905,\n",
              "        5195,  6692,  5331,  3726, 11850,  5233,  5224,  1803,  1903,\n",
              "          14,  5397,    14,  5823,  7802,  7590,  3526,  6167,  5926,\n",
              "        3467,  3508,  4405,  1965,  2138,  3482,  3526,  6105,  8071,\n",
              "        3993,  1540,  4081,  4614,  3438,  1737,  8171,  4634,  4243,\n",
              "        2211, 15555,  3526,  9567,  2300,  7945,  6900,  2309,  4558,\n",
              "        4101,  5212, 15768,  3702,  1728,  3489,  5884,  3489,  6096,\n",
              "         770,  3071,  4645,  4264,  7590,  6001,  1797,  1986,  1958,\n",
              "        3954,  3974,  4074,  8048,  5279,  4062,  3482,  4198,  2211,\n",
              "        1966,  5441,  7013,   557,  3957,    37,  1841,   764,  1637,\n",
              "       11459,  5247,  1941,  7788,  1803,  4198,  7617,  7590,  7182,\n",
              "        5214,  6050,  2841,  3072,  6886,  8020,  3591,  1940,  1802,\n",
              "        3576,  3751, 11489,   483,  1413,  5195,  2283, 11577,  3893,\n",
              "        1816,  1803,  7617,  7718,  7043,  5212,  3426,  4008,  3069,\n",
              "        5889,  3684,  1801,  7010,  4645,  5167,  2909,  5245,  4483,\n",
              "        3991,  5924,  3669,  1705,  2016,  5366,  5351,  3684,  4177,\n",
              "        4410,  2183, 11818,  3522,  5477,  7946,  4362,  1916, 12035,\n",
              "        3725, 11584,  4046,  4483,  8032,  5238,  3910,  6991,  7806,\n",
              "        8258,  3907,  4230,  2211,  7635,  3740,  4060,  7936,  2008,\n",
              "        1474,  3507,  1903,  2949,  8639,  1426,  5865,  3591,  1703,\n",
              "        1637,  8708,  3753,  3903,  7817,  1655,  7381,    62,  3675,\n",
              "        1825,  3438,  6032,  5220, 11838,  1737,  3569,   561,  3916,\n",
              "        4178,  5480,  3438,  5911,  7877,  4525,  1873,  3496,  5443,\n",
              "        4057,  3443, 12835,  7008,  1919,  5191,  3524,  5890,  4205,\n",
              "        3999,   950,   557,  1801,  7401,  3525,  7644,  7617,  3670,\n",
              "        3636,  5167, 11475,  8292,  4189,  3548,  5171,  7996,  5156,\n",
              "        5163,  4206,  4581,  1773,  6072,  2008,  1730,  3523,  8009,\n",
              "        5835])"
            ]
          },
          "metadata": {},
          "execution_count": 42
        }
      ]
    },
    {
      "cell_type": "code",
      "source": [
        ""
      ],
      "metadata": {
        "id": "mxPZUHTnTHSD"
      },
      "execution_count": 56,
      "outputs": []
    }
  ],
  "metadata": {
    "kernelspec": {
      "display_name": "Python 3",
      "language": "python",
      "name": "python3"
    },
    "language_info": {
      "codemirror_mode": {
        "name": "ipython",
        "version": 3
      },
      "file_extension": ".py",
      "mimetype": "text/x-python",
      "name": "python",
      "nbconvert_exporter": "python",
      "pygments_lexer": "ipython3",
      "version": "3.7.6"
    },
    "colab": {
      "name": "Tobigs_Week4_KNN.ipynb",
      "provenance": [],
      "collapsed_sections": []
    },
    "widgets": {
      "application/vnd.jupyter.widget-state+json": {
        "325ac4bac32b49f7995291fd36252843": {
          "model_module": "@jupyter-widgets/controls",
          "model_name": "HBoxModel",
          "model_module_version": "1.5.0",
          "state": {
            "_dom_classes": [],
            "_model_module": "@jupyter-widgets/controls",
            "_model_module_version": "1.5.0",
            "_model_name": "HBoxModel",
            "_view_count": null,
            "_view_module": "@jupyter-widgets/controls",
            "_view_module_version": "1.5.0",
            "_view_name": "HBoxView",
            "box_style": "",
            "children": [
              "IPY_MODEL_63e252776bb543f3b1bb4358e73e8c92",
              "IPY_MODEL_06753e607d0943df94cf5bc2900e8dd9",
              "IPY_MODEL_d48480f970a6437fb046d5db72228c1a"
            ],
            "layout": "IPY_MODEL_76e0a10d914347d49ee3e68fa2480002"
          }
        },
        "63e252776bb543f3b1bb4358e73e8c92": {
          "model_module": "@jupyter-widgets/controls",
          "model_name": "HTMLModel",
          "model_module_version": "1.5.0",
          "state": {
            "_dom_classes": [],
            "_model_module": "@jupyter-widgets/controls",
            "_model_module_version": "1.5.0",
            "_model_name": "HTMLModel",
            "_view_count": null,
            "_view_module": "@jupyter-widgets/controls",
            "_view_module_version": "1.5.0",
            "_view_name": "HTMLView",
            "description": "",
            "description_tooltip": null,
            "layout": "IPY_MODEL_63b5dd6bc2d948cea15a956ff81ab3b5",
            "placeholder": "​",
            "style": "IPY_MODEL_2aee171e27914de697a669201cd9b0a3",
            "value": "100%"
          }
        },
        "06753e607d0943df94cf5bc2900e8dd9": {
          "model_module": "@jupyter-widgets/controls",
          "model_name": "FloatProgressModel",
          "model_module_version": "1.5.0",
          "state": {
            "_dom_classes": [],
            "_model_module": "@jupyter-widgets/controls",
            "_model_module_version": "1.5.0",
            "_model_name": "FloatProgressModel",
            "_view_count": null,
            "_view_module": "@jupyter-widgets/controls",
            "_view_module_version": "1.5.0",
            "_view_name": "ProgressView",
            "bar_style": "success",
            "description": "",
            "description_tooltip": null,
            "layout": "IPY_MODEL_e1814f31f7a0447eae015a61d34da2a3",
            "max": 20,
            "min": 0,
            "orientation": "horizontal",
            "style": "IPY_MODEL_d9698f98f0a44cc2b6ba9b489e6701d6",
            "value": 20
          }
        },
        "d48480f970a6437fb046d5db72228c1a": {
          "model_module": "@jupyter-widgets/controls",
          "model_name": "HTMLModel",
          "model_module_version": "1.5.0",
          "state": {
            "_dom_classes": [],
            "_model_module": "@jupyter-widgets/controls",
            "_model_module_version": "1.5.0",
            "_model_name": "HTMLModel",
            "_view_count": null,
            "_view_module": "@jupyter-widgets/controls",
            "_view_module_version": "1.5.0",
            "_view_name": "HTMLView",
            "description": "",
            "description_tooltip": null,
            "layout": "IPY_MODEL_325c1ae50ecb4bbe91e0ef1b4a8f1911",
            "placeholder": "​",
            "style": "IPY_MODEL_649209521c78402684721b042546bfa0",
            "value": " 20/20 [00:10&lt;00:00,  1.83it/s]"
          }
        },
        "76e0a10d914347d49ee3e68fa2480002": {
          "model_module": "@jupyter-widgets/base",
          "model_name": "LayoutModel",
          "model_module_version": "1.2.0",
          "state": {
            "_model_module": "@jupyter-widgets/base",
            "_model_module_version": "1.2.0",
            "_model_name": "LayoutModel",
            "_view_count": null,
            "_view_module": "@jupyter-widgets/base",
            "_view_module_version": "1.2.0",
            "_view_name": "LayoutView",
            "align_content": null,
            "align_items": null,
            "align_self": null,
            "border": null,
            "bottom": null,
            "display": null,
            "flex": null,
            "flex_flow": null,
            "grid_area": null,
            "grid_auto_columns": null,
            "grid_auto_flow": null,
            "grid_auto_rows": null,
            "grid_column": null,
            "grid_gap": null,
            "grid_row": null,
            "grid_template_areas": null,
            "grid_template_columns": null,
            "grid_template_rows": null,
            "height": null,
            "justify_content": null,
            "justify_items": null,
            "left": null,
            "margin": null,
            "max_height": null,
            "max_width": null,
            "min_height": null,
            "min_width": null,
            "object_fit": null,
            "object_position": null,
            "order": null,
            "overflow": null,
            "overflow_x": null,
            "overflow_y": null,
            "padding": null,
            "right": null,
            "top": null,
            "visibility": null,
            "width": null
          }
        },
        "63b5dd6bc2d948cea15a956ff81ab3b5": {
          "model_module": "@jupyter-widgets/base",
          "model_name": "LayoutModel",
          "model_module_version": "1.2.0",
          "state": {
            "_model_module": "@jupyter-widgets/base",
            "_model_module_version": "1.2.0",
            "_model_name": "LayoutModel",
            "_view_count": null,
            "_view_module": "@jupyter-widgets/base",
            "_view_module_version": "1.2.0",
            "_view_name": "LayoutView",
            "align_content": null,
            "align_items": null,
            "align_self": null,
            "border": null,
            "bottom": null,
            "display": null,
            "flex": null,
            "flex_flow": null,
            "grid_area": null,
            "grid_auto_columns": null,
            "grid_auto_flow": null,
            "grid_auto_rows": null,
            "grid_column": null,
            "grid_gap": null,
            "grid_row": null,
            "grid_template_areas": null,
            "grid_template_columns": null,
            "grid_template_rows": null,
            "height": null,
            "justify_content": null,
            "justify_items": null,
            "left": null,
            "margin": null,
            "max_height": null,
            "max_width": null,
            "min_height": null,
            "min_width": null,
            "object_fit": null,
            "object_position": null,
            "order": null,
            "overflow": null,
            "overflow_x": null,
            "overflow_y": null,
            "padding": null,
            "right": null,
            "top": null,
            "visibility": null,
            "width": null
          }
        },
        "2aee171e27914de697a669201cd9b0a3": {
          "model_module": "@jupyter-widgets/controls",
          "model_name": "DescriptionStyleModel",
          "model_module_version": "1.5.0",
          "state": {
            "_model_module": "@jupyter-widgets/controls",
            "_model_module_version": "1.5.0",
            "_model_name": "DescriptionStyleModel",
            "_view_count": null,
            "_view_module": "@jupyter-widgets/base",
            "_view_module_version": "1.2.0",
            "_view_name": "StyleView",
            "description_width": ""
          }
        },
        "e1814f31f7a0447eae015a61d34da2a3": {
          "model_module": "@jupyter-widgets/base",
          "model_name": "LayoutModel",
          "model_module_version": "1.2.0",
          "state": {
            "_model_module": "@jupyter-widgets/base",
            "_model_module_version": "1.2.0",
            "_model_name": "LayoutModel",
            "_view_count": null,
            "_view_module": "@jupyter-widgets/base",
            "_view_module_version": "1.2.0",
            "_view_name": "LayoutView",
            "align_content": null,
            "align_items": null,
            "align_self": null,
            "border": null,
            "bottom": null,
            "display": null,
            "flex": null,
            "flex_flow": null,
            "grid_area": null,
            "grid_auto_columns": null,
            "grid_auto_flow": null,
            "grid_auto_rows": null,
            "grid_column": null,
            "grid_gap": null,
            "grid_row": null,
            "grid_template_areas": null,
            "grid_template_columns": null,
            "grid_template_rows": null,
            "height": null,
            "justify_content": null,
            "justify_items": null,
            "left": null,
            "margin": null,
            "max_height": null,
            "max_width": null,
            "min_height": null,
            "min_width": null,
            "object_fit": null,
            "object_position": null,
            "order": null,
            "overflow": null,
            "overflow_x": null,
            "overflow_y": null,
            "padding": null,
            "right": null,
            "top": null,
            "visibility": null,
            "width": null
          }
        },
        "d9698f98f0a44cc2b6ba9b489e6701d6": {
          "model_module": "@jupyter-widgets/controls",
          "model_name": "ProgressStyleModel",
          "model_module_version": "1.5.0",
          "state": {
            "_model_module": "@jupyter-widgets/controls",
            "_model_module_version": "1.5.0",
            "_model_name": "ProgressStyleModel",
            "_view_count": null,
            "_view_module": "@jupyter-widgets/base",
            "_view_module_version": "1.2.0",
            "_view_name": "StyleView",
            "bar_color": null,
            "description_width": ""
          }
        },
        "325c1ae50ecb4bbe91e0ef1b4a8f1911": {
          "model_module": "@jupyter-widgets/base",
          "model_name": "LayoutModel",
          "model_module_version": "1.2.0",
          "state": {
            "_model_module": "@jupyter-widgets/base",
            "_model_module_version": "1.2.0",
            "_model_name": "LayoutModel",
            "_view_count": null,
            "_view_module": "@jupyter-widgets/base",
            "_view_module_version": "1.2.0",
            "_view_name": "LayoutView",
            "align_content": null,
            "align_items": null,
            "align_self": null,
            "border": null,
            "bottom": null,
            "display": null,
            "flex": null,
            "flex_flow": null,
            "grid_area": null,
            "grid_auto_columns": null,
            "grid_auto_flow": null,
            "grid_auto_rows": null,
            "grid_column": null,
            "grid_gap": null,
            "grid_row": null,
            "grid_template_areas": null,
            "grid_template_columns": null,
            "grid_template_rows": null,
            "height": null,
            "justify_content": null,
            "justify_items": null,
            "left": null,
            "margin": null,
            "max_height": null,
            "max_width": null,
            "min_height": null,
            "min_width": null,
            "object_fit": null,
            "object_position": null,
            "order": null,
            "overflow": null,
            "overflow_x": null,
            "overflow_y": null,
            "padding": null,
            "right": null,
            "top": null,
            "visibility": null,
            "width": null
          }
        },
        "649209521c78402684721b042546bfa0": {
          "model_module": "@jupyter-widgets/controls",
          "model_name": "DescriptionStyleModel",
          "model_module_version": "1.5.0",
          "state": {
            "_model_module": "@jupyter-widgets/controls",
            "_model_module_version": "1.5.0",
            "_model_name": "DescriptionStyleModel",
            "_view_count": null,
            "_view_module": "@jupyter-widgets/base",
            "_view_module_version": "1.2.0",
            "_view_name": "StyleView",
            "description_width": ""
          }
        },
        "96f59e849cb749898b8aa8e693ed1803": {
          "model_module": "@jupyter-widgets/controls",
          "model_name": "HBoxModel",
          "model_module_version": "1.5.0",
          "state": {
            "_dom_classes": [],
            "_model_module": "@jupyter-widgets/controls",
            "_model_module_version": "1.5.0",
            "_model_name": "HBoxModel",
            "_view_count": null,
            "_view_module": "@jupyter-widgets/controls",
            "_view_module_version": "1.5.0",
            "_view_name": "HBoxView",
            "box_style": "",
            "children": [
              "IPY_MODEL_f9a7e34d6bbe49739ca1569c1477154d",
              "IPY_MODEL_17307951f0324a75abc1b6b83fc6908b",
              "IPY_MODEL_fc05c01a5cf54a26a0236ec42de90b98"
            ],
            "layout": "IPY_MODEL_5e285a9d927642c2853a5c3e728c9589"
          }
        },
        "f9a7e34d6bbe49739ca1569c1477154d": {
          "model_module": "@jupyter-widgets/controls",
          "model_name": "HTMLModel",
          "model_module_version": "1.5.0",
          "state": {
            "_dom_classes": [],
            "_model_module": "@jupyter-widgets/controls",
            "_model_module_version": "1.5.0",
            "_model_name": "HTMLModel",
            "_view_count": null,
            "_view_module": "@jupyter-widgets/controls",
            "_view_module_version": "1.5.0",
            "_view_name": "HTMLView",
            "description": "",
            "description_tooltip": null,
            "layout": "IPY_MODEL_dcf143be36af42c29eb368f44f48304d",
            "placeholder": "​",
            "style": "IPY_MODEL_7fd84dabb3854510af08c48b118c5722",
            "value": "100%"
          }
        },
        "17307951f0324a75abc1b6b83fc6908b": {
          "model_module": "@jupyter-widgets/controls",
          "model_name": "FloatProgressModel",
          "model_module_version": "1.5.0",
          "state": {
            "_dom_classes": [],
            "_model_module": "@jupyter-widgets/controls",
            "_model_module_version": "1.5.0",
            "_model_name": "FloatProgressModel",
            "_view_count": null,
            "_view_module": "@jupyter-widgets/controls",
            "_view_module_version": "1.5.0",
            "_view_name": "ProgressView",
            "bar_style": "success",
            "description": "",
            "description_tooltip": null,
            "layout": "IPY_MODEL_d97900a64485410abca858f7d5d61aff",
            "max": 20,
            "min": 0,
            "orientation": "horizontal",
            "style": "IPY_MODEL_88a9863b0a394973bf0e3de517b85fa7",
            "value": 20
          }
        },
        "fc05c01a5cf54a26a0236ec42de90b98": {
          "model_module": "@jupyter-widgets/controls",
          "model_name": "HTMLModel",
          "model_module_version": "1.5.0",
          "state": {
            "_dom_classes": [],
            "_model_module": "@jupyter-widgets/controls",
            "_model_module_version": "1.5.0",
            "_model_name": "HTMLModel",
            "_view_count": null,
            "_view_module": "@jupyter-widgets/controls",
            "_view_module_version": "1.5.0",
            "_view_name": "HTMLView",
            "description": "",
            "description_tooltip": null,
            "layout": "IPY_MODEL_abe4824ef2254de0920d6e1c4f9dc8c3",
            "placeholder": "​",
            "style": "IPY_MODEL_ab2d547719a0493d857f92a58af304c6",
            "value": " 20/20 [00:14&lt;00:00,  1.73it/s]"
          }
        },
        "5e285a9d927642c2853a5c3e728c9589": {
          "model_module": "@jupyter-widgets/base",
          "model_name": "LayoutModel",
          "model_module_version": "1.2.0",
          "state": {
            "_model_module": "@jupyter-widgets/base",
            "_model_module_version": "1.2.0",
            "_model_name": "LayoutModel",
            "_view_count": null,
            "_view_module": "@jupyter-widgets/base",
            "_view_module_version": "1.2.0",
            "_view_name": "LayoutView",
            "align_content": null,
            "align_items": null,
            "align_self": null,
            "border": null,
            "bottom": null,
            "display": null,
            "flex": null,
            "flex_flow": null,
            "grid_area": null,
            "grid_auto_columns": null,
            "grid_auto_flow": null,
            "grid_auto_rows": null,
            "grid_column": null,
            "grid_gap": null,
            "grid_row": null,
            "grid_template_areas": null,
            "grid_template_columns": null,
            "grid_template_rows": null,
            "height": null,
            "justify_content": null,
            "justify_items": null,
            "left": null,
            "margin": null,
            "max_height": null,
            "max_width": null,
            "min_height": null,
            "min_width": null,
            "object_fit": null,
            "object_position": null,
            "order": null,
            "overflow": null,
            "overflow_x": null,
            "overflow_y": null,
            "padding": null,
            "right": null,
            "top": null,
            "visibility": null,
            "width": null
          }
        },
        "dcf143be36af42c29eb368f44f48304d": {
          "model_module": "@jupyter-widgets/base",
          "model_name": "LayoutModel",
          "model_module_version": "1.2.0",
          "state": {
            "_model_module": "@jupyter-widgets/base",
            "_model_module_version": "1.2.0",
            "_model_name": "LayoutModel",
            "_view_count": null,
            "_view_module": "@jupyter-widgets/base",
            "_view_module_version": "1.2.0",
            "_view_name": "LayoutView",
            "align_content": null,
            "align_items": null,
            "align_self": null,
            "border": null,
            "bottom": null,
            "display": null,
            "flex": null,
            "flex_flow": null,
            "grid_area": null,
            "grid_auto_columns": null,
            "grid_auto_flow": null,
            "grid_auto_rows": null,
            "grid_column": null,
            "grid_gap": null,
            "grid_row": null,
            "grid_template_areas": null,
            "grid_template_columns": null,
            "grid_template_rows": null,
            "height": null,
            "justify_content": null,
            "justify_items": null,
            "left": null,
            "margin": null,
            "max_height": null,
            "max_width": null,
            "min_height": null,
            "min_width": null,
            "object_fit": null,
            "object_position": null,
            "order": null,
            "overflow": null,
            "overflow_x": null,
            "overflow_y": null,
            "padding": null,
            "right": null,
            "top": null,
            "visibility": null,
            "width": null
          }
        },
        "7fd84dabb3854510af08c48b118c5722": {
          "model_module": "@jupyter-widgets/controls",
          "model_name": "DescriptionStyleModel",
          "model_module_version": "1.5.0",
          "state": {
            "_model_module": "@jupyter-widgets/controls",
            "_model_module_version": "1.5.0",
            "_model_name": "DescriptionStyleModel",
            "_view_count": null,
            "_view_module": "@jupyter-widgets/base",
            "_view_module_version": "1.2.0",
            "_view_name": "StyleView",
            "description_width": ""
          }
        },
        "d97900a64485410abca858f7d5d61aff": {
          "model_module": "@jupyter-widgets/base",
          "model_name": "LayoutModel",
          "model_module_version": "1.2.0",
          "state": {
            "_model_module": "@jupyter-widgets/base",
            "_model_module_version": "1.2.0",
            "_model_name": "LayoutModel",
            "_view_count": null,
            "_view_module": "@jupyter-widgets/base",
            "_view_module_version": "1.2.0",
            "_view_name": "LayoutView",
            "align_content": null,
            "align_items": null,
            "align_self": null,
            "border": null,
            "bottom": null,
            "display": null,
            "flex": null,
            "flex_flow": null,
            "grid_area": null,
            "grid_auto_columns": null,
            "grid_auto_flow": null,
            "grid_auto_rows": null,
            "grid_column": null,
            "grid_gap": null,
            "grid_row": null,
            "grid_template_areas": null,
            "grid_template_columns": null,
            "grid_template_rows": null,
            "height": null,
            "justify_content": null,
            "justify_items": null,
            "left": null,
            "margin": null,
            "max_height": null,
            "max_width": null,
            "min_height": null,
            "min_width": null,
            "object_fit": null,
            "object_position": null,
            "order": null,
            "overflow": null,
            "overflow_x": null,
            "overflow_y": null,
            "padding": null,
            "right": null,
            "top": null,
            "visibility": null,
            "width": null
          }
        },
        "88a9863b0a394973bf0e3de517b85fa7": {
          "model_module": "@jupyter-widgets/controls",
          "model_name": "ProgressStyleModel",
          "model_module_version": "1.5.0",
          "state": {
            "_model_module": "@jupyter-widgets/controls",
            "_model_module_version": "1.5.0",
            "_model_name": "ProgressStyleModel",
            "_view_count": null,
            "_view_module": "@jupyter-widgets/base",
            "_view_module_version": "1.2.0",
            "_view_name": "StyleView",
            "bar_color": null,
            "description_width": ""
          }
        },
        "abe4824ef2254de0920d6e1c4f9dc8c3": {
          "model_module": "@jupyter-widgets/base",
          "model_name": "LayoutModel",
          "model_module_version": "1.2.0",
          "state": {
            "_model_module": "@jupyter-widgets/base",
            "_model_module_version": "1.2.0",
            "_model_name": "LayoutModel",
            "_view_count": null,
            "_view_module": "@jupyter-widgets/base",
            "_view_module_version": "1.2.0",
            "_view_name": "LayoutView",
            "align_content": null,
            "align_items": null,
            "align_self": null,
            "border": null,
            "bottom": null,
            "display": null,
            "flex": null,
            "flex_flow": null,
            "grid_area": null,
            "grid_auto_columns": null,
            "grid_auto_flow": null,
            "grid_auto_rows": null,
            "grid_column": null,
            "grid_gap": null,
            "grid_row": null,
            "grid_template_areas": null,
            "grid_template_columns": null,
            "grid_template_rows": null,
            "height": null,
            "justify_content": null,
            "justify_items": null,
            "left": null,
            "margin": null,
            "max_height": null,
            "max_width": null,
            "min_height": null,
            "min_width": null,
            "object_fit": null,
            "object_position": null,
            "order": null,
            "overflow": null,
            "overflow_x": null,
            "overflow_y": null,
            "padding": null,
            "right": null,
            "top": null,
            "visibility": null,
            "width": null
          }
        },
        "ab2d547719a0493d857f92a58af304c6": {
          "model_module": "@jupyter-widgets/controls",
          "model_name": "DescriptionStyleModel",
          "model_module_version": "1.5.0",
          "state": {
            "_model_module": "@jupyter-widgets/controls",
            "_model_module_version": "1.5.0",
            "_model_name": "DescriptionStyleModel",
            "_view_count": null,
            "_view_module": "@jupyter-widgets/base",
            "_view_module_version": "1.2.0",
            "_view_name": "StyleView",
            "description_width": ""
          }
        }
      }
    }
  },
  "nbformat": 4,
  "nbformat_minor": 0
}