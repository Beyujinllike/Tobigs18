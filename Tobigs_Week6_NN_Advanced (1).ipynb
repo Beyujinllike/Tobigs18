{
  "cells": [
    {
      "cell_type": "markdown",
      "metadata": {
        "id": "3w6SHm1p5yXs"
      },
      "source": [
        "# Advanced NN"
      ]
    },
    {
      "cell_type": "code",
      "execution_count": 2,
      "metadata": {
        "colab": {
          "base_uri": "https://localhost:8080/"
        },
        "id": "o_axI6k0QAVJ",
        "outputId": "7b10488f-4833-4196-ec7a-904da334e119"
      },
      "outputs": [
        {
          "output_type": "stream",
          "name": "stdout",
          "text": [
            "Drive already mounted at /content/drive; to attempt to forcibly remount, call drive.mount(\"/content/drive\", force_remount=True).\n"
          ]
        }
      ],
      "source": [
        "from google.colab import drive\n",
        "drive.mount('/content/drive')"
      ]
    },
    {
      "cell_type": "code",
      "execution_count": 3,
      "metadata": {
        "id": "j-Q0FSR5rENI"
      },
      "outputs": [],
      "source": [
        "import numpy as np\n",
        "import pandas as pd\n",
        "import matplotlib.pyplot as plt\n",
        "\n",
        "import tensorflow as tf\n",
        "from tensorflow import keras\n",
        "\n",
        "import warnings\n",
        "warnings.filterwarnings(action='ignore')\n",
        "\n",
        "data_dir = '/content/drive/MyDrive/NN심화 강의자료/'"
      ]
    },
    {
      "cell_type": "markdown",
      "metadata": {
        "id": "hGgljobEsCNS"
      },
      "source": [
        "# 데이터 확인"
      ]
    },
    {
      "cell_type": "markdown",
      "metadata": {
        "id": "MjOsDF5ctFWp"
      },
      "source": [
        "| Label | Description |\n",
        "| --- | --- |\n",
        "| 0 | T-shirt/top |\n",
        "| 1 | Trouser |\n",
        "| 2 | Pullover |\n",
        "| 3 | Dress |\n",
        "| 4 | Coat |\n",
        "| 5 | Sandal |\n",
        "| 6 | Shirt |\n",
        "| 7 | Sneaker |\n",
        "| 8 | Bag |\n",
        "| 9 | Ankle boot |\n",
        "\n",
        "데이터 출처: https://github.com/zalandoresearch/fashion-mnist"
      ]
    },
    {
      "cell_type": "code",
      "execution_count": 4,
      "metadata": {
        "id": "HIXF9qR4mN8J"
      },
      "outputs": [],
      "source": [
        "Train = pd.read_csv(data_dir + 'Train.csv')\n",
        "Test = pd.read_csv(data_dir + 'Test.csv')\n",
        "submission = pd.read_csv(data_dir + 'submission.csv')"
      ]
    },
    {
      "cell_type": "code",
      "execution_count": 5,
      "metadata": {
        "colab": {
          "base_uri": "https://localhost:8080/",
          "height": 299
        },
        "id": "qzA34937ss3T",
        "outputId": "3d0a38f6-675c-44b7-8e19-d87fc2126800"
      },
      "outputs": [
        {
          "output_type": "execute_result",
          "data": {
            "text/plain": [
              "   0  1  2  3  4  5  6  7  8  9  ...  775  776  777  778  779  780  781  782  \\\n",
              "0  0  0  0  0  0  0  0  0  0  0  ...    0    0    0    0    0    0    0    0   \n",
              "1  0  0  0  0  0  0  0  0  0  0  ...    0    0    0    0    0    0    0    0   \n",
              "2  0  0  0  0  0  0  0  0  0  0  ...    0    0    0    0    0    0    0    0   \n",
              "3  0  0  0  0  0  0  0  0  0  0  ...    0    0    0    0    0    0    0    0   \n",
              "4  0  0  0  0  0  0  0  0  0  0  ...    0    0    0    0    0    0    0    0   \n",
              "\n",
              "   783  label  \n",
              "0    0      1  \n",
              "1    0      3  \n",
              "2    0      8  \n",
              "3    0      7  \n",
              "4    0      5  \n",
              "\n",
              "[5 rows x 785 columns]"
            ],
            "text/html": [
              "\n",
              "  <div id=\"df-0f11a24c-ee11-4ba5-be09-2e2ba6088b8c\">\n",
              "    <div class=\"colab-df-container\">\n",
              "      <div>\n",
              "<style scoped>\n",
              "    .dataframe tbody tr th:only-of-type {\n",
              "        vertical-align: middle;\n",
              "    }\n",
              "\n",
              "    .dataframe tbody tr th {\n",
              "        vertical-align: top;\n",
              "    }\n",
              "\n",
              "    .dataframe thead th {\n",
              "        text-align: right;\n",
              "    }\n",
              "</style>\n",
              "<table border=\"1\" class=\"dataframe\">\n",
              "  <thead>\n",
              "    <tr style=\"text-align: right;\">\n",
              "      <th></th>\n",
              "      <th>0</th>\n",
              "      <th>1</th>\n",
              "      <th>2</th>\n",
              "      <th>3</th>\n",
              "      <th>4</th>\n",
              "      <th>5</th>\n",
              "      <th>6</th>\n",
              "      <th>7</th>\n",
              "      <th>8</th>\n",
              "      <th>9</th>\n",
              "      <th>...</th>\n",
              "      <th>775</th>\n",
              "      <th>776</th>\n",
              "      <th>777</th>\n",
              "      <th>778</th>\n",
              "      <th>779</th>\n",
              "      <th>780</th>\n",
              "      <th>781</th>\n",
              "      <th>782</th>\n",
              "      <th>783</th>\n",
              "      <th>label</th>\n",
              "    </tr>\n",
              "  </thead>\n",
              "  <tbody>\n",
              "    <tr>\n",
              "      <th>0</th>\n",
              "      <td>0</td>\n",
              "      <td>0</td>\n",
              "      <td>0</td>\n",
              "      <td>0</td>\n",
              "      <td>0</td>\n",
              "      <td>0</td>\n",
              "      <td>0</td>\n",
              "      <td>0</td>\n",
              "      <td>0</td>\n",
              "      <td>0</td>\n",
              "      <td>...</td>\n",
              "      <td>0</td>\n",
              "      <td>0</td>\n",
              "      <td>0</td>\n",
              "      <td>0</td>\n",
              "      <td>0</td>\n",
              "      <td>0</td>\n",
              "      <td>0</td>\n",
              "      <td>0</td>\n",
              "      <td>0</td>\n",
              "      <td>1</td>\n",
              "    </tr>\n",
              "    <tr>\n",
              "      <th>1</th>\n",
              "      <td>0</td>\n",
              "      <td>0</td>\n",
              "      <td>0</td>\n",
              "      <td>0</td>\n",
              "      <td>0</td>\n",
              "      <td>0</td>\n",
              "      <td>0</td>\n",
              "      <td>0</td>\n",
              "      <td>0</td>\n",
              "      <td>0</td>\n",
              "      <td>...</td>\n",
              "      <td>0</td>\n",
              "      <td>0</td>\n",
              "      <td>0</td>\n",
              "      <td>0</td>\n",
              "      <td>0</td>\n",
              "      <td>0</td>\n",
              "      <td>0</td>\n",
              "      <td>0</td>\n",
              "      <td>0</td>\n",
              "      <td>3</td>\n",
              "    </tr>\n",
              "    <tr>\n",
              "      <th>2</th>\n",
              "      <td>0</td>\n",
              "      <td>0</td>\n",
              "      <td>0</td>\n",
              "      <td>0</td>\n",
              "      <td>0</td>\n",
              "      <td>0</td>\n",
              "      <td>0</td>\n",
              "      <td>0</td>\n",
              "      <td>0</td>\n",
              "      <td>0</td>\n",
              "      <td>...</td>\n",
              "      <td>0</td>\n",
              "      <td>0</td>\n",
              "      <td>0</td>\n",
              "      <td>0</td>\n",
              "      <td>0</td>\n",
              "      <td>0</td>\n",
              "      <td>0</td>\n",
              "      <td>0</td>\n",
              "      <td>0</td>\n",
              "      <td>8</td>\n",
              "    </tr>\n",
              "    <tr>\n",
              "      <th>3</th>\n",
              "      <td>0</td>\n",
              "      <td>0</td>\n",
              "      <td>0</td>\n",
              "      <td>0</td>\n",
              "      <td>0</td>\n",
              "      <td>0</td>\n",
              "      <td>0</td>\n",
              "      <td>0</td>\n",
              "      <td>0</td>\n",
              "      <td>0</td>\n",
              "      <td>...</td>\n",
              "      <td>0</td>\n",
              "      <td>0</td>\n",
              "      <td>0</td>\n",
              "      <td>0</td>\n",
              "      <td>0</td>\n",
              "      <td>0</td>\n",
              "      <td>0</td>\n",
              "      <td>0</td>\n",
              "      <td>0</td>\n",
              "      <td>7</td>\n",
              "    </tr>\n",
              "    <tr>\n",
              "      <th>4</th>\n",
              "      <td>0</td>\n",
              "      <td>0</td>\n",
              "      <td>0</td>\n",
              "      <td>0</td>\n",
              "      <td>0</td>\n",
              "      <td>0</td>\n",
              "      <td>0</td>\n",
              "      <td>0</td>\n",
              "      <td>0</td>\n",
              "      <td>0</td>\n",
              "      <td>...</td>\n",
              "      <td>0</td>\n",
              "      <td>0</td>\n",
              "      <td>0</td>\n",
              "      <td>0</td>\n",
              "      <td>0</td>\n",
              "      <td>0</td>\n",
              "      <td>0</td>\n",
              "      <td>0</td>\n",
              "      <td>0</td>\n",
              "      <td>5</td>\n",
              "    </tr>\n",
              "  </tbody>\n",
              "</table>\n",
              "<p>5 rows × 785 columns</p>\n",
              "</div>\n",
              "      <button class=\"colab-df-convert\" onclick=\"convertToInteractive('df-0f11a24c-ee11-4ba5-be09-2e2ba6088b8c')\"\n",
              "              title=\"Convert this dataframe to an interactive table.\"\n",
              "              style=\"display:none;\">\n",
              "        \n",
              "  <svg xmlns=\"http://www.w3.org/2000/svg\" height=\"24px\"viewBox=\"0 0 24 24\"\n",
              "       width=\"24px\">\n",
              "    <path d=\"M0 0h24v24H0V0z\" fill=\"none\"/>\n",
              "    <path d=\"M18.56 5.44l.94 2.06.94-2.06 2.06-.94-2.06-.94-.94-2.06-.94 2.06-2.06.94zm-11 1L8.5 8.5l.94-2.06 2.06-.94-2.06-.94L8.5 2.5l-.94 2.06-2.06.94zm10 10l.94 2.06.94-2.06 2.06-.94-2.06-.94-.94-2.06-.94 2.06-2.06.94z\"/><path d=\"M17.41 7.96l-1.37-1.37c-.4-.4-.92-.59-1.43-.59-.52 0-1.04.2-1.43.59L10.3 9.45l-7.72 7.72c-.78.78-.78 2.05 0 2.83L4 21.41c.39.39.9.59 1.41.59.51 0 1.02-.2 1.41-.59l7.78-7.78 2.81-2.81c.8-.78.8-2.07 0-2.86zM5.41 20L4 18.59l7.72-7.72 1.47 1.35L5.41 20z\"/>\n",
              "  </svg>\n",
              "      </button>\n",
              "      \n",
              "  <style>\n",
              "    .colab-df-container {\n",
              "      display:flex;\n",
              "      flex-wrap:wrap;\n",
              "      gap: 12px;\n",
              "    }\n",
              "\n",
              "    .colab-df-convert {\n",
              "      background-color: #E8F0FE;\n",
              "      border: none;\n",
              "      border-radius: 50%;\n",
              "      cursor: pointer;\n",
              "      display: none;\n",
              "      fill: #1967D2;\n",
              "      height: 32px;\n",
              "      padding: 0 0 0 0;\n",
              "      width: 32px;\n",
              "    }\n",
              "\n",
              "    .colab-df-convert:hover {\n",
              "      background-color: #E2EBFA;\n",
              "      box-shadow: 0px 1px 2px rgba(60, 64, 67, 0.3), 0px 1px 3px 1px rgba(60, 64, 67, 0.15);\n",
              "      fill: #174EA6;\n",
              "    }\n",
              "\n",
              "    [theme=dark] .colab-df-convert {\n",
              "      background-color: #3B4455;\n",
              "      fill: #D2E3FC;\n",
              "    }\n",
              "\n",
              "    [theme=dark] .colab-df-convert:hover {\n",
              "      background-color: #434B5C;\n",
              "      box-shadow: 0px 1px 3px 1px rgba(0, 0, 0, 0.15);\n",
              "      filter: drop-shadow(0px 1px 2px rgba(0, 0, 0, 0.3));\n",
              "      fill: #FFFFFF;\n",
              "    }\n",
              "  </style>\n",
              "\n",
              "      <script>\n",
              "        const buttonEl =\n",
              "          document.querySelector('#df-0f11a24c-ee11-4ba5-be09-2e2ba6088b8c button.colab-df-convert');\n",
              "        buttonEl.style.display =\n",
              "          google.colab.kernel.accessAllowed ? 'block' : 'none';\n",
              "\n",
              "        async function convertToInteractive(key) {\n",
              "          const element = document.querySelector('#df-0f11a24c-ee11-4ba5-be09-2e2ba6088b8c');\n",
              "          const dataTable =\n",
              "            await google.colab.kernel.invokeFunction('convertToInteractive',\n",
              "                                                     [key], {});\n",
              "          if (!dataTable) return;\n",
              "\n",
              "          const docLinkHtml = 'Like what you see? Visit the ' +\n",
              "            '<a target=\"_blank\" href=https://colab.research.google.com/notebooks/data_table.ipynb>data table notebook</a>'\n",
              "            + ' to learn more about interactive tables.';\n",
              "          element.innerHTML = '';\n",
              "          dataTable['output_type'] = 'display_data';\n",
              "          await google.colab.output.renderOutput(dataTable, element);\n",
              "          const docLink = document.createElement('div');\n",
              "          docLink.innerHTML = docLinkHtml;\n",
              "          element.appendChild(docLink);\n",
              "        }\n",
              "      </script>\n",
              "    </div>\n",
              "  </div>\n",
              "  "
            ]
          },
          "metadata": {},
          "execution_count": 5
        }
      ],
      "source": [
        "Train.head()"
      ]
    },
    {
      "cell_type": "code",
      "execution_count": 6,
      "metadata": {
        "colab": {
          "base_uri": "https://localhost:8080/"
        },
        "id": "Z6cOY9xjzynQ",
        "outputId": "de49d45b-b2e1-4797-fe89-05f421061b08"
      },
      "outputs": [
        {
          "output_type": "execute_result",
          "data": {
            "text/plain": [
              "10"
            ]
          },
          "metadata": {},
          "execution_count": 6
        }
      ],
      "source": [
        "Train['label'].nunique()\n"
      ]
    },
    {
      "cell_type": "code",
      "execution_count": 7,
      "metadata": {
        "colab": {
          "base_uri": "https://localhost:8080/",
          "height": 299
        },
        "id": "52VNSOWNsuor",
        "outputId": "94e450ca-37f5-4a09-d757-0478eca45f1d"
      },
      "outputs": [
        {
          "output_type": "execute_result",
          "data": {
            "text/plain": [
              "   0  1  2  3  4  5  6  7  8  9  ...  774  775  776  777  778  779  780  781  \\\n",
              "0  0  0  0  0  0  0  0  0  0  0  ...   67    0    0    0    0    0    0    0   \n",
              "1  0  0  0  0  0  0  0  1  2  0  ...    0    0    1    0    0    0    0    0   \n",
              "2  0  0  0  0  0  0  0  0  0  0  ...   93   58   78   45    0    0    0    0   \n",
              "3  0  0  0  0  0  0  0  0  0  0  ...   71    0    0    0    0    0    0    0   \n",
              "4  0  0  0  0  0  0  0  0  0  0  ...    0    0   63    0    0    0    0    0   \n",
              "\n",
              "   782  783  \n",
              "0    0    0  \n",
              "1    0    0  \n",
              "2    0    0  \n",
              "3    0    0  \n",
              "4    0    0  \n",
              "\n",
              "[5 rows x 784 columns]"
            ],
            "text/html": [
              "\n",
              "  <div id=\"df-108ac57e-6f14-4ad3-b294-c7a70d8750f4\">\n",
              "    <div class=\"colab-df-container\">\n",
              "      <div>\n",
              "<style scoped>\n",
              "    .dataframe tbody tr th:only-of-type {\n",
              "        vertical-align: middle;\n",
              "    }\n",
              "\n",
              "    .dataframe tbody tr th {\n",
              "        vertical-align: top;\n",
              "    }\n",
              "\n",
              "    .dataframe thead th {\n",
              "        text-align: right;\n",
              "    }\n",
              "</style>\n",
              "<table border=\"1\" class=\"dataframe\">\n",
              "  <thead>\n",
              "    <tr style=\"text-align: right;\">\n",
              "      <th></th>\n",
              "      <th>0</th>\n",
              "      <th>1</th>\n",
              "      <th>2</th>\n",
              "      <th>3</th>\n",
              "      <th>4</th>\n",
              "      <th>5</th>\n",
              "      <th>6</th>\n",
              "      <th>7</th>\n",
              "      <th>8</th>\n",
              "      <th>9</th>\n",
              "      <th>...</th>\n",
              "      <th>774</th>\n",
              "      <th>775</th>\n",
              "      <th>776</th>\n",
              "      <th>777</th>\n",
              "      <th>778</th>\n",
              "      <th>779</th>\n",
              "      <th>780</th>\n",
              "      <th>781</th>\n",
              "      <th>782</th>\n",
              "      <th>783</th>\n",
              "    </tr>\n",
              "  </thead>\n",
              "  <tbody>\n",
              "    <tr>\n",
              "      <th>0</th>\n",
              "      <td>0</td>\n",
              "      <td>0</td>\n",
              "      <td>0</td>\n",
              "      <td>0</td>\n",
              "      <td>0</td>\n",
              "      <td>0</td>\n",
              "      <td>0</td>\n",
              "      <td>0</td>\n",
              "      <td>0</td>\n",
              "      <td>0</td>\n",
              "      <td>...</td>\n",
              "      <td>67</td>\n",
              "      <td>0</td>\n",
              "      <td>0</td>\n",
              "      <td>0</td>\n",
              "      <td>0</td>\n",
              "      <td>0</td>\n",
              "      <td>0</td>\n",
              "      <td>0</td>\n",
              "      <td>0</td>\n",
              "      <td>0</td>\n",
              "    </tr>\n",
              "    <tr>\n",
              "      <th>1</th>\n",
              "      <td>0</td>\n",
              "      <td>0</td>\n",
              "      <td>0</td>\n",
              "      <td>0</td>\n",
              "      <td>0</td>\n",
              "      <td>0</td>\n",
              "      <td>0</td>\n",
              "      <td>1</td>\n",
              "      <td>2</td>\n",
              "      <td>0</td>\n",
              "      <td>...</td>\n",
              "      <td>0</td>\n",
              "      <td>0</td>\n",
              "      <td>1</td>\n",
              "      <td>0</td>\n",
              "      <td>0</td>\n",
              "      <td>0</td>\n",
              "      <td>0</td>\n",
              "      <td>0</td>\n",
              "      <td>0</td>\n",
              "      <td>0</td>\n",
              "    </tr>\n",
              "    <tr>\n",
              "      <th>2</th>\n",
              "      <td>0</td>\n",
              "      <td>0</td>\n",
              "      <td>0</td>\n",
              "      <td>0</td>\n",
              "      <td>0</td>\n",
              "      <td>0</td>\n",
              "      <td>0</td>\n",
              "      <td>0</td>\n",
              "      <td>0</td>\n",
              "      <td>0</td>\n",
              "      <td>...</td>\n",
              "      <td>93</td>\n",
              "      <td>58</td>\n",
              "      <td>78</td>\n",
              "      <td>45</td>\n",
              "      <td>0</td>\n",
              "      <td>0</td>\n",
              "      <td>0</td>\n",
              "      <td>0</td>\n",
              "      <td>0</td>\n",
              "      <td>0</td>\n",
              "    </tr>\n",
              "    <tr>\n",
              "      <th>3</th>\n",
              "      <td>0</td>\n",
              "      <td>0</td>\n",
              "      <td>0</td>\n",
              "      <td>0</td>\n",
              "      <td>0</td>\n",
              "      <td>0</td>\n",
              "      <td>0</td>\n",
              "      <td>0</td>\n",
              "      <td>0</td>\n",
              "      <td>0</td>\n",
              "      <td>...</td>\n",
              "      <td>71</td>\n",
              "      <td>0</td>\n",
              "      <td>0</td>\n",
              "      <td>0</td>\n",
              "      <td>0</td>\n",
              "      <td>0</td>\n",
              "      <td>0</td>\n",
              "      <td>0</td>\n",
              "      <td>0</td>\n",
              "      <td>0</td>\n",
              "    </tr>\n",
              "    <tr>\n",
              "      <th>4</th>\n",
              "      <td>0</td>\n",
              "      <td>0</td>\n",
              "      <td>0</td>\n",
              "      <td>0</td>\n",
              "      <td>0</td>\n",
              "      <td>0</td>\n",
              "      <td>0</td>\n",
              "      <td>0</td>\n",
              "      <td>0</td>\n",
              "      <td>0</td>\n",
              "      <td>...</td>\n",
              "      <td>0</td>\n",
              "      <td>0</td>\n",
              "      <td>63</td>\n",
              "      <td>0</td>\n",
              "      <td>0</td>\n",
              "      <td>0</td>\n",
              "      <td>0</td>\n",
              "      <td>0</td>\n",
              "      <td>0</td>\n",
              "      <td>0</td>\n",
              "    </tr>\n",
              "  </tbody>\n",
              "</table>\n",
              "<p>5 rows × 784 columns</p>\n",
              "</div>\n",
              "      <button class=\"colab-df-convert\" onclick=\"convertToInteractive('df-108ac57e-6f14-4ad3-b294-c7a70d8750f4')\"\n",
              "              title=\"Convert this dataframe to an interactive table.\"\n",
              "              style=\"display:none;\">\n",
              "        \n",
              "  <svg xmlns=\"http://www.w3.org/2000/svg\" height=\"24px\"viewBox=\"0 0 24 24\"\n",
              "       width=\"24px\">\n",
              "    <path d=\"M0 0h24v24H0V0z\" fill=\"none\"/>\n",
              "    <path d=\"M18.56 5.44l.94 2.06.94-2.06 2.06-.94-2.06-.94-.94-2.06-.94 2.06-2.06.94zm-11 1L8.5 8.5l.94-2.06 2.06-.94-2.06-.94L8.5 2.5l-.94 2.06-2.06.94zm10 10l.94 2.06.94-2.06 2.06-.94-2.06-.94-.94-2.06-.94 2.06-2.06.94z\"/><path d=\"M17.41 7.96l-1.37-1.37c-.4-.4-.92-.59-1.43-.59-.52 0-1.04.2-1.43.59L10.3 9.45l-7.72 7.72c-.78.78-.78 2.05 0 2.83L4 21.41c.39.39.9.59 1.41.59.51 0 1.02-.2 1.41-.59l7.78-7.78 2.81-2.81c.8-.78.8-2.07 0-2.86zM5.41 20L4 18.59l7.72-7.72 1.47 1.35L5.41 20z\"/>\n",
              "  </svg>\n",
              "      </button>\n",
              "      \n",
              "  <style>\n",
              "    .colab-df-container {\n",
              "      display:flex;\n",
              "      flex-wrap:wrap;\n",
              "      gap: 12px;\n",
              "    }\n",
              "\n",
              "    .colab-df-convert {\n",
              "      background-color: #E8F0FE;\n",
              "      border: none;\n",
              "      border-radius: 50%;\n",
              "      cursor: pointer;\n",
              "      display: none;\n",
              "      fill: #1967D2;\n",
              "      height: 32px;\n",
              "      padding: 0 0 0 0;\n",
              "      width: 32px;\n",
              "    }\n",
              "\n",
              "    .colab-df-convert:hover {\n",
              "      background-color: #E2EBFA;\n",
              "      box-shadow: 0px 1px 2px rgba(60, 64, 67, 0.3), 0px 1px 3px 1px rgba(60, 64, 67, 0.15);\n",
              "      fill: #174EA6;\n",
              "    }\n",
              "\n",
              "    [theme=dark] .colab-df-convert {\n",
              "      background-color: #3B4455;\n",
              "      fill: #D2E3FC;\n",
              "    }\n",
              "\n",
              "    [theme=dark] .colab-df-convert:hover {\n",
              "      background-color: #434B5C;\n",
              "      box-shadow: 0px 1px 3px 1px rgba(0, 0, 0, 0.15);\n",
              "      filter: drop-shadow(0px 1px 2px rgba(0, 0, 0, 0.3));\n",
              "      fill: #FFFFFF;\n",
              "    }\n",
              "  </style>\n",
              "\n",
              "      <script>\n",
              "        const buttonEl =\n",
              "          document.querySelector('#df-108ac57e-6f14-4ad3-b294-c7a70d8750f4 button.colab-df-convert');\n",
              "        buttonEl.style.display =\n",
              "          google.colab.kernel.accessAllowed ? 'block' : 'none';\n",
              "\n",
              "        async function convertToInteractive(key) {\n",
              "          const element = document.querySelector('#df-108ac57e-6f14-4ad3-b294-c7a70d8750f4');\n",
              "          const dataTable =\n",
              "            await google.colab.kernel.invokeFunction('convertToInteractive',\n",
              "                                                     [key], {});\n",
              "          if (!dataTable) return;\n",
              "\n",
              "          const docLinkHtml = 'Like what you see? Visit the ' +\n",
              "            '<a target=\"_blank\" href=https://colab.research.google.com/notebooks/data_table.ipynb>data table notebook</a>'\n",
              "            + ' to learn more about interactive tables.';\n",
              "          element.innerHTML = '';\n",
              "          dataTable['output_type'] = 'display_data';\n",
              "          await google.colab.output.renderOutput(dataTable, element);\n",
              "          const docLink = document.createElement('div');\n",
              "          docLink.innerHTML = docLinkHtml;\n",
              "          element.appendChild(docLink);\n",
              "        }\n",
              "      </script>\n",
              "    </div>\n",
              "  </div>\n",
              "  "
            ]
          },
          "metadata": {},
          "execution_count": 7
        }
      ],
      "source": [
        "Test.head()"
      ]
    },
    {
      "cell_type": "code",
      "execution_count": 8,
      "metadata": {
        "colab": {
          "base_uri": "https://localhost:8080/",
          "height": 206
        },
        "id": "ARoY6t1Hsv2i",
        "outputId": "5572beeb-b36b-4b83-c6ff-16258cc4b6da"
      },
      "outputs": [
        {
          "output_type": "execute_result",
          "data": {
            "text/plain": [
              "        ID  Class\n",
              "0  AAAA0x1      1\n",
              "1  AAAA0x2      1\n",
              "2  AAAA0x5      1\n",
              "3  AAAA0x7      1\n",
              "4  AAAA0xc      1"
            ],
            "text/html": [
              "\n",
              "  <div id=\"df-25de1878-8fb4-4660-bca2-21c6c1b5e9d9\">\n",
              "    <div class=\"colab-df-container\">\n",
              "      <div>\n",
              "<style scoped>\n",
              "    .dataframe tbody tr th:only-of-type {\n",
              "        vertical-align: middle;\n",
              "    }\n",
              "\n",
              "    .dataframe tbody tr th {\n",
              "        vertical-align: top;\n",
              "    }\n",
              "\n",
              "    .dataframe thead th {\n",
              "        text-align: right;\n",
              "    }\n",
              "</style>\n",
              "<table border=\"1\" class=\"dataframe\">\n",
              "  <thead>\n",
              "    <tr style=\"text-align: right;\">\n",
              "      <th></th>\n",
              "      <th>ID</th>\n",
              "      <th>Class</th>\n",
              "    </tr>\n",
              "  </thead>\n",
              "  <tbody>\n",
              "    <tr>\n",
              "      <th>0</th>\n",
              "      <td>AAAA0x1</td>\n",
              "      <td>1</td>\n",
              "    </tr>\n",
              "    <tr>\n",
              "      <th>1</th>\n",
              "      <td>AAAA0x2</td>\n",
              "      <td>1</td>\n",
              "    </tr>\n",
              "    <tr>\n",
              "      <th>2</th>\n",
              "      <td>AAAA0x5</td>\n",
              "      <td>1</td>\n",
              "    </tr>\n",
              "    <tr>\n",
              "      <th>3</th>\n",
              "      <td>AAAA0x7</td>\n",
              "      <td>1</td>\n",
              "    </tr>\n",
              "    <tr>\n",
              "      <th>4</th>\n",
              "      <td>AAAA0xc</td>\n",
              "      <td>1</td>\n",
              "    </tr>\n",
              "  </tbody>\n",
              "</table>\n",
              "</div>\n",
              "      <button class=\"colab-df-convert\" onclick=\"convertToInteractive('df-25de1878-8fb4-4660-bca2-21c6c1b5e9d9')\"\n",
              "              title=\"Convert this dataframe to an interactive table.\"\n",
              "              style=\"display:none;\">\n",
              "        \n",
              "  <svg xmlns=\"http://www.w3.org/2000/svg\" height=\"24px\"viewBox=\"0 0 24 24\"\n",
              "       width=\"24px\">\n",
              "    <path d=\"M0 0h24v24H0V0z\" fill=\"none\"/>\n",
              "    <path d=\"M18.56 5.44l.94 2.06.94-2.06 2.06-.94-2.06-.94-.94-2.06-.94 2.06-2.06.94zm-11 1L8.5 8.5l.94-2.06 2.06-.94-2.06-.94L8.5 2.5l-.94 2.06-2.06.94zm10 10l.94 2.06.94-2.06 2.06-.94-2.06-.94-.94-2.06-.94 2.06-2.06.94z\"/><path d=\"M17.41 7.96l-1.37-1.37c-.4-.4-.92-.59-1.43-.59-.52 0-1.04.2-1.43.59L10.3 9.45l-7.72 7.72c-.78.78-.78 2.05 0 2.83L4 21.41c.39.39.9.59 1.41.59.51 0 1.02-.2 1.41-.59l7.78-7.78 2.81-2.81c.8-.78.8-2.07 0-2.86zM5.41 20L4 18.59l7.72-7.72 1.47 1.35L5.41 20z\"/>\n",
              "  </svg>\n",
              "      </button>\n",
              "      \n",
              "  <style>\n",
              "    .colab-df-container {\n",
              "      display:flex;\n",
              "      flex-wrap:wrap;\n",
              "      gap: 12px;\n",
              "    }\n",
              "\n",
              "    .colab-df-convert {\n",
              "      background-color: #E8F0FE;\n",
              "      border: none;\n",
              "      border-radius: 50%;\n",
              "      cursor: pointer;\n",
              "      display: none;\n",
              "      fill: #1967D2;\n",
              "      height: 32px;\n",
              "      padding: 0 0 0 0;\n",
              "      width: 32px;\n",
              "    }\n",
              "\n",
              "    .colab-df-convert:hover {\n",
              "      background-color: #E2EBFA;\n",
              "      box-shadow: 0px 1px 2px rgba(60, 64, 67, 0.3), 0px 1px 3px 1px rgba(60, 64, 67, 0.15);\n",
              "      fill: #174EA6;\n",
              "    }\n",
              "\n",
              "    [theme=dark] .colab-df-convert {\n",
              "      background-color: #3B4455;\n",
              "      fill: #D2E3FC;\n",
              "    }\n",
              "\n",
              "    [theme=dark] .colab-df-convert:hover {\n",
              "      background-color: #434B5C;\n",
              "      box-shadow: 0px 1px 3px 1px rgba(0, 0, 0, 0.15);\n",
              "      filter: drop-shadow(0px 1px 2px rgba(0, 0, 0, 0.3));\n",
              "      fill: #FFFFFF;\n",
              "    }\n",
              "  </style>\n",
              "\n",
              "      <script>\n",
              "        const buttonEl =\n",
              "          document.querySelector('#df-25de1878-8fb4-4660-bca2-21c6c1b5e9d9 button.colab-df-convert');\n",
              "        buttonEl.style.display =\n",
              "          google.colab.kernel.accessAllowed ? 'block' : 'none';\n",
              "\n",
              "        async function convertToInteractive(key) {\n",
              "          const element = document.querySelector('#df-25de1878-8fb4-4660-bca2-21c6c1b5e9d9');\n",
              "          const dataTable =\n",
              "            await google.colab.kernel.invokeFunction('convertToInteractive',\n",
              "                                                     [key], {});\n",
              "          if (!dataTable) return;\n",
              "\n",
              "          const docLinkHtml = 'Like what you see? Visit the ' +\n",
              "            '<a target=\"_blank\" href=https://colab.research.google.com/notebooks/data_table.ipynb>data table notebook</a>'\n",
              "            + ' to learn more about interactive tables.';\n",
              "          element.innerHTML = '';\n",
              "          dataTable['output_type'] = 'display_data';\n",
              "          await google.colab.output.renderOutput(dataTable, element);\n",
              "          const docLink = document.createElement('div');\n",
              "          docLink.innerHTML = docLinkHtml;\n",
              "          element.appendChild(docLink);\n",
              "        }\n",
              "      </script>\n",
              "    </div>\n",
              "  </div>\n",
              "  "
            ]
          },
          "metadata": {},
          "execution_count": 8
        }
      ],
      "source": [
        "submission.head()"
      ]
    },
    {
      "cell_type": "code",
      "execution_count": 9,
      "metadata": {
        "id": "26AwQFvemYxx"
      },
      "outputs": [],
      "source": [
        "X = Train.iloc[:, :-1].values\n",
        "X = X.reshape(-1, 28, 28, 1)\n",
        "y = Train.iloc[:, -1].values"
      ]
    },
    {
      "cell_type": "code",
      "execution_count": 10,
      "metadata": {
        "colab": {
          "base_uri": "https://localhost:8080/",
          "height": 60
        },
        "id": "kg63u1Fwjfi6",
        "outputId": "ea286b48-e47f-4751-baa8-98c8bbc65325"
      },
      "outputs": [
        {
          "output_type": "display_data",
          "data": {
            "text/plain": [
              "<Figure size 1440x72 with 20 Axes>"
            ],
            "image/png": "[encoded data removed]"
          },
          "metadata": {
            "needs_background": "light"
          }
        }
      ],
      "source": [
        "pltsize = 1\n",
        "plt.figure(figsize=(20 * pltsize, pltsize))\n",
        "for idx in range(0, 20):\n",
        "  plt.subplot(1, 20, idx + 1)\n",
        "  plt.axis('off')\n",
        "  plt.imshow(X[idx].reshape(28, 28), cmap='gray_r')\n",
        "  plt.title(f'Class : {y[idx]}')"
      ]
    },
    {
      "cell_type": "code",
      "execution_count": 11,
      "metadata": {
        "id": "1MLqSq7utSGD"
      },
      "outputs": [],
      "source": [
        "X_test = Test.values\n",
        "X_test = X_test.reshape(-1, 28, 28, 1)"
      ]
    },
    {
      "cell_type": "code",
      "execution_count": 12,
      "metadata": {
        "colab": {
          "base_uri": "https://localhost:8080/",
          "height": 51
        },
        "id": "pzLOHRjvtYaD",
        "outputId": "8af6d94d-e75b-4a15-92c3-3a17e187fecd"
      },
      "outputs": [
        {
          "output_type": "display_data",
          "data": {
            "text/plain": [
              "<Figure size 1440x72 with 20 Axes>"
            ],
            "image/png": "[encoded data removed]"
          },
          "metadata": {
            "needs_background": "light"
          }
        }
      ],
      "source": [
        "pltsize = 1\n",
        "plt.figure(figsize=(20 * pltsize, pltsize))\n",
        "for idx in range(0, 20):\n",
        "  plt.subplot(1, 20, idx + 1)\n",
        "  plt.axis('off')\n",
        "  plt.imshow(X_test[idx].reshape(28, 28), cmap='gray_r')"
      ]
    },
    {
      "cell_type": "markdown",
      "metadata": {
        "id": "iSnwe75AsEPa"
      },
      "source": [
        "# 데이터 분리"
      ]
    },
    {
      "cell_type": "code",
      "execution_count": 13,
      "metadata": {
        "id": "73ttBq_osFM0"
      },
      "outputs": [],
      "source": [
        "from sklearn.model_selection import train_test_split\n",
        "\n",
        "X_train, X_val, y_train, y_val = train_test_split(X, y, test_size = 0.2, random_state = 16, stratify = y, shuffle = True)\n",
        "\n",
        "# 정규화\n",
        "X_train = X_train / 255.0\n",
        "X_val = X_val / 255.0\n",
        "X_test = X_test / 255.0"
      ]
    },
    {
      "cell_type": "markdown",
      "metadata": {
        "id": "pWfHesQguKjT"
      },
      "source": [
        "# Simple DNN\n",
        "\n",
        "DNN(Deep Neural Network)\n",
        "ANN문제해결을 위해 은닉층 확대한 모델\n",
        "( 2개이상의 은닉층)\n",
        "\n",
        "<->CNN의 경우 convolution과정과 pooling과정으로 이루어진 것이 특징"
      ]
    },
    {
      "cell_type": "code",
      "execution_count": 14,
      "metadata": {
        "id": "03C79ihXu820"
      },
      "outputs": [],
      "source": [
        "BATCH_SIZE = 128\n",
        "EPOCHS = 15"
      ]
    },
    {
      "cell_type": "code",
      "execution_count": null,
      "metadata": {
        "colab": {
          "base_uri": "https://localhost:8080/"
        },
        "id": "WNHF7JEsR6dY",
        "outputId": "32f05030-79f6-4818-f7f3-a2a8f219e44d"
      },
      "outputs": [
        {
          "name": "stdout",
          "output_type": "stream",
          "text": [
            "Model: \"sequential_2\"\n",
            "_________________________________________________________________\n",
            "Layer (type)                 Output Shape              Param #   \n",
            "=================================================================\n",
            "flatten_2 (Flatten)          (None, 784)               0         \n",
            "_________________________________________________________________\n",
            "dense_6 (Dense)              (None, 512)               401920    \n",
            "_________________________________________________________________\n",
            "dense_7 (Dense)              (None, 256)               131328    \n",
            "_________________________________________________________________\n",
            "dense_8 (Dense)              (None, 128)               32896     \n",
            "_________________________________________________________________\n",
            "dense_9 (Dense)              (None, 10)                1290      \n",
            "=================================================================\n",
            "Total params: 567,434\n",
            "Trainable params: 567,434\n",
            "Non-trainable params: 0\n",
            "_________________________________________________________________\n",
            "None\n"
          ]
        }
      ],
      "source": [
        "model = keras.Sequential([\n",
        "    keras.layers.Flatten(input_shape=(28, 28)), #1차원으로\n",
        "    keras.layers.Dense(512, activation='linear'),\n",
        "    keras.layers.Dense(256, activation='linear'),\n",
        "    keras.layers.Dense(128, activation='linear'),\n",
        "    keras.layers.Dense(10, activation='softmax')\n",
        "])\n",
        "\n",
        "print(model.summary())"
      ]
    },
    {
      "cell_type": "code",
      "execution_count": null,
      "metadata": {
        "id": "NAmD5nM3SDvq"
      },
      "outputs": [],
      "source": [
        "optimizer = keras.optimizers.SGD(lr=0.01, momentum=0.5)\n",
        "model.compile(optimizer=optimizer,\n",
        "              loss=tf.keras.losses.SparseCategoricalCrossentropy(from_logits=True),\n",
        "              metrics=['accuracy'])"
      ]
    },
    {
      "cell_type": "code",
      "execution_count": null,
      "metadata": {
        "colab": {
          "base_uri": "https://localhost:8080/"
        },
        "id": "YVas5F2xSE0i",
        "outputId": "f3ea2776-3762-4046-f1ed-a8a0a46782a4"
      },
      "outputs": [
        {
          "name": "stdout",
          "output_type": "stream",
          "text": [
            "Epoch 1/10\n",
            "WARNING:tensorflow:Model was constructed with shape (None, 28, 28) for input KerasTensor(type_spec=TensorSpec(shape=(None, 28, 28), dtype=tf.float32, name='flatten_2_input'), name='flatten_2_input', description=\"created by layer 'flatten_2_input'\"), but it was called on an input with incompatible shape (None, 784).\n",
            "WARNING:tensorflow:Model was constructed with shape (None, 28, 28) for input KerasTensor(type_spec=TensorSpec(shape=(None, 28, 28), dtype=tf.float32, name='flatten_2_input'), name='flatten_2_input', description=\"created by layer 'flatten_2_input'\"), but it was called on an input with incompatible shape (None, 784).\n",
            "1481/1488 [============================>.] - ETA: 0s - loss: 0.4054 - accuracy: 0.8558WARNING:tensorflow:Model was constructed with shape (None, 28, 28) for input KerasTensor(type_spec=TensorSpec(shape=(None, 28, 28), dtype=tf.float32, name='flatten_2_input'), name='flatten_2_input', description=\"created by layer 'flatten_2_input'\"), but it was called on an input with incompatible shape (None, 784).\n",
            "1488/1488 [==============================] - 7s 4ms/step - loss: 0.4056 - accuracy: 0.8557 - val_loss: 0.4230 - val_accuracy: 0.8524\n",
            "Epoch 2/10\n",
            "1488/1488 [==============================] - 6s 4ms/step - loss: 0.3979 - accuracy: 0.8603 - val_loss: 0.4206 - val_accuracy: 0.8546\n",
            "Epoch 3/10\n",
            "1488/1488 [==============================] - 6s 4ms/step - loss: 0.3950 - accuracy: 0.8601 - val_loss: 0.4206 - val_accuracy: 0.8576\n",
            "Epoch 4/10\n",
            "1488/1488 [==============================] - 6s 4ms/step - loss: 0.3922 - accuracy: 0.8611 - val_loss: 0.4147 - val_accuracy: 0.8610\n",
            "Epoch 5/10\n",
            "1488/1488 [==============================] - 6s 4ms/step - loss: 0.3903 - accuracy: 0.8628 - val_loss: 0.4142 - val_accuracy: 0.8576\n",
            "Epoch 6/10\n",
            "1488/1488 [==============================] - 6s 4ms/step - loss: 0.3901 - accuracy: 0.8621 - val_loss: 0.4346 - val_accuracy: 0.8473\n",
            "Epoch 7/10\n",
            "1488/1488 [==============================] - 6s 4ms/step - loss: 0.3888 - accuracy: 0.8624 - val_loss: 0.4207 - val_accuracy: 0.8548\n",
            "Epoch 8/10\n",
            "1488/1488 [==============================] - 6s 4ms/step - loss: 0.3881 - accuracy: 0.8624 - val_loss: 0.4229 - val_accuracy: 0.8582\n",
            "Epoch 9/10\n",
            "1488/1488 [==============================] - 6s 4ms/step - loss: 0.3870 - accuracy: 0.8628 - val_loss: 0.4168 - val_accuracy: 0.8556\n",
            "Epoch 10/10\n",
            "1488/1488 [==============================] - 6s 4ms/step - loss: 0.3863 - accuracy: 0.8631 - val_loss: 0.4229 - val_accuracy: 0.8548\n"
          ]
        }
      ],
      "source": [
        "result = model.fit(X_train, y_train, epochs=10, validation_data = (X_val, y_val))"
      ]
    },
    {
      "cell_type": "code",
      "execution_count": null,
      "metadata": {
        "colab": {
          "base_uri": "https://localhost:8080/",
          "height": 336
        },
        "id": "AMNqp8Y4sIjA",
        "outputId": "dd497562-0f4c-427b-8664-4eebc9f01904"
      },
      "outputs": [
        {
          "data": {
            "image/png": "[encoded data removed]",
            "text/plain": [
              "<Figure size 1080x360 with 2 Axes>"
            ]
          },
          "metadata": {
            "needs_background": "light"
          },
          "output_type": "display_data"
        }
      ],
      "source": [
        "fig, axes = plt.subplots(nrows=1, ncols=2, figsize=(15, 5))\n",
        "\n",
        "axes[0].plot(result.epoch, result.history[\"loss\"], label='Train Loss')\n",
        "axes[0].plot(result.epoch, result.history['val_loss'], label='Val Loss')\n",
        "axes[0].set_ylim(0.0, 1)\n",
        "axes[0].legend()\n",
        "axes[0].set_title('Loss')\n",
        "\n",
        "axes[1].plot(result.epoch, result.history['accuracy'], label='Train Accuracy')\n",
        "axes[1].plot(result.epoch, result.history['val_accuracy'], label='Val Accuracy')\n",
        "axes[1].set_ylim(0.7, 1)\n",
        "axes[1].legend()\n",
        "axes[1].set_title('ACC')\n",
        "\n",
        "plt.show()"
      ]
    },
    {
      "cell_type": "markdown",
      "metadata": {
        "id": "RyUYGuRhsYrp"
      },
      "source": [
        "# Activation Function"
      ]
    },
    {
      "cell_type": "code",
      "execution_count": null,
      "metadata": {
        "colab": {
          "base_uri": "https://localhost:8080/"
        },
        "id": "MEXkcaJ4pMVq",
        "outputId": "c83c7e16-56a9-40b2-902c-8f2d6117297b"
      },
      "outputs": [
        {
          "name": "stdout",
          "output_type": "stream",
          "text": [
            "Model: \"sequential_3\"\n",
            "_________________________________________________________________\n",
            "Layer (type)                 Output Shape              Param #   \n",
            "=================================================================\n",
            "flatten_3 (Flatten)          (None, 784)               0         \n",
            "_________________________________________________________________\n",
            "dense_10 (Dense)             (None, 512)               401920    \n",
            "_________________________________________________________________\n",
            "dense_11 (Dense)             (None, 256)               131328    \n",
            "_________________________________________________________________\n",
            "dense_12 (Dense)             (None, 128)               32896     \n",
            "_________________________________________________________________\n",
            "dense_13 (Dense)             (None, 10)                1290      \n",
            "=================================================================\n",
            "Total params: 567,434\n",
            "Trainable params: 567,434\n",
            "Non-trainable params: 0\n",
            "_________________________________________________________________\n",
            "None\n"
          ]
        }
      ],
      "source": [
        "model = keras.Sequential([\n",
        "    keras.layers.Flatten(input_shape=(28, 28)),\n",
        "    keras.layers.Dense(512, activation='relu'),\n",
        "    keras.layers.Dense(256, activation='relu'),\n",
        "    keras.layers.Dense(128, activation='relu'),\n",
        "    keras.layers.Dense(10, activation='softmax')\n",
        "])\n",
        "\n",
        "print(model.summary())"
      ]
    },
    {
      "cell_type": "code",
      "execution_count": null,
      "metadata": {
        "id": "XtT3TuyLpsSw"
      },
      "outputs": [],
      "source": [
        "optimizer = keras.optimizers.SGD(lr=0.01, momentum=0.5)\n",
        "model.compile(optimizer=optimizer,\n",
        "              loss=tf.keras.losses.SparseCategoricalCrossentropy(from_logits=True),\n",
        "              metrics=['accuracy'])"
      ]
    },
    {
      "cell_type": "code",
      "execution_count": null,
      "metadata": {
        "colab": {
          "base_uri": "https://localhost:8080/"
        },
        "id": "Og0aNx5iWrlb",
        "outputId": "e3af5aa8-7ef0-4141-db5e-944547249cad"
      },
      "outputs": [
        {
          "name": "stdout",
          "output_type": "stream",
          "text": [
            "Epoch 1/10\n",
            "WARNING:tensorflow:Model was constructed with shape (None, 28, 28) for input KerasTensor(type_spec=TensorSpec(shape=(None, 28, 28), dtype=tf.float32, name='flatten_3_input'), name='flatten_3_input', description=\"created by layer 'flatten_3_input'\"), but it was called on an input with incompatible shape (None, 784).\n",
            "WARNING:tensorflow:Model was constructed with shape (None, 28, 28) for input KerasTensor(type_spec=TensorSpec(shape=(None, 28, 28), dtype=tf.float32, name='flatten_3_input'), name='flatten_3_input', description=\"created by layer 'flatten_3_input'\"), but it was called on an input with incompatible shape (None, 784).\n",
            "1483/1488 [============================>.] - ETA: 0s - loss: 0.6418 - accuracy: 0.7823WARNING:tensorflow:Model was constructed with shape (None, 28, 28) for input KerasTensor(type_spec=TensorSpec(shape=(None, 28, 28), dtype=tf.float32, name='flatten_3_input'), name='flatten_3_input', description=\"created by layer 'flatten_3_input'\"), but it was called on an input with incompatible shape (None, 784).\n",
            "1488/1488 [==============================] - 7s 4ms/step - loss: 0.6416 - accuracy: 0.7823 - val_loss: 0.4552 - val_accuracy: 0.8419\n",
            "Epoch 2/10\n",
            "1488/1488 [==============================] - 6s 4ms/step - loss: 0.4443 - accuracy: 0.8414 - val_loss: 0.4005 - val_accuracy: 0.8595\n",
            "Epoch 3/10\n",
            "1488/1488 [==============================] - 6s 4ms/step - loss: 0.3972 - accuracy: 0.8568 - val_loss: 0.3702 - val_accuracy: 0.8674\n",
            "Epoch 4/10\n",
            "1488/1488 [==============================] - 6s 4ms/step - loss: 0.3699 - accuracy: 0.8658 - val_loss: 0.3727 - val_accuracy: 0.8677\n",
            "Epoch 5/10\n",
            "1488/1488 [==============================] - 7s 4ms/step - loss: 0.3472 - accuracy: 0.8721 - val_loss: 0.3433 - val_accuracy: 0.8766\n",
            "Epoch 6/10\n",
            "1488/1488 [==============================] - 6s 4ms/step - loss: 0.3301 - accuracy: 0.8778 - val_loss: 0.3782 - val_accuracy: 0.8581\n",
            "Epoch 7/10\n",
            "1488/1488 [==============================] - 6s 4ms/step - loss: 0.3145 - accuracy: 0.8838 - val_loss: 0.3340 - val_accuracy: 0.8794\n",
            "Epoch 8/10\n",
            "1488/1488 [==============================] - 6s 4ms/step - loss: 0.2995 - accuracy: 0.8896 - val_loss: 0.3133 - val_accuracy: 0.8850\n",
            "Epoch 9/10\n",
            "1488/1488 [==============================] - 6s 4ms/step - loss: 0.2877 - accuracy: 0.8936 - val_loss: 0.3088 - val_accuracy: 0.8871\n",
            "Epoch 10/10\n",
            "1488/1488 [==============================] - 6s 4ms/step - loss: 0.2772 - accuracy: 0.8973 - val_loss: 0.3301 - val_accuracy: 0.8793\n"
          ]
        }
      ],
      "source": [
        "result = model.fit(X_train, y_train, epochs=10, validation_data = (X_val, y_val))"
      ]
    },
    {
      "cell_type": "code",
      "execution_count": null,
      "metadata": {
        "colab": {
          "base_uri": "https://localhost:8080/",
          "height": 336
        },
        "id": "Qy5ufRZuWt6y",
        "outputId": "384e3619-4728-4c98-8f52-cab3490990f4"
      },
      "outputs": [
        {
          "data": {
            "image/png": "[encoded data removed]",
            "text/plain": [
              "<Figure size 1080x360 with 2 Axes>"
            ]
          },
          "metadata": {
            "needs_background": "light"
          },
          "output_type": "display_data"
        }
      ],
      "source": [
        "fig, axes = plt.subplots(nrows=1, ncols=2, figsize=(15, 5))\n",
        "\n",
        "axes[0].plot(result.epoch, result.history[\"loss\"], label='Train Loss')\n",
        "axes[0].plot(result.epoch, result.history['val_loss'], label='Val Loss')\n",
        "axes[0].set_ylim(0.0, 1)\n",
        "axes[0].legend()\n",
        "axes[0].set_title('Loss')\n",
        "\n",
        "axes[1].plot(result.epoch, result.history['accuracy'], label='Train Accuracy')\n",
        "axes[1].plot(result.epoch, result.history['val_accuracy'], label='Val Accuracy')\n",
        "axes[1].set_ylim(0.7, 1)\n",
        "axes[1].legend()\n",
        "axes[1].set_title('ACC')\n",
        "\n",
        "plt.show()"
      ]
    },
    {
      "cell_type": "markdown",
      "metadata": {
        "id": "WNBsJv5TscN7"
      },
      "source": [
        "# Weight Initialization"
      ]
    },
    {
      "cell_type": "code",
      "execution_count": null,
      "metadata": {
        "colab": {
          "base_uri": "https://localhost:8080/"
        },
        "id": "ueHAnrwNtTc9",
        "outputId": "1dc01c27-ac0d-461a-ea7d-b3c3c6a9f8e2"
      },
      "outputs": [
        {
          "name": "stdout",
          "output_type": "stream",
          "text": [
            "Model: \"sequential_4\"\n",
            "_________________________________________________________________\n",
            "Layer (type)                 Output Shape              Param #   \n",
            "=================================================================\n",
            "flatten_4 (Flatten)          (None, 784)               0         \n",
            "_________________________________________________________________\n",
            "dense_14 (Dense)             (None, 512)               401920    \n",
            "_________________________________________________________________\n",
            "dense_15 (Dense)             (None, 256)               131328    \n",
            "_________________________________________________________________\n",
            "dense_16 (Dense)             (None, 128)               32896     \n",
            "_________________________________________________________________\n",
            "dense_17 (Dense)             (None, 10)                1290      \n",
            "=================================================================\n",
            "Total params: 567,434\n",
            "Trainable params: 567,434\n",
            "Non-trainable params: 0\n",
            "_________________________________________________________________\n",
            "None\n"
          ]
        }
      ],
      "source": [
        "initializer = keras.initializers.HeUniform(seed = 21)\n",
        "model = keras.Sequential([\n",
        "    keras.layers.Flatten(input_shape=(28, 28)),\n",
        "    keras.layers.Dense(512, activation='relu', kernel_initializer=initializer),\n",
        "    keras.layers.Dense(256, activation='relu', kernel_initializer=initializer),\n",
        "    keras.layers.Dense(128, activation='relu', kernel_initializer=initializer),\n",
        "    keras.layers.Dense(10, activation='softmax', kernel_initializer=initializer)\n",
        "])\n",
        "\n",
        "print(model.summary())"
      ]
    },
    {
      "cell_type": "code",
      "execution_count": null,
      "metadata": {
        "id": "cowoTV5OXdUO"
      },
      "outputs": [],
      "source": [
        "optimizer = keras.optimizers.SGD(lr=0.01, momentum=0.5)\n",
        "model.compile(optimizer=optimizer,\n",
        "              loss=tf.keras.losses.SparseCategoricalCrossentropy(from_logits=True),\n",
        "              metrics=['accuracy'])"
      ]
    },
    {
      "cell_type": "code",
      "execution_count": null,
      "metadata": {
        "colab": {
          "base_uri": "https://localhost:8080/"
        },
        "id": "5nTAuHIIXfma",
        "outputId": "3e762043-c0cb-46ae-8551-1ffc596060e6"
      },
      "outputs": [
        {
          "name": "stdout",
          "output_type": "stream",
          "text": [
            "Epoch 1/10\n",
            "WARNING:tensorflow:Model was constructed with shape (None, 28, 28) for input KerasTensor(type_spec=TensorSpec(shape=(None, 28, 28), dtype=tf.float32, name='flatten_4_input'), name='flatten_4_input', description=\"created by layer 'flatten_4_input'\"), but it was called on an input with incompatible shape (None, 784).\n",
            "WARNING:tensorflow:Model was constructed with shape (None, 28, 28) for input KerasTensor(type_spec=TensorSpec(shape=(None, 28, 28), dtype=tf.float32, name='flatten_4_input'), name='flatten_4_input', description=\"created by layer 'flatten_4_input'\"), but it was called on an input with incompatible shape (None, 784).\n",
            "1484/1488 [============================>.] - ETA: 0s - loss: 0.5949 - accuracy: 0.7954WARNING:tensorflow:Model was constructed with shape (None, 28, 28) for input KerasTensor(type_spec=TensorSpec(shape=(None, 28, 28), dtype=tf.float32, name='flatten_4_input'), name='flatten_4_input', description=\"created by layer 'flatten_4_input'\"), but it was called on an input with incompatible shape (None, 784).\n",
            "1488/1488 [==============================] - 6s 4ms/step - loss: 0.5944 - accuracy: 0.7955 - val_loss: 0.4328 - val_accuracy: 0.8467\n",
            "Epoch 2/10\n",
            "1488/1488 [==============================] - 6s 4ms/step - loss: 0.4271 - accuracy: 0.8486 - val_loss: 0.3783 - val_accuracy: 0.8657\n",
            "Epoch 3/10\n",
            "1488/1488 [==============================] - 6s 4ms/step - loss: 0.3820 - accuracy: 0.8636 - val_loss: 0.3915 - val_accuracy: 0.8591\n",
            "Epoch 4/10\n",
            "1488/1488 [==============================] - 6s 4ms/step - loss: 0.3549 - accuracy: 0.8702 - val_loss: 0.3521 - val_accuracy: 0.8735\n",
            "Epoch 5/10\n",
            "1488/1488 [==============================] - 6s 4ms/step - loss: 0.3323 - accuracy: 0.8783 - val_loss: 0.3372 - val_accuracy: 0.8755\n",
            "Epoch 6/10\n",
            "1488/1488 [==============================] - 6s 4ms/step - loss: 0.3147 - accuracy: 0.8850 - val_loss: 0.3355 - val_accuracy: 0.8789\n",
            "Epoch 7/10\n",
            "1488/1488 [==============================] - 6s 4ms/step - loss: 0.3007 - accuracy: 0.8886 - val_loss: 0.3188 - val_accuracy: 0.8842\n",
            "Epoch 8/10\n",
            "1488/1488 [==============================] - 6s 4ms/step - loss: 0.2863 - accuracy: 0.8938 - val_loss: 0.3234 - val_accuracy: 0.8817\n",
            "Epoch 9/10\n",
            "1488/1488 [==============================] - 7s 4ms/step - loss: 0.2739 - accuracy: 0.8996 - val_loss: 0.3279 - val_accuracy: 0.8808\n",
            "Epoch 10/10\n",
            "1488/1488 [==============================] - 6s 4ms/step - loss: 0.2637 - accuracy: 0.9025 - val_loss: 0.2972 - val_accuracy: 0.8910\n"
          ]
        }
      ],
      "source": [
        "result = model.fit(X_train, y_train, epochs=10, validation_data = (X_val, y_val))"
      ]
    },
    {
      "cell_type": "code",
      "execution_count": null,
      "metadata": {
        "colab": {
          "base_uri": "https://localhost:8080/",
          "height": 336
        },
        "id": "tWFsBZigXhv6",
        "outputId": "bc4fd2f3-b0f5-4061-f6a0-44885c6fa701"
      },
      "outputs": [
        {
          "data": {
            "image/png": "[encoded data removed]",
            "text/plain": [
              "<Figure size 1080x360 with 2 Axes>"
            ]
          },
          "metadata": {
            "needs_background": "light"
          },
          "output_type": "display_data"
        }
      ],
      "source": [
        "fig, axes = plt.subplots(nrows=1, ncols=2, figsize=(15, 5))\n",
        "\n",
        "axes[0].plot(result.epoch, result.history[\"loss\"], label='Train Loss')\n",
        "axes[0].plot(result.epoch, result.history['val_loss'], label='Val Loss')\n",
        "axes[0].set_ylim(0.0, 1)\n",
        "axes[0].legend()\n",
        "axes[0].set_title('Loss')\n",
        "\n",
        "axes[1].plot(result.epoch, result.history['accuracy'], label='Train Accuracy')\n",
        "axes[1].plot(result.epoch, result.history['val_accuracy'], label='Val Accuracy')\n",
        "axes[1].set_ylim(0.7, 1)\n",
        "axes[1].legend()\n",
        "axes[1].set_title('ACC')\n",
        "\n",
        "plt.show()"
      ]
    },
    {
      "cell_type": "markdown",
      "metadata": {
        "id": "ZQrOPXksse-7"
      },
      "source": [
        "# Batch Normalization"
      ]
    },
    {
      "cell_type": "code",
      "execution_count": null,
      "metadata": {
        "colab": {
          "base_uri": "https://localhost:8080/"
        },
        "id": "tzszY6rO1Twt",
        "outputId": "0567d13b-0394-431d-b5b6-62765a39b07e"
      },
      "outputs": [
        {
          "name": "stdout",
          "output_type": "stream",
          "text": [
            "Model: \"sequential_6\"\n",
            "_________________________________________________________________\n",
            "Layer (type)                 Output Shape              Param #   \n",
            "=================================================================\n",
            "flatten_7 (Flatten)          (None, 784)               0         \n",
            "_________________________________________________________________\n",
            "dense_23 (Dense)             (None, 512)               401920    \n",
            "_________________________________________________________________\n",
            "batch_normalization_4 (Batch (None, 512)               2048      \n",
            "_________________________________________________________________\n",
            "activation_3 (Activation)    (None, 512)               0         \n",
            "_________________________________________________________________\n",
            "dense_24 (Dense)             (None, 256)               131328    \n",
            "_________________________________________________________________\n",
            "batch_normalization_5 (Batch (None, 256)               1024      \n",
            "_________________________________________________________________\n",
            "activation_4 (Activation)    (None, 256)               0         \n",
            "_________________________________________________________________\n",
            "dense_25 (Dense)             (None, 128)               32896     \n",
            "_________________________________________________________________\n",
            "batch_normalization_6 (Batch (None, 128)               512       \n",
            "_________________________________________________________________\n",
            "activation_5 (Activation)    (None, 128)               0         \n",
            "_________________________________________________________________\n",
            "dense_26 (Dense)             (None, 10)                1290      \n",
            "=================================================================\n",
            "Total params: 571,018\n",
            "Trainable params: 569,226\n",
            "Non-trainable params: 1,792\n",
            "_________________________________________________________________\n",
            "None\n"
          ]
        }
      ],
      "source": [
        "initializer = keras.initializers.HeUniform(seed = 21)\n",
        "model = keras.Sequential([\n",
        "    keras.layers.Flatten(input_shape=(28, 28)),\n",
        "    keras.layers.Dense(512, kernel_initializer=initializer),\n",
        "    keras.layers.BatchNormalization(),\n",
        "    keras.layers.Activation('relu'),\n",
        "    keras.layers.Dense(256, kernel_initializer=initializer),\n",
        "    keras.layers.BatchNormalization(),\n",
        "    keras.layers.Activation('relu'),\n",
        "    keras.layers.Dense(128, kernel_initializer=initializer),\n",
        "    keras.layers.BatchNormalization(),\n",
        "    keras.layers.Activation('relu'),\n",
        "    keras.layers.Dense(10, activation='softmax', kernel_initializer=initializer)\n",
        "])\n",
        "\n",
        "print(model.summary())"
      ]
    },
    {
      "cell_type": "code",
      "execution_count": null,
      "metadata": {
        "id": "I9WRy-0C1Tw6"
      },
      "outputs": [],
      "source": [
        "optimizer = keras.optimizers.SGD(lr=0.01, momentum=0.5)\n",
        "model.compile(optimizer=optimizer,\n",
        "              loss=tf.keras.losses.SparseCategoricalCrossentropy(from_logits=True),\n",
        "              metrics=['accuracy'])"
      ]
    },
    {
      "cell_type": "code",
      "execution_count": null,
      "metadata": {
        "colab": {
          "base_uri": "https://localhost:8080/"
        },
        "id": "ZRkJPzMFYxQC",
        "outputId": "5f63eb66-6ff9-4105-efe2-162be8476a67"
      },
      "outputs": [
        {
          "name": "stdout",
          "output_type": "stream",
          "text": [
            "Epoch 1/10\n",
            "WARNING:tensorflow:Model was constructed with shape (None, 28, 28) for input KerasTensor(type_spec=TensorSpec(shape=(None, 28, 28), dtype=tf.float32, name='flatten_7_input'), name='flatten_7_input', description=\"created by layer 'flatten_7_input'\"), but it was called on an input with incompatible shape (None, 784).\n",
            "WARNING:tensorflow:Model was constructed with shape (None, 28, 28) for input KerasTensor(type_spec=TensorSpec(shape=(None, 28, 28), dtype=tf.float32, name='flatten_7_input'), name='flatten_7_input', description=\"created by layer 'flatten_7_input'\"), but it was called on an input with incompatible shape (None, 784).\n",
            "1481/1488 [============================>.] - ETA: 0s - loss: 0.5396 - accuracy: 0.8140WARNING:tensorflow:Model was constructed with shape (None, 28, 28) for input KerasTensor(type_spec=TensorSpec(shape=(None, 28, 28), dtype=tf.float32, name='flatten_7_input'), name='flatten_7_input', description=\"created by layer 'flatten_7_input'\"), but it was called on an input with incompatible shape (None, 784).\n",
            "1488/1488 [==============================] - 11s 7ms/step - loss: 0.5391 - accuracy: 0.8141 - val_loss: 0.3948 - val_accuracy: 0.8575\n",
            "Epoch 2/10\n",
            "1488/1488 [==============================] - 10s 7ms/step - loss: 0.3868 - accuracy: 0.8612 - val_loss: 0.3740 - val_accuracy: 0.8618\n",
            "Epoch 3/10\n",
            "1488/1488 [==============================] - 10s 7ms/step - loss: 0.3391 - accuracy: 0.8780 - val_loss: 0.3317 - val_accuracy: 0.8779\n",
            "Epoch 4/10\n",
            "1488/1488 [==============================] - 10s 7ms/step - loss: 0.3057 - accuracy: 0.8895 - val_loss: 0.3354 - val_accuracy: 0.8767\n",
            "Epoch 5/10\n",
            "1488/1488 [==============================] - 10s 6ms/step - loss: 0.2805 - accuracy: 0.8979 - val_loss: 0.3111 - val_accuracy: 0.8847\n",
            "Epoch 6/10\n",
            "1488/1488 [==============================] - 10s 7ms/step - loss: 0.2591 - accuracy: 0.9051 - val_loss: 0.3084 - val_accuracy: 0.8869\n",
            "Epoch 7/10\n",
            "1488/1488 [==============================] - 10s 7ms/step - loss: 0.2372 - accuracy: 0.9127 - val_loss: 0.3575 - val_accuracy: 0.8774\n",
            "Epoch 8/10\n",
            "1488/1488 [==============================] - 10s 7ms/step - loss: 0.2225 - accuracy: 0.9181 - val_loss: 0.3275 - val_accuracy: 0.8859\n",
            "Epoch 9/10\n",
            "1488/1488 [==============================] - 10s 7ms/step - loss: 0.2077 - accuracy: 0.9247 - val_loss: 0.3354 - val_accuracy: 0.8872\n",
            "Epoch 10/10\n",
            "1488/1488 [==============================] - 10s 7ms/step - loss: 0.1945 - accuracy: 0.9285 - val_loss: 0.3204 - val_accuracy: 0.8908\n"
          ]
        }
      ],
      "source": [
        "result = model.fit(X_train, y_train, epochs=10, validation_data = (X_val, y_val))"
      ]
    },
    {
      "cell_type": "code",
      "execution_count": null,
      "metadata": {
        "colab": {
          "base_uri": "https://localhost:8080/",
          "height": 336
        },
        "id": "_F7dKHTD0TsQ",
        "outputId": "75dc8641-459d-4830-f6a9-601d333a158f"
      },
      "outputs": [
        {
          "data": {
            "image/png": "[encoded data removed]",
            "text/plain": [
              "<Figure size 1080x360 with 2 Axes>"
            ]
          },
          "metadata": {
            "needs_background": "light"
          },
          "output_type": "display_data"
        }
      ],
      "source": [
        "fig, axes = plt.subplots(nrows=1, ncols=2, figsize=(15, 5))\n",
        "\n",
        "axes[0].plot(result.epoch, result.history[\"loss\"], label='Train Loss')\n",
        "axes[0].plot(result.epoch, result.history['val_loss'], label='Val Loss')\n",
        "axes[0].set_ylim(0.0, 1)\n",
        "axes[0].legend()\n",
        "axes[0].set_title('Loss')\n",
        "\n",
        "axes[1].plot(result.epoch, result.history['accuracy'], label='Train Accuracy')\n",
        "axes[1].plot(result.epoch, result.history['val_accuracy'], label='Val Accuracy')\n",
        "axes[1].set_ylim(0.7, 1)\n",
        "axes[1].legend()\n",
        "axes[1].set_title('ACC')\n",
        "\n",
        "plt.show()"
      ]
    },
    {
      "cell_type": "markdown",
      "metadata": {
        "id": "1gwUB32GshKT"
      },
      "source": [
        "# Optimization"
      ]
    },
    {
      "cell_type": "code",
      "execution_count": null,
      "metadata": {
        "colab": {
          "base_uri": "https://localhost:8080/"
        },
        "id": "IX0cwOXy1fr-",
        "outputId": "223c6d9e-5403-44f0-ba32-787731c1b1ce"
      },
      "outputs": [
        {
          "name": "stdout",
          "output_type": "stream",
          "text": [
            "Model: \"sequential_7\"\n",
            "_________________________________________________________________\n",
            "Layer (type)                 Output Shape              Param #   \n",
            "=================================================================\n",
            "flatten_8 (Flatten)          (None, 784)               0         \n",
            "_________________________________________________________________\n",
            "dense_27 (Dense)             (None, 512)               401920    \n",
            "_________________________________________________________________\n",
            "batch_normalization_7 (Batch (None, 512)               2048      \n",
            "_________________________________________________________________\n",
            "activation_6 (Activation)    (None, 512)               0         \n",
            "_________________________________________________________________\n",
            "dense_28 (Dense)             (None, 256)               131328    \n",
            "_________________________________________________________________\n",
            "batch_normalization_8 (Batch (None, 256)               1024      \n",
            "_________________________________________________________________\n",
            "activation_7 (Activation)    (None, 256)               0         \n",
            "_________________________________________________________________\n",
            "dense_29 (Dense)             (None, 128)               32896     \n",
            "_________________________________________________________________\n",
            "batch_normalization_9 (Batch (None, 128)               512       \n",
            "_________________________________________________________________\n",
            "activation_8 (Activation)    (None, 128)               0         \n",
            "_________________________________________________________________\n",
            "dense_30 (Dense)             (None, 10)                1290      \n",
            "=================================================================\n",
            "Total params: 571,018\n",
            "Trainable params: 569,226\n",
            "Non-trainable params: 1,792\n",
            "_________________________________________________________________\n",
            "None\n"
          ]
        }
      ],
      "source": [
        "initializer = keras.initializers.HeUniform(seed = 21)\n",
        "model = keras.Sequential([\n",
        "    keras.layers.Flatten(input_shape=(28, 28)),\n",
        "    keras.layers.Dense(512, kernel_initializer=initializer),\n",
        "    keras.layers.BatchNormalization(),\n",
        "    keras.layers.Activation('relu'),\n",
        "    keras.layers.Dense(256, kernel_initializer=initializer),\n",
        "    keras.layers.BatchNormalization(),\n",
        "    keras.layers.Activation('relu'),\n",
        "    keras.layers.Dense(128, kernel_initializer=initializer),\n",
        "    keras.layers.BatchNormalization(),\n",
        "    keras.layers.Activation('relu'),\n",
        "    keras.layers.Dense(10, activation='softmax', kernel_initializer=initializer)\n",
        "])\n",
        "\n",
        "print(model.summary())"
      ]
    },
    {
      "cell_type": "code",
      "execution_count": null,
      "metadata": {
        "id": "JCaB9wCZ1fsI"
      },
      "outputs": [],
      "source": [
        "optimizer = keras.optimizers.Adam(lr=0.01)\n",
        "model.compile(optimizer=optimizer,\n",
        "              loss=tf.keras.losses.SparseCategoricalCrossentropy(from_logits=True),\n",
        "              metrics=['accuracy'])"
      ]
    },
    {
      "cell_type": "code",
      "execution_count": null,
      "metadata": {
        "colab": {
          "base_uri": "https://localhost:8080/"
        },
        "id": "UFu8D0J5Y7Ca",
        "outputId": "f7398880-4f8b-41e5-c808-a5158fb4f422"
      },
      "outputs": [
        {
          "name": "stdout",
          "output_type": "stream",
          "text": [
            "Epoch 1/10\n",
            "WARNING:tensorflow:Model was constructed with shape (None, 28, 28) for input KerasTensor(type_spec=TensorSpec(shape=(None, 28, 28), dtype=tf.float32, name='flatten_8_input'), name='flatten_8_input', description=\"created by layer 'flatten_8_input'\"), but it was called on an input with incompatible shape (None, 784).\n",
            "WARNING:tensorflow:Model was constructed with shape (None, 28, 28) for input KerasTensor(type_spec=TensorSpec(shape=(None, 28, 28), dtype=tf.float32, name='flatten_8_input'), name='flatten_8_input', description=\"created by layer 'flatten_8_input'\"), but it was called on an input with incompatible shape (None, 784).\n",
            "1484/1488 [============================>.] - ETA: 0s - loss: 0.5517 - accuracy: 0.8020WARNING:tensorflow:Model was constructed with shape (None, 28, 28) for input KerasTensor(type_spec=TensorSpec(shape=(None, 28, 28), dtype=tf.float32, name='flatten_8_input'), name='flatten_8_input', description=\"created by layer 'flatten_8_input'\"), but it was called on an input with incompatible shape (None, 784).\n",
            "1488/1488 [==============================] - 11s 7ms/step - loss: 0.5515 - accuracy: 0.8021 - val_loss: 0.4283 - val_accuracy: 0.8382\n",
            "Epoch 2/10\n",
            "1488/1488 [==============================] - 10s 7ms/step - loss: 0.4205 - accuracy: 0.8459 - val_loss: 0.3894 - val_accuracy: 0.8584\n",
            "Epoch 3/10\n",
            "1488/1488 [==============================] - 10s 7ms/step - loss: 0.3843 - accuracy: 0.8595 - val_loss: 0.3837 - val_accuracy: 0.8573\n",
            "Epoch 4/10\n",
            "1488/1488 [==============================] - 10s 7ms/step - loss: 0.3540 - accuracy: 0.8699 - val_loss: 0.3714 - val_accuracy: 0.8679\n",
            "Epoch 5/10\n",
            "1488/1488 [==============================] - 10s 7ms/step - loss: 0.3281 - accuracy: 0.8781 - val_loss: 0.3353 - val_accuracy: 0.8750\n",
            "Epoch 6/10\n",
            "1488/1488 [==============================] - 10s 7ms/step - loss: 0.3107 - accuracy: 0.8838 - val_loss: 0.3163 - val_accuracy: 0.8856\n",
            "Epoch 7/10\n",
            "1488/1488 [==============================] - 10s 7ms/step - loss: 0.2916 - accuracy: 0.8907 - val_loss: 0.3116 - val_accuracy: 0.8873\n",
            "Epoch 8/10\n",
            "1488/1488 [==============================] - 10s 7ms/step - loss: 0.2763 - accuracy: 0.8959 - val_loss: 0.3077 - val_accuracy: 0.8898\n",
            "Epoch 9/10\n",
            "1488/1488 [==============================] - 9s 6ms/step - loss: 0.2652 - accuracy: 0.8993 - val_loss: 0.3161 - val_accuracy: 0.8876\n",
            "Epoch 10/10\n",
            "1488/1488 [==============================] - 10s 7ms/step - loss: 0.2511 - accuracy: 0.9059 - val_loss: 0.3589 - val_accuracy: 0.8707\n"
          ]
        }
      ],
      "source": [
        "result = model.fit(X_train, y_train, epochs=10, validation_data = (X_val, y_val))"
      ]
    },
    {
      "cell_type": "code",
      "execution_count": null,
      "metadata": {
        "colab": {
          "base_uri": "https://localhost:8080/",
          "height": 336
        },
        "id": "mxeGk5BO0ULy",
        "outputId": "b155babe-c596-4250-9ab6-3a747b56c312"
      },
      "outputs": [
        {
          "data": {
            "image/png": "[encoded data removed]",
            "text/plain": [
              "<Figure size 1080x360 with 2 Axes>"
            ]
          },
          "metadata": {
            "needs_background": "light"
          },
          "output_type": "display_data"
        }
      ],
      "source": [
        "fig, axes = plt.subplots(nrows=1, ncols=2, figsize=(15, 5))\n",
        "\n",
        "axes[0].plot(result.epoch, result.history[\"loss\"], label='Train Loss')\n",
        "axes[0].plot(result.epoch, result.history['val_loss'], label='Val Loss')\n",
        "axes[0].set_ylim(0.0, 1)\n",
        "axes[0].legend()\n",
        "axes[0].set_title('Loss')\n",
        "\n",
        "axes[1].plot(result.epoch, result.history['accuracy'], label='Train Accuracy')\n",
        "axes[1].plot(result.epoch, result.history['val_accuracy'], label='Val Accuracy')\n",
        "axes[1].set_ylim(0.7, 1)\n",
        "axes[1].legend()\n",
        "axes[1].set_title('ACC')\n",
        "\n",
        "plt.show()"
      ]
    },
    {
      "cell_type": "markdown",
      "metadata": {
        "id": "efosC0aKsjO7"
      },
      "source": [
        "# Dropout"
      ]
    },
    {
      "cell_type": "code",
      "execution_count": null,
      "metadata": {
        "colab": {
          "base_uri": "https://localhost:8080/"
        },
        "id": "raKGt6Ws1l9m",
        "outputId": "e11aa96c-36c5-4b46-e03e-d75ebc3c694b"
      },
      "outputs": [
        {
          "name": "stdout",
          "output_type": "stream",
          "text": [
            "Model: \"sequential_8\"\n",
            "_________________________________________________________________\n",
            "Layer (type)                 Output Shape              Param #   \n",
            "=================================================================\n",
            "flatten_9 (Flatten)          (None, 784)               0         \n",
            "_________________________________________________________________\n",
            "dense_31 (Dense)             (None, 512)               401920    \n",
            "_________________________________________________________________\n",
            "batch_normalization_10 (Batc (None, 512)               2048      \n",
            "_________________________________________________________________\n",
            "activation_9 (Activation)    (None, 512)               0         \n",
            "_________________________________________________________________\n",
            "dropout (Dropout)            (None, 512)               0         \n",
            "_________________________________________________________________\n",
            "dense_32 (Dense)             (None, 256)               131328    \n",
            "_________________________________________________________________\n",
            "batch_normalization_11 (Batc (None, 256)               1024      \n",
            "_________________________________________________________________\n",
            "activation_10 (Activation)   (None, 256)               0         \n",
            "_________________________________________________________________\n",
            "dropout_1 (Dropout)          (None, 256)               0         \n",
            "_________________________________________________________________\n",
            "dense_33 (Dense)             (None, 128)               32896     \n",
            "_________________________________________________________________\n",
            "batch_normalization_12 (Batc (None, 128)               512       \n",
            "_________________________________________________________________\n",
            "activation_11 (Activation)   (None, 128)               0         \n",
            "_________________________________________________________________\n",
            "dropout_2 (Dropout)          (None, 128)               0         \n",
            "_________________________________________________________________\n",
            "dense_34 (Dense)             (None, 10)                1290      \n",
            "=================================================================\n",
            "Total params: 571,018\n",
            "Trainable params: 569,226\n",
            "Non-trainable params: 1,792\n",
            "_________________________________________________________________\n",
            "None\n"
          ]
        }
      ],
      "source": [
        "initializer = keras.initializers.HeUniform(seed = 21)\n",
        "model = keras.Sequential([\n",
        "    keras.layers.Flatten(input_shape=(28, 28)),\n",
        "    keras.layers.Dense(512, kernel_initializer=initializer),\n",
        "    keras.layers.BatchNormalization(),\n",
        "    keras.layers.Activation('relu'),\n",
        "    keras.layers.Dropout(0.2),\n",
        "    keras.layers.Dense(256, kernel_initializer=initializer),\n",
        "    keras.layers.BatchNormalization(),\n",
        "    keras.layers.Activation('relu'),\n",
        "    keras.layers.Dropout(0.2),\n",
        "    keras.layers.Dense(128, kernel_initializer=initializer),\n",
        "    keras.layers.BatchNormalization(),\n",
        "    keras.layers.Activation('relu'),\n",
        "    keras.layers.Dropout(0.2),\n",
        "    keras.layers.Dense(10, activation='softmax', kernel_initializer=initializer)\n",
        "])\n",
        "\n",
        "print(model.summary())"
      ]
    },
    {
      "cell_type": "code",
      "execution_count": null,
      "metadata": {
        "id": "4XGK9N2E1l9m"
      },
      "outputs": [],
      "source": [
        "optimizer = keras.optimizers.Adam(lr=0.01)\n",
        "model.compile(optimizer=optimizer,\n",
        "              loss=tf.keras.losses.SparseCategoricalCrossentropy(from_logits=True),\n",
        "              metrics=['accuracy'])"
      ]
    },
    {
      "cell_type": "code",
      "execution_count": null,
      "metadata": {
        "colab": {
          "base_uri": "https://localhost:8080/"
        },
        "id": "5yqbcOGSZcQ_",
        "outputId": "59a1f375-8acb-4c1e-a01a-3892652615bf"
      },
      "outputs": [
        {
          "name": "stdout",
          "output_type": "stream",
          "text": [
            "Epoch 1/10\n",
            "WARNING:tensorflow:Model was constructed with shape (None, 28, 28) for input KerasTensor(type_spec=TensorSpec(shape=(None, 28, 28), dtype=tf.float32, name='flatten_9_input'), name='flatten_9_input', description=\"created by layer 'flatten_9_input'\"), but it was called on an input with incompatible shape (None, 784).\n",
            "WARNING:tensorflow:Model was constructed with shape (None, 28, 28) for input KerasTensor(type_spec=TensorSpec(shape=(None, 28, 28), dtype=tf.float32, name='flatten_9_input'), name='flatten_9_input', description=\"created by layer 'flatten_9_input'\"), but it was called on an input with incompatible shape (None, 784).\n",
            "1483/1488 [============================>.] - ETA: 0s - loss: 0.5991 - accuracy: 0.7855WARNING:tensorflow:Model was constructed with shape (None, 28, 28) for input KerasTensor(type_spec=TensorSpec(shape=(None, 28, 28), dtype=tf.float32, name='flatten_9_input'), name='flatten_9_input', description=\"created by layer 'flatten_9_input'\"), but it was called on an input with incompatible shape (None, 784).\n",
            "1488/1488 [==============================] - 12s 7ms/step - loss: 0.5989 - accuracy: 0.7855 - val_loss: 0.5030 - val_accuracy: 0.8215\n",
            "Epoch 2/10\n",
            "1488/1488 [==============================] - 11s 7ms/step - loss: 0.4761 - accuracy: 0.8292 - val_loss: 0.3918 - val_accuracy: 0.8485\n",
            "Epoch 3/10\n",
            "1488/1488 [==============================] - 11s 7ms/step - loss: 0.4311 - accuracy: 0.8480 - val_loss: 0.3755 - val_accuracy: 0.8616\n",
            "Epoch 4/10\n",
            "1488/1488 [==============================] - 11s 7ms/step - loss: 0.4053 - accuracy: 0.8521 - val_loss: 0.3447 - val_accuracy: 0.8771\n",
            "Epoch 5/10\n",
            "1488/1488 [==============================] - 10s 7ms/step - loss: 0.3857 - accuracy: 0.8597 - val_loss: 0.3261 - val_accuracy: 0.8814\n",
            "Epoch 6/10\n",
            "1488/1488 [==============================] - 10s 7ms/step - loss: 0.3662 - accuracy: 0.8674 - val_loss: 0.3293 - val_accuracy: 0.8804\n",
            "Epoch 7/10\n",
            "1488/1488 [==============================] - 10s 7ms/step - loss: 0.3528 - accuracy: 0.8719 - val_loss: 0.3277 - val_accuracy: 0.8797\n",
            "Epoch 8/10\n",
            "1488/1488 [==============================] - 10s 7ms/step - loss: 0.3429 - accuracy: 0.8759 - val_loss: 0.3200 - val_accuracy: 0.8854\n",
            "Epoch 9/10\n",
            "1488/1488 [==============================] - 10s 7ms/step - loss: 0.3321 - accuracy: 0.8782 - val_loss: 0.3235 - val_accuracy: 0.8818\n",
            "Epoch 10/10\n",
            "1488/1488 [==============================] - 11s 7ms/step - loss: 0.3189 - accuracy: 0.8832 - val_loss: 0.3226 - val_accuracy: 0.8814\n"
          ]
        }
      ],
      "source": [
        "result = model.fit(X_train, y_train, epochs=10, validation_data = (X_val, y_val))"
      ]
    },
    {
      "cell_type": "code",
      "execution_count": null,
      "metadata": {
        "colab": {
          "base_uri": "https://localhost:8080/",
          "height": 323
        },
        "id": "QMCB53iN1l9m",
        "outputId": "cf3b74b2-b0d2-47fe-f79a-6a4a3417d1b9"
      },
      "outputs": [
        {
          "data": {
            "image/png": "[encoded data removed]",
            "text/plain": [
              "<Figure size 1080x360 with 2 Axes>"
            ]
          },
          "metadata": {
            "needs_background": "light"
          },
          "output_type": "display_data"
        }
      ],
      "source": [
        "fig, axes = plt.subplots(nrows=1, ncols=2, figsize=(15, 5))\n",
        "\n",
        "axes[0].plot(result.epoch, result.history[\"loss\"], label='Train Loss')\n",
        "axes[0].plot(result.epoch, result.history['val_loss'], label='Val Loss')\n",
        "axes[0].set_ylim(0.0, 1)\n",
        "axes[0].legend()\n",
        "axes[0].set_title('Loss')\n",
        "\n",
        "axes[1].plot(result.epoch, result.history['accuracy'], label='Train Accuracy')\n",
        "axes[1].plot(result.epoch, result.history['val_accuracy'], label='Val Accuracy')\n",
        "axes[1].set_ylim(0.7, 1)\n",
        "axes[1].legend()\n",
        "axes[1].set_title('ACC')\n",
        "\n",
        "plt.show()"
      ]
    },
    {
      "cell_type": "markdown",
      "metadata": {
        "id": "xj3e9wo2snij"
      },
      "source": [
        "# Regularization"
      ]
    },
    {
      "cell_type": "code",
      "execution_count": null,
      "metadata": {
        "colab": {
          "base_uri": "https://localhost:8080/"
        },
        "id": "CgPtNZuq1uDl",
        "outputId": "72f4ba28-da54-4503-ccb8-25de0c777fc5"
      },
      "outputs": [
        {
          "name": "stdout",
          "output_type": "stream",
          "text": [
            "Model: \"sequential_9\"\n",
            "_________________________________________________________________\n",
            "Layer (type)                 Output Shape              Param #   \n",
            "=================================================================\n",
            "flatten_10 (Flatten)         (None, 784)               0         \n",
            "_________________________________________________________________\n",
            "dense_35 (Dense)             (None, 512)               401920    \n",
            "_________________________________________________________________\n",
            "batch_normalization_13 (Batc (None, 512)               2048      \n",
            "_________________________________________________________________\n",
            "activation_12 (Activation)   (None, 512)               0         \n",
            "_________________________________________________________________\n",
            "dropout_3 (Dropout)          (None, 512)               0         \n",
            "_________________________________________________________________\n",
            "dense_36 (Dense)             (None, 256)               131328    \n",
            "_________________________________________________________________\n",
            "batch_normalization_14 (Batc (None, 256)               1024      \n",
            "_________________________________________________________________\n",
            "activation_13 (Activation)   (None, 256)               0         \n",
            "_________________________________________________________________\n",
            "dropout_4 (Dropout)          (None, 256)               0         \n",
            "_________________________________________________________________\n",
            "dense_37 (Dense)             (None, 128)               32896     \n",
            "_________________________________________________________________\n",
            "batch_normalization_15 (Batc (None, 128)               512       \n",
            "_________________________________________________________________\n",
            "activation_14 (Activation)   (None, 128)               0         \n",
            "_________________________________________________________________\n",
            "dropout_5 (Dropout)          (None, 128)               0         \n",
            "_________________________________________________________________\n",
            "dense_38 (Dense)             (None, 10)                1290      \n",
            "=================================================================\n",
            "Total params: 571,018\n",
            "Trainable params: 569,226\n",
            "Non-trainable params: 1,792\n",
            "_________________________________________________________________\n",
            "None\n"
          ]
        }
      ],
      "source": [
        "initializer = keras.initializers.HeUniform(seed = 21)\n",
        "model = keras.Sequential([\n",
        "    keras.layers.Flatten(input_shape=(28, 28)),\n",
        "    keras.layers.Dense(512, kernel_initializer=initializer),\n",
        "    keras.layers.BatchNormalization(),\n",
        "    keras.layers.Activation('relu'),\n",
        "    keras.layers.Dropout(0.2),\n",
        "    keras.layers.Dense(256, kernel_initializer=initializer),\n",
        "    keras.layers.BatchNormalization(),\n",
        "    keras.layers.Activation('relu'),\n",
        "    keras.layers.Dropout(0.2),\n",
        "    keras.layers.Dense(128, kernel_initializer=initializer),\n",
        "    keras.layers.BatchNormalization(),\n",
        "    keras.layers.Activation('relu'),\n",
        "    keras.layers.Dropout(0.2),\n",
        "    keras.layers.Dense(10, activation='softmax', kernel_initializer=initializer)\n",
        "])\n",
        "\n",
        "print(model.summary())"
      ]
    },
    {
      "cell_type": "code",
      "execution_count": null,
      "metadata": {
        "id": "q1cJo6fO1uDm"
      },
      "outputs": [],
      "source": [
        "optimizer = keras.optimizers.Adam(lr=0.01, decay = 0.001)\n",
        "model.compile(optimizer=optimizer,\n",
        "              loss=tf.keras.losses.SparseCategoricalCrossentropy(from_logits=True),\n",
        "              metrics=['accuracy'])"
      ]
    },
    {
      "cell_type": "code",
      "execution_count": null,
      "metadata": {
        "colab": {
          "base_uri": "https://localhost:8080/"
        },
        "id": "JrlSRSreZ5pQ",
        "outputId": "100736ae-ba46-47ee-d5d6-ca6d5501275e"
      },
      "outputs": [
        {
          "name": "stdout",
          "output_type": "stream",
          "text": [
            "Epoch 1/10\n",
            "WARNING:tensorflow:Model was constructed with shape (None, 28, 28) for input KerasTensor(type_spec=TensorSpec(shape=(None, 28, 28), dtype=tf.float32, name='flatten_10_input'), name='flatten_10_input', description=\"created by layer 'flatten_10_input'\"), but it was called on an input with incompatible shape (None, 784).\n",
            "WARNING:tensorflow:Model was constructed with shape (None, 28, 28) for input KerasTensor(type_spec=TensorSpec(shape=(None, 28, 28), dtype=tf.float32, name='flatten_10_input'), name='flatten_10_input', description=\"created by layer 'flatten_10_input'\"), but it was called on an input with incompatible shape (None, 784).\n",
            "1486/1488 [============================>.] - ETA: 0s - loss: 0.5652 - accuracy: 0.7972WARNING:tensorflow:Model was constructed with shape (None, 28, 28) for input KerasTensor(type_spec=TensorSpec(shape=(None, 28, 28), dtype=tf.float32, name='flatten_10_input'), name='flatten_10_input', description=\"created by layer 'flatten_10_input'\"), but it was called on an input with incompatible shape (None, 784).\n",
            "1488/1488 [==============================] - 11s 7ms/step - loss: 0.5652 - accuracy: 0.7971 - val_loss: 0.4074 - val_accuracy: 0.8450\n",
            "Epoch 2/10\n",
            "1488/1488 [==============================] - 11s 7ms/step - loss: 0.4193 - accuracy: 0.8475 - val_loss: 0.3289 - val_accuracy: 0.8771\n",
            "Epoch 3/10\n",
            "1488/1488 [==============================] - 11s 7ms/step - loss: 0.3698 - accuracy: 0.8660 - val_loss: 0.3053 - val_accuracy: 0.8858\n",
            "Epoch 4/10\n",
            "1488/1488 [==============================] - 10s 7ms/step - loss: 0.3336 - accuracy: 0.8766 - val_loss: 0.3056 - val_accuracy: 0.8887\n",
            "Epoch 5/10\n",
            "1488/1488 [==============================] - 10s 7ms/step - loss: 0.3158 - accuracy: 0.8827 - val_loss: 0.3019 - val_accuracy: 0.8903\n",
            "Epoch 6/10\n",
            "1488/1488 [==============================] - 11s 7ms/step - loss: 0.2937 - accuracy: 0.8909 - val_loss: 0.2779 - val_accuracy: 0.8962\n",
            "Epoch 7/10\n",
            "1488/1488 [==============================] - 10s 7ms/step - loss: 0.2789 - accuracy: 0.8967 - val_loss: 0.2742 - val_accuracy: 0.8987\n",
            "Epoch 8/10\n",
            "1488/1488 [==============================] - 11s 7ms/step - loss: 0.2646 - accuracy: 0.9012 - val_loss: 0.2702 - val_accuracy: 0.9026\n",
            "Epoch 9/10\n",
            "1488/1488 [==============================] - 11s 7ms/step - loss: 0.2550 - accuracy: 0.9065 - val_loss: 0.2686 - val_accuracy: 0.9019\n",
            "Epoch 10/10\n",
            "1488/1488 [==============================] - 11s 7ms/step - loss: 0.2443 - accuracy: 0.9082 - val_loss: 0.2668 - val_accuracy: 0.9027\n"
          ]
        }
      ],
      "source": [
        "result = model.fit(X_train, y_train, epochs=10, validation_data = (X_val, y_val))"
      ]
    },
    {
      "cell_type": "code",
      "execution_count": null,
      "metadata": {
        "colab": {
          "base_uri": "https://localhost:8080/",
          "height": 323
        },
        "id": "ExSQ5kPIZ613",
        "outputId": "082634aa-9536-4887-8c12-6b718a233474"
      },
      "outputs": [
        {
          "data": {
            "image/png": "[encoded data removed]",
            "text/plain": [
              "<Figure size 1080x360 with 2 Axes>"
            ]
          },
          "metadata": {
            "needs_background": "light"
          },
          "output_type": "display_data"
        }
      ],
      "source": [
        "fig, axes = plt.subplots(nrows=1, ncols=2, figsize=(15, 5))\n",
        "\n",
        "axes[0].plot(result.epoch, result.history[\"loss\"], label='Train Loss')\n",
        "axes[0].plot(result.epoch, result.history['val_loss'], label='Val Loss')\n",
        "axes[0].set_ylim(0.0, 1)\n",
        "axes[0].legend()\n",
        "axes[0].set_title('Loss')\n",
        "\n",
        "axes[1].plot(result.epoch, result.history['accuracy'], label='Train Accuracy')\n",
        "axes[1].plot(result.epoch, result.history['val_accuracy'], label='Val Accuracy')\n",
        "axes[1].set_ylim(0.7, 1)\n",
        "axes[1].legend()\n",
        "axes[1].set_title('ACC')\n",
        "\n",
        "plt.show()"
      ]
    },
    {
      "cell_type": "markdown",
      "metadata": {
        "id": "dSLnNAGatnRb"
      },
      "source": [
        "# 제출1\n",
        "\n",
        "최종 val_loss=0.5443\n",
        "val_accuracy=0.9103\n",
        "\n",
        "시도1_활성화 함수 gelu\n",
        "val_loss=0.6550(상승)\n",
        "/val_accuracy=0.9096(정체)\n",
        "\n",
        "시도2_dropout(0.1~0.5조정)\n",
        "val_loss=0.6639(상승)\n",
        "/val_accuracy=0.9124(정체)\n",
        "\n",
        "시도3_은닉층 늘리기\n",
        "\n",
        "val_loss=0.5550\n",
        "/val_accuracy=0.9082\n",
        "\n",
        "**시도4_CNN적용**\n",
        "\n",
        "val_loss=0.271\n",
        "/val_accuracy=0.9265"
      ]
    },
    {
      "cell_type": "code",
      "execution_count": 58,
      "metadata": {
        "id": "ADxy8kMw49ts"
      },
      "outputs": [],
      "source": [
        "from tensorflow import keras\n",
        "\n",
        "BATCH_SIZE = 128\n",
        "EPOCHS = 100"
      ]
    },
    {
      "cell_type": "code",
      "source": [
        "from tensorflow.keras import layers \n",
        "\n",
        "inputs = keras.Input(shape=(28, 28, 1)) \n",
        "x = layers.Conv2D(filters=64, kernel_size=7, activation=\"relu\", padding=\"valid\")(inputs)\n",
        "x = layers.AveragePooling2D(pool_size=2)(x) \n",
        "x = layers.BatchNormalization()(x)\n",
        "x = layers.Dropout(0.5)(x)\n",
        "x = layers.Conv2D(filters=128, kernel_size=3, activation=\"relu\", padding=\"valid\")(x)\n",
        "x = layers.AveragePooling2D(pool_size=2)(x) \n",
        "x = layers.BatchNormalization()(x)\n",
        "x = layers.Dropout(0.5)(x)\n",
        "x = layers.Conv2D(filters=256, kernel_size=3, activation=\"relu\")(x)\n",
        "x = layers.Flatten()(x) \n",
        "x = layers.Dense(64, activation=\"relu\")(x)\n",
        "x = layers.Dropout(0.5)(x)\n",
        "outputs = layers.Dense(10, activation=\"softmax\")(x) \n",
        "model = keras.Model(inputs=inputs, outputs=outputs)"
      ],
      "metadata": {
        "id": "udKreJ_8kO9D"
      },
      "execution_count": 85,
      "outputs": []
    },
    {
      "cell_type": "code",
      "source": [
        "model.summary()"
      ],
      "metadata": {
        "colab": {
          "base_uri": "https://localhost:8080/"
        },
        "id": "eADaDkkqkick",
        "outputId": "47a830c8-2ce5-477a-b02a-8f047cea403d"
      },
      "execution_count": 86,
      "outputs": [
        {
          "output_type": "stream",
          "name": "stdout",
          "text": [
            "Model: \"model_4\"\n",
            "_________________________________________________________________\n",
            " Layer (type)                Output Shape              Param #   \n",
            "=================================================================\n",
            " input_16 (InputLayer)       [(None, 28, 28, 1)]       0         \n",
            "                                                                 \n",
            " conv2d_53 (Conv2D)          (None, 22, 22, 64)        3200      \n",
            "                                                                 \n",
            " average_pooling2d_30 (Avera  (None, 11, 11, 64)       0         \n",
            " gePooling2D)                                                    \n",
            "                                                                 \n",
            " batch_normalization_53 (Bat  (None, 11, 11, 64)       256       \n",
            " chNormalization)                                                \n",
            "                                                                 \n",
            " dropout_43 (Dropout)        (None, 11, 11, 64)        0         \n",
            "                                                                 \n",
            " conv2d_54 (Conv2D)          (None, 9, 9, 128)         73856     \n",
            "                                                                 \n",
            " average_pooling2d_31 (Avera  (None, 4, 4, 128)        0         \n",
            " gePooling2D)                                                    \n",
            "                                                                 \n",
            " batch_normalization_54 (Bat  (None, 4, 4, 128)        512       \n",
            " chNormalization)                                                \n",
            "                                                                 \n",
            " dropout_44 (Dropout)        (None, 4, 4, 128)         0         \n",
            "                                                                 \n",
            " conv2d_55 (Conv2D)          (None, 2, 2, 256)         295168    \n",
            "                                                                 \n",
            " flatten_20 (Flatten)        (None, 1024)              0         \n",
            "                                                                 \n",
            " dense_61 (Dense)            (None, 64)                65600     \n",
            "                                                                 \n",
            " dropout_45 (Dropout)        (None, 64)                0         \n",
            "                                                                 \n",
            " dense_62 (Dense)            (None, 10)                650       \n",
            "                                                                 \n",
            "=================================================================\n",
            "Total params: 439,242\n",
            "Trainable params: 438,858\n",
            "Non-trainable params: 384\n",
            "_________________________________________________________________\n"
          ]
        }
      ]
    },
    {
      "cell_type": "code",
      "execution_count": 87,
      "metadata": {
        "colab": {
          "base_uri": "https://localhost:8080/"
        },
        "id": "A4gIloexaELP",
        "outputId": "cb1aab47-e9f0-446b-edac-10656c6341b0"
      },
      "outputs": [
        {
          "output_type": "stream",
          "name": "stdout",
          "text": [
            "Epoch 1/100\n",
            "372/372 [==============================] - 4s 8ms/step - loss: 0.8107 - accuracy: 0.7078 - val_loss: 1.3905 - val_accuracy: 0.4565\n",
            "Epoch 2/100\n",
            "372/372 [==============================] - 3s 8ms/step - loss: 0.5730 - accuracy: 0.7896 - val_loss: 0.4473 - val_accuracy: 0.8334\n",
            "Epoch 3/100\n",
            "372/372 [==============================] - 3s 8ms/step - loss: 0.5144 - accuracy: 0.8110 - val_loss: 0.3701 - val_accuracy: 0.8699\n",
            "Epoch 4/100\n",
            "372/372 [==============================] - 3s 8ms/step - loss: 0.4774 - accuracy: 0.8259 - val_loss: 0.3662 - val_accuracy: 0.8711\n",
            "Epoch 5/100\n",
            "372/372 [==============================] - 3s 8ms/step - loss: 0.4526 - accuracy: 0.8356 - val_loss: 0.3461 - val_accuracy: 0.8727\n",
            "Epoch 6/100\n",
            "372/372 [==============================] - 3s 8ms/step - loss: 0.4257 - accuracy: 0.8446 - val_loss: 0.3433 - val_accuracy: 0.8755\n",
            "Epoch 7/100\n",
            "372/372 [==============================] - 3s 9ms/step - loss: 0.4082 - accuracy: 0.8524 - val_loss: 0.3235 - val_accuracy: 0.8818\n",
            "Epoch 8/100\n",
            "372/372 [==============================] - 3s 8ms/step - loss: 0.3942 - accuracy: 0.8571 - val_loss: 0.3197 - val_accuracy: 0.8852\n",
            "Epoch 9/100\n",
            "372/372 [==============================] - 3s 8ms/step - loss: 0.3802 - accuracy: 0.8617 - val_loss: 0.3001 - val_accuracy: 0.8921\n",
            "Epoch 10/100\n",
            "372/372 [==============================] - 3s 8ms/step - loss: 0.3739 - accuracy: 0.8627 - val_loss: 0.2887 - val_accuracy: 0.8966\n",
            "Epoch 11/100\n",
            "372/372 [==============================] - 3s 8ms/step - loss: 0.3622 - accuracy: 0.8680 - val_loss: 0.2839 - val_accuracy: 0.8984\n",
            "Epoch 12/100\n",
            "372/372 [==============================] - 3s 9ms/step - loss: 0.3515 - accuracy: 0.8738 - val_loss: 0.3037 - val_accuracy: 0.8950\n",
            "Epoch 13/100\n",
            "372/372 [==============================] - 3s 8ms/step - loss: 0.3452 - accuracy: 0.8736 - val_loss: 0.2758 - val_accuracy: 0.9001\n",
            "Epoch 14/100\n",
            "372/372 [==============================] - 3s 8ms/step - loss: 0.3322 - accuracy: 0.8775 - val_loss: 0.2851 - val_accuracy: 0.8954\n",
            "Epoch 15/100\n",
            "372/372 [==============================] - 3s 8ms/step - loss: 0.3320 - accuracy: 0.8788 - val_loss: 0.2921 - val_accuracy: 0.8979\n",
            "Epoch 16/100\n",
            "372/372 [==============================] - 3s 8ms/step - loss: 0.3247 - accuracy: 0.8820 - val_loss: 0.2674 - val_accuracy: 0.9070\n",
            "Epoch 17/100\n",
            "372/372 [==============================] - 3s 8ms/step - loss: 0.3157 - accuracy: 0.8845 - val_loss: 0.3647 - val_accuracy: 0.8703\n",
            "Epoch 18/100\n",
            "372/372 [==============================] - 3s 9ms/step - loss: 0.3166 - accuracy: 0.8847 - val_loss: 0.2807 - val_accuracy: 0.8961\n",
            "Epoch 19/100\n",
            "372/372 [==============================] - 3s 8ms/step - loss: 0.3088 - accuracy: 0.8874 - val_loss: 0.2671 - val_accuracy: 0.9069\n",
            "Epoch 20/100\n",
            "372/372 [==============================] - 3s 8ms/step - loss: 0.3049 - accuracy: 0.8879 - val_loss: 0.2710 - val_accuracy: 0.9042\n",
            "Epoch 21/100\n",
            "372/372 [==============================] - 3s 8ms/step - loss: 0.3023 - accuracy: 0.8898 - val_loss: 0.2615 - val_accuracy: 0.9108\n",
            "Epoch 22/100\n",
            "372/372 [==============================] - 3s 8ms/step - loss: 0.2934 - accuracy: 0.8909 - val_loss: 0.2799 - val_accuracy: 0.9018\n",
            "Epoch 23/100\n",
            "372/372 [==============================] - 3s 8ms/step - loss: 0.2950 - accuracy: 0.8917 - val_loss: 0.2665 - val_accuracy: 0.9050\n",
            "Epoch 24/100\n",
            "372/372 [==============================] - 3s 8ms/step - loss: 0.2901 - accuracy: 0.8939 - val_loss: 0.2745 - val_accuracy: 0.9029\n",
            "Epoch 25/100\n",
            "372/372 [==============================] - 3s 8ms/step - loss: 0.2819 - accuracy: 0.8943 - val_loss: 0.2705 - val_accuracy: 0.9064\n",
            "Epoch 26/100\n",
            "372/372 [==============================] - 3s 8ms/step - loss: 0.2832 - accuracy: 0.8954 - val_loss: 0.2586 - val_accuracy: 0.9081\n",
            "Epoch 27/100\n",
            "372/372 [==============================] - 3s 8ms/step - loss: 0.2802 - accuracy: 0.8971 - val_loss: 0.2765 - val_accuracy: 0.9013\n",
            "Epoch 28/100\n",
            "372/372 [==============================] - 3s 9ms/step - loss: 0.2706 - accuracy: 0.8985 - val_loss: 0.2543 - val_accuracy: 0.9139\n",
            "Epoch 29/100\n",
            "372/372 [==============================] - 3s 8ms/step - loss: 0.2686 - accuracy: 0.8999 - val_loss: 0.2924 - val_accuracy: 0.9019\n",
            "Epoch 30/100\n",
            "372/372 [==============================] - 3s 8ms/step - loss: 0.2678 - accuracy: 0.9005 - val_loss: 0.2654 - val_accuracy: 0.9108\n",
            "Epoch 31/100\n",
            "372/372 [==============================] - 3s 8ms/step - loss: 0.2623 - accuracy: 0.9028 - val_loss: 0.2632 - val_accuracy: 0.9108\n",
            "Epoch 32/100\n",
            "372/372 [==============================] - 3s 8ms/step - loss: 0.2642 - accuracy: 0.9008 - val_loss: 0.2639 - val_accuracy: 0.9108\n",
            "Epoch 33/100\n",
            "372/372 [==============================] - 3s 8ms/step - loss: 0.2580 - accuracy: 0.9034 - val_loss: 0.2597 - val_accuracy: 0.9139\n",
            "Epoch 34/100\n",
            "372/372 [==============================] - 3s 8ms/step - loss: 0.2558 - accuracy: 0.9048 - val_loss: 0.2526 - val_accuracy: 0.9129\n",
            "Epoch 35/100\n",
            "372/372 [==============================] - 3s 8ms/step - loss: 0.2517 - accuracy: 0.9052 - val_loss: 0.2428 - val_accuracy: 0.9194\n",
            "Epoch 36/100\n",
            "372/372 [==============================] - 3s 8ms/step - loss: 0.2502 - accuracy: 0.9062 - val_loss: 0.2552 - val_accuracy: 0.9150\n",
            "Epoch 37/100\n",
            "372/372 [==============================] - 3s 8ms/step - loss: 0.2501 - accuracy: 0.9069 - val_loss: 0.2633 - val_accuracy: 0.9124\n",
            "Epoch 38/100\n",
            "372/372 [==============================] - 3s 8ms/step - loss: 0.2462 - accuracy: 0.9078 - val_loss: 0.2610 - val_accuracy: 0.9161\n",
            "Epoch 39/100\n",
            "372/372 [==============================] - 3s 8ms/step - loss: 0.2433 - accuracy: 0.9099 - val_loss: 0.2506 - val_accuracy: 0.9161\n",
            "Epoch 40/100\n",
            "372/372 [==============================] - 3s 9ms/step - loss: 0.2394 - accuracy: 0.9095 - val_loss: 0.2514 - val_accuracy: 0.9170\n",
            "Epoch 41/100\n",
            "372/372 [==============================] - 3s 9ms/step - loss: 0.2409 - accuracy: 0.9101 - val_loss: 0.2523 - val_accuracy: 0.9170\n",
            "Epoch 42/100\n",
            "372/372 [==============================] - 3s 8ms/step - loss: 0.2384 - accuracy: 0.9097 - val_loss: 0.2480 - val_accuracy: 0.9216\n",
            "Epoch 43/100\n",
            "372/372 [==============================] - 3s 8ms/step - loss: 0.2318 - accuracy: 0.9128 - val_loss: 0.2568 - val_accuracy: 0.9143\n",
            "Epoch 44/100\n",
            "372/372 [==============================] - 3s 8ms/step - loss: 0.2337 - accuracy: 0.9117 - val_loss: 0.2460 - val_accuracy: 0.9189\n",
            "Epoch 45/100\n",
            "372/372 [==============================] - 3s 8ms/step - loss: 0.2348 - accuracy: 0.9124 - val_loss: 0.2555 - val_accuracy: 0.9197\n",
            "Epoch 46/100\n",
            "372/372 [==============================] - 3s 8ms/step - loss: 0.2319 - accuracy: 0.9126 - val_loss: 0.2534 - val_accuracy: 0.9176\n",
            "Epoch 47/100\n",
            "372/372 [==============================] - 3s 8ms/step - loss: 0.2311 - accuracy: 0.9136 - val_loss: 0.2569 - val_accuracy: 0.9158\n",
            "Epoch 48/100\n",
            "372/372 [==============================] - 3s 8ms/step - loss: 0.2249 - accuracy: 0.9147 - val_loss: 0.2631 - val_accuracy: 0.9171\n",
            "Epoch 49/100\n",
            "372/372 [==============================] - 3s 8ms/step - loss: 0.2287 - accuracy: 0.9155 - val_loss: 0.2755 - val_accuracy: 0.9122\n",
            "Epoch 50/100\n",
            "372/372 [==============================] - 3s 8ms/step - loss: 0.2246 - accuracy: 0.9154 - val_loss: 0.2634 - val_accuracy: 0.9110\n",
            "Epoch 51/100\n",
            "372/372 [==============================] - 3s 8ms/step - loss: 0.2238 - accuracy: 0.9157 - val_loss: 0.2571 - val_accuracy: 0.9164\n",
            "Epoch 52/100\n",
            "372/372 [==============================] - 3s 8ms/step - loss: 0.2218 - accuracy: 0.9163 - val_loss: 0.2786 - val_accuracy: 0.9067\n",
            "Epoch 53/100\n",
            "372/372 [==============================] - 3s 8ms/step - loss: 0.2188 - accuracy: 0.9176 - val_loss: 0.2648 - val_accuracy: 0.9160\n",
            "Epoch 54/100\n",
            "372/372 [==============================] - 3s 8ms/step - loss: 0.2186 - accuracy: 0.9174 - val_loss: 0.2613 - val_accuracy: 0.9200\n",
            "Epoch 55/100\n",
            "372/372 [==============================] - 3s 8ms/step - loss: 0.2137 - accuracy: 0.9190 - val_loss: 0.2564 - val_accuracy: 0.9182\n",
            "Epoch 56/100\n",
            "372/372 [==============================] - 3s 8ms/step - loss: 0.2161 - accuracy: 0.9171 - val_loss: 0.2731 - val_accuracy: 0.9123\n",
            "Epoch 57/100\n",
            "372/372 [==============================] - 3s 8ms/step - loss: 0.2140 - accuracy: 0.9191 - val_loss: 0.2821 - val_accuracy: 0.9082\n",
            "Epoch 58/100\n",
            "372/372 [==============================] - 3s 8ms/step - loss: 0.2185 - accuracy: 0.9188 - val_loss: 0.2509 - val_accuracy: 0.9198\n",
            "Epoch 59/100\n",
            "372/372 [==============================] - 3s 8ms/step - loss: 0.2108 - accuracy: 0.9202 - val_loss: 0.2619 - val_accuracy: 0.9184\n",
            "Epoch 60/100\n",
            "372/372 [==============================] - 3s 8ms/step - loss: 0.2102 - accuracy: 0.9199 - val_loss: 0.2532 - val_accuracy: 0.9202\n",
            "Epoch 61/100\n",
            "372/372 [==============================] - 3s 8ms/step - loss: 0.2052 - accuracy: 0.9227 - val_loss: 0.2649 - val_accuracy: 0.9186\n",
            "Epoch 62/100\n",
            "372/372 [==============================] - 3s 8ms/step - loss: 0.2073 - accuracy: 0.9210 - val_loss: 0.2527 - val_accuracy: 0.9213\n",
            "Epoch 63/100\n",
            "372/372 [==============================] - 4s 10ms/step - loss: 0.2040 - accuracy: 0.9228 - val_loss: 0.2482 - val_accuracy: 0.9200\n",
            "Epoch 64/100\n",
            "372/372 [==============================] - 3s 9ms/step - loss: 0.2011 - accuracy: 0.9236 - val_loss: 0.2459 - val_accuracy: 0.9241\n",
            "Epoch 65/100\n",
            "372/372 [==============================] - 4s 11ms/step - loss: 0.1998 - accuracy: 0.9246 - val_loss: 0.2932 - val_accuracy: 0.9090\n",
            "Epoch 66/100\n",
            "372/372 [==============================] - 3s 9ms/step - loss: 0.1999 - accuracy: 0.9246 - val_loss: 0.2479 - val_accuracy: 0.9222\n",
            "Epoch 67/100\n",
            "372/372 [==============================] - 3s 8ms/step - loss: 0.1989 - accuracy: 0.9239 - val_loss: 0.3394 - val_accuracy: 0.8967\n",
            "Epoch 68/100\n",
            "372/372 [==============================] - 3s 8ms/step - loss: 0.1997 - accuracy: 0.9260 - val_loss: 0.2793 - val_accuracy: 0.9151\n",
            "Epoch 69/100\n",
            "372/372 [==============================] - 3s 8ms/step - loss: 0.1972 - accuracy: 0.9246 - val_loss: 0.2598 - val_accuracy: 0.9212\n",
            "Epoch 70/100\n",
            "372/372 [==============================] - 3s 8ms/step - loss: 0.1972 - accuracy: 0.9264 - val_loss: 0.2415 - val_accuracy: 0.9260\n",
            "Epoch 71/100\n",
            "372/372 [==============================] - 3s 8ms/step - loss: 0.1951 - accuracy: 0.9267 - val_loss: 0.2566 - val_accuracy: 0.9183\n",
            "Epoch 72/100\n",
            "372/372 [==============================] - 3s 8ms/step - loss: 0.1975 - accuracy: 0.9263 - val_loss: 0.2691 - val_accuracy: 0.9189\n",
            "Epoch 73/100\n",
            "372/372 [==============================] - 3s 8ms/step - loss: 0.1951 - accuracy: 0.9255 - val_loss: 0.2586 - val_accuracy: 0.9208\n",
            "Epoch 74/100\n",
            "372/372 [==============================] - 3s 9ms/step - loss: 0.1906 - accuracy: 0.9282 - val_loss: 0.2605 - val_accuracy: 0.9169\n",
            "Epoch 75/100\n",
            "372/372 [==============================] - 4s 10ms/step - loss: 0.1935 - accuracy: 0.9262 - val_loss: 0.2682 - val_accuracy: 0.9208\n",
            "Epoch 76/100\n",
            "372/372 [==============================] - 3s 8ms/step - loss: 0.1879 - accuracy: 0.9287 - val_loss: 0.2660 - val_accuracy: 0.9164\n",
            "Epoch 77/100\n",
            "372/372 [==============================] - 3s 8ms/step - loss: 0.1874 - accuracy: 0.9284 - val_loss: 0.2522 - val_accuracy: 0.9252\n",
            "Epoch 78/100\n",
            "372/372 [==============================] - 3s 8ms/step - loss: 0.1885 - accuracy: 0.9288 - val_loss: 0.2660 - val_accuracy: 0.9198\n",
            "Epoch 79/100\n",
            "372/372 [==============================] - 3s 8ms/step - loss: 0.1888 - accuracy: 0.9270 - val_loss: 0.2647 - val_accuracy: 0.9186\n",
            "Epoch 80/100\n",
            "372/372 [==============================] - 3s 8ms/step - loss: 0.1831 - accuracy: 0.9299 - val_loss: 0.2507 - val_accuracy: 0.9219\n",
            "Epoch 81/100\n",
            "372/372 [==============================] - 3s 8ms/step - loss: 0.1870 - accuracy: 0.9295 - val_loss: 0.3121 - val_accuracy: 0.9064\n",
            "Epoch 82/100\n",
            "372/372 [==============================] - 3s 8ms/step - loss: 0.1840 - accuracy: 0.9300 - val_loss: 0.2734 - val_accuracy: 0.9187\n",
            "Epoch 83/100\n",
            "372/372 [==============================] - 3s 9ms/step - loss: 0.1851 - accuracy: 0.9305 - val_loss: 0.2580 - val_accuracy: 0.9215\n",
            "Epoch 84/100\n",
            "372/372 [==============================] - 3s 8ms/step - loss: 0.1815 - accuracy: 0.9312 - val_loss: 0.2777 - val_accuracy: 0.9155\n",
            "Epoch 85/100\n",
            "372/372 [==============================] - 3s 9ms/step - loss: 0.1854 - accuracy: 0.9296 - val_loss: 0.2569 - val_accuracy: 0.9231\n",
            "Epoch 86/100\n",
            "372/372 [==============================] - 3s 8ms/step - loss: 0.1795 - accuracy: 0.9317 - val_loss: 0.2574 - val_accuracy: 0.9239\n",
            "Epoch 87/100\n",
            "372/372 [==============================] - 4s 10ms/step - loss: 0.1780 - accuracy: 0.9327 - val_loss: 0.2750 - val_accuracy: 0.9195\n",
            "Epoch 88/100\n",
            "372/372 [==============================] - 3s 9ms/step - loss: 0.1811 - accuracy: 0.9321 - val_loss: 0.2847 - val_accuracy: 0.9173\n",
            "Epoch 89/100\n",
            "372/372 [==============================] - 3s 9ms/step - loss: 0.1804 - accuracy: 0.9321 - val_loss: 0.2709 - val_accuracy: 0.9221\n",
            "Epoch 90/100\n",
            "372/372 [==============================] - 3s 8ms/step - loss: 0.1783 - accuracy: 0.9325 - val_loss: 0.2597 - val_accuracy: 0.9194\n",
            "Epoch 91/100\n",
            "372/372 [==============================] - 3s 8ms/step - loss: 0.1750 - accuracy: 0.9341 - val_loss: 0.2692 - val_accuracy: 0.9201\n",
            "Epoch 92/100\n",
            "372/372 [==============================] - 3s 8ms/step - loss: 0.1737 - accuracy: 0.9327 - val_loss: 0.2792 - val_accuracy: 0.9224\n",
            "Epoch 93/100\n",
            "372/372 [==============================] - 3s 8ms/step - loss: 0.1726 - accuracy: 0.9352 - val_loss: 0.2719 - val_accuracy: 0.9232\n",
            "Epoch 94/100\n",
            "372/372 [==============================] - 3s 8ms/step - loss: 0.1764 - accuracy: 0.9329 - val_loss: 0.2709 - val_accuracy: 0.9182\n",
            "Epoch 95/100\n",
            "372/372 [==============================] - 3s 9ms/step - loss: 0.1741 - accuracy: 0.9334 - val_loss: 0.2493 - val_accuracy: 0.9259\n",
            "Epoch 96/100\n",
            "372/372 [==============================] - 4s 10ms/step - loss: 0.1712 - accuracy: 0.9350 - val_loss: 0.2790 - val_accuracy: 0.9206\n",
            "Epoch 97/100\n",
            "372/372 [==============================] - 4s 11ms/step - loss: 0.1712 - accuracy: 0.9345 - val_loss: 0.2714 - val_accuracy: 0.9225\n",
            "Epoch 98/100\n",
            "372/372 [==============================] - 3s 8ms/step - loss: 0.1701 - accuracy: 0.9350 - val_loss: 0.3044 - val_accuracy: 0.9150\n",
            "Epoch 99/100\n",
            "372/372 [==============================] - 3s 8ms/step - loss: 0.1708 - accuracy: 0.9341 - val_loss: 0.2681 - val_accuracy: 0.9234\n",
            "Epoch 100/100\n",
            "372/372 [==============================] - 3s 8ms/step - loss: 0.1680 - accuracy: 0.9364 - val_loss: 0.2710 - val_accuracy: 0.9265\n"
          ]
        }
      ],
      "source": [
        "model.compile(loss=\"sparse_categorical_crossentropy\", \n",
        "              optimizer=\"adam\", \n",
        "              metrics=[\"accuracy\"])\n",
        "\n",
        "cp_callback = tf.keras.callbacks.ModelCheckpoint(filepath='/content/checkpoint_entire_best.h5', monitor='val_sparse_categorical_accuracy', verbose=1, save_weight_only=False, save_best_only=True, mode='auto')\n",
        "\n",
        "from keras.callbacks import EarlyStopping\n",
        "earlystopping = EarlyStopping\n",
        "earlystopping = EarlyStopping(monitor='val_loss',  \n",
        "                              patience=10,         \n",
        "                             )\n",
        "\n",
        "result = model.fit(X_train, y_train, epochs=EPOCHS, validation_data = (X_val, y_val), batch_size=BATCH_SIZE,callbacks=[cp_callback, earlystopping])"
      ]
    },
    {
      "cell_type": "code",
      "execution_count": 77,
      "metadata": {
        "colab": {
          "base_uri": "https://localhost:8080/",
          "height": 247
        },
        "id": "zpOAtJVQaFrn",
        "outputId": "b644cb91-a2ba-44d3-8a41-f00e63676ef3"
      },
      "outputs": [
        {
          "output_type": "display_data",
          "data": {
            "text/plain": [
              "<Figure size 1080x360 with 2 Axes>"
            ],
            "image/png": "[encoded data removed]"
          },
          "metadata": {
            "needs_background": "light"
          }
        }
      ],
      "source": [
        "fig, axes = plt.subplots(nrows=1, ncols=2, figsize=(15, 5))\n",
        "\n",
        "axes[0].plot(result.epoch, result.history[\"loss\"], label='Train Loss')\n",
        "axes[0].plot(result.epoch, result.history['val_loss'], label='Val Loss')\n",
        "axes[0].set_ylim(0.0, 1)\n",
        "axes[0].legend()\n",
        "axes[0].set_title('Loss')\n",
        "\n",
        "axes[1].plot(result.epoch, result.history['accuracy'], label='Train Accuracy')\n",
        "axes[1].plot(result.epoch, result.history['val_accuracy'], label='Val Accuracy')\n",
        "axes[1].set_ylim(0.7, 1)\n",
        "axes[1].legend()\n",
        "axes[1].set_title('ACC')\n",
        "\n",
        "plt.show()"
      ]
    },
    {
      "cell_type": "code",
      "execution_count": null,
      "metadata": {
        "colab": {
          "base_uri": "https://localhost:8080/",
          "height": 204
        },
        "id": "P2oIdaLGtozX",
        "outputId": "c461ca12-9d85-45fe-a26a-61203a280d34"
      },
      "outputs": [
        {
          "data": {
            "text/html": [
              "<div>\n",
              "<style scoped>\n",
              "    .dataframe tbody tr th:only-of-type {\n",
              "        vertical-align: middle;\n",
              "    }\n",
              "\n",
              "    .dataframe tbody tr th {\n",
              "        vertical-align: top;\n",
              "    }\n",
              "\n",
              "    .dataframe thead th {\n",
              "        text-align: right;\n",
              "    }\n",
              "</style>\n",
              "<table border=\"1\" class=\"dataframe\">\n",
              "  <thead>\n",
              "    <tr style=\"text-align: right;\">\n",
              "      <th></th>\n",
              "      <th>id</th>\n",
              "      <th>label</th>\n",
              "    </tr>\n",
              "  </thead>\n",
              "  <tbody>\n",
              "    <tr>\n",
              "      <th>0</th>\n",
              "      <td>0</td>\n",
              "      <td>6</td>\n",
              "    </tr>\n",
              "    <tr>\n",
              "      <th>1</th>\n",
              "      <td>1</td>\n",
              "      <td>4</td>\n",
              "    </tr>\n",
              "    <tr>\n",
              "      <th>2</th>\n",
              "      <td>2</td>\n",
              "      <td>0</td>\n",
              "    </tr>\n",
              "    <tr>\n",
              "      <th>3</th>\n",
              "      <td>3</td>\n",
              "      <td>0</td>\n",
              "    </tr>\n",
              "    <tr>\n",
              "      <th>4</th>\n",
              "      <td>4</td>\n",
              "      <td>6</td>\n",
              "    </tr>\n",
              "  </tbody>\n",
              "</table>\n",
              "</div>"
            ],
            "text/plain": [
              "   id  label\n",
              "0   0      6\n",
              "1   1      4\n",
              "2   2      0\n",
              "3   3      0\n",
              "4   4      6"
            ]
          },
          "execution_count": 141,
          "metadata": {},
          "output_type": "execute_result"
        }
      ],
      "source": [
        "pred_label = np.argmax(model.predict(X_test), axis = 1)\n",
        "\n",
        "submission['label'] = pred_label\n",
        "\n",
        "submission.to_csv(data_dir + 'BaseLine_Model.csv', index = False)\n",
        "\n",
        "submission.head()"
      ]
    },
    {
      "cell_type": "markdown",
      "source": [
        "#제출2"
      ],
      "metadata": {
        "id": "Ut9VfNzWsM7F"
      }
    },
    {
      "cell_type": "code",
      "source": [
        "from tensorflow import keras\n",
        "\n",
        "BATCH_SIZE = 128\n",
        "EPOCHS = 100"
      ],
      "metadata": {
        "id": "kXcCzHO2sOwN"
      },
      "execution_count": 17,
      "outputs": []
    },
    {
      "cell_type": "code",
      "source": [
        "from tensorflow.keras import layers \n",
        "\n",
        "inputs = keras.Input(shape=(28, 28, 1)) \n",
        "x = layers.Conv2D(filters=64, kernel_size=7, activation=\"relu\", padding=\"valid\")(inputs)\n",
        "x = layers.AveragePooling2D(pool_size=2)(x) \n",
        "x = layers.BatchNormalization()(x)\n",
        "x = layers.Dropout(0.5)(x)\n",
        "x = layers.Conv2D(filters=128, kernel_size=3, activation=\"relu\", padding=\"valid\")(x)\n",
        "x = layers.AveragePooling2D(pool_size=2)(x) \n",
        "x = layers.BatchNormalization()(x)\n",
        "x = layers.Dropout(0.5)(x)\n",
        "x = layers.Conv2D(filters=256, kernel_size=3, activation=\"relu\")(x)\n",
        "x = layers.Flatten()(x) \n",
        "\n",
        "x = layers.Dense(256, activation=\"relu\")(x)\n",
        "x = layers.Dropout(0.5)(x)\n",
        "x = layers.Dense(128, activation=\"relu\")(x)\n",
        "x = layers.Dropout(0.5)(x)\n",
        "outputs = layers.Dense(10, activation=\"softmax\")(x) \n",
        "model = keras.Model(inputs=inputs, outputs=outputs)"
      ],
      "metadata": {
        "id": "Jd8Rd2GOsf6U"
      },
      "execution_count": 32,
      "outputs": []
    },
    {
      "cell_type": "code",
      "source": [
        "model.compile(loss=\"sparse_categorical_crossentropy\", \n",
        "              optimizer=\"adam\", \n",
        "              metrics=[\"accuracy\"])\n",
        "\n",
        "cp_callback = tf.keras.callbacks.ModelCheckpoint(filepath='/content/checkpoint_entire_best.h5', monitor='val_sparse_categorical_accuracy', verbose=1, save_weight_only=False, save_best_only=True, mode='auto')\n",
        "\n",
        "from keras.callbacks import EarlyStopping\n",
        "earlystopping = EarlyStopping\n",
        "earlystopping = EarlyStopping(monitor='val_loss',  \n",
        "                              patience=10,         \n",
        "                             )\n",
        "\n",
        "result = model.fit(X_train, y_train, epochs=EPOCHS, validation_data = (X_val, y_val), batch_size=BATCH_SIZE,callbacks=[cp_callback, earlystopping])"
      ],
      "metadata": {
        "colab": {
          "base_uri": "https://localhost:8080/"
        },
        "id": "QGvD79hrsj4F",
        "outputId": "9a2202b4-7508-4fa9-d548-ec5089376bee"
      },
      "execution_count": 33,
      "outputs": [
        {
          "output_type": "stream",
          "name": "stdout",
          "text": [
            "Epoch 1/100\n",
            "369/372 [============================>.] - ETA: 0s - loss: 0.8592 - accuracy: 0.6909"
          ]
        },
        {
          "output_type": "stream",
          "name": "stderr",
          "text": [
            "WARNING:tensorflow:Can save best model only with val_sparse_categorical_accuracy available, skipping.\n"
          ]
        },
        {
          "output_type": "stream",
          "name": "stdout",
          "text": [
            "\b\b\b\b\b\b\b\b\b\b\b\b\b\b\b\b\b\b\b\b\b\b\b\b\b\b\b\b\b\b\b\b\b\b\b\b\b\b\b\b\b\b\b\b\b\b\b\b\b\b\b\b\b\b\b\b\b\b\b\b\b\b\b\b\b\b\b\b\b\b\b\b\b\b\b\b\b\b\b\b\b\b\b\b\r372/372 [==============================] - 4s 9ms/step - loss: 0.8573 - accuracy: 0.6918 - val_loss: 1.1948 - val_accuracy: 0.5466\n",
            "Epoch 2/100\n",
            "372/372 [==============================] - ETA: 0s - loss: 0.5746 - accuracy: 0.7891"
          ]
        },
        {
          "output_type": "stream",
          "name": "stderr",
          "text": [
            "WARNING:tensorflow:Can save best model only with val_sparse_categorical_accuracy available, skipping.\n"
          ]
        },
        {
          "output_type": "stream",
          "name": "stdout",
          "text": [
            "\b\b\b\b\b\b\b\b\b\b\b\b\b\b\b\b\b\b\b\b\b\b\b\b\b\b\b\b\b\b\b\b\b\b\b\b\b\b\b\b\b\b\b\b\b\b\b\b\b\b\b\b\b\b\b\b\b\b\b\b\b\b\b\b\b\b\b\b\b\b\b\b\b\b\b\b\b\b\b\b\b\b\b\b\r372/372 [==============================] - 3s 9ms/step - loss: 0.5746 - accuracy: 0.7891 - val_loss: 0.4550 - val_accuracy: 0.8266\n",
            "Epoch 3/100\n",
            "366/372 [============================>.] - ETA: 0s - loss: 0.5102 - accuracy: 0.8149"
          ]
        },
        {
          "output_type": "stream",
          "name": "stderr",
          "text": [
            "WARNING:tensorflow:Can save best model only with val_sparse_categorical_accuracy available, skipping.\n"
          ]
        },
        {
          "output_type": "stream",
          "name": "stdout",
          "text": [
            "\b\b\b\b\b\b\b\b\b\b\b\b\b\b\b\b\b\b\b\b\b\b\b\b\b\b\b\b\b\b\b\b\b\b\b\b\b\b\b\b\b\b\b\b\b\b\b\b\b\b\b\b\b\b\b\b\b\b\b\b\b\b\b\b\b\b\b\b\b\b\b\b\b\b\b\b\b\b\b\b\b\b\b\b\r372/372 [==============================] - 3s 8ms/step - loss: 0.5096 - accuracy: 0.8152 - val_loss: 0.3796 - val_accuracy: 0.8578\n",
            "Epoch 4/100\n",
            "371/372 [============================>.] - ETA: 0s - loss: 0.4687 - accuracy: 0.8295"
          ]
        },
        {
          "output_type": "stream",
          "name": "stderr",
          "text": [
            "WARNING:tensorflow:Can save best model only with val_sparse_categorical_accuracy available, skipping.\n"
          ]
        },
        {
          "output_type": "stream",
          "name": "stdout",
          "text": [
            "\b\b\b\b\b\b\b\b\b\b\b\b\b\b\b\b\b\b\b\b\b\b\b\b\b\b\b\b\b\b\b\b\b\b\b\b\b\b\b\b\b\b\b\b\b\b\b\b\b\b\b\b\b\b\b\b\b\b\b\b\b\b\b\b\b\b\b\b\b\b\b\b\b\b\b\b\b\b\b\b\b\b\b\b\r372/372 [==============================] - 3s 8ms/step - loss: 0.4688 - accuracy: 0.8295 - val_loss: 0.3653 - val_accuracy: 0.8651\n",
            "Epoch 5/100\n",
            "368/372 [============================>.] - ETA: 0s - loss: 0.4382 - accuracy: 0.8439"
          ]
        },
        {
          "output_type": "stream",
          "name": "stderr",
          "text": [
            "WARNING:tensorflow:Can save best model only with val_sparse_categorical_accuracy available, skipping.\n"
          ]
        },
        {
          "output_type": "stream",
          "name": "stdout",
          "text": [
            "\b\b\b\b\b\b\b\b\b\b\b\b\b\b\b\b\b\b\b\b\b\b\b\b\b\b\b\b\b\b\b\b\b\b\b\b\b\b\b\b\b\b\b\b\b\b\b\b\b\b\b\b\b\b\b\b\b\b\b\b\b\b\b\b\b\b\b\b\b\b\b\b\b\b\b\b\b\b\b\b\b\b\b\b\r372/372 [==============================] - 3s 8ms/step - loss: 0.4390 - accuracy: 0.8437 - val_loss: 0.3577 - val_accuracy: 0.8659\n",
            "Epoch 6/100\n",
            "372/372 [==============================] - ETA: 0s - loss: 0.4251 - accuracy: 0.8492"
          ]
        },
        {
          "output_type": "stream",
          "name": "stderr",
          "text": [
            "WARNING:tensorflow:Can save best model only with val_sparse_categorical_accuracy available, skipping.\n"
          ]
        },
        {
          "output_type": "stream",
          "name": "stdout",
          "text": [
            "\b\b\b\b\b\b\b\b\b\b\b\b\b\b\b\b\b\b\b\b\b\b\b\b\b\b\b\b\b\b\b\b\b\b\b\b\b\b\b\b\b\b\b\b\b\b\b\b\b\b\b\b\b\b\b\b\b\b\b\b\b\b\b\b\b\b\b\b\b\b\b\b\b\b\b\b\b\b\b\b\b\b\b\b\r372/372 [==============================] - 3s 8ms/step - loss: 0.4251 - accuracy: 0.8492 - val_loss: 0.3433 - val_accuracy: 0.8734\n",
            "Epoch 7/100\n",
            "372/372 [==============================] - ETA: 0s - loss: 0.4044 - accuracy: 0.8545"
          ]
        },
        {
          "output_type": "stream",
          "name": "stderr",
          "text": [
            "WARNING:tensorflow:Can save best model only with val_sparse_categorical_accuracy available, skipping.\n"
          ]
        },
        {
          "output_type": "stream",
          "name": "stdout",
          "text": [
            "\b\b\b\b\b\b\b\b\b\b\b\b\b\b\b\b\b\b\b\b\b\b\b\b\b\b\b\b\b\b\b\b\b\b\b\b\b\b\b\b\b\b\b\b\b\b\b\b\b\b\b\b\b\b\b\b\b\b\b\b\b\b\b\b\b\b\b\b\b\b\b\b\b\b\b\b\b\b\b\b\b\b\b\b\r372/372 [==============================] - 3s 8ms/step - loss: 0.4044 - accuracy: 0.8545 - val_loss: 0.3280 - val_accuracy: 0.8797\n",
            "Epoch 8/100\n",
            "366/372 [============================>.] - ETA: 0s - loss: 0.3889 - accuracy: 0.8597"
          ]
        },
        {
          "output_type": "stream",
          "name": "stderr",
          "text": [
            "WARNING:tensorflow:Can save best model only with val_sparse_categorical_accuracy available, skipping.\n"
          ]
        },
        {
          "output_type": "stream",
          "name": "stdout",
          "text": [
            "\b\b\b\b\b\b\b\b\b\b\b\b\b\b\b\b\b\b\b\b\b\b\b\b\b\b\b\b\b\b\b\b\b\b\b\b\b\b\b\b\b\b\b\b\b\b\b\b\b\b\b\b\b\b\b\b\b\b\b\b\b\b\b\b\b\b\b\b\b\b\b\b\b\b\b\b\b\b\b\b\b\b\b\b\r372/372 [==============================] - 3s 8ms/step - loss: 0.3895 - accuracy: 0.8594 - val_loss: 0.3362 - val_accuracy: 0.8787\n",
            "Epoch 9/100\n",
            "367/372 [============================>.] - ETA: 0s - loss: 0.3842 - accuracy: 0.8619"
          ]
        },
        {
          "output_type": "stream",
          "name": "stderr",
          "text": [
            "WARNING:tensorflow:Can save best model only with val_sparse_categorical_accuracy available, skipping.\n"
          ]
        },
        {
          "output_type": "stream",
          "name": "stdout",
          "text": [
            "\b\b\b\b\b\b\b\b\b\b\b\b\b\b\b\b\b\b\b\b\b\b\b\b\b\b\b\b\b\b\b\b\b\b\b\b\b\b\b\b\b\b\b\b\b\b\b\b\b\b\b\b\b\b\b\b\b\b\b\b\b\b\b\b\b\b\b\b\b\b\b\b\b\b\b\b\b\b\b\b\b\b\b\b\r372/372 [==============================] - 3s 8ms/step - loss: 0.3841 - accuracy: 0.8618 - val_loss: 0.3282 - val_accuracy: 0.8859\n",
            "Epoch 10/100\n",
            "366/372 [============================>.] - ETA: 0s - loss: 0.3692 - accuracy: 0.8658"
          ]
        },
        {
          "output_type": "stream",
          "name": "stderr",
          "text": [
            "WARNING:tensorflow:Can save best model only with val_sparse_categorical_accuracy available, skipping.\n"
          ]
        },
        {
          "output_type": "stream",
          "name": "stdout",
          "text": [
            "\b\b\b\b\b\b\b\b\b\b\b\b\b\b\b\b\b\b\b\b\b\b\b\b\b\b\b\b\b\b\b\b\b\b\b\b\b\b\b\b\b\b\b\b\b\b\b\b\b\b\b\b\b\b\b\b\b\b\b\b\b\b\b\b\b\b\b\b\b\b\b\b\b\b\b\b\b\b\b\b\b\b\b\b\r372/372 [==============================] - 3s 8ms/step - loss: 0.3690 - accuracy: 0.8661 - val_loss: 0.3230 - val_accuracy: 0.8792\n",
            "Epoch 11/100\n",
            "367/372 [============================>.] - ETA: 0s - loss: 0.3566 - accuracy: 0.8711"
          ]
        },
        {
          "output_type": "stream",
          "name": "stderr",
          "text": [
            "WARNING:tensorflow:Can save best model only with val_sparse_categorical_accuracy available, skipping.\n"
          ]
        },
        {
          "output_type": "stream",
          "name": "stdout",
          "text": [
            "\b\b\b\b\b\b\b\b\b\b\b\b\b\b\b\b\b\b\b\b\b\b\b\b\b\b\b\b\b\b\b\b\b\b\b\b\b\b\b\b\b\b\b\b\b\b\b\b\b\b\b\b\b\b\b\b\b\b\b\b\b\b\b\b\b\b\b\b\b\b\b\b\b\b\b\b\b\b\b\b\b\b\b\b\r372/372 [==============================] - 3s 8ms/step - loss: 0.3563 - accuracy: 0.8712 - val_loss: 0.3007 - val_accuracy: 0.8972\n",
            "Epoch 12/100\n",
            "367/372 [============================>.] - ETA: 0s - loss: 0.3497 - accuracy: 0.8733"
          ]
        },
        {
          "output_type": "stream",
          "name": "stderr",
          "text": [
            "WARNING:tensorflow:Can save best model only with val_sparse_categorical_accuracy available, skipping.\n"
          ]
        },
        {
          "output_type": "stream",
          "name": "stdout",
          "text": [
            "\b\b\b\b\b\b\b\b\b\b\b\b\b\b\b\b\b\b\b\b\b\b\b\b\b\b\b\b\b\b\b\b\b\b\b\b\b\b\b\b\b\b\b\b\b\b\b\b\b\b\b\b\b\b\b\b\b\b\b\b\b\b\b\b\b\b\b\b\b\b\b\b\b\b\b\b\b\b\b\b\b\b\b\b\r372/372 [==============================] - 3s 8ms/step - loss: 0.3490 - accuracy: 0.8736 - val_loss: 0.2928 - val_accuracy: 0.8992\n",
            "Epoch 13/100\n",
            "365/372 [============================>.] - ETA: 0s - loss: 0.3464 - accuracy: 0.8753"
          ]
        },
        {
          "output_type": "stream",
          "name": "stderr",
          "text": [
            "WARNING:tensorflow:Can save best model only with val_sparse_categorical_accuracy available, skipping.\n"
          ]
        },
        {
          "output_type": "stream",
          "name": "stdout",
          "text": [
            "\b\b\b\b\b\b\b\b\b\b\b\b\b\b\b\b\b\b\b\b\b\b\b\b\b\b\b\b\b\b\b\b\b\b\b\b\b\b\b\b\b\b\b\b\b\b\b\b\b\b\b\b\b\b\b\b\b\b\b\b\b\b\b\b\b\b\b\b\b\b\b\b\b\b\b\b\b\b\b\b\b\b\b\b\r372/372 [==============================] - 3s 8ms/step - loss: 0.3453 - accuracy: 0.8755 - val_loss: 0.2961 - val_accuracy: 0.8962\n",
            "Epoch 14/100\n",
            "365/372 [============================>.] - ETA: 0s - loss: 0.3350 - accuracy: 0.8793"
          ]
        },
        {
          "output_type": "stream",
          "name": "stderr",
          "text": [
            "WARNING:tensorflow:Can save best model only with val_sparse_categorical_accuracy available, skipping.\n"
          ]
        },
        {
          "output_type": "stream",
          "name": "stdout",
          "text": [
            "\b\b\b\b\b\b\b\b\b\b\b\b\b\b\b\b\b\b\b\b\b\b\b\b\b\b\b\b\b\b\b\b\b\b\b\b\b\b\b\b\b\b\b\b\b\b\b\b\b\b\b\b\b\b\b\b\b\b\b\b\b\b\b\b\b\b\b\b\b\b\b\b\b\b\b\b\b\b\b\b\b\b\b\b\r372/372 [==============================] - 3s 8ms/step - loss: 0.3341 - accuracy: 0.8796 - val_loss: 0.2973 - val_accuracy: 0.8950\n",
            "Epoch 15/100\n",
            "366/372 [============================>.] - ETA: 0s - loss: 0.3321 - accuracy: 0.8794"
          ]
        },
        {
          "output_type": "stream",
          "name": "stderr",
          "text": [
            "WARNING:tensorflow:Can save best model only with val_sparse_categorical_accuracy available, skipping.\n"
          ]
        },
        {
          "output_type": "stream",
          "name": "stdout",
          "text": [
            "\b\b\b\b\b\b\b\b\b\b\b\b\b\b\b\b\b\b\b\b\b\b\b\b\b\b\b\b\b\b\b\b\b\b\b\b\b\b\b\b\b\b\b\b\b\b\b\b\b\b\b\b\b\b\b\b\b\b\b\b\b\b\b\b\b\b\b\b\b\b\b\b\b\b\b\b\b\b\b\b\b\b\b\b\r372/372 [==============================] - 3s 8ms/step - loss: 0.3318 - accuracy: 0.8793 - val_loss: 0.2823 - val_accuracy: 0.9016\n",
            "Epoch 16/100\n",
            "368/372 [============================>.] - ETA: 0s - loss: 0.3257 - accuracy: 0.8830"
          ]
        },
        {
          "output_type": "stream",
          "name": "stderr",
          "text": [
            "WARNING:tensorflow:Can save best model only with val_sparse_categorical_accuracy available, skipping.\n"
          ]
        },
        {
          "output_type": "stream",
          "name": "stdout",
          "text": [
            "\b\b\b\b\b\b\b\b\b\b\b\b\b\b\b\b\b\b\b\b\b\b\b\b\b\b\b\b\b\b\b\b\b\b\b\b\b\b\b\b\b\b\b\b\b\b\b\b\b\b\b\b\b\b\b\b\b\b\b\b\b\b\b\b\b\b\b\b\b\b\b\b\b\b\b\b\b\b\b\b\b\b\b\b\r372/372 [==============================] - 3s 8ms/step - loss: 0.3257 - accuracy: 0.8829 - val_loss: 0.2916 - val_accuracy: 0.8924\n",
            "Epoch 17/100\n",
            "372/372 [==============================] - ETA: 0s - loss: 0.3240 - accuracy: 0.8843"
          ]
        },
        {
          "output_type": "stream",
          "name": "stderr",
          "text": [
            "WARNING:tensorflow:Can save best model only with val_sparse_categorical_accuracy available, skipping.\n"
          ]
        },
        {
          "output_type": "stream",
          "name": "stdout",
          "text": [
            "\b\b\b\b\b\b\b\b\b\b\b\b\b\b\b\b\b\b\b\b\b\b\b\b\b\b\b\b\b\b\b\b\b\b\b\b\b\b\b\b\b\b\b\b\b\b\b\b\b\b\b\b\b\b\b\b\b\b\b\b\b\b\b\b\b\b\b\b\b\b\b\b\b\b\b\b\b\b\b\b\b\b\b\b\r372/372 [==============================] - 3s 8ms/step - loss: 0.3240 - accuracy: 0.8843 - val_loss: 0.2915 - val_accuracy: 0.8918\n",
            "Epoch 18/100\n",
            "369/372 [============================>.] - ETA: 0s - loss: 0.3157 - accuracy: 0.8850"
          ]
        },
        {
          "output_type": "stream",
          "name": "stderr",
          "text": [
            "WARNING:tensorflow:Can save best model only with val_sparse_categorical_accuracy available, skipping.\n"
          ]
        },
        {
          "output_type": "stream",
          "name": "stdout",
          "text": [
            "\b\b\b\b\b\b\b\b\b\b\b\b\b\b\b\b\b\b\b\b\b\b\b\b\b\b\b\b\b\b\b\b\b\b\b\b\b\b\b\b\b\b\b\b\b\b\b\b\b\b\b\b\b\b\b\b\b\b\b\b\b\b\b\b\b\b\b\b\b\b\b\b\b\b\b\b\b\b\b\b\b\b\b\b\r372/372 [==============================] - 3s 8ms/step - loss: 0.3154 - accuracy: 0.8850 - val_loss: 0.2878 - val_accuracy: 0.8922\n",
            "Epoch 19/100\n",
            "370/372 [============================>.] - ETA: 0s - loss: 0.3105 - accuracy: 0.8878"
          ]
        },
        {
          "output_type": "stream",
          "name": "stderr",
          "text": [
            "WARNING:tensorflow:Can save best model only with val_sparse_categorical_accuracy available, skipping.\n"
          ]
        },
        {
          "output_type": "stream",
          "name": "stdout",
          "text": [
            "\b\b\b\b\b\b\b\b\b\b\b\b\b\b\b\b\b\b\b\b\b\b\b\b\b\b\b\b\b\b\b\b\b\b\b\b\b\b\b\b\b\b\b\b\b\b\b\b\b\b\b\b\b\b\b\b\b\b\b\b\b\b\b\b\b\b\b\b\b\b\b\b\b\b\b\b\b\b\b\b\b\b\b\b\r372/372 [==============================] - 4s 10ms/step - loss: 0.3108 - accuracy: 0.8878 - val_loss: 0.2805 - val_accuracy: 0.9008\n",
            "Epoch 20/100\n",
            "371/372 [============================>.] - ETA: 0s - loss: 0.3044 - accuracy: 0.8901"
          ]
        },
        {
          "output_type": "stream",
          "name": "stderr",
          "text": [
            "WARNING:tensorflow:Can save best model only with val_sparse_categorical_accuracy available, skipping.\n"
          ]
        },
        {
          "output_type": "stream",
          "name": "stdout",
          "text": [
            "\b\b\b\b\b\b\b\b\b\b\b\b\b\b\b\b\b\b\b\b\b\b\b\b\b\b\b\b\b\b\b\b\b\b\b\b\b\b\b\b\b\b\b\b\b\b\b\b\b\b\b\b\b\b\b\b\b\b\b\b\b\b\b\b\b\b\b\b\b\b\b\b\b\b\b\b\b\b\b\b\b\b\b\b\r372/372 [==============================] - 3s 8ms/step - loss: 0.3043 - accuracy: 0.8901 - val_loss: 0.2825 - val_accuracy: 0.9017\n",
            "Epoch 21/100\n",
            "366/372 [============================>.] - ETA: 0s - loss: 0.2964 - accuracy: 0.8925"
          ]
        },
        {
          "output_type": "stream",
          "name": "stderr",
          "text": [
            "WARNING:tensorflow:Can save best model only with val_sparse_categorical_accuracy available, skipping.\n"
          ]
        },
        {
          "output_type": "stream",
          "name": "stdout",
          "text": [
            "\b\b\b\b\b\b\b\b\b\b\b\b\b\b\b\b\b\b\b\b\b\b\b\b\b\b\b\b\b\b\b\b\b\b\b\b\b\b\b\b\b\b\b\b\b\b\b\b\b\b\b\b\b\b\b\b\b\b\b\b\b\b\b\b\b\b\b\b\b\b\b\b\b\b\b\b\b\b\b\b\b\b\b\b\r372/372 [==============================] - 3s 8ms/step - loss: 0.2961 - accuracy: 0.8924 - val_loss: 0.2614 - val_accuracy: 0.9092\n",
            "Epoch 22/100\n",
            "367/372 [============================>.] - ETA: 0s - loss: 0.2931 - accuracy: 0.8924"
          ]
        },
        {
          "output_type": "stream",
          "name": "stderr",
          "text": [
            "WARNING:tensorflow:Can save best model only with val_sparse_categorical_accuracy available, skipping.\n"
          ]
        },
        {
          "output_type": "stream",
          "name": "stdout",
          "text": [
            "\b\b\b\b\b\b\b\b\b\b\b\b\b\b\b\b\b\b\b\b\b\b\b\b\b\b\b\b\b\b\b\b\b\b\b\b\b\b\b\b\b\b\b\b\b\b\b\b\b\b\b\b\b\b\b\b\b\b\b\b\b\b\b\b\b\b\b\b\b\b\b\b\b\b\b\b\b\b\b\b\b\b\b\b\r372/372 [==============================] - 3s 8ms/step - loss: 0.2925 - accuracy: 0.8926 - val_loss: 0.2878 - val_accuracy: 0.8997\n",
            "Epoch 23/100\n",
            "369/372 [============================>.] - ETA: 0s - loss: 0.2907 - accuracy: 0.8933"
          ]
        },
        {
          "output_type": "stream",
          "name": "stderr",
          "text": [
            "WARNING:tensorflow:Can save best model only with val_sparse_categorical_accuracy available, skipping.\n"
          ]
        },
        {
          "output_type": "stream",
          "name": "stdout",
          "text": [
            "\b\b\b\b\b\b\b\b\b\b\b\b\b\b\b\b\b\b\b\b\b\b\b\b\b\b\b\b\b\b\b\b\b\b\b\b\b\b\b\b\b\b\b\b\b\b\b\b\b\b\b\b\b\b\b\b\b\b\b\b\b\b\b\b\b\b\b\b\b\b\b\b\b\b\b\b\b\b\b\b\b\b\b\b\r372/372 [==============================] - 3s 8ms/step - loss: 0.2904 - accuracy: 0.8933 - val_loss: 0.2578 - val_accuracy: 0.9124\n",
            "Epoch 24/100\n",
            "368/372 [============================>.] - ETA: 0s - loss: 0.2904 - accuracy: 0.8954"
          ]
        },
        {
          "output_type": "stream",
          "name": "stderr",
          "text": [
            "WARNING:tensorflow:Can save best model only with val_sparse_categorical_accuracy available, skipping.\n"
          ]
        },
        {
          "output_type": "stream",
          "name": "stdout",
          "text": [
            "\b\b\b\b\b\b\b\b\b\b\b\b\b\b\b\b\b\b\b\b\b\b\b\b\b\b\b\b\b\b\b\b\b\b\b\b\b\b\b\b\b\b\b\b\b\b\b\b\b\b\b\b\b\b\b\b\b\b\b\b\b\b\b\b\b\b\b\b\b\b\b\b\b\b\b\b\b\b\b\b\b\b\b\b\r372/372 [==============================] - 3s 8ms/step - loss: 0.2912 - accuracy: 0.8950 - val_loss: 0.2819 - val_accuracy: 0.9039\n",
            "Epoch 25/100\n",
            "370/372 [============================>.] - ETA: 0s - loss: 0.2814 - accuracy: 0.8964"
          ]
        },
        {
          "output_type": "stream",
          "name": "stderr",
          "text": [
            "WARNING:tensorflow:Can save best model only with val_sparse_categorical_accuracy available, skipping.\n"
          ]
        },
        {
          "output_type": "stream",
          "name": "stdout",
          "text": [
            "\b\b\b\b\b\b\b\b\b\b\b\b\b\b\b\b\b\b\b\b\b\b\b\b\b\b\b\b\b\b\b\b\b\b\b\b\b\b\b\b\b\b\b\b\b\b\b\b\b\b\b\b\b\b\b\b\b\b\b\b\b\b\b\b\b\b\b\b\b\b\b\b\b\b\b\b\b\b\b\b\b\b\b\b\r372/372 [==============================] - 4s 10ms/step - loss: 0.2818 - accuracy: 0.8964 - val_loss: 0.2810 - val_accuracy: 0.9086\n",
            "Epoch 26/100\n",
            "371/372 [============================>.] - ETA: 0s - loss: 0.2822 - accuracy: 0.8980"
          ]
        },
        {
          "output_type": "stream",
          "name": "stderr",
          "text": [
            "WARNING:tensorflow:Can save best model only with val_sparse_categorical_accuracy available, skipping.\n"
          ]
        },
        {
          "output_type": "stream",
          "name": "stdout",
          "text": [
            "\b\b\b\b\b\b\b\b\b\b\b\b\b\b\b\b\b\b\b\b\b\b\b\b\b\b\b\b\b\b\b\b\b\b\b\b\b\b\b\b\b\b\b\b\b\b\b\b\b\b\b\b\b\b\b\b\b\b\b\b\b\b\b\b\b\b\b\b\b\b\b\b\b\b\b\b\b\b\b\b\b\b\b\b\r372/372 [==============================] - 3s 8ms/step - loss: 0.2820 - accuracy: 0.8980 - val_loss: 0.2682 - val_accuracy: 0.9069\n",
            "Epoch 27/100\n",
            "369/372 [============================>.] - ETA: 0s - loss: 0.2788 - accuracy: 0.8975"
          ]
        },
        {
          "output_type": "stream",
          "name": "stderr",
          "text": [
            "WARNING:tensorflow:Can save best model only with val_sparse_categorical_accuracy available, skipping.\n"
          ]
        },
        {
          "output_type": "stream",
          "name": "stdout",
          "text": [
            "\b\b\b\b\b\b\b\b\b\b\b\b\b\b\b\b\b\b\b\b\b\b\b\b\b\b\b\b\b\b\b\b\b\b\b\b\b\b\b\b\b\b\b\b\b\b\b\b\b\b\b\b\b\b\b\b\b\b\b\b\b\b\b\b\b\b\b\b\b\b\b\b\b\b\b\b\b\b\b\b\b\b\b\b\r372/372 [==============================] - 3s 8ms/step - loss: 0.2787 - accuracy: 0.8974 - val_loss: 0.2811 - val_accuracy: 0.9015\n",
            "Epoch 28/100\n",
            "370/372 [============================>.] - ETA: 0s - loss: 0.2734 - accuracy: 0.9006"
          ]
        },
        {
          "output_type": "stream",
          "name": "stderr",
          "text": [
            "WARNING:tensorflow:Can save best model only with val_sparse_categorical_accuracy available, skipping.\n"
          ]
        },
        {
          "output_type": "stream",
          "name": "stdout",
          "text": [
            "\b\b\b\b\b\b\b\b\b\b\b\b\b\b\b\b\b\b\b\b\b\b\b\b\b\b\b\b\b\b\b\b\b\b\b\b\b\b\b\b\b\b\b\b\b\b\b\b\b\b\b\b\b\b\b\b\b\b\b\b\b\b\b\b\b\b\b\b\b\b\b\b\b\b\b\b\b\b\b\b\b\b\b\b\r372/372 [==============================] - 3s 8ms/step - loss: 0.2736 - accuracy: 0.9006 - val_loss: 0.2807 - val_accuracy: 0.9050\n",
            "Epoch 29/100\n",
            "370/372 [============================>.] - ETA: 0s - loss: 0.2721 - accuracy: 0.9016"
          ]
        },
        {
          "output_type": "stream",
          "name": "stderr",
          "text": [
            "WARNING:tensorflow:Can save best model only with val_sparse_categorical_accuracy available, skipping.\n"
          ]
        },
        {
          "output_type": "stream",
          "name": "stdout",
          "text": [
            "\b\b\b\b\b\b\b\b\b\b\b\b\b\b\b\b\b\b\b\b\b\b\b\b\b\b\b\b\b\b\b\b\b\b\b\b\b\b\b\b\b\b\b\b\b\b\b\b\b\b\b\b\b\b\b\b\b\b\b\b\b\b\b\b\b\b\b\b\b\b\b\b\b\b\b\b\b\b\b\b\b\b\b\b\r372/372 [==============================] - 3s 8ms/step - loss: 0.2719 - accuracy: 0.9016 - val_loss: 0.2627 - val_accuracy: 0.9062\n",
            "Epoch 30/100\n",
            "371/372 [============================>.] - ETA: 0s - loss: 0.2679 - accuracy: 0.9018"
          ]
        },
        {
          "output_type": "stream",
          "name": "stderr",
          "text": [
            "WARNING:tensorflow:Can save best model only with val_sparse_categorical_accuracy available, skipping.\n"
          ]
        },
        {
          "output_type": "stream",
          "name": "stdout",
          "text": [
            "\b\b\b\b\b\b\b\b\b\b\b\b\b\b\b\b\b\b\b\b\b\b\b\b\b\b\b\b\b\b\b\b\b\b\b\b\b\b\b\b\b\b\b\b\b\b\b\b\b\b\b\b\b\b\b\b\b\b\b\b\b\b\b\b\b\b\b\b\b\b\b\b\b\b\b\b\b\b\b\b\b\b\b\b\r372/372 [==============================] - 3s 8ms/step - loss: 0.2679 - accuracy: 0.9018 - val_loss: 0.2571 - val_accuracy: 0.9118\n",
            "Epoch 31/100\n",
            "366/372 [============================>.] - ETA: 0s - loss: 0.2687 - accuracy: 0.9020"
          ]
        },
        {
          "output_type": "stream",
          "name": "stderr",
          "text": [
            "WARNING:tensorflow:Can save best model only with val_sparse_categorical_accuracy available, skipping.\n"
          ]
        },
        {
          "output_type": "stream",
          "name": "stdout",
          "text": [
            "\b\b\b\b\b\b\b\b\b\b\b\b\b\b\b\b\b\b\b\b\b\b\b\b\b\b\b\b\b\b\b\b\b\b\b\b\b\b\b\b\b\b\b\b\b\b\b\b\b\b\b\b\b\b\b\b\b\b\b\b\b\b\b\b\b\b\b\b\b\b\b\b\b\b\b\b\b\b\b\b\b\b\b\b\r372/372 [==============================] - 3s 8ms/step - loss: 0.2683 - accuracy: 0.9022 - val_loss: 0.2655 - val_accuracy: 0.9097\n",
            "Epoch 32/100\n",
            "370/372 [============================>.] - ETA: 0s - loss: 0.2649 - accuracy: 0.9034"
          ]
        },
        {
          "output_type": "stream",
          "name": "stderr",
          "text": [
            "WARNING:tensorflow:Can save best model only with val_sparse_categorical_accuracy available, skipping.\n"
          ]
        },
        {
          "output_type": "stream",
          "name": "stdout",
          "text": [
            "\b\b\b\b\b\b\b\b\b\b\b\b\b\b\b\b\b\b\b\b\b\b\b\b\b\b\b\b\b\b\b\b\b\b\b\b\b\b\b\b\b\b\b\b\b\b\b\b\b\b\b\b\b\b\b\b\b\b\b\b\b\b\b\b\b\b\b\b\b\b\b\b\b\b\b\b\b\b\b\b\b\b\b\b\r372/372 [==============================] - 3s 8ms/step - loss: 0.2647 - accuracy: 0.9034 - val_loss: 0.2627 - val_accuracy: 0.9116\n",
            "Epoch 33/100\n",
            "369/372 [============================>.] - ETA: 0s - loss: 0.2557 - accuracy: 0.9064"
          ]
        },
        {
          "output_type": "stream",
          "name": "stderr",
          "text": [
            "WARNING:tensorflow:Can save best model only with val_sparse_categorical_accuracy available, skipping.\n"
          ]
        },
        {
          "output_type": "stream",
          "name": "stdout",
          "text": [
            "\b\b\b\b\b\b\b\b\b\b\b\b\b\b\b\b\b\b\b\b\b\b\b\b\b\b\b\b\b\b\b\b\b\b\b\b\b\b\b\b\b\b\b\b\b\b\b\b\b\b\b\b\b\b\b\b\b\b\b\b\b\b\b\b\b\b\b\b\b\b\b\b\b\b\b\b\b\b\b\b\b\b\b\b\r372/372 [==============================] - 3s 8ms/step - loss: 0.2560 - accuracy: 0.9063 - val_loss: 0.2834 - val_accuracy: 0.9036\n",
            "Epoch 34/100\n",
            "368/372 [============================>.] - ETA: 0s - loss: 0.2596 - accuracy: 0.9053"
          ]
        },
        {
          "output_type": "stream",
          "name": "stderr",
          "text": [
            "WARNING:tensorflow:Can save best model only with val_sparse_categorical_accuracy available, skipping.\n"
          ]
        },
        {
          "output_type": "stream",
          "name": "stdout",
          "text": [
            "\b\b\b\b\b\b\b\b\b\b\b\b\b\b\b\b\b\b\b\b\b\b\b\b\b\b\b\b\b\b\b\b\b\b\b\b\b\b\b\b\b\b\b\b\b\b\b\b\b\b\b\b\b\b\b\b\b\b\b\b\b\b\b\b\b\b\b\b\b\b\b\b\b\b\b\b\b\b\b\b\b\b\b\b\r372/372 [==============================] - 3s 8ms/step - loss: 0.2597 - accuracy: 0.9053 - val_loss: 0.2657 - val_accuracy: 0.9093\n",
            "Epoch 35/100\n",
            "367/372 [============================>.] - ETA: 0s - loss: 0.2545 - accuracy: 0.9070"
          ]
        },
        {
          "output_type": "stream",
          "name": "stderr",
          "text": [
            "WARNING:tensorflow:Can save best model only with val_sparse_categorical_accuracy available, skipping.\n"
          ]
        },
        {
          "output_type": "stream",
          "name": "stdout",
          "text": [
            "\b\b\b\b\b\b\b\b\b\b\b\b\b\b\b\b\b\b\b\b\b\b\b\b\b\b\b\b\b\b\b\b\b\b\b\b\b\b\b\b\b\b\b\b\b\b\b\b\b\b\b\b\b\b\b\b\b\b\b\b\b\b\b\b\b\b\b\b\b\b\b\b\b\b\b\b\b\b\b\b\b\b\b\b\r372/372 [==============================] - 3s 8ms/step - loss: 0.2548 - accuracy: 0.9068 - val_loss: 0.2535 - val_accuracy: 0.9138\n",
            "Epoch 36/100\n",
            "368/372 [============================>.] - ETA: 0s - loss: 0.2540 - accuracy: 0.9063"
          ]
        },
        {
          "output_type": "stream",
          "name": "stderr",
          "text": [
            "WARNING:tensorflow:Can save best model only with val_sparse_categorical_accuracy available, skipping.\n"
          ]
        },
        {
          "output_type": "stream",
          "name": "stdout",
          "text": [
            "\b\b\b\b\b\b\b\b\b\b\b\b\b\b\b\b\b\b\b\b\b\b\b\b\b\b\b\b\b\b\b\b\b\b\b\b\b\b\b\b\b\b\b\b\b\b\b\b\b\b\b\b\b\b\b\b\b\b\b\b\b\b\b\b\b\b\b\b\b\b\b\b\b\b\b\b\b\b\b\b\b\b\b\b\r372/372 [==============================] - 3s 8ms/step - loss: 0.2535 - accuracy: 0.9065 - val_loss: 0.2477 - val_accuracy: 0.9160\n",
            "Epoch 37/100\n",
            "369/372 [============================>.] - ETA: 0s - loss: 0.2495 - accuracy: 0.9085"
          ]
        },
        {
          "output_type": "stream",
          "name": "stderr",
          "text": [
            "WARNING:tensorflow:Can save best model only with val_sparse_categorical_accuracy available, skipping.\n"
          ]
        },
        {
          "output_type": "stream",
          "name": "stdout",
          "text": [
            "\b\b\b\b\b\b\b\b\b\b\b\b\b\b\b\b\b\b\b\b\b\b\b\b\b\b\b\b\b\b\b\b\b\b\b\b\b\b\b\b\b\b\b\b\b\b\b\b\b\b\b\b\b\b\b\b\b\b\b\b\b\b\b\b\b\b\b\b\b\b\b\b\b\b\b\b\b\b\b\b\b\b\b\b\r372/372 [==============================] - 3s 8ms/step - loss: 0.2494 - accuracy: 0.9086 - val_loss: 0.2631 - val_accuracy: 0.9149\n",
            "Epoch 38/100\n",
            "371/372 [============================>.] - ETA: 0s - loss: 0.2528 - accuracy: 0.9083"
          ]
        },
        {
          "output_type": "stream",
          "name": "stderr",
          "text": [
            "WARNING:tensorflow:Can save best model only with val_sparse_categorical_accuracy available, skipping.\n"
          ]
        },
        {
          "output_type": "stream",
          "name": "stdout",
          "text": [
            "\b\b\b\b\b\b\b\b\b\b\b\b\b\b\b\b\b\b\b\b\b\b\b\b\b\b\b\b\b\b\b\b\b\b\b\b\b\b\b\b\b\b\b\b\b\b\b\b\b\b\b\b\b\b\b\b\b\b\b\b\b\b\b\b\b\b\b\b\b\b\b\b\b\b\b\b\b\b\b\b\b\b\b\b\r372/372 [==============================] - 3s 8ms/step - loss: 0.2526 - accuracy: 0.9084 - val_loss: 0.2670 - val_accuracy: 0.9150\n",
            "Epoch 39/100\n",
            "365/372 [============================>.] - ETA: 0s - loss: 0.2417 - accuracy: 0.9107"
          ]
        },
        {
          "output_type": "stream",
          "name": "stderr",
          "text": [
            "WARNING:tensorflow:Can save best model only with val_sparse_categorical_accuracy available, skipping.\n"
          ]
        },
        {
          "output_type": "stream",
          "name": "stdout",
          "text": [
            "\b\b\b\b\b\b\b\b\b\b\b\b\b\b\b\b\b\b\b\b\b\b\b\b\b\b\b\b\b\b\b\b\b\b\b\b\b\b\b\b\b\b\b\b\b\b\b\b\b\b\b\b\b\b\b\b\b\b\b\b\b\b\b\b\b\b\b\b\b\b\b\b\b\b\b\b\b\b\b\b\b\b\b\b\r372/372 [==============================] - 3s 8ms/step - loss: 0.2430 - accuracy: 0.9103 - val_loss: 0.2769 - val_accuracy: 0.9039\n",
            "Epoch 40/100\n",
            "365/372 [============================>.] - ETA: 0s - loss: 0.2482 - accuracy: 0.9080"
          ]
        },
        {
          "output_type": "stream",
          "name": "stderr",
          "text": [
            "WARNING:tensorflow:Can save best model only with val_sparse_categorical_accuracy available, skipping.\n"
          ]
        },
        {
          "output_type": "stream",
          "name": "stdout",
          "text": [
            "\b\b\b\b\b\b\b\b\b\b\b\b\b\b\b\b\b\b\b\b\b\b\b\b\b\b\b\b\b\b\b\b\b\b\b\b\b\b\b\b\b\b\b\b\b\b\b\b\b\b\b\b\b\b\b\b\b\b\b\b\b\b\b\b\b\b\b\b\b\b\b\b\b\b\b\b\b\b\b\b\b\b\b\b\r372/372 [==============================] - 3s 8ms/step - loss: 0.2478 - accuracy: 0.9083 - val_loss: 0.2535 - val_accuracy: 0.9189\n",
            "Epoch 41/100\n",
            "368/372 [============================>.] - ETA: 0s - loss: 0.2420 - accuracy: 0.9113"
          ]
        },
        {
          "output_type": "stream",
          "name": "stderr",
          "text": [
            "WARNING:tensorflow:Can save best model only with val_sparse_categorical_accuracy available, skipping.\n"
          ]
        },
        {
          "output_type": "stream",
          "name": "stdout",
          "text": [
            "\b\b\b\b\b\b\b\b\b\b\b\b\b\b\b\b\b\b\b\b\b\b\b\b\b\b\b\b\b\b\b\b\b\b\b\b\b\b\b\b\b\b\b\b\b\b\b\b\b\b\b\b\b\b\b\b\b\b\b\b\b\b\b\b\b\b\b\b\b\b\b\b\b\b\b\b\b\b\b\b\b\b\b\b\r372/372 [==============================] - 3s 8ms/step - loss: 0.2420 - accuracy: 0.9114 - val_loss: 0.2726 - val_accuracy: 0.9080\n",
            "Epoch 42/100\n",
            "367/372 [============================>.] - ETA: 0s - loss: 0.2415 - accuracy: 0.9090"
          ]
        },
        {
          "output_type": "stream",
          "name": "stderr",
          "text": [
            "WARNING:tensorflow:Can save best model only with val_sparse_categorical_accuracy available, skipping.\n"
          ]
        },
        {
          "output_type": "stream",
          "name": "stdout",
          "text": [
            "\b\b\b\b\b\b\b\b\b\b\b\b\b\b\b\b\b\b\b\b\b\b\b\b\b\b\b\b\b\b\b\b\b\b\b\b\b\b\b\b\b\b\b\b\b\b\b\b\b\b\b\b\b\b\b\b\b\b\b\b\b\b\b\b\b\b\b\b\b\b\b\b\b\b\b\b\b\b\b\b\b\b\b\b\r372/372 [==============================] - 3s 8ms/step - loss: 0.2421 - accuracy: 0.9089 - val_loss: 0.2691 - val_accuracy: 0.9076\n",
            "Epoch 43/100\n",
            "367/372 [============================>.] - ETA: 0s - loss: 0.2384 - accuracy: 0.9121"
          ]
        },
        {
          "output_type": "stream",
          "name": "stderr",
          "text": [
            "WARNING:tensorflow:Can save best model only with val_sparse_categorical_accuracy available, skipping.\n"
          ]
        },
        {
          "output_type": "stream",
          "name": "stdout",
          "text": [
            "\b\b\b\b\b\b\b\b\b\b\b\b\b\b\b\b\b\b\b\b\b\b\b\b\b\b\b\b\b\b\b\b\b\b\b\b\b\b\b\b\b\b\b\b\b\b\b\b\b\b\b\b\b\b\b\b\b\b\b\b\b\b\b\b\b\b\b\b\b\b\b\b\b\b\b\b\b\b\b\b\b\b\b\b\r372/372 [==============================] - 3s 8ms/step - loss: 0.2396 - accuracy: 0.9118 - val_loss: 0.2593 - val_accuracy: 0.9143\n",
            "Epoch 44/100\n",
            "369/372 [============================>.] - ETA: 0s - loss: 0.2376 - accuracy: 0.9131"
          ]
        },
        {
          "output_type": "stream",
          "name": "stderr",
          "text": [
            "WARNING:tensorflow:Can save best model only with val_sparse_categorical_accuracy available, skipping.\n"
          ]
        },
        {
          "output_type": "stream",
          "name": "stdout",
          "text": [
            "\b\b\b\b\b\b\b\b\b\b\b\b\b\b\b\b\b\b\b\b\b\b\b\b\b\b\b\b\b\b\b\b\b\b\b\b\b\b\b\b\b\b\b\b\b\b\b\b\b\b\b\b\b\b\b\b\b\b\b\b\b\b\b\b\b\b\b\b\b\b\b\b\b\b\b\b\b\b\b\b\b\b\b\b\r372/372 [==============================] - 3s 8ms/step - loss: 0.2375 - accuracy: 0.9131 - val_loss: 0.2535 - val_accuracy: 0.9150\n",
            "Epoch 45/100\n",
            "372/372 [==============================] - ETA: 0s - loss: 0.2346 - accuracy: 0.9139"
          ]
        },
        {
          "output_type": "stream",
          "name": "stderr",
          "text": [
            "WARNING:tensorflow:Can save best model only with val_sparse_categorical_accuracy available, skipping.\n"
          ]
        },
        {
          "output_type": "stream",
          "name": "stdout",
          "text": [
            "\b\b\b\b\b\b\b\b\b\b\b\b\b\b\b\b\b\b\b\b\b\b\b\b\b\b\b\b\b\b\b\b\b\b\b\b\b\b\b\b\b\b\b\b\b\b\b\b\b\b\b\b\b\b\b\b\b\b\b\b\b\b\b\b\b\b\b\b\b\b\b\b\b\b\b\b\b\b\b\b\b\b\b\b\r372/372 [==============================] - 3s 8ms/step - loss: 0.2346 - accuracy: 0.9139 - val_loss: 0.2605 - val_accuracy: 0.9153\n",
            "Epoch 46/100\n",
            "369/372 [============================>.] - ETA: 0s - loss: 0.2359 - accuracy: 0.9130"
          ]
        },
        {
          "output_type": "stream",
          "name": "stderr",
          "text": [
            "WARNING:tensorflow:Can save best model only with val_sparse_categorical_accuracy available, skipping.\n"
          ]
        },
        {
          "output_type": "stream",
          "name": "stdout",
          "text": [
            "\b\b\b\b\b\b\b\b\b\b\b\b\b\b\b\b\b\b\b\b\b\b\b\b\b\b\b\b\b\b\b\b\b\b\b\b\b\b\b\b\b\b\b\b\b\b\b\b\b\b\b\b\b\b\b\b\b\b\b\b\b\b\b\b\b\b\b\b\b\b\b\b\b\b\b\b\b\b\b\b\b\b\b\b\r372/372 [==============================] - 3s 8ms/step - loss: 0.2357 - accuracy: 0.9132 - val_loss: 0.2460 - val_accuracy: 0.9197\n",
            "Epoch 47/100\n",
            "366/372 [============================>.] - ETA: 0s - loss: 0.2281 - accuracy: 0.9157"
          ]
        },
        {
          "output_type": "stream",
          "name": "stderr",
          "text": [
            "WARNING:tensorflow:Can save best model only with val_sparse_categorical_accuracy available, skipping.\n"
          ]
        },
        {
          "output_type": "stream",
          "name": "stdout",
          "text": [
            "\b\b\b\b\b\b\b\b\b\b\b\b\b\b\b\b\b\b\b\b\b\b\b\b\b\b\b\b\b\b\b\b\b\b\b\b\b\b\b\b\b\b\b\b\b\b\b\b\b\b\b\b\b\b\b\b\b\b\b\b\b\b\b\b\b\b\b\b\b\b\b\b\b\b\b\b\b\b\b\b\b\b\b\b\r372/372 [==============================] - 3s 8ms/step - loss: 0.2282 - accuracy: 0.9157 - val_loss: 0.2710 - val_accuracy: 0.9108\n",
            "Epoch 48/100\n",
            "365/372 [============================>.] - ETA: 0s - loss: 0.2298 - accuracy: 0.9159"
          ]
        },
        {
          "output_type": "stream",
          "name": "stderr",
          "text": [
            "WARNING:tensorflow:Can save best model only with val_sparse_categorical_accuracy available, skipping.\n"
          ]
        },
        {
          "output_type": "stream",
          "name": "stdout",
          "text": [
            "\b\b\b\b\b\b\b\b\b\b\b\b\b\b\b\b\b\b\b\b\b\b\b\b\b\b\b\b\b\b\b\b\b\b\b\b\b\b\b\b\b\b\b\b\b\b\b\b\b\b\b\b\b\b\b\b\b\b\b\b\b\b\b\b\b\b\b\b\b\b\b\b\b\b\b\b\b\b\b\b\b\b\b\b\r372/372 [==============================] - 3s 8ms/step - loss: 0.2301 - accuracy: 0.9159 - val_loss: 0.2587 - val_accuracy: 0.9165\n",
            "Epoch 49/100\n",
            "370/372 [============================>.] - ETA: 0s - loss: 0.2296 - accuracy: 0.9158"
          ]
        },
        {
          "output_type": "stream",
          "name": "stderr",
          "text": [
            "WARNING:tensorflow:Can save best model only with val_sparse_categorical_accuracy available, skipping.\n"
          ]
        },
        {
          "output_type": "stream",
          "name": "stdout",
          "text": [
            "\b\b\b\b\b\b\b\b\b\b\b\b\b\b\b\b\b\b\b\b\b\b\b\b\b\b\b\b\b\b\b\b\b\b\b\b\b\b\b\b\b\b\b\b\b\b\b\b\b\b\b\b\b\b\b\b\b\b\b\b\b\b\b\b\b\b\b\b\b\b\b\b\b\b\b\b\b\b\b\b\b\b\b\b\r372/372 [==============================] - 3s 8ms/step - loss: 0.2298 - accuracy: 0.9157 - val_loss: 0.2625 - val_accuracy: 0.9161\n",
            "Epoch 50/100\n",
            "372/372 [==============================] - ETA: 0s - loss: 0.2251 - accuracy: 0.9172"
          ]
        },
        {
          "output_type": "stream",
          "name": "stderr",
          "text": [
            "WARNING:tensorflow:Can save best model only with val_sparse_categorical_accuracy available, skipping.\n"
          ]
        },
        {
          "output_type": "stream",
          "name": "stdout",
          "text": [
            "\b\b\b\b\b\b\b\b\b\b\b\b\b\b\b\b\b\b\b\b\b\b\b\b\b\b\b\b\b\b\b\b\b\b\b\b\b\b\b\b\b\b\b\b\b\b\b\b\b\b\b\b\b\b\b\b\b\b\b\b\b\b\b\b\b\b\b\b\b\b\b\b\b\b\b\b\b\b\b\b\b\b\b\b\r372/372 [==============================] - 3s 8ms/step - loss: 0.2251 - accuracy: 0.9172 - val_loss: 0.2509 - val_accuracy: 0.9185\n",
            "Epoch 51/100\n",
            "367/372 [============================>.] - ETA: 0s - loss: 0.2294 - accuracy: 0.9162"
          ]
        },
        {
          "output_type": "stream",
          "name": "stderr",
          "text": [
            "WARNING:tensorflow:Can save best model only with val_sparse_categorical_accuracy available, skipping.\n"
          ]
        },
        {
          "output_type": "stream",
          "name": "stdout",
          "text": [
            "\b\b\b\b\b\b\b\b\b\b\b\b\b\b\b\b\b\b\b\b\b\b\b\b\b\b\b\b\b\b\b\b\b\b\b\b\b\b\b\b\b\b\b\b\b\b\b\b\b\b\b\b\b\b\b\b\b\b\b\b\b\b\b\b\b\b\b\b\b\b\b\b\b\b\b\b\b\b\b\b\b\b\b\b\r372/372 [==============================] - 3s 8ms/step - loss: 0.2294 - accuracy: 0.9161 - val_loss: 0.2478 - val_accuracy: 0.9187\n",
            "Epoch 52/100\n",
            "371/372 [============================>.] - ETA: 0s - loss: 0.2152 - accuracy: 0.9205"
          ]
        },
        {
          "output_type": "stream",
          "name": "stderr",
          "text": [
            "WARNING:tensorflow:Can save best model only with val_sparse_categorical_accuracy available, skipping.\n"
          ]
        },
        {
          "output_type": "stream",
          "name": "stdout",
          "text": [
            "\b\b\b\b\b\b\b\b\b\b\b\b\b\b\b\b\b\b\b\b\b\b\b\b\b\b\b\b\b\b\b\b\b\b\b\b\b\b\b\b\b\b\b\b\b\b\b\b\b\b\b\b\b\b\b\b\b\b\b\b\b\b\b\b\b\b\b\b\b\b\b\b\b\b\b\b\b\b\b\b\b\b\b\b\r372/372 [==============================] - 3s 8ms/step - loss: 0.2153 - accuracy: 0.9205 - val_loss: 0.2582 - val_accuracy: 0.9181\n",
            "Epoch 53/100\n",
            "372/372 [==============================] - ETA: 0s - loss: 0.2214 - accuracy: 0.9189"
          ]
        },
        {
          "output_type": "stream",
          "name": "stderr",
          "text": [
            "WARNING:tensorflow:Can save best model only with val_sparse_categorical_accuracy available, skipping.\n"
          ]
        },
        {
          "output_type": "stream",
          "name": "stdout",
          "text": [
            "\b\b\b\b\b\b\b\b\b\b\b\b\b\b\b\b\b\b\b\b\b\b\b\b\b\b\b\b\b\b\b\b\b\b\b\b\b\b\b\b\b\b\b\b\b\b\b\b\b\b\b\b\b\b\b\b\b\b\b\b\b\b\b\b\b\b\b\b\b\b\b\b\b\b\b\b\b\b\b\b\b\b\b\b\r372/372 [==============================] - 3s 8ms/step - loss: 0.2214 - accuracy: 0.9189 - val_loss: 0.2462 - val_accuracy: 0.9187\n",
            "Epoch 54/100\n",
            "370/372 [============================>.] - ETA: 0s - loss: 0.2173 - accuracy: 0.9206"
          ]
        },
        {
          "output_type": "stream",
          "name": "stderr",
          "text": [
            "WARNING:tensorflow:Can save best model only with val_sparse_categorical_accuracy available, skipping.\n"
          ]
        },
        {
          "output_type": "stream",
          "name": "stdout",
          "text": [
            "\b\b\b\b\b\b\b\b\b\b\b\b\b\b\b\b\b\b\b\b\b\b\b\b\b\b\b\b\b\b\b\b\b\b\b\b\b\b\b\b\b\b\b\b\b\b\b\b\b\b\b\b\b\b\b\b\b\b\b\b\b\b\b\b\b\b\b\b\b\b\b\b\b\b\b\b\b\b\b\b\b\b\b\b\r372/372 [==============================] - 3s 8ms/step - loss: 0.2172 - accuracy: 0.9206 - val_loss: 0.2491 - val_accuracy: 0.9224\n",
            "Epoch 55/100\n",
            "369/372 [============================>.] - ETA: 0s - loss: 0.2129 - accuracy: 0.9213"
          ]
        },
        {
          "output_type": "stream",
          "name": "stderr",
          "text": [
            "WARNING:tensorflow:Can save best model only with val_sparse_categorical_accuracy available, skipping.\n"
          ]
        },
        {
          "output_type": "stream",
          "name": "stdout",
          "text": [
            "\b\b\b\b\b\b\b\b\b\b\b\b\b\b\b\b\b\b\b\b\b\b\b\b\b\b\b\b\b\b\b\b\b\b\b\b\b\b\b\b\b\b\b\b\b\b\b\b\b\b\b\b\b\b\b\b\b\b\b\b\b\b\b\b\b\b\b\b\b\b\b\b\b\b\b\b\b\b\b\b\b\b\b\b\r372/372 [==============================] - 3s 8ms/step - loss: 0.2127 - accuracy: 0.9214 - val_loss: 0.2612 - val_accuracy: 0.9153\n",
            "Epoch 56/100\n",
            "368/372 [============================>.] - ETA: 0s - loss: 0.2168 - accuracy: 0.9203"
          ]
        },
        {
          "output_type": "stream",
          "name": "stderr",
          "text": [
            "WARNING:tensorflow:Can save best model only with val_sparse_categorical_accuracy available, skipping.\n"
          ]
        },
        {
          "output_type": "stream",
          "name": "stdout",
          "text": [
            "\b\b\b\b\b\b\b\b\b\b\b\b\b\b\b\b\b\b\b\b\b\b\b\b\b\b\b\b\b\b\b\b\b\b\b\b\b\b\b\b\b\b\b\b\b\b\b\b\b\b\b\b\b\b\b\b\b\b\b\b\b\b\b\b\b\b\b\b\b\b\b\b\b\b\b\b\b\b\b\b\b\b\b\b\r372/372 [==============================] - 3s 8ms/step - loss: 0.2167 - accuracy: 0.9203 - val_loss: 0.2492 - val_accuracy: 0.9221\n"
          ]
        }
      ]
    },
    {
      "cell_type": "code",
      "source": [
        "fig, axes = plt.subplots(nrows=1, ncols=2, figsize=(15, 5))\n",
        "\n",
        "axes[0].plot(result.epoch, result.history[\"loss\"], label='Train Loss')\n",
        "axes[0].plot(result.epoch, result.history['val_loss'], label='Val Loss')\n",
        "axes[0].set_ylim(0.0, 1)\n",
        "axes[0].legend()\n",
        "axes[0].set_title('Loss')\n",
        "\n",
        "axes[1].plot(result.epoch, result.history['accuracy'], label='Train Accuracy')\n",
        "axes[1].plot(result.epoch, result.history['val_accuracy'], label='Val Accuracy')\n",
        "axes[1].set_ylim(0.7, 1)\n",
        "axes[1].legend()\n",
        "axes[1].set_title('ACC')\n",
        "\n",
        "plt.show()"
      ],
      "metadata": {
        "colab": {
          "base_uri": "https://localhost:8080/",
          "height": 247
        },
        "id": "0VtWlyhfxJYl",
        "outputId": "55af01a8-7b02-4f13-ee00-2687fc133516"
      },
      "execution_count": 34,
      "outputs": [
        {
          "output_type": "display_data",
          "data": {
            "text/plain": [
              "<Figure size 1080x360 with 2 Axes>"
            ],
            "image/png": "[encoded data removed]"
          },
          "metadata": {
            "needs_background": "light"
          }
        }
      ]
    },
    {
      "cell_type": "code",
      "source": [],
      "metadata": {
        "id": "NDwpDJTTxhwN"
      },
      "execution_count": 27,
      "outputs": []
    }
  ],
  "metadata": {
    "accelerator": "GPU",
    "colab": {
      "collapsed_sections": [],
      "provenance": []
    },
    "kernelspec": {
      "display_name": "Python 3 (ipykernel)",
      "language": "python",
      "name": "python3"
    },
    "language_info": {
      "codemirror_mode": {
        "name": "ipython",
        "version": 3
      },
      "file_extension": ".py",
      "mimetype": "text/x-python",
      "name": "python",
      "nbconvert_exporter": "python",
      "pygments_lexer": "ipython3",
      "version": "3.8.12"
    }
  },
  "nbformat": 4,
  "nbformat_minor": 0
}